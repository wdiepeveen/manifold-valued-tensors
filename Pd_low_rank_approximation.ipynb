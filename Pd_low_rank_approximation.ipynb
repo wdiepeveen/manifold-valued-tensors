{
 "cells": [
  {
   "cell_type": "markdown",
   "metadata": {},
   "source": [
    "# Low-rank approximation on $\\mathcal{P}(d)$ - the space of $d$-dimensional SPD matrices"
   ]
  },
  {
   "cell_type": "markdown",
   "metadata": {},
   "source": [
    "In this notebook we want to get some intuition in different approaches for computing low-rank approximations for manifold-valued signals"
   ]
  },
  {
   "cell_type": "code",
   "execution_count": 19,
   "metadata": {},
   "outputs": [],
   "source": [
    "using Manifolds\n",
    "using Manopt\n",
    "using LinearAlgebra\n",
    "using Random"
   ]
  },
  {
   "cell_type": "code",
   "execution_count": 20,
   "metadata": {},
   "outputs": [
    {
     "data": {
      "text/plain": [
       "PowerManifold(SymmetricPositiveDefinite(3), NestedPowerRepresentation(), 50)"
      ]
     },
     "metadata": {},
     "output_type": "display_data"
    }
   ],
   "source": [
    "# initialize SPD power manifold P(d)^d1\n",
    "d = 3  # size of the SPD matrices, i.e., ∈ R^d×d\n",
    "M_base = SymmetricPositiveDefinite(d)\n",
    "d1 = 50  # size of the signal\n",
    "M = PowerManifold(M_base, NestedPowerRepresentation(), d1)"
   ]
  },
  {
   "cell_type": "markdown",
   "metadata": {},
   "source": [
    "### Generate a data set"
   ]
  },
  {
   "cell_type": "code",
   "execution_count": 31,
   "metadata": {},
   "outputs": [
    {
     "data": {
      "text/plain": [
       "50-element Vector{Matrix{Float64}}:\n",
       " [-0.8953950713949036 -0.04921489172859089 0.20181985213713866; -0.049214891728590886 -0.011793791491427633 0.15856682497783003; 0.20181985213713868 0.15856682497783003 -0.06877978855094313]\n",
       " [-1.4798244335992816 -0.2110952213081288 -0.07272618458656413; -0.2110952213081288 0.4953314080494676 0.1879487936317168; -0.07272618458656413 0.1879487936317168 0.42961945257977197]\n",
       " [1.357815947760321 -0.06667536820302258 0.9431237653533775; -0.06667536820302258 0.13699748140258547 -0.07423643907089282; 0.9431237653533776 -0.07423643907089282 -0.14681771109899544]\n",
       " [0.40097356322574584 -0.32649969312583005 -0.1278540510876374; -0.32649969312583005 -0.5642078228330145 0.00625417545519899; -0.1278540510876374 0.006254175455199001 -0.3244059728248153]\n",
       " [0.1082948879053067 -0.007984499096066827 -0.3217550370912014; -0.007984499096066827 0.03625446058521628 -0.08441942326291604; -0.3217550370912014 -0.08441942326291604 0.2790179034349863]\n",
       " [-0.03269669320318254 0.1391976194909566 -0.0851785920619464; 0.13919761949095658 -0.428991975444052 0.1949363900931734; -0.0851785920619464 0.19493639009317343 -0.11644181963128662]\n",
       " [-1.9211528511861835 0.01881518411732151 0.07847758810603575; 0.018815184117321495 -0.11978423279520312 0.7451866543622608; 0.07847758810603575 0.7451866543622608 -0.5921442435431077]\n",
       " [0.07287005507784708 0.10750962502414867 0.09481406993225276; 0.10750962502414868 -0.4324492358223307 -0.0016558604106745901; 0.09481406993225276 -0.0016558604106745867 0.17492296052823403]\n",
       " [-1.3249237898723794 -0.06461776297149771 -0.040462182775291435; -0.06461776297149772 0.22990892742532779 -0.3060488016655307; -0.040462182775291435 -0.3060488016655307 0.17628277789952504]\n",
       " [0.9626141539854512 -0.19824696312003726 -0.39213065743313513; -0.19824696312003723 -0.10425492873526881 0.18228616407406822; -0.39213065743313513 0.18228616407406822 -0.07021183729922821]\n",
       " ⋮\n",
       " [-0.45322287099136704 -0.09844546651525031 -0.23089671686164046; -0.09844546651525031 0.11974548881976063 -0.057466474550510065; -0.23089671686164046 -0.05746647455051007 -0.08971074256909035]\n",
       " [1.023899902439755 -1.2845776518081755 0.51302283530845; -1.2845776518081755 -0.5536154118772663 0.310399993360625; 0.51302283530845 0.31039999336062507 -0.2819635168955783]\n",
       " [-0.17210602205186495 -0.06713376337177093 0.6240388156914582; -0.06713376337177092 -0.25062448928158576 -0.24807429030788108; 0.6240388156914582 -0.24807429030788108 0.04491630920010736]\n",
       " [3.0778214563287327 -0.1862500374481974 0.6208674666044407; -0.18625003744819743 -0.25097967764389983 0.2253736419220388; 0.6208674666044407 0.2253736419220388 -0.5292547891756222]\n",
       " [-0.2652719705745501 0.05476766303575676 0.026619500842042735; 0.05476766303575675 0.025385295166476217 -0.07062203052667163; 0.026619500842042735 -0.07062203052667163 0.2503049617004454]\n",
       " [-1.7375596586704254 -0.12298932755319214 0.008359635339464325; -0.12298932755319214 0.19188115101316006 -0.10938575757780453; 0.008359635339464325 -0.10938575757780453 0.2945004402659976]\n",
       " [18.140768406039964 0.07435248171453952 0.14899780487163652; 0.07435248171453952 0.19430716440755588 0.039015005123014264; 0.14899780487163652 0.039015005123014264 -0.28897770777781845]\n",
       " [-0.22790593726815805 -0.11466538245298075 0.45810771195652494; -0.11466538245298075 -0.12560292780307675 -0.06786741698973867; 0.45810771195652494 -0.06786741698973867 -0.13137101828390862]\n",
       " [1.1705492363061178 0.27987024262452437 -0.036740912621210625; 0.27987024262452437 0.1464821566132451 0.05150015896850418; -0.036740912621210625 0.05150015896850418 -0.14095089678024134]"
      ]
     },
     "metadata": {},
     "output_type": "display_data"
    }
   ],
   "source": [
    "e = 1. * Matrix(I, d, d)\n",
    "# compute basis on M_base\n",
    "Θ = get_basis(M_base, e, DefaultOrthonormalBasis())\n",
    "#  construct data\n",
    "Q = fill(e, d1)\n",
    "# draw random tvectors \n",
    "τ = 2.  # variance\n",
    "σ = 0.3  # variance\n",
    "Xₑⁱ = zeros(manifold_dimension(M_base))\n",
    "Xₑⁱ[1] = 1.\n",
    "Xₑ = get_vector(M_base, e, Xₑⁱ, Θ)\n",
    "\n",
    "Random.seed!(31)\n",
    "predata = [exp(M_base, e, sqrt(τ) * randn(1)[1] * Xₑ) for i in 1:d1]\n",
    "\n",
    "data = [exp(M_base, predata[i], random_tangent(M_base, predata[i], Val(:Gaussian), σ)) for i in 1:d1] # ∈ P(3)^d1\n",
    "log_Q_data = log(M, Q, data)  # ∈ T_e P(3)^d1"
   ]
  },
  {
   "cell_type": "markdown",
   "metadata": {},
   "source": [
    "We want to investigate how reliable both ranks are, i.e., we don't want that something looks low-rank, but in reality is higher rank"
   ]
  },
  {
   "cell_type": "code",
   "execution_count": 28,
   "metadata": {},
   "outputs": [
    {
     "data": {
      "text/plain": [
       "Eigen{Float64, Float64, Matrix{Float64}, Vector{Float64}}\n",
       "values:\n",
       "6-element Vector{Float64}:\n",
       "   2.0437651612108088\n",
       "   3.509817812831961\n",
       "   4.4992543949886645\n",
       "   7.357095071866398\n",
       "   9.771895218960223\n",
       " 487.0355318351839\n",
       "vectors:\n",
       "50×6 Matrix{Float64}:\n",
       " -0.00139289  -0.128407     0.0120486   -0.0158548  -0.0985458  -0.0402217\n",
       " -0.0296015   -0.214491    -0.291958    -0.0113016   0.0619462  -0.067285\n",
       "  0.095434    -0.143854     0.0434354   -0.351617   -0.281746    0.0624237\n",
       " -0.0121463    0.227164    -0.0142508    0.197695   -0.142176    0.0182897\n",
       " -0.0974963    0.0979468   -0.0970197    0.0576903   0.136954    0.0043241\n",
       " -0.170321    -0.0141013    0.171771     0.130915   -0.0288675  -0.00139887\n",
       "  0.103452    -0.441894     0.174123     0.247269   -0.171582   -0.0859542\n",
       " -0.287556     0.0718191    0.108772    -0.0149649  -0.0419965   0.00314198\n",
       "  0.0959735    0.134651    -0.113368    -0.105045    0.0656367  -0.0603653\n",
       " -0.0124193    0.0280613   -0.107587     0.234269    0.0415421   0.0434441\n",
       "  ⋮                                                              ⋮\n",
       "  0.13977      0.0636417   -0.0739927    0.076897    0.0557568  -0.0206536\n",
       " -0.0249302    0.0733049   -0.480778     0.157929   -0.56526     0.0472602\n",
       " -0.0892269    0.107167     0.0534782   -0.254656   -0.210126   -0.00749819\n",
       "  0.0860831   -0.128578     0.0984904   -0.0500136  -0.320177    0.14055\n",
       " -0.112519     0.0149346   -0.0245504   -0.0674893   0.0389797  -0.0122704\n",
       " -0.021096     0.0179468   -0.154795    -0.0739262   0.0267705  -0.0790044\n",
       "  0.0184176    0.0081276    0.00152188  -0.0517298   0.0592859   0.822163\n",
       "  0.0280126    0.00775204   0.0288656   -0.137052   -0.188995   -0.00986659\n",
       "  0.0772846   -0.0958538    0.143251    -0.0106871   0.0797186   0.0531617"
      ]
     },
     "metadata": {},
     "output_type": "display_data"
    }
   ],
   "source": [
    "# compute SVD\n",
    "# compute Gramm Matrix\n",
    "Gramm_Q = [inner(M_base, e, log_Q_data[i], log_Q_data[j]) for i=1:d1, j=1:d1]\n",
    "# compute Σ and V\n",
    "(evals, evecs) = eigen(Symmetric(Gramm_Q), d1-min(d1-1,manifold_dimension(M_base)-1):d1)\n",
    "# compute low rank approximation of tangent vector\n",
    "# expoentiate back\n",
    "# compute error"
   ]
  },
  {
   "cell_type": "code",
   "execution_count": 32,
   "metadata": {},
   "outputs": [
    {
     "data": {
      "text/plain": [
       "6-element Vector{Float64}:\n",
       " -0.0\n",
       " -0.15738401947442882\n",
       " -0.29140548019352847\n",
       " -0.0\n",
       " -0.020478557618919438\n",
       " -0.0"
      ]
     },
     "metadata": {},
     "output_type": "display_data"
    }
   ],
   "source": [
    "# compute SVD\n",
    "# B = get_basis(M_base, Q[1], DiagonalizingOrthonormalBasis(log(M_base,Q[1],data[1])))\n",
    "B = get_basis(M_base, Q[1], DiagonalizingOrthonormalBasis(log_Q_data[1])) # scales with length of log squared -> so we diagonalize with non-normalized geodesics\n",
    "# B = get_basis(M, Q, DiagonalizingOrthonormalBasis(log_Q_data)) # doesn't compute for powermanifolds -> we should better do it element-wise\n",
    "B.data.eigenvalues\n",
    "\n",
    "# we want to compute the metric tensor entries in default ONB at e and then compute g_ij so that we don't have to reevaluate this all the time\n",
    "\n",
    "# compute rescaled Gramm Matrix\n",
    "# compute Σ and V\n",
    "# compute low rank approximation of tangent vector\n",
    "# expoentiate back\n",
    "# compute error"
   ]
  }
 ],
 "metadata": {
  "kernelspec": {
   "display_name": "Julia 1.7.2",
   "language": "julia",
   "name": "julia-1.7"
  },
  "language_info": {
   "file_extension": ".jl",
   "mimetype": "application/julia",
   "name": "julia",
   "version": "1.7.2"
  },
  "orig_nbformat": 4,
  "vscode": {
   "interpreter": {
    "hash": "31f2aee4e71d21fbe5cf8b01ff0e069b9275f58929596ceb00d14d90e3e16cd6"
   }
  }
 },
 "nbformat": 4,
 "nbformat_minor": 2
}
