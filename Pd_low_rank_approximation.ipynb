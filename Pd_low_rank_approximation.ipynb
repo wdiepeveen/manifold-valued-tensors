{
 "cells": [
  {
   "cell_type": "markdown",
   "metadata": {},
   "source": [
    "# Low-rank approximation on $\\mathcal{P}(d)$ - the space of $d$-dimensional SPD matrices"
   ]
  },
  {
   "cell_type": "markdown",
   "metadata": {},
   "source": [
    "In this notebook we want to get some intuition in different approaches for computing low-rank approximations for manifold-valued signals"
   ]
  },
  {
   "cell_type": "code",
   "execution_count": 188,
   "metadata": {},
   "outputs": [],
   "source": [
    "using Manifolds\n",
    "using Manopt\n",
    "using LinearAlgebra\n",
    "using Random"
   ]
  },
  {
   "cell_type": "code",
   "execution_count": 189,
   "metadata": {},
   "outputs": [
    {
     "data": {
      "text/plain": [
       "PowerManifold(SymmetricPositiveDefinite(3), NestedPowerRepresentation(), 100)"
      ]
     },
     "metadata": {},
     "output_type": "display_data"
    }
   ],
   "source": [
    "# initialize SPD power manifold P(d)^d1\n",
    "dd = 3  # size of the SPD matrices, i.e., ∈ R^d×d\n",
    "M_base = SymmetricPositiveDefinite(dd)\n",
    "d = manifold_dimension(M_base)\n",
    "d1 = 100  # size of the signal\n",
    "M = PowerManifold(M_base, NestedPowerRepresentation(), d1)"
   ]
  },
  {
   "cell_type": "markdown",
   "metadata": {},
   "source": [
    "### Generate a data set"
   ]
  },
  {
   "cell_type": "code",
   "execution_count": 190,
   "metadata": {},
   "outputs": [
    {
     "data": {
      "text/plain": [
       "100-element Vector{Matrix{Float64}}:\n",
       " [-0.8900780165742711 -0.09498558688520639 0.5136507261426676; -0.09498558688520642 -0.29100843771387586 0.20236196268475953; 0.5136507261426676 0.20236196268475953 -0.8754383868434272]\n",
       " [-1.2801403548663093 0.1876986782921049 0.03823688849500963; 0.1876986782921048 -0.8338161834442588 -0.1199456629231202; 0.03823688849500963 -0.1199456629231202 -0.10740799574667402]\n",
       " [3.7137293643701934 -0.20520340168201642 0.6033053400508505; -0.20520340168201642 -0.07434699024411584 0.3414838704353225; 0.6033053400508505 0.3414838704353225 -0.48267978013801816]\n",
       " [2.2102212734805016 0.08809073063410658 -0.4466734563037301; 0.08809073063410659 0.27452485275248356 -0.10477387695060357; -0.4466734563037302 -0.10477387695060356 0.15300321097265446]\n",
       " [0.10988774217278596 0.5959000218193631 0.5425715879939947; 0.5959000218193631 -0.3938676877159909 0.17596994304720495; 0.5425715879939947 0.17596994304720495 -0.017838727102093138]\n",
       " [0.16920254237955396 -0.2123445142497866 0.33299720224727314; -0.21234451424978662 0.5846280228823045 0.7291393792792753; 0.33299720224727314 0.7291393792792753 -0.2640422617405857]\n",
       " [-1.6172124889457666 0.057950083869518984 0.3169031863462944; 0.05795008386951899 0.12594027386958695 0.45173745059335396; 0.31690318634629433 0.451737450593354 -0.24769801028212782]\n",
       " [0.035862112891337145 0.2801746325562358 0.30434404300120366; 0.2801746325562358 0.3100890944808456 -0.043021492447559595; 0.30434404300120366 -0.04302149244755958 -0.2982900561205789]\n",
       " [-0.6968304277257155 0.369235691118346 0.3385765875718622; 0.369235691118346 -1.1124146068815977 -0.7085063547773838; 0.33857658757186215 -0.7085063547773838 -0.9320552749048931]\n",
       " [0.08294105961730684 -0.013748950351060538 0.15728222723487956; -0.013748950351060538 0.19603895938753163 -0.25143888844820617; 0.15728222723487956 -0.2514388884482062 -0.41560903904209384]\n",
       " ⋮\n",
       " [-0.9575406500318037 0.43876985482372355 0.24413949593396575; 0.43876985482372355 0.16395674591838053 -0.11523223438353858; 0.24413949593396575 -0.11523223438353858 0.07323624918173872]\n",
       " [-1.2154123946338138 0.12659725651506964 -0.27309485468989997; 0.1265972565150696 -0.6607904285378942 0.41733788554991125; -0.27309485468989997 0.4173378855499113 -0.12326040767804423]\n",
       " [-0.11996734110587198 -0.10744712334922915 -0.722045637917717; -0.10744712334922915 0.6889797768881905 0.3321719071251479; -0.7220456379177171 0.3321719071251479 0.36799063379531544]\n",
       " [0.5591868021498382 0.12152663544226926 -0.33483108835181996; 0.12152663544226922 0.3070878391669855 -0.021058856908500644; -0.33483108835181996 -0.021058856908500644 -0.5685074573772323]\n",
       " [-1.4725393287726363 -0.40353106746321643 -0.1089173816069684; -0.40353106746321643 0.10076201127316875 0.9773767271845586; -0.1089173816069684 0.9773767271845584 0.25494163832501493]\n",
       " [0.761159640048416 0.443608169825727 -0.8587205111106784; 0.443608169825727 0.753058427643529 -0.21188963629723406; -0.8587205111106784 -0.21188963629723406 0.15366530728463923]\n",
       " [0.7143603590722776 -0.7538126041707021 -0.36701988869178; -0.753812604170702 0.04323302107741572 -0.23715343528628094; -0.36701988869178 -0.23715343528628094 -0.7498404872372189]\n",
       " [0.2477104505247823 -0.411455947243947 0.3254108590183755; -0.4114559472439471 -0.07896038625735849 -0.1947515749288627; 0.3254108590183756 -0.19475157492886275 -0.5650319367358216]\n",
       " [-1.6872369320037388 -0.22851012038764087 0.017806289376472162; -0.22851012038764087 0.3274983565441696 0.5107015998642488; 0.017806289376472162 0.5107015998642488 0.5521831798277939]"
      ]
     },
     "metadata": {},
     "output_type": "display_data"
    }
   ],
   "source": [
    "e = 1. * Matrix(I, dd, dd)\n",
    "# compute basis on M_base\n",
    "Θ = get_basis(M_base, e, DefaultOrthonormalBasis())\n",
    "#  construct data\n",
    "Q = fill(e, d1)\n",
    "# draw random tvectors \n",
    "τ = 1.  # variance\n",
    "σ = .5  # variance\n",
    "# Xₑⁱ = zeros(d)\n",
    "# Xₑⁱ[1] = 1.\n",
    "# Xₑ = get_vector(M_base, e, Xₑⁱ, Θ)\n",
    "Xₑ = Θ.data[1]\n",
    "\n",
    "Random.seed!(31)\n",
    "predata = [exp(M_base, e, sqrt(τ) * randn(1)[1] * Xₑ) for i in 1:d1]\n",
    "\n",
    "data = [exp(M_base, predata[i], random_tangent(M_base, predata[i], Val(:Gaussian), σ)) for i in 1:d1] # ∈ P(3)^d1\n",
    "log_Q_data = log(M, Q, data)  # ∈ T_e P(3)^d1"
   ]
  },
  {
   "cell_type": "markdown",
   "metadata": {},
   "source": [
    "We want to investigate how reliable both ranks are, i.e., we don't want that something looks low-rank, but in reality is higher rank"
   ]
  },
  {
   "cell_type": "code",
   "execution_count": 191,
   "metadata": {},
   "outputs": [
    {
     "data": {
      "text/plain": [
       "6-element Vector{Matrix{Float64}}:\n",
       " [-0.03770264698847997 -0.39626035223291406 0.17840499702116525; -0.39626035223291395 -0.5084406263071505 -0.4175519173974263; 0.17840499702116522 -0.4175519173974263 0.11690257934779975]\n",
       " [0.021517660086877614 0.40770920304799785 0.3013521918053259; 0.40770920304799774 -0.10877305875930907 -0.09856722539272646; 0.3013521918053259 -0.09856722539272643 0.6739395674965789]\n",
       " [0.011876873819938965 0.11020543613463071 0.5476199540618792; 0.11020543613463071 0.02123187579937062 0.030378205153147413; 0.5476199540618792 0.030378205153147392 -0.611143822795368]\n",
       " [0.02123751041667564 0.008139633125295337 -0.0036072635873610126; 0.00813963312529536 0.7478029883207209 -0.4688375306176127; -0.003607263587361015 -0.4688375306176127 -0.02374587590826708]\n",
       " [0.018914157833963312 -0.40525458977280526 0.2780764748097957; -0.40525458977280526 0.41028451788561016 0.3083925458051865; 0.27807647480979564 0.3083925458051865 0.3974686498974033]\n",
       " [-0.9985818260750827 0.01755462005429769 0.011461293645953061; 0.01755462005429769 0.04078067802952165 0.009872719177633828; 0.011461293645953061 0.009872719177633828 0.009863056803355712]"
      ]
     },
     "metadata": {},
     "output_type": "display_data"
    }
   ],
   "source": [
    "# compute SVD\n",
    "# compute Gramm Matrix\n",
    "Gramm_Q = [inner(M_base, e, log_Q_data[k], log_Q_data[l]) for k=1:d1, l=1:d1]\n",
    "# compute Σ and V\n",
    "(sqSigma, V) = eigen(Symmetric(Gramm_Q), d1-min(d1-1,d-1):d1)\n",
    "# compute U\n",
    "U = [1/sqrt(sqSigma[i]) * sum([V[k,i] * log_Q_data[k] for k in 1:d1]) for i in 1:d]\n",
    "# compute low rank approximation of tangent vector\n",
    "# expoentiate back\n",
    "# compute error"
   ]
  },
  {
   "cell_type": "code",
   "execution_count": 192,
   "metadata": {},
   "outputs": [
    {
     "data": {
      "text/plain": [
       "β (generic function with 1 method)"
      ]
     },
     "metadata": {},
     "output_type": "display_data"
    }
   ],
   "source": [
    "function β(κ)\n",
    "    (κ < 0) && return sinh(sqrt(-κ)) / ( sqrt((-κ)))\n",
    "    (κ > 0) && return sin(sqrt(κ)) / (sqrt(κ))\n",
    "    return 1.0 # cuvature zero.\n",
    "end"
   ]
  },
  {
   "cell_type": "code",
   "execution_count": 193,
   "metadata": {},
   "outputs": [
    {
     "data": {
      "text/plain": [
       "reweighted_inner (generic function with 1 method)"
      ]
     },
     "metadata": {},
     "output_type": "display_data"
    }
   ],
   "source": [
    "function reweighted_inner(M, p, X, Y, g)\n",
    "    \n",
    "end"
   ]
  },
  {
   "cell_type": "code",
   "execution_count": 194,
   "metadata": {},
   "outputs": [
    {
     "data": {
      "text/plain": [
       "6-element Vector{Matrix{Float64}}:\n",
       " [-0.02998509307768279 -0.016283575328313062 -0.008489281519320166; -0.01628357532831307 -0.593065847525118 -0.46105265141075213; -0.008489281519320165 -0.46105265141075213 0.38006718915452925]\n",
       " [-0.05641496902069609 -0.008091218340739954 -0.008652959930814995; -0.00809121834073997 -0.3571657501050422 -0.14754413728847768; -0.008652959930815003 -0.14754413728847768 -0.891459740670021]\n",
       " [-0.034582733008840794 -0.012596523229398087 0.01228994072890271; -0.012596523229398101 -0.6856093244882059 0.4800779847875004; 0.012289940728902719 0.4800779847875004 0.100816550770726]\n",
       " [0.9712624933835372 -0.02414763903453422 -0.0062139577613103845; -0.02414763903453422 -0.03772945002657839 -0.007823589289988185; -0.006213957761310385 -0.007823589289988185 -0.00930235979369836]\n",
       " [-1.8978297339489985e-5 -5.1714513902588385e-6 4.602087415886709e-5; -5.171451390258839e-6 8.09752854293267e-6 4.764856211738944e-6; 4.602087415886709e-5 4.764856211738944e-6 -4.382900709237452e-6]\n",
       " [1.597896536306762e-5 2.5614758162466075e-5 1.9614779210299473e-6; 2.5614758162466072e-5 -7.406744117016864e-6 -4.5825152494437295e-6; 1.9614779210299477e-6 -4.5825152494437295e-6 -5.984387027718638e-6]"
      ]
     },
     "metadata": {},
     "output_type": "display_data"
    }
   ],
   "source": [
    "# compute SVD\n",
    "# we want to compute the metric tensor entries in default ONB at e and then compute g_ij so that we don't have to reevaluate this all the time\n",
    "gᵢⱼ = zeros(d,d)\n",
    "for k=1:d1\n",
    "    Ξₖ = get_basis(M_base, e, DiagonalizingOrthonormalBasis(log_Q_data[k]))\n",
    "    κₖ = Ξₖ.data.eigenvalues\n",
    "    βₖ = [β(κₖ[l]) for l in 1:d]\n",
    "    gᵢⱼ += 1/d1 * [sum([βₖ[l]^2 * inner(M_base, e, Θ.data[i], Ξₖ.data.vectors[l]) * inner(M_base, e, Θ.data[j], Ξₖ.data.vectors[l]) for l=1:d]) for i=1:d, j=1:d]\n",
    "end\n",
    "# compute rescaled Gramm Matrix\n",
    "reweighted_Gramm_Q = [sum([gᵢⱼ[i,j] * get_coordinates(M_base, e, log_Q_data[k], Θ)[i] * get_coordinates(M_base, e, log_Q_data[l], Θ)[j] for i=1:d, j=1:d]) for k=1:d1, l=1:d1]\n",
    "# compute Σ and V\n",
    "(reweighted_sqSigma, reweighted_V) = eigen(Symmetric(reweighted_Gramm_Q ), d1-min(d1-1,d-1):d1)\n",
    "# compute U\n",
    "reweighted_U = [1/sqrt(reweighted_sqSigma[i]) * sum([reweighted_V[k,i] * log_Q_data[k] for k in 1:d1]) for i in 1:d]\n",
    "# compute low rank approximation of tangent vector\n"
   ]
  },
  {
   "cell_type": "code",
   "execution_count": 208,
   "metadata": {},
   "outputs": [
    {
     "name": "stdout",
     "output_type": "stream",
     "text": [
      "[0.01605906252986433, 0.019325524430407387, 0.02691785482127655, 0.02903647701733745, 0.031248627171497765, 1.0]\n",
      "[0.6660954615052969, 0.8782111861513708, 1.039738534798801, 35.62084053103035, 1.0334192079545346, 1.0]\n"
     ]
    }
   ],
   "source": [
    "println(sqSigma/sqSigma[end])\n",
    "renormalized_sqSigma = [reweighted_sqSigma[i] * norm(M_base, e, reweighted_U[i])^2 for i in 1:d]\n",
    "println(renormalized_sqSigma/renormalized_sqSigma[end])"
   ]
  },
  {
   "cell_type": "code",
   "execution_count": 206,
   "metadata": {},
   "outputs": [
    {
     "name": "stdout",
     "output_type": "stream",
     "text": [
      "26.302701371271045\n",
      "9.097659317460128\n"
     ]
    }
   ],
   "source": [
    "rank = 3\n",
    "log_Q_data_r = [sum([U[i] * sqrt(sqSigma[i]) * V[k,i] for i in d-rank+1:d]) for k in 1:d1]\n",
    "reweighted_log_Q_data_r = [sum([reweighted_U[i] * sqrt(reweighted_sqSigma[i]) * reweighted_V[k,i] for i in d-rank+1:d]) for k in 1:d1]\n",
    "# expoentiate back\n",
    "data_r = exp(M, Q, log_Q_data_r)\n",
    "reweighted_data_r = exp(M, Q, reweighted_log_Q_data_r)\n",
    "# compute error\n",
    "distance_r = distance(M, data, data_r)\n",
    "reweighted_distance_r = distance(M, data, reweighted_data_r)\n",
    "\n",
    "println(distance_r)\n",
    "println(reweighted_distance_r)\n",
    "\n",
    "# TODO plot distances for every rank 1:6\n",
    "# It seems to pick the correct vectors, but the singular values do not yet reflect that well how low the rank actually is...\n",
    "# -> we can reweight the U's and the sigmas by normalizing them wrt old metric\n",
    "# the SPD manifold always has a couple of directions with negative curvature, check whether these are the same as the obtained directions"
   ]
  }
 ],
 "metadata": {
  "kernelspec": {
   "display_name": "Julia 1.7.2",
   "language": "julia",
   "name": "julia-1.7"
  },
  "language_info": {
   "file_extension": ".jl",
   "mimetype": "application/julia",
   "name": "julia",
   "version": "1.7.2"
  },
  "orig_nbformat": 4,
  "vscode": {
   "interpreter": {
    "hash": "31f2aee4e71d21fbe5cf8b01ff0e069b9275f58929596ceb00d14d90e3e16cd6"
   }
  }
 },
 "nbformat": 4,
 "nbformat_minor": 2
}
