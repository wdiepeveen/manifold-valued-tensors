{
 "cells": [
  {
   "cell_type": "markdown",
   "metadata": {},
   "source": [
    "# Low-rank approximation on $\\mathcal{P}(d)$ - the space of $d$-dimensional SPD matrices"
   ]
  },
  {
   "cell_type": "markdown",
   "metadata": {},
   "source": [
    "In this notebook we want to get some intuition in different approaches for computing low-rank approximations for manifold-valued signals"
   ]
  },
  {
   "cell_type": "code",
   "execution_count": 1,
   "metadata": {},
   "outputs": [],
   "source": [
    "using Manifolds\n",
    "using Manopt\n",
    "using LinearAlgebra\n",
    "using NIfTI\n",
    "using Plots"
   ]
  },
  {
   "cell_type": "markdown",
   "metadata": {},
   "source": [
    "### Load data ###"
   ]
  },
  {
   "cell_type": "code",
   "execution_count": 2,
   "metadata": {},
   "outputs": [],
   "source": [
    "# load data\n",
    "# ni = niread(\"data/nifti_dt.nii.gz\") * 1e9;\n",
    "ni = niread(\"data/nifti_dt_nonlinear.nii.gz\") * 1e9;"
   ]
  },
  {
   "cell_type": "code",
   "execution_count": 3,
   "metadata": {},
   "outputs": [
    {
     "data": {
      "text/plain": [
       "(112, 112, 50, 1, 6)"
      ]
     },
     "metadata": {},
     "output_type": "display_data"
    }
   ],
   "source": [
    "size(ni)"
   ]
  },
  {
   "cell_type": "code",
   "execution_count": 4,
   "metadata": {},
   "outputs": [
    {
     "data": {
      "text/plain": [
       "6-element Vector{Float64}:\n",
       "  1.456667231281017\n",
       "  0.08766011527772122\n",
       "  1.8108553545559403\n",
       " -0.10191358174038712\n",
       " -0.15621183513392367\n",
       "  1.4246920310156952"
      ]
     },
     "metadata": {},
     "output_type": "display_data"
    }
   ],
   "source": [
    "x = 49\n",
    "y = 60\n",
    "z = 25\n",
    "\n",
    "ni[x,y,z,1,:]  # gets xx, yx, yy, zx, zy, zz"
   ]
  },
  {
   "cell_type": "markdown",
   "metadata": {},
   "source": [
    "### Construct manifold ###"
   ]
  },
  {
   "cell_type": "code",
   "execution_count": 5,
   "metadata": {},
   "outputs": [
    {
     "data": {
      "text/plain": [
       "(112, 112, 50, 1, 6)"
      ]
     },
     "metadata": {},
     "output_type": "display_data"
    }
   ],
   "source": [
    "d1, d2, d3, _, d = size(ni)"
   ]
  },
  {
   "cell_type": "code",
   "execution_count": 6,
   "metadata": {},
   "outputs": [],
   "source": [
    "# construct data as points on the manifold\n",
    "predata = [\n",
    "    [\n",
    "    [ni[i,j,k,1,1];; ni[i,j,k,1,2];; ni[i,j,k,1,4]]; \n",
    "    [ni[i,j,k,1,2];; ni[i,j,k,1,3];; ni[i,j,k,1,5]]; \n",
    "    [ni[i,j,k,1,4];; ni[i,j,k,1,5];; ni[i,j,k,1,6]]\n",
    "    ] for i=1:d1, j=1:d2, k=1:d3];\n",
    "# predata = [array2mat(ni[i,j,k,1,:]) for i=1:d1, j=1:d2, k=1:d3];"
   ]
  },
  {
   "cell_type": "code",
   "execution_count": 7,
   "metadata": {},
   "outputs": [
    {
     "name": "stdout",
     "output_type": "stream",
     "text": [
      "(112, 112, 50)"
     ]
    }
   ],
   "source": [
    "print(size(predata))"
   ]
  },
  {
   "cell_type": "code",
   "execution_count": 45,
   "metadata": {},
   "outputs": [
    {
     "name": "stdout",
     "output_type": "stream",
     "text": [
      "(48, 48, 20)\n"
     ]
    },
    {
     "data": {
      "text/plain": [
       "48×48×20 Array{Union{Nothing, DomainError}, 3}:\n",
       "[:, :, 1] =\n",
       " nothing  nothing  nothing  nothing  …  nothing  nothing  nothing  nothing\n",
       " nothing  nothing  nothing  nothing     nothing  nothing  nothing  nothing\n",
       " nothing  nothing  nothing  nothing     nothing  nothing  nothing  nothing\n",
       " nothing  nothing  nothing  nothing     nothing  nothing  nothing  nothing\n",
       " nothing  nothing  nothing  nothing     nothing  nothing  nothing  nothing\n",
       " nothing  nothing  nothing  nothing  …  nothing  nothing  nothing  nothing\n",
       " nothing  nothing  nothing  nothing     nothing  nothing  nothing  nothing\n",
       " nothing  nothing  nothing  nothing     nothing  nothing  nothing  nothing\n",
       " nothing  nothing  nothing  nothing     nothing  nothing  nothing  nothing\n",
       " nothing  nothing  nothing  nothing     nothing  nothing  nothing  nothing\n",
       " ⋮                                   ⋱           ⋮                 \n",
       " nothing  nothing  nothing  nothing     nothing  nothing  nothing  nothing\n",
       " nothing  nothing  nothing  nothing  …  nothing  nothing  nothing  nothing\n",
       " nothing  nothing  nothing  nothing     nothing  nothing  nothing  nothing\n",
       " nothing  nothing  nothing  nothing     nothing  nothing  nothing  nothing\n",
       " nothing  nothing  nothing  nothing     nothing  nothing  nothing  nothing\n",
       " nothing  nothing  nothing  nothing     nothing  nothing  nothing  nothing\n",
       " nothing  nothing  nothing  nothing  …  nothing  nothing  nothing  nothing\n",
       " nothing  nothing  nothing  nothing     nothing  nothing  nothing  nothing\n",
       " nothing  nothing  nothing  nothing     nothing  nothing  nothing  nothing\n",
       "\n",
       "[:, :, 2] =\n",
       " nothing  nothing  nothing  nothing  …  nothing  nothing  nothing  nothing\n",
       " nothing  nothing  nothing  nothing     nothing  nothing  nothing  nothing\n",
       " nothing  nothing  nothing  nothing     nothing  nothing  nothing  nothing\n",
       " nothing  nothing  nothing  nothing     nothing  nothing  nothing  nothing\n",
       " nothing  nothing  nothing  nothing     nothing  nothing  nothing  nothing\n",
       " nothing  nothing  nothing  nothing  …  nothing  nothing  nothing  nothing\n",
       " nothing  nothing  nothing  nothing     nothing  nothing  nothing  nothing\n",
       " nothing  nothing  nothing  nothing     nothing  nothing  nothing  nothing\n",
       " nothing  nothing  nothing  nothing     nothing  nothing  nothing  nothing\n",
       " nothing  nothing  nothing  nothing     nothing  nothing  nothing  nothing\n",
       " ⋮                                   ⋱           ⋮                 \n",
       " nothing  nothing  nothing  nothing     nothing  nothing  nothing  nothing\n",
       " nothing  nothing  nothing  nothing  …  nothing  nothing  nothing  nothing\n",
       " nothing  nothing  nothing  nothing     nothing  nothing  nothing  nothing\n",
       " nothing  nothing  nothing  nothing     nothing  nothing  nothing  nothing\n",
       " nothing  nothing  nothing  nothing     nothing  nothing  nothing  nothing\n",
       " nothing  nothing  nothing  nothing     nothing  nothing  nothing  nothing\n",
       " nothing  nothing  nothing  nothing  …  nothing  nothing  nothing  nothing\n",
       " nothing  nothing  nothing  nothing     nothing  nothing  nothing  nothing\n",
       " nothing  nothing  nothing  nothing     nothing  nothing  nothing  nothing\n",
       "\n",
       "[:, :, 3] =\n",
       " nothing  nothing  nothing  nothing  …  nothing  nothing  nothing  nothing\n",
       " nothing  nothing  nothing  nothing     nothing  nothing  nothing  nothing\n",
       " nothing  nothing  nothing  nothing     nothing  nothing  nothing  nothing\n",
       " nothing  nothing  nothing  nothing     nothing  nothing  nothing  nothing\n",
       " nothing  nothing  nothing  nothing     nothing  nothing  nothing  nothing\n",
       " nothing  nothing  nothing  nothing  …  nothing  nothing  nothing  nothing\n",
       " nothing  nothing  nothing  nothing     nothing  nothing  nothing  nothing\n",
       " nothing  nothing  nothing  nothing     nothing  nothing  nothing  nothing\n",
       " nothing  nothing  nothing  nothing     nothing  nothing  nothing  nothing\n",
       " nothing  nothing  nothing  nothing     nothing  nothing  nothing  nothing\n",
       " ⋮                                   ⋱           ⋮                 \n",
       " nothing  nothing  nothing  nothing     nothing  nothing  nothing  nothing\n",
       " nothing  nothing  nothing  nothing  …  nothing  nothing  nothing  nothing\n",
       " nothing  nothing  nothing  nothing     nothing  nothing  nothing  nothing\n",
       " nothing  nothing  nothing  nothing     nothing  nothing  nothing  nothing\n",
       " nothing  nothing  nothing  nothing     nothing  nothing  nothing  nothing\n",
       " nothing  nothing  nothing  nothing     nothing  nothing  nothing  nothing\n",
       " nothing  nothing  nothing  nothing  …  nothing  nothing  nothing  nothing\n",
       " nothing  nothing  nothing  nothing     nothing  nothing  nothing  nothing\n",
       " nothing  nothing  nothing  nothing     nothing  nothing  nothing  nothing\n",
       "\n",
       ";;; … \n",
       "\n",
       "[:, :, 18] =\n",
       " nothing  nothing  nothing  nothing  …  nothing  nothing  nothing  nothing\n",
       " nothing  nothing  nothing  nothing     nothing  nothing  nothing  nothing\n",
       " nothing  nothing  nothing  nothing     nothing  nothing  nothing  nothing\n",
       " nothing  nothing  nothing  nothing     nothing  nothing  nothing  nothing\n",
       " nothing  nothing  nothing  nothing     nothing  nothing  nothing  nothing\n",
       " nothing  nothing  nothing  nothing  …  nothing  nothing  nothing  nothing\n",
       " nothing  nothing  nothing  nothing     nothing  nothing  nothing  nothing\n",
       " nothing  nothing  nothing  nothing     nothing  nothing  nothing  nothing\n",
       " nothing  nothing  nothing  nothing     nothing  nothing  nothing  nothing\n",
       " nothing  nothing  nothing  nothing     nothing  nothing  nothing  nothing\n",
       " ⋮                                   ⋱           ⋮                 \n",
       " nothing  nothing  nothing  nothing     nothing  nothing  nothing  nothing\n",
       " nothing  nothing  nothing  nothing  …  nothing  nothing  nothing  nothing\n",
       " nothing  nothing  nothing  nothing     nothing  nothing  nothing  nothing\n",
       " nothing  nothing  nothing  nothing     nothing  nothing  nothing  nothing\n",
       " nothing  nothing  nothing  nothing     nothing  nothing  nothing  nothing\n",
       " nothing  nothing  nothing  nothing     nothing  nothing  nothing  nothing\n",
       " nothing  nothing  nothing  nothing  …  nothing  nothing  nothing  nothing\n",
       " nothing  nothing  nothing  nothing     nothing  nothing  nothing  nothing\n",
       " nothing  nothing  nothing  nothing     nothing  nothing  nothing  nothing\n",
       "\n",
       "[:, :, 19] =\n",
       " nothing  nothing  nothing  nothing  …  nothing  nothing  nothing  nothing\n",
       " nothing  nothing  nothing  nothing     nothing  nothing  nothing  nothing\n",
       " nothing  nothing  nothing  nothing     nothing  nothing  nothing  nothing\n",
       " nothing  nothing  nothing  nothing     nothing  nothing  nothing  nothing\n",
       " nothing  nothing  nothing  nothing     nothing  nothing  nothing  nothing\n",
       " nothing  nothing  nothing  nothing  …  nothing  nothing  nothing  nothing\n",
       " nothing  nothing  nothing  nothing     nothing  nothing  nothing  nothing\n",
       " nothing  nothing  nothing  nothing     nothing  nothing  nothing  nothing\n",
       " nothing  nothing  nothing  nothing     nothing  nothing  nothing  nothing\n",
       " nothing  nothing  nothing  nothing     nothing  nothing  nothing  nothing\n",
       " ⋮                                   ⋱           ⋮                 \n",
       " nothing  nothing  nothing  nothing     nothing  nothing  nothing  nothing\n",
       " nothing  nothing  nothing  nothing  …  nothing  nothing  nothing  nothing\n",
       " nothing  nothing  nothing  nothing     nothing  nothing  nothing  nothing\n",
       " nothing  nothing  nothing  nothing     nothing  nothing  nothing  nothing\n",
       " nothing  nothing  nothing  nothing     nothing  nothing  nothing  nothing\n",
       " nothing  nothing  nothing  nothing     nothing  nothing  nothing  nothing\n",
       " nothing  nothing  nothing  nothing  …  nothing  nothing  nothing  nothing\n",
       " nothing  nothing  nothing  nothing     nothing  nothing  nothing  nothing\n",
       " nothing  nothing  nothing  nothing     nothing  nothing  nothing  nothing\n",
       "\n",
       "[:, :, 20] =\n",
       " nothing  nothing  nothing  nothing  …  nothing  nothing  nothing  nothing\n",
       " nothing  nothing  nothing  nothing     nothing  nothing  nothing  nothing\n",
       " nothing  nothing  nothing  nothing     nothing  nothing  nothing  nothing\n",
       " nothing  nothing  nothing  nothing     nothing  nothing  nothing  nothing\n",
       " nothing  nothing  nothing  nothing     nothing  nothing  nothing  nothing\n",
       " nothing  nothing  nothing  nothing  …  nothing  nothing  nothing  nothing\n",
       " nothing  nothing  nothing  nothing     nothing  nothing  nothing  nothing\n",
       " nothing  nothing  nothing  nothing     nothing  nothing  nothing  nothing\n",
       " nothing  nothing  nothing  nothing     nothing  nothing  nothing  nothing\n",
       " nothing  nothing  nothing  nothing     nothing  nothing  nothing  nothing\n",
       " ⋮                                   ⋱           ⋮                 \n",
       " nothing  nothing  nothing  nothing     nothing  nothing  nothing  nothing\n",
       " nothing  nothing  nothing  nothing  …  nothing  nothing  nothing  nothing\n",
       " nothing  nothing  nothing  nothing     nothing  nothing  nothing  nothing\n",
       " nothing  nothing  nothing  nothing     nothing  nothing  nothing  nothing\n",
       " nothing  nothing  nothing  nothing     nothing  nothing  nothing  nothing\n",
       " nothing  nothing  nothing  nothing     nothing  nothing  nothing  nothing\n",
       " nothing  nothing  nothing  nothing  …  nothing  nothing  nothing  nothing\n",
       " nothing  nothing  nothing  nothing     nothing  nothing  nothing  nothing\n",
       " nothing  nothing  nothing  nothing     nothing  nothing  nothing  nothing"
      ]
     },
     "metadata": {},
     "output_type": "display_data"
    }
   ],
   "source": [
    "# pick a 2D slice \n",
    "# xlims [34,81] y: [32,79] z:[8,30]\n",
    "# data = predata[34:81, 32:79, 8:30]\n",
    "data = predata[34:81,32:79,15]\n",
    "D1, D2 = size(data)\n",
    "\n",
    "M = SymmetricPositiveDefinite(3)\n",
    "println(size(data))\n",
    "check_point.(Ref(M), data)"
   ]
  },
  {
   "cell_type": "code",
   "execution_count": null,
   "metadata": {},
   "outputs": [],
   "source": [
    "# Export slice image"
   ]
  },
  {
   "cell_type": "code",
   "execution_count": 55,
   "metadata": {},
   "outputs": [
    {
     "data": {
      "text/plain": [
       "48×48×20 Array{Union{Nothing, DomainError}, 3}:\n",
       "[:, :, 1] =\n",
       " nothing  nothing  nothing  nothing  …  nothing  nothing  nothing  nothing\n",
       " nothing  nothing  nothing  nothing     nothing  nothing  nothing  nothing\n",
       " nothing  nothing  nothing  nothing     nothing  nothing  nothing  nothing\n",
       " nothing  nothing  nothing  nothing     nothing  nothing  nothing  nothing\n",
       " nothing  nothing  nothing  nothing     nothing  nothing  nothing  nothing\n",
       " nothing  nothing  nothing  nothing  …  nothing  nothing  nothing  nothing\n",
       " nothing  nothing  nothing  nothing     nothing  nothing  nothing  nothing\n",
       " nothing  nothing  nothing  nothing     nothing  nothing  nothing  nothing\n",
       " nothing  nothing  nothing  nothing     nothing  nothing  nothing  nothing\n",
       " nothing  nothing  nothing  nothing     nothing  nothing  nothing  nothing\n",
       " ⋮                                   ⋱           ⋮                 \n",
       " nothing  nothing  nothing  nothing     nothing  nothing  nothing  nothing\n",
       " nothing  nothing  nothing  nothing  …  nothing  nothing  nothing  nothing\n",
       " nothing  nothing  nothing  nothing     nothing  nothing  nothing  nothing\n",
       " nothing  nothing  nothing  nothing     nothing  nothing  nothing  nothing\n",
       " nothing  nothing  nothing  nothing     nothing  nothing  nothing  nothing\n",
       " nothing  nothing  nothing  nothing     nothing  nothing  nothing  nothing\n",
       " nothing  nothing  nothing  nothing  …  nothing  nothing  nothing  nothing\n",
       " nothing  nothing  nothing  nothing     nothing  nothing  nothing  nothing\n",
       " nothing  nothing  nothing  nothing     nothing  nothing  nothing  nothing\n",
       "\n",
       "[:, :, 2] =\n",
       " nothing  nothing  nothing  nothing  …  nothing  nothing  nothing  nothing\n",
       " nothing  nothing  nothing  nothing     nothing  nothing  nothing  nothing\n",
       " nothing  nothing  nothing  nothing     nothing  nothing  nothing  nothing\n",
       " nothing  nothing  nothing  nothing     nothing  nothing  nothing  nothing\n",
       " nothing  nothing  nothing  nothing     nothing  nothing  nothing  nothing\n",
       " nothing  nothing  nothing  nothing  …  nothing  nothing  nothing  nothing\n",
       " nothing  nothing  nothing  nothing     nothing  nothing  nothing  nothing\n",
       " nothing  nothing  nothing  nothing     nothing  nothing  nothing  nothing\n",
       " nothing  nothing  nothing  nothing     nothing  nothing  nothing  nothing\n",
       " nothing  nothing  nothing  nothing     nothing  nothing  nothing  nothing\n",
       " ⋮                                   ⋱           ⋮                 \n",
       " nothing  nothing  nothing  nothing     nothing  nothing  nothing  nothing\n",
       " nothing  nothing  nothing  nothing  …  nothing  nothing  nothing  nothing\n",
       " nothing  nothing  nothing  nothing     nothing  nothing  nothing  nothing\n",
       " nothing  nothing  nothing  nothing     nothing  nothing  nothing  nothing\n",
       " nothing  nothing  nothing  nothing     nothing  nothing  nothing  nothing\n",
       " nothing  nothing  nothing  nothing     nothing  nothing  nothing  nothing\n",
       " nothing  nothing  nothing  nothing  …  nothing  nothing  nothing  nothing\n",
       " nothing  nothing  nothing  nothing     nothing  nothing  nothing  nothing\n",
       " nothing  nothing  nothing  nothing     nothing  nothing  nothing  nothing\n",
       "\n",
       "[:, :, 3] =\n",
       " nothing  nothing  nothing  nothing  …  nothing  nothing  nothing  nothing\n",
       " nothing  nothing  nothing  nothing     nothing  nothing  nothing  nothing\n",
       " nothing  nothing  nothing  nothing     nothing  nothing  nothing  nothing\n",
       " nothing  nothing  nothing  nothing     nothing  nothing  nothing  nothing\n",
       " nothing  nothing  nothing  nothing     nothing  nothing  nothing  nothing\n",
       " nothing  nothing  nothing  nothing  …  nothing  nothing  nothing  nothing\n",
       " nothing  nothing  nothing  nothing     nothing  nothing  nothing  nothing\n",
       " nothing  nothing  nothing  nothing     nothing  nothing  nothing  nothing\n",
       " nothing  nothing  nothing  nothing     nothing  nothing  nothing  nothing\n",
       " nothing  nothing  nothing  nothing     nothing  nothing  nothing  nothing\n",
       " ⋮                                   ⋱           ⋮                 \n",
       " nothing  nothing  nothing  nothing     nothing  nothing  nothing  nothing\n",
       " nothing  nothing  nothing  nothing  …  nothing  nothing  nothing  nothing\n",
       " nothing  nothing  nothing  nothing     nothing  nothing  nothing  nothing\n",
       " nothing  nothing  nothing  nothing     nothing  nothing  nothing  nothing\n",
       " nothing  nothing  nothing  nothing     nothing  nothing  nothing  nothing\n",
       " nothing  nothing  nothing  nothing     nothing  nothing  nothing  nothing\n",
       " nothing  nothing  nothing  nothing  …  nothing  nothing  nothing  nothing\n",
       " nothing  nothing  nothing  nothing     nothing  nothing  nothing  nothing\n",
       " nothing  nothing  nothing  nothing     nothing  nothing  nothing  nothing\n",
       "\n",
       ";;; … \n",
       "\n",
       "[:, :, 18] =\n",
       " nothing  nothing  nothing  nothing  …  nothing  nothing  nothing  nothing\n",
       " nothing  nothing  nothing  nothing     nothing  nothing  nothing  nothing\n",
       " nothing  nothing  nothing  nothing     nothing  nothing  nothing  nothing\n",
       " nothing  nothing  nothing  nothing     nothing  nothing  nothing  nothing\n",
       " nothing  nothing  nothing  nothing     nothing  nothing  nothing  nothing\n",
       " nothing  nothing  nothing  nothing  …  nothing  nothing  nothing  nothing\n",
       " nothing  nothing  nothing  nothing     nothing  nothing  nothing  nothing\n",
       " nothing  nothing  nothing  nothing     nothing  nothing  nothing  nothing\n",
       " nothing  nothing  nothing  nothing     nothing  nothing  nothing  nothing\n",
       " nothing  nothing  nothing  nothing     nothing  nothing  nothing  nothing\n",
       " ⋮                                   ⋱           ⋮                 \n",
       " nothing  nothing  nothing  nothing     nothing  nothing  nothing  nothing\n",
       " nothing  nothing  nothing  nothing  …  nothing  nothing  nothing  nothing\n",
       " nothing  nothing  nothing  nothing     nothing  nothing  nothing  nothing\n",
       " nothing  nothing  nothing  nothing     nothing  nothing  nothing  nothing\n",
       " nothing  nothing  nothing  nothing     nothing  nothing  nothing  nothing\n",
       " nothing  nothing  nothing  nothing     nothing  nothing  nothing  nothing\n",
       " nothing  nothing  nothing  nothing  …  nothing  nothing  nothing  nothing\n",
       " nothing  nothing  nothing  nothing     nothing  nothing  nothing  nothing\n",
       " nothing  nothing  nothing  nothing     nothing  nothing  nothing  nothing\n",
       "\n",
       "[:, :, 19] =\n",
       " nothing  nothing  nothing  nothing  …  nothing  nothing  nothing  nothing\n",
       " nothing  nothing  nothing  nothing     nothing  nothing  nothing  nothing\n",
       " nothing  nothing  nothing  nothing     nothing  nothing  nothing  nothing\n",
       " nothing  nothing  nothing  nothing     nothing  nothing  nothing  nothing\n",
       " nothing  nothing  nothing  nothing     nothing  nothing  nothing  nothing\n",
       " nothing  nothing  nothing  nothing  …  nothing  nothing  nothing  nothing\n",
       " nothing  nothing  nothing  nothing     nothing  nothing  nothing  nothing\n",
       " nothing  nothing  nothing  nothing     nothing  nothing  nothing  nothing\n",
       " nothing  nothing  nothing  nothing     nothing  nothing  nothing  nothing\n",
       " nothing  nothing  nothing  nothing     nothing  nothing  nothing  nothing\n",
       " ⋮                                   ⋱           ⋮                 \n",
       " nothing  nothing  nothing  nothing     nothing  nothing  nothing  nothing\n",
       " nothing  nothing  nothing  nothing  …  nothing  nothing  nothing  nothing\n",
       " nothing  nothing  nothing  nothing     nothing  nothing  nothing  nothing\n",
       " nothing  nothing  nothing  nothing     nothing  nothing  nothing  nothing\n",
       " nothing  nothing  nothing  nothing     nothing  nothing  nothing  nothing\n",
       " nothing  nothing  nothing  nothing     nothing  nothing  nothing  nothing\n",
       " nothing  nothing  nothing  nothing  …  nothing  nothing  nothing  nothing\n",
       " nothing  nothing  nothing  nothing     nothing  nothing  nothing  nothing\n",
       " nothing  nothing  nothing  nothing     nothing  nothing  nothing  nothing\n",
       "\n",
       "[:, :, 20] =\n",
       " nothing  nothing  nothing  nothing  …  nothing  nothing  nothing  nothing\n",
       " nothing  nothing  nothing  nothing     nothing  nothing  nothing  nothing\n",
       " nothing  nothing  nothing  nothing     nothing  nothing  nothing  nothing\n",
       " nothing  nothing  nothing  nothing     nothing  nothing  nothing  nothing\n",
       " nothing  nothing  nothing  nothing     nothing  nothing  nothing  nothing\n",
       " nothing  nothing  nothing  nothing  …  nothing  nothing  nothing  nothing\n",
       " nothing  nothing  nothing  nothing     nothing  nothing  nothing  nothing\n",
       " nothing  nothing  nothing  nothing     nothing  nothing  nothing  nothing\n",
       " nothing  nothing  nothing  nothing     nothing  nothing  nothing  nothing\n",
       " nothing  nothing  nothing  nothing     nothing  nothing  nothing  nothing\n",
       " ⋮                                   ⋱           ⋮                 \n",
       " nothing  nothing  nothing  nothing     nothing  nothing  nothing  nothing\n",
       " nothing  nothing  nothing  nothing  …  nothing  nothing  nothing  nothing\n",
       " nothing  nothing  nothing  nothing     nothing  nothing  nothing  nothing\n",
       " nothing  nothing  nothing  nothing     nothing  nothing  nothing  nothing\n",
       " nothing  nothing  nothing  nothing     nothing  nothing  nothing  nothing\n",
       " nothing  nothing  nothing  nothing     nothing  nothing  nothing  nothing\n",
       " nothing  nothing  nothing  nothing  …  nothing  nothing  nothing  nothing\n",
       " nothing  nothing  nothing  nothing     nothing  nothing  nothing  nothing\n",
       " nothing  nothing  nothing  nothing     nothing  nothing  nothing  nothing"
      ]
     },
     "metadata": {},
     "output_type": "display_data"
    }
   ],
   "source": [
    "q = 1. * Matrix(I, 3, 3)\n",
    "#  construct data\n",
    "log_q_data = log.(Ref(M), Ref(q), data);  # ∈ T_q P(3)^d1\n",
    "exp_log_q_data = Symmetric.(exp.(Ref(M), Ref(q), log_q_data));\n",
    "check_point.(Ref(M), exp_log_q_data)"
   ]
  },
  {
   "cell_type": "code",
   "execution_count": 57,
   "metadata": {},
   "outputs": [
    {
     "data": {
      "text/plain": [
       "3×3 transpose(::Matrix{Float64}) with eltype Float64:\n",
       " -0.888727  -0.129218   0.115751\n",
       " -0.129218  -0.266916  -0.253125\n",
       "  0.115751  -0.253125   0.085243"
      ]
     },
     "metadata": {},
     "output_type": "display_data"
    }
   ],
   "source": [
    "# check how transpose works\n",
    "log_q_data[10,10,19]"
   ]
  },
  {
   "attachments": {},
   "cell_type": "markdown",
   "metadata": {},
   "source": [
    "First do HOSVD without curvature reweighing"
   ]
  },
  {
   "cell_type": "code",
   "execution_count": 58,
   "metadata": {},
   "outputs": [],
   "source": [
    "Gramm1  = Symmetric([sum(inner.(Ref(M), Ref(q), log_q_data[k,:,:], log_q_data[l,:,:])) for k=1:D1, l=1:D1]);\n",
    "Gramm2  = Symmetric([sum(inner.(Ref(M), Ref(q), log_q_data[:,k,:], log_q_data[:,l,:])) for k=1:D2, l=1:D2]);\n",
    "Gramm3  = Symmetric([sum(inner.(Ref(M), Ref(q), log_q_data[:,:,k], log_q_data[:,:,l])) for k=1:D3, l=1:D3]);"
   ]
  },
  {
   "cell_type": "code",
   "execution_count": 59,
   "metadata": {},
   "outputs": [],
   "source": [
    "(_, U1) = eigen(Gramm1);\n",
    "(_, U2) = eigen(Gramm2);\n",
    "(_, U3) = eigen(Gramm3);"
   ]
  },
  {
   "cell_type": "code",
   "execution_count": 60,
   "metadata": {},
   "outputs": [],
   "source": [
    "rank = 10\n",
    "r1, r2, r3 = rank .* (1,1,1)\n",
    "U1r = U1[:,end-r1+1:end]\n",
    "U2r = U2[:,end-r2+1:end]\n",
    "U3r = U3[:,end-r3+1:end]\n",
    "\n",
    "\n",
    "R_q_1 = Symmetric.([sum(U1r[:,i] .* log_q_data[:,j,k]) for i=1:r1, j=1:D2, k=1:D3])\n",
    "R_q_12 = Symmetric.([sum(U2r[:,j] .* R_q_1[i,:,k]) for i=1:r1, j=1:r2, k=1:D3])\n",
    "R_q = Symmetric.([sum(U3r[:,k] .* R_q_12[i,j,:]) for i=1:r1, j=1:r2, k=1:r3]);\n"
   ]
  },
  {
   "cell_type": "code",
   "execution_count": 61,
   "metadata": {},
   "outputs": [],
   "source": [
    "log_q_data_rrr = Symmetric.([sum(U1r[i,:] .* R_q[:,j,k]) for i=1:D1, j=1:r2, k=1:r3])\n",
    "log_q_data_rr = Symmetric.([sum(U2r[j,:] .* log_q_data_rrr[i,:,k]) for i=1:D1, j=1:D2, k=1:r3])\n",
    "log_q_data_r = Symmetric.([sum(U3r[k,:] .* log_q_data_rr[i,j,:]) for i=1:D1, j=1:D2, k=1:D3]);"
   ]
  },
  {
   "cell_type": "code",
   "execution_count": 62,
   "metadata": {},
   "outputs": [
    {
     "data": {
      "text/plain": [
       "3×3 Symmetric{Float64, Matrix{Float64}}:\n",
       " -0.016155     0.00362718  -0.00202822\n",
       "  0.00362718  -0.0178575   -0.00397492\n",
       " -0.00202822  -0.00397492  -0.0287388"
      ]
     },
     "metadata": {},
     "output_type": "display_data"
    }
   ],
   "source": [
    "log_q_data_r[1,1,1]"
   ]
  },
  {
   "cell_type": "code",
   "execution_count": 63,
   "metadata": {},
   "outputs": [
    {
     "data": {
      "text/plain": [
       "0.8540885626205013"
      ]
     },
     "metadata": {},
     "output_type": "display_data"
    }
   ],
   "source": [
    "# relative error\n",
    "sqrt(sum(norm.(Ref(M), Ref(q), log_q_data_r - log_q_data) .^ 2))/ sqrt(sum(norm.(Ref(M), Ref(q), log_q_data) .^ 2))"
   ]
  },
  {
   "cell_type": "code",
   "execution_count": 67,
   "metadata": {},
   "outputs": [
    {
     "name": "stdout",
     "output_type": "stream",
     "text": [
      "[0.8003595064433119 -0.0040658567064974695 9.599457682010412e-5; -0.0040658567064974695 0.8198837594860204 -0.08422259910721691; 9.599457682010412e-5 -0.08422259910721691 0.8512047555091191]\n",
      "[0.4202338477199419 -0.08564433190416665 0.0937187827343422; -0.08564433190416665 0.7998522955077192 -0.2412395283535318; 0.0937187827343422 -0.2412395283535318 1.1267979882489954]\n"
     ]
    }
   ],
   "source": [
    "data_r = Symmetric.(exp.(Ref(M), Ref(q), Symmetric.(log_q_data_r)))\n",
    "check_point.(Ref(M), data_r)\n",
    "# manifold_error = sqrt(sum(distance.(Ref(M), data_r, data) .^2))\n",
    "println(data_r[10,10,19])\n",
    "println(data[10,10,19])"
   ]
  },
  {
   "cell_type": "markdown",
   "metadata": {},
   "source": [
    "Next, let's see what happens if we choose the reweighted metric"
   ]
  }
 ],
 "metadata": {
  "kernelspec": {
   "display_name": "Julia 1.7.2",
   "language": "julia",
   "name": "julia-1.7"
  },
  "language_info": {
   "file_extension": ".jl",
   "mimetype": "application/julia",
   "name": "julia",
   "version": "1.7.2"
  },
  "orig_nbformat": 4,
  "vscode": {
   "interpreter": {
    "hash": "31f2aee4e71d21fbe5cf8b01ff0e069b9275f58929596ceb00d14d90e3e16cd6"
   }
  }
 },
 "nbformat": 4,
 "nbformat_minor": 2
}
