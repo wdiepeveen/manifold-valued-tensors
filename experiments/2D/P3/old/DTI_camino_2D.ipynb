{
 "cells": [
  {
   "cell_type": "markdown",
   "metadata": {},
   "source": [
    "# Low-rank approximation on $\\mathcal{P}(d)$ - the space of $d$-dimensional SPD matrices"
   ]
  },
  {
   "cell_type": "markdown",
   "metadata": {},
   "source": [
    "In this notebook we want to get some intuition in different approaches for computing low-rank approximations for manifold-valued signals"
   ]
  },
  {
   "cell_type": "code",
   "execution_count": 6,
   "metadata": {},
   "outputs": [],
   "source": [
    "using Manifolds\n",
    "using Manopt\n",
    "using LinearAlgebra\n",
    "using NIfTI\n",
    "using Plots"
   ]
  },
  {
   "cell_type": "code",
   "execution_count": 7,
   "metadata": {},
   "outputs": [
    {
     "data": {
      "text/plain": [
       "curvature_reweighed_HOSVD (generic function with 1 method)"
      ]
     },
     "execution_count": 7,
     "metadata": {},
     "output_type": "execute_result"
    }
   ],
   "source": [
    "include(\"../../../src/decompositions/naive_HOSVD.jl\")\n",
    "include(\"../../../src/decompositions/curvature_reweighed_HOSVD.jl\")"
   ]
  },
  {
   "attachments": {},
   "cell_type": "markdown",
   "metadata": {},
   "source": [
    "### Load data and construct manifold ###"
   ]
  },
  {
   "cell_type": "code",
   "execution_count": 8,
   "metadata": {},
   "outputs": [
    {
     "data": {
      "text/plain": [
       "(112, 112, 50, 1, 6)"
      ]
     },
     "execution_count": 8,
     "metadata": {},
     "output_type": "execute_result"
    }
   ],
   "source": [
    "# load data\n",
    "# ni = niread(\"data/nifti_dt.nii.gz\") * 1e9;\n",
    "ni = niread(\"../../../data/nifti_dt_nonlinear.nii.gz\") * 1e9;\n",
    "size(ni)"
   ]
  },
  {
   "cell_type": "code",
   "execution_count": 9,
   "metadata": {},
   "outputs": [
    {
     "data": {
      "text/plain": [
       "6"
      ]
     },
     "execution_count": 9,
     "metadata": {},
     "output_type": "execute_result"
    }
   ],
   "source": [
    " d1, d2, d3, _, d = size(ni)\n",
    "\n",
    "# construct data as points on the manifold (and add 1e-5 * I for numerical stability)\n",
    "predata = [ # data ordered as [xx, yx, yy, zx, zy, zz]\n",
    "    [\n",
    "    [ni[i,j,k,1,1] + 1e-5;; ni[i,j,k,1,2];; ni[i,j,k,1,4]]; \n",
    "    [ni[i,j,k,1,2];; ni[i,j,k,1,3] + 1e-5;; ni[i,j,k,1,5]]; \n",
    "    [ni[i,j,k,1,4];; ni[i,j,k,1,5];; ni[i,j,k,1,6] + 1e-5]\n",
    "    ] for i=1:d1, j=1:d2, k=1:d3];\n",
    "    \n",
    "# pick a 2D slice \n",
    "data = predata[34:81,32:79,15];\n",
    "\n",
    "# construct data manifold\n",
    "n = size(data)\n",
    "M = SymmetricPositiveDefinite(3)\n",
    "d = manifold_dimension(M) # -> different than in 1D"
   ]
  },
  {
   "cell_type": "code",
   "execution_count": 10,
   "metadata": {},
   "outputs": [],
   "source": [
    "# Export slice image\n",
    "asymptote_export_SPD(\"results/Camino2D_orig.asy\", data=data);"
   ]
  },
  {
   "attachments": {},
   "cell_type": "markdown",
   "metadata": {},
   "source": [
    "### Construct low rank approximation ###"
   ]
  },
  {
   "cell_type": "code",
   "execution_count": 6,
   "metadata": {},
   "outputs": [],
   "source": [
    "unrolled_data = []\n",
    "for mat in data\n",
    "    push!(unrolled_data,mat)\n",
    "end\n",
    "q = mean(M, unrolled_data)\n",
    "# q = 1. * Matrix(I, 3, 3) # TODO compute mean here\n",
    "log_q_data = log.(Ref(M), Ref(q), data);  # ∈ T_q P(3)^n"
   ]
  },
  {
   "cell_type": "code",
   "execution_count": 7,
   "metadata": {},
   "outputs": [
    {
     "ename": "LoadError",
     "evalue": "InterruptException:",
     "output_type": "error",
     "traceback": [
      "InterruptException:",
      "",
      "Stacktrace:",
      "  [1] Array",
      "    @ ./boot.jl:459 [inlined]",
      "  [2] Array",
      "    @ ./boot.jl:467 [inlined]",
      "  [3] similar",
      "    @ ./array.jl:378 [inlined]",
      "  [4] similar",
      "    @ /Applications/Julia-1.7.app/Contents/Resources/julia/share/julia/stdlib/v1.7/LinearAlgebra/src/symmetric.jl:254 [inlined]",
      "  [5] *",
      "    @ /Applications/Julia-1.7.app/Contents/Resources/julia/share/julia/stdlib/v1.7/LinearAlgebra/src/matmul.jl:153 [inlined]",
      "  [6] mat_mat_scalar",
      "    @ /Applications/Julia-1.7.app/Contents/Resources/julia/share/julia/stdlib/v1.7/LinearAlgebra/src/matmul.jl:1148 [inlined]",
      "  [7] _tri_matmul(A::Symmetric{Float64, Matrix{Float64}}, B::Matrix{Float64}, C::Symmetric{Float64, Matrix{Float64}}, δ::Float64)",
      "    @ LinearAlgebra /Applications/Julia-1.7.app/Contents/Resources/julia/share/julia/stdlib/v1.7/LinearAlgebra/src/matmul.jl:1132",
      "  [8] *",
      "    @ /Applications/Julia-1.7.app/Contents/Resources/julia/share/julia/stdlib/v1.7/LinearAlgebra/src/matmul.jl:1187 [inlined]",
      "  [9] (::Manifolds.var\"#535#540\"{Int64, Matrix{Float64}, Symmetric{Float64, Matrix{Float64}}})(j::Int64)",
      "    @ Manifolds ./none:0",
      " [10] iterate",
      "    @ ./generator.jl:47 [inlined]",
      " [11] iterate",
      "    @ ./iterators.jl:1120 [inlined]",
      " [12] iterate",
      "    @ ./iterators.jl:1114 [inlined]",
      " [13] grow_to!(dest::Vector{Matrix{Float64}}, itr::Base.Iterators.Flatten{Base.Generator{UnitRange{Int64}, Manifolds.var\"#536#539\"{3, Matrix{Float64}, Symmetric{Float64, Matrix{Float64}}}}})",
      "    @ Base ./array.jl:797",
      " [14] _collect",
      "    @ ./array.jl:701 [inlined]",
      " [15] collect",
      "    @ ./array.jl:649 [inlined]",
      " [16] get_basis_diagonalizing(#unused#::SymmetricPositiveDefinite{3}, p::Matrix{Float64}, B::DiagonalizingOrthonormalBasis{ℝ, Matrix{Float64}})",
      "    @ Manifolds ~/.julia/packages/Manifolds/1oKAJ/src/manifolds/SymmetricPositiveDefiniteLinearAffine.jl:164",
      " [17] _get_basis",
      "    @ ~/.julia/packages/ManifoldsBase/b4Ovn/src/bases.jl:476 [inlined]",
      " [18] #get_basis#1",
      "    @ ~/.julia/packages/ManifoldsBase/b4Ovn/src/bases.jl:415 [inlined]",
      " [19] get_basis",
      "    @ ~/.julia/packages/ManifoldsBase/b4Ovn/src/bases.jl:415 [inlined]",
      " [20] get_basis",
      "    @ ~/.julia/packages/ManifoldsBase/b4Ovn/src/nested_trait.jl:308 [inlined]",
      " [21] get_basis (repeats 3 times)",
      "    @ ~/.julia/packages/ManifoldsBase/b4Ovn/src/nested_trait.jl:282 [inlined]",
      " [22] get_basis",
      "    @ ~/.julia/packages/ManifoldsBase/b4Ovn/src/nested_trait.jl:275 [inlined]",
      " [23] curvature_reweighed_inner(M::PowerManifold{ℝ, SymmetricPositiveDefinite{3}, Tuple{48}, NestedPowerRepresentation}, q::Vector{Matrix{Float64}}, X::Vector{Vector{Matrix{Float64}}}, V₁::Vector{Matrix{Float64}}, V₂::Vector{Matrix{Float64}})",
      "    @ Main ~/Documents/PhD/Projects/8 - Manifold-valued tensor decomposition/src/manifold-valued-tensors/src/utils/curvature_reweighed_inner.jl:41",
      " [24] #39",
      "    @ ./array.jl:0 [inlined]",
      " [25] iterate",
      "    @ ./generator.jl:47 [inlined]",
      " [26] collect_to!(dest::Matrix{Float64}, itr::Base.Generator{Base.Iterators.ProductIterator{Tuple{UnitRange{Int64}, UnitRange{Int64}}}, var\"#39#41\"{PowerManifold{ℝ, SymmetricPositiveDefinite{3}, Tuple{48}, NestedPowerRepresentation}, Vector{Matrix{Float64}}, Vector{Vector{Matrix{Float64}}}, Vector{Vector{Matrix{Float64}}}}}, offs::Int64, st::Tuple{Tuple{Int64, Int64}, Tuple{Int64, Int64}})",
      "    @ Base ./array.jl:782",
      " [27] collect_to_with_first!",
      "    @ ./array.jl:760 [inlined]",
      " [28] collect(itr::Base.Generator{Base.Iterators.ProductIterator{Tuple{UnitRange{Int64}, UnitRange{Int64}}}, var\"#39#41\"{PowerManifold{ℝ, SymmetricPositiveDefinite{3}, Tuple{48}, NestedPowerRepresentation}, Vector{Matrix{Float64}}, Vector{Vector{Matrix{Float64}}}, Vector{Vector{Matrix{Float64}}}}})",
      "    @ Base ./array.jl:734",
      " [29] curvature_reweighed_SVD(M::PowerManifold{ℝ, SymmetricPositiveDefinite{3}, Tuple{48}, NestedPowerRepresentation}, q::Vector{Matrix{Float64}}, X::Vector{Vector{Matrix{Float64}}})",
      "    @ Main ~/Documents/PhD/Projects/8 - Manifold-valued tensor decomposition/src/manifold-valued-tensors/src/decompositions/curvature_reweighed_SVD.jl:14",
      " [30] curvature_reweighed_HOSVD(M::SymmetricPositiveDefinite{3}, q::Matrix{Float64}, X::Matrix{Matrix{Float64}})",
      "    @ Main ~/Documents/PhD/Projects/8 - Manifold-valued tensor decomposition/src/manifold-valued-tensors/src/decompositions/curvature_reweighed_HOSVD.jl:35",
      " [31] eval",
      "    @ ./boot.jl:373 [inlined]",
      " [32] include_string(mapexpr::typeof(REPL.softscope), mod::Module, code::String, filename::String)",
      "    @ Base ./loading.jl:1196"
     ]
    }
   ],
   "source": [
    "N_R_q, N_U = naive_HOSVD(M,q, data); \n",
    "CR_R_q, CR_U = curvature_reweighed_HOSVD(M,q, data);"
   ]
  },
  {
   "cell_type": "code",
   "execution_count": null,
   "metadata": {},
   "outputs": [],
   "source": [
    "ref_distance = sqrt(sum(distance.(Ref(M), Ref(q), data).^2))\n",
    "max_rank = min((size.(N_U)...)...)\n",
    "\n",
    "N_tangent_distances_r = zeros(max_rank)\n",
    "N_distances_r = zeros(max_rank)\n",
    "CR_tangent_distances_r = zeros(max_rank)\n",
    "CR_distances_r = zeros(max_rank)\n",
    "\n",
    "for rank in 1:max_rank\n",
    "    N_log_q_data_r = Symmetric.([sum([N_R_q[i,j] * N_U[1][k,i] * N_U[2][l,j] for i=max_rank-rank+1:max_rank, j=max_rank-rank+1:max_rank]) for k=1:n[1], l=1:n[2]])\n",
    "    CR_log_q_data_r = Symmetric.([sum([CR_R_q[i,j] * CR_U[1][k,i] * CR_U[2][l,j] for i=max_rank-rank+1:max_rank, j=max_rank-rank+1:max_rank]) for k=1:n[1], l=1:n[2]])\n",
    "    # expoentiate back\n",
    "    N_data_r = exp.(Ref(M), Ref(q), N_log_q_data_r)\n",
    "    CR_data_r = exp.(Ref(M), Ref(q), CR_log_q_data_r)\n",
    "\n",
    "\n",
    "    # compute relative tangent space error\n",
    "    N_tangent_distances_r[rank] = sqrt(sum(norm.(Ref(M), Ref(q),  log_q_data - N_log_q_data_r).^2)) / ref_distance\n",
    "    CR_tangent_distances_r[rank] = sqrt(sum(norm.(Ref(M), Ref(q),  log_q_data - CR_log_q_data_r).^2)) / ref_distance\n",
    "\n",
    "\n",
    "    # compute relative manifold error\n",
    "    N_distances_r[rank] = sqrt(sum(distance.(Ref(M), data, N_data_r).^2)) / ref_distance\n",
    "    CR_distances_r[rank] = sqrt(sum(distance.(Ref(M), data, CR_data_r).^2)) / ref_distance\n",
    "end"
   ]
  },
  {
   "cell_type": "code",
   "execution_count": null,
   "metadata": {},
   "outputs": [
    {
     "data": {
      "text/plain": [
       "\"/Users/wdiepeveen/Documents/PhD/Projects/8 - Manifold-valued tensor decomposition/src/manifold-valued-tensors/experiments/2D/P3/results/DTI_camino_2D_tangent_rank.png\""
      ]
     },
     "execution_count": 17,
     "metadata": {},
     "output_type": "execute_result"
    }
   ],
   "source": [
    "plot(1:max_rank, [N_tangent_distances_r, CR_tangent_distances_r], label = [\"standard inner product\" \"reweighted inner product\"], ylims=(0,1), xlims=(1,max_rank))\n",
    "savefig(\"results/Camino2D_tangent_rank.png\")"
   ]
  },
  {
   "cell_type": "code",
   "execution_count": null,
   "metadata": {},
   "outputs": [],
   "source": [
    "plot(1:max_rank, [N_distances_r, CR_distances_r], label = [\"standard inner product\" \"reweighted inner product\"], ylims=(0,1), xlims=(1,max_rank))\n",
    "savefig(\"results/Camino2D_rank.png\")"
   ]
  }
 ],
 "metadata": {
  "kernelspec": {
   "display_name": "Julia 1.7.2",
   "language": "julia",
   "name": "julia-1.7"
  },
  "language_info": {
   "file_extension": ".jl",
   "mimetype": "application/julia",
   "name": "julia",
   "version": "1.7.2"
  },
  "orig_nbformat": 4,
  "vscode": {
   "interpreter": {
    "hash": "31f2aee4e71d21fbe5cf8b01ff0e069b9275f58929596ceb00d14d90e3e16cd6"
   }
  }
 },
 "nbformat": 4,
 "nbformat_minor": 2
}
