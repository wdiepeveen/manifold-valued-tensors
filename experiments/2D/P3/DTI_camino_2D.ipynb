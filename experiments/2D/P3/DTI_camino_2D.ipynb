{
 "cells": [
  {
   "cell_type": "markdown",
   "metadata": {},
   "source": [
    "# Low-rank approximation on $\\mathcal{P}(d)$ - the space of $d$-dimensional SPD matrices"
   ]
  },
  {
   "cell_type": "markdown",
   "metadata": {},
   "source": [
    "In this notebook we want to get some intuition in different approaches for computing low-rank approximations for manifold-valued signals"
   ]
  },
  {
   "cell_type": "code",
   "execution_count": 1,
   "metadata": {},
   "outputs": [],
   "source": [
    "using Manifolds\n",
    "using Manopt\n",
    "using LinearAlgebra\n",
    "using NIfTI\n",
    "using Plots\n",
    "using LaTeXStrings\n",
    "using JLD"
   ]
  },
  {
   "cell_type": "code",
   "execution_count": 14,
   "metadata": {},
   "outputs": [
    {
     "data": {
      "text/plain": [
       "curvature_corrected_stepsize (generic function with 2 methods)"
      ]
     },
     "execution_count": 14,
     "metadata": {},
     "output_type": "execute_result"
    }
   ],
   "source": [
    "include(\"../../../src/decompositions/tensors/naive_low_multilinear_rank_approximation.jl\")\n",
    "include(\"../../../src/decompositions/tensors/curvature_corrected_low_multilinear_rank_approximation.jl\")\n",
    "\n",
    "include(\"../../../src/functions/loss_functions/curvature_corrected_loss.jl\")\n",
    "include(\"../../../src/functions/loss_functions/exact_loss.jl\")\n",
    "include(\"../../../src/utils/curvature_corrected_step_size.jl\")"
   ]
  },
  {
   "attachments": {},
   "cell_type": "markdown",
   "metadata": {},
   "source": [
    "### Load data and construct manifold ###"
   ]
  },
  {
   "cell_type": "code",
   "execution_count": 3,
   "metadata": {},
   "outputs": [
    {
     "data": {
      "text/plain": [
       "(112, 112, 50, 1, 6)"
      ]
     },
     "execution_count": 3,
     "metadata": {},
     "output_type": "execute_result"
    }
   ],
   "source": [
    "# load data\n",
    "# ni = niread(\"data/nifti_dt.nii.gz\") * 1e9;\n",
    "ni = niread(\"../../../data/nifti_dt_nonlinear.nii.gz\") * 1e9;\n",
    "size(ni)"
   ]
  },
  {
   "cell_type": "code",
   "execution_count": 4,
   "metadata": {},
   "outputs": [
    {
     "data": {
      "text/plain": [
       "6"
      ]
     },
     "execution_count": 4,
     "metadata": {},
     "output_type": "execute_result"
    }
   ],
   "source": [
    " d1, d2, d3, _, d = size(ni)\n",
    "\n",
    "# construct data as points on the manifold (and add 1e-5 * I for numerical stability)\n",
    "predata = [ # data ordered as [xx, yx, yy, zx, zy, zz]\n",
    "    [\n",
    "    [ni[i,j,k,1,1] + 1e-5;; ni[i,j,k,1,2];; ni[i,j,k,1,4]]; \n",
    "    [ni[i,j,k,1,2];; ni[i,j,k,1,3] + 1e-5;; ni[i,j,k,1,5]]; \n",
    "    [ni[i,j,k,1,4];; ni[i,j,k,1,5];; ni[i,j,k,1,6] + 1e-5]\n",
    "    ] for i=1:d1, j=1:d2, k=1:d3];\n",
    "    \n",
    "# pick a 2D slice \n",
    "data = predata[38:77,36:75,15];\n",
    "# data = data[1:40,1:40]\n",
    "\n",
    "# construct data manifold\n",
    "n = size(data)\n",
    "M = SymmetricPositiveDefinite(3)\n",
    "d = manifold_dimension(M) # -> different than in 1D"
   ]
  },
  {
   "cell_type": "code",
   "execution_count": 5,
   "metadata": {},
   "outputs": [],
   "source": [
    "# Export slice image\n",
    "asymptote_export_SPD(\"results/Camino2D_orig.asy\", data=data);"
   ]
  },
  {
   "attachments": {},
   "cell_type": "markdown",
   "metadata": {},
   "source": [
    "### Construct low rank approximation ###"
   ]
  },
  {
   "cell_type": "code",
   "execution_count": 6,
   "metadata": {},
   "outputs": [],
   "source": [
    "unrolled_data = []\n",
    "for mat in data\n",
    "    push!(unrolled_data,mat)\n",
    "end\n",
    "q = mean(M, unrolled_data)\n",
    "log_q_data = log.(Ref(M), Ref(q), data);  # ∈ T_q P(3)^n"
   ]
  },
  {
   "cell_type": "code",
   "execution_count": 53,
   "metadata": {},
   "outputs": [],
   "source": [
    "# Time loss evaluation\n",
    "# curvature_corrected_loss(M, q, data, curvature_corrected_log_q_data_r)\n",
    "# Time gradient evaluation"
   ]
  },
  {
   "cell_type": "code",
   "execution_count": 7,
   "metadata": {},
   "outputs": [
    {
     "name": "stdout",
     "output_type": "stream",
     "text": [
      "0.003389115308303295\n"
     ]
    }
   ],
   "source": [
    "R_q, U  = naive_low_multilinear_rank_approximation(M, q, data, [1,1])\n",
    "\n",
    "step_size = curvature_corrected_stepsize(M, q, data, Tuple(U))\n",
    "println(step_size)"
   ]
  },
  {
   "cell_type": "code",
   "execution_count": 8,
   "metadata": {},
   "outputs": [
    {
     "name": "stdout",
     "output_type": "stream",
     "text": [
      "0.003389115308303295\n",
      "Initial  F(x): 1.48428053930 | \n",
      "# 1     change: 1.910364194 |  F(x): 1.31445108513 | \n",
      "# 2     change: 1.420834315 |  F(x): 1.21432902341 | \n",
      "# 3     change: 1.155823375 |  F(x): 1.14750428054 | \n",
      "# 4     change: 0.957476120 |  F(x): 1.10130208357 | \n",
      "# 5     change: 0.806045865 |  F(x): 1.06833340838 | \n",
      "# 6     change: 0.688534627 |  F(x): 1.04412666351 | \n",
      "# 7     change: 0.595931265 |  F(x): 1.02589103899 | \n",
      "# 8     change: 0.521894751 |  F(x): 1.01183408874 | \n",
      "# 9     change: 0.461885827 |  F(x): 1.00077410738 | \n",
      "# 10    change: 0.412598487 |  F(x): 0.99191335552 | \n",
      "# 11    change: 0.371587914 |  F(x): 0.98470149774 | \n",
      "# 12    change: 0.337024226 |  F(x): 0.97875111923 | \n",
      "# 13    change: 0.307525829 |  F(x): 0.97378418256 | \n",
      "# 14    change: 0.282043365 |  F(x): 0.96959737104 | \n",
      "# 15    change: 0.259776469 |  F(x): 0.96603924662 | \n",
      "# 16    change: 0.240112566 |  F(x): 0.96299495655 | \n",
      "# 17    change: 0.222581100 |  F(x): 0.96037585106 | \n",
      "# 18    change: 0.206818968 |  F(x): 0.95811234450 | \n",
      "# 19    change: 0.192544331 |  F(x): 0.95614894602 | \n",
      "# 20    change: 0.179536782 |  F(x): 0.95444075767 | \n",
      "The algorithm reached its maximal number of iterations (20).\n"
     ]
    }
   ],
   "source": [
    "# TODO find a good step size...\n",
    "_, __ = curvature_corrected_low_multilinear_rank_approximation(M, q, data, [1,1]; max_iter=20, change_tol=1e-4); "
   ]
  },
  {
   "cell_type": "code",
   "execution_count": 9,
   "metadata": {},
   "outputs": [
    {
     "name": "stdout",
     "output_type": "stream",
     "text": [
      "0.00046437898778844\n",
      "Initial  F(x): 2.95612281412 | \n",
      "# 1     change: 1.266515237 |  F(x): 2.39905047296 | \n",
      "# 2     change: 0.950700203 |  F(x): 2.07483688409 | \n",
      "# 3     change: 0.765592139 |  F(x): 1.85928822555 | \n",
      "# 4     change: 0.648259839 |  F(x): 1.70218577379 | \n",
      "# 5     change: 0.566651257 |  F(x): 1.58091652204 | \n",
      "# 6     change: 0.505069269 |  F(x): 1.48395010097 | \n",
      "# 7     change: 0.455779717 |  F(x): 1.40464234510 | \n",
      "# 8     change: 0.414785199 |  F(x): 1.33875001411 | \n",
      "# 9     change: 0.379857575 |  F(x): 1.28334724837 | \n",
      "# 10    change: 0.349642395 |  F(x): 1.23630606189 | \n",
      "# 11    change: 0.323244327 |  F(x): 1.19602167923 | \n",
      "# 12    change: 0.300027115 |  F(x): 1.16125349581 | \n",
      "# 13    change: 0.279511599 |  F(x): 1.13102555324 | \n",
      "# 14    change: 0.261320510 |  F(x): 1.10456025535 | \n",
      "# 15    change: 0.245146764 |  F(x): 1.08123204804 | \n",
      "# 16    change: 0.230734204 |  F(x): 1.06053384961 | \n",
      "# 17    change: 0.217865301 |  F(x): 1.04205204485 | \n",
      "# 18    change: 0.206352923 |  F(x): 1.02544746747 | \n",
      "# 19    change: 0.196034602 |  F(x): 1.01044070523 | \n",
      "# 20    change: 0.186768379 |  F(x): 0.99680060445 | \n",
      "# 21    change: 0.178429688 |  F(x): 0.98433518930 | \n",
      "# 22    change: 0.170908934 |  F(x): 0.97288443214 | \n",
      "# 23    change: 0.164109562 |  F(x): 0.96231446049 | \n",
      "# 24    change: 0.157946462 |  F(x): 0.95251288999 | \n",
      "# 25    change: 0.152344627 |  F(x): 0.94338504735 | \n",
      "The algorithm reached its maximal number of iterations (25).\n"
     ]
    }
   ],
   "source": [
    "max_iter = 25\n",
    "rank = 10\n",
    "\n",
    "nRr_q, nUr = naive_low_multilinear_rank_approximation(M, q, data, [rank,rank]); \n",
    "ccRr_q, ccUr = curvature_corrected_low_multilinear_rank_approximation(M, q, data, [rank,rank]; max_iter=max_iter, change_tol=1e-4); \n",
    "\n",
    "save(\"results/Camino2D/jld/RqU-size$(n[1])x$(n[2])-iters$(max_iter)-rank$(rank).jld\", \"nRr_q\", nRr_q, \"nUr\", nUr, \"ccRr_q\", ccRr_q, \"ccUr\", ccUr)"
   ]
  },
  {
   "cell_type": "code",
   "execution_count": 10,
   "metadata": {},
   "outputs": [],
   "source": [
    "# retrieve results\n",
    "rank_range = [1, 2, 5]\n",
    "# rank_range = [1, 5, 10, 15, 20]\n",
    "\n",
    "nR_q = []\n",
    "nU = []\n",
    "ccR_q = []\n",
    "ccU = []\n",
    "for rank in rank_range\n",
    "    dic = load(\"results/Camino2D/jld/RqU-size$(n[1])x$(n[2])-iters$(max_iter)-rank$(rank).jld\")\n",
    "\n",
    "    push!(nR_q, dic[\"nRr_q\"])\n",
    "    push!(nU, dic[\"nUr\"])\n",
    "    push!(ccR_q, dic[\"ccRr_q\"])\n",
    "    push!(ccU, dic[\"ccUr\"])\n",
    "end"
   ]
  },
  {
   "cell_type": "code",
   "execution_count": 11,
   "metadata": {},
   "outputs": [],
   "source": [
    "num_ranks = length(rank_range)\n",
    "ref_distance = sum(distance.(Ref(M), Ref(q), data).^2)\n",
    "\n",
    "naive_tangent_distances_r = zeros(num_ranks)\n",
    "predicted_naive_distances_r= zeros(num_ranks)\n",
    "true_naive_distances_r= zeros(num_ranks)\n",
    "\n",
    "curvature_corrected_tangent_distances_r = zeros(num_ranks)\n",
    "predicted_curvature_corrected_distances_r = zeros(num_ranks)\n",
    "true_curvature_corrected_distances_r = zeros(num_ranks)\n",
    "\n",
    "for (idx,rank) in enumerate(rank_range)\n",
    "    naive_log_q_data_r = Symmetric.([sum([nR_q[idx][i,j] * nU[idx][1][k,i] * nU[idx][2][l,j] for i in 1:rank, j in 1:rank]) for k=1:n[1], l=1:n[2]])\n",
    "    curvature_corrected_log_q_data_r = Symmetric.([sum([ccR_q[idx][i,j] * ccU[idx][1][k,i] * ccU[idx][2][l,j] for i in 1:rank, j in 1:rank]) for k=1:n[1], l=1:n[2]])\n",
    "    # expoentiate back\n",
    "    naive_data_r = exp.(Ref(M), Ref(q), naive_log_q_data_r)\n",
    "    curvature_corrected_data_r = exp.(Ref(M), Ref(q), curvature_corrected_log_q_data_r)\n",
    "\n",
    "    # compute relative tangent space error\n",
    "    naive_tangent_distances_r[idx] = sum(norm.(Ref(M), Ref(q),  log_q_data - naive_log_q_data_r).^2) / ref_distance\n",
    "    curvature_corrected_tangent_distances_r[idx] = sum(norm.(Ref(M), Ref(q),  log_q_data - curvature_corrected_log_q_data_r).^2) / ref_distance\n",
    "\n",
    "    # compute relative manifold error\n",
    "    predicted_naive_distances_r[idx] = curvature_corrected_loss(M, q, data, naive_log_q_data_r)\n",
    "    true_naive_distances_r[idx] = exact_loss(M, q, data, naive_log_q_data_r)\n",
    "    predicted_curvature_corrected_distances_r[idx] = curvature_corrected_loss(M, q, data, curvature_corrected_log_q_data_r)\n",
    "    true_curvature_corrected_distances_r[idx] = exact_loss(M, q, data, curvature_corrected_log_q_data_r)\n",
    "end"
   ]
  },
  {
   "cell_type": "code",
   "execution_count": 12,
   "metadata": {},
   "outputs": [
    {
     "data": {
      "text/plain": [
       "\"/Users/wdiepeveen/Documents/PhD/Projects/8 - Manifold-valued tensor decomposition/src/manifold-valued-tensors/experiments/2D/P3/results/Camino2D_logerrors_by_rank.png\""
      ]
     },
     "execution_count": 12,
     "metadata": {},
     "output_type": "execute_result"
    }
   ],
   "source": [
    "plot(rank_range, [naive_tangent_distances_r, true_naive_distances_r, true_curvature_corrected_distances_r], label = [\"theoretical lower bound\" \"naive\" \"curvature corrected\"], ylims=(0,1), xlims=(1,max(rank_range...)),xaxis=(\"approximation rank\"), yaxis=(L\"$\\varepsilon_{rel}$\"))\n",
    "savefig(\"results/Camino2D_errors_by_rank.png\")\n",
    "plot(rank_range, [naive_tangent_distances_r .+ 1e-16, true_naive_distances_r .+ 1e-16, true_curvature_corrected_distances_r .+ 1e-16], label = [\"theoretical lower bound\" \"naive\" \"curvature corrected\"], ylims=(1e-16,1), xlims=(1,max(rank_range...)), xaxis=(\"approximation rank\"), yaxis=(L\"$\\varepsilon_{rel}$\", :log), legend=:bottomleft)\n",
    "savefig(\"results/Camino2D_logerrors_by_rank.png\")"
   ]
  },
  {
   "cell_type": "code",
   "execution_count": 13,
   "metadata": {},
   "outputs": [
    {
     "data": {
      "text/plain": [
       "\"/Users/wdiepeveen/Documents/PhD/Projects/8 - Manifold-valued tensor decomposition/src/manifold-valued-tensors/experiments/2D/P3/results/Camino2D_logdiscrepancy_by_rank.png\""
      ]
     },
     "execution_count": 13,
     "metadata": {},
     "output_type": "execute_result"
    }
   ],
   "source": [
    "# It would be nice to also have a plot that tells us something about the error in predicting the manifold loss (using CCL) and the actual loss \n",
    "# (1) for the naive approach (2) for the curvature corrected approach\n",
    "plot(rank_range, [predicted_naive_distances_r ./ true_naive_distances_r, predicted_curvature_corrected_distances_r ./ true_curvature_corrected_distances_r], label = [\"discrepancy in initialisation\" \"discrepancy in solutions\"], xlims=(1,max(rank_range...)),xaxis=(\"approximation rank\"), yaxis=(L\"$\\delta_{rel}$\"))\n",
    "savefig(\"results/Camino2D_discrepancy_by_rank.png\")\n",
    "plot(rank_range, [predicted_naive_distances_r ./ true_naive_distances_r, predicted_curvature_corrected_distances_r ./ true_curvature_corrected_distances_r], label = [\"discrepancy in initialisation\" \"discrepancy in solutions\"], xlims=(1,max(rank_range...)), xaxis=(\"approximation rank\"), yaxis=(L\"$\\delta_{rel}$\", :log), legend=:bottomleft)\n",
    "savefig(\"results/Camino2D_logdiscrepancy_by_rank.png\")"
   ]
  }
 ],
 "metadata": {
  "kernelspec": {
   "display_name": "Julia 1.7.2",
   "language": "julia",
   "name": "julia-1.7"
  },
  "language_info": {
   "file_extension": ".jl",
   "mimetype": "application/julia",
   "name": "julia",
   "version": "1.7.2"
  },
  "orig_nbformat": 4,
  "vscode": {
   "interpreter": {
    "hash": "31f2aee4e71d21fbe5cf8b01ff0e069b9275f58929596ceb00d14d90e3e16cd6"
   }
  }
 },
 "nbformat": 4,
 "nbformat_minor": 2
}
