{
 "cells": [
  {
   "cell_type": "markdown",
   "metadata": {},
   "source": [
    "# Low-rank approximation on $\\mathcal{P}(d)$ - the space of $d$-dimensional SPD matrices"
   ]
  },
  {
   "cell_type": "markdown",
   "metadata": {},
   "source": [
    "In this notebook we want to get some intuition in different approaches for computing low-rank approximations for manifold-valued signals"
   ]
  },
  {
   "cell_type": "code",
   "execution_count": 1,
   "metadata": {},
   "outputs": [],
   "source": [
    "using Manifolds\n",
    "using Manopt\n",
    "using LinearAlgebra\n",
    "using NIfTI\n",
    "using Plots\n",
    "using LaTeXStrings"
   ]
  },
  {
   "cell_type": "code",
   "execution_count": 33,
   "metadata": {},
   "outputs": [
    {
     "data": {
      "text/plain": [
       "exact_loss (generic function with 2 methods)"
      ]
     },
     "execution_count": 33,
     "metadata": {},
     "output_type": "execute_result"
    }
   ],
   "source": [
    "include(\"../../../src/decompositions/tensors/naive_low_multilinear_rank_approximation.jl\")\n",
    "include(\"../../../src/decompositions/tensors/curvature_corrected_low_multilinear_rank_approximation.jl\")\n",
    "\n",
    "include(\"../../../src/functions/loss_functions/curvature_corrected_loss.jl\")\n",
    "include(\"../../../src/functions/loss_functions/exact_loss.jl\")"
   ]
  },
  {
   "attachments": {},
   "cell_type": "markdown",
   "metadata": {},
   "source": [
    "### Load data and construct manifold ###"
   ]
  },
  {
   "cell_type": "code",
   "execution_count": 3,
   "metadata": {},
   "outputs": [
    {
     "data": {
      "text/plain": [
       "(112, 112, 50, 1, 6)"
      ]
     },
     "execution_count": 3,
     "metadata": {},
     "output_type": "execute_result"
    }
   ],
   "source": [
    "# load data\n",
    "# ni = niread(\"data/nifti_dt.nii.gz\") * 1e9;\n",
    "ni = niread(\"../../../data/nifti_dt_nonlinear.nii.gz\") * 1e9;\n",
    "size(ni)"
   ]
  },
  {
   "cell_type": "code",
   "execution_count": 4,
   "metadata": {},
   "outputs": [
    {
     "data": {
      "text/plain": [
       "6"
      ]
     },
     "execution_count": 4,
     "metadata": {},
     "output_type": "execute_result"
    }
   ],
   "source": [
    " d1, d2, d3, _, d = size(ni)\n",
    "\n",
    "# construct data as points on the manifold (and add 1e-5 * I for numerical stability)\n",
    "predata = [ # data ordered as [xx, yx, yy, zx, zy, zz]\n",
    "    [\n",
    "    [ni[i,j,k,1,1] + 1e-5;; ni[i,j,k,1,2];; ni[i,j,k,1,4]]; \n",
    "    [ni[i,j,k,1,2];; ni[i,j,k,1,3] + 1e-5;; ni[i,j,k,1,5]]; \n",
    "    [ni[i,j,k,1,4];; ni[i,j,k,1,5];; ni[i,j,k,1,6] + 1e-5]\n",
    "    ] for i=1:d1, j=1:d2, k=1:d3];\n",
    "    \n",
    "# pick a 2D slice \n",
    "data = predata[34:81,32:79,15];\n",
    "\n",
    "# construct data manifold\n",
    "n = size(data)\n",
    "M = SymmetricPositiveDefinite(3)\n",
    "d = manifold_dimension(M) # -> different than in 1D"
   ]
  },
  {
   "cell_type": "code",
   "execution_count": 10,
   "metadata": {},
   "outputs": [],
   "source": [
    "# Export slice image\n",
    "asymptote_export_SPD(\"results/Camino2D_orig.asy\", data=data);"
   ]
  },
  {
   "attachments": {},
   "cell_type": "markdown",
   "metadata": {},
   "source": [
    "### Construct low rank approximation ###"
   ]
  },
  {
   "cell_type": "code",
   "execution_count": 5,
   "metadata": {},
   "outputs": [],
   "source": [
    "unrolled_data = []\n",
    "for mat in data\n",
    "    push!(unrolled_data,mat)\n",
    "end\n",
    "q = mean(M, unrolled_data)\n",
    "log_q_data = log.(Ref(M), Ref(q), data);  # ∈ T_q P(3)^n"
   ]
  },
  {
   "cell_type": "code",
   "execution_count": 34,
   "metadata": {},
   "outputs": [
    {
     "name": "stdout",
     "output_type": "stream",
     "text": [
      "computing loss | size(Ξ) = (48,)\n",
      "CCLRA | l. 26 | 1.5492513348153232\n"
     ]
    },
    {
     "ename": "LoadError",
     "evalue": "type PowerBasisData has no field vectors",
     "output_type": "error",
     "traceback": [
      "type PowerBasisData has no field vectors",
      "",
      "Stacktrace:",
      "  [1] getproperty",
      "    @ ./Base.jl:42 [inlined]",
      "  [2] gradient_curvature_corrected_loss(M::PowerManifold{ℝ, SymmetricPositiveDefinite{3}, Tuple{48}, NestedPowerRepresentation}, q::Vector{Matrix{Float64}}, X::Vector{Vector{Matrix{Float64}}}, U::Matrix{Float64}, Σ::Vector{Float64}, V::Matrix{Float64})",
      "    @ Main ~/Documents/PhD/Projects/8 - Manifold-valued tensor decomposition/src/manifold-valued-tensors/src/functions/gradients/gradient_curvature_corrected_loss.jl:21",
      "  [3] gradCCL",
      "    @ ~/Documents/PhD/Projects/8 - Manifold-valued tensor decomposition/src/manifold-valued-tensors/src/decompositions/signals/curvature_corrected_low_rank_approximation.jl:24 [inlined]",
      "  [4] get_gradient",
      "    @ ~/.julia/packages/Manopt/G7Amz/src/plans/gradient_plan.jl:55 [inlined]",
      "  [5] initialize_solver!(p::GradientProblem{AllocatingEvaluation, ProductManifold{ℝ, Tuple{Stiefel{48, 5, ℝ}, PowerManifold{ℝ, PositiveNumbers, Tuple{5}, NestedPowerRepresentation}, Stiefel{288, 5, ℝ}}}, var\"#CCL#1054\"{PowerManifold{ℝ, SymmetricPositiveDefinite{3}, Tuple{48}, NestedPowerRepresentation}, Vector{Matrix{Float64}}, Vector{Vector{Matrix{Float64}}}}, var\"#gradCCL#1055\"{PowerManifold{ℝ, SymmetricPositiveDefinite{3}, Tuple{48}, NestedPowerRepresentation}, Vector{Matrix{Float64}}, Vector{Vector{Matrix{Float64}}}}}, o::GradientDescentOptions{ProductRepr{Tuple{Matrix{Float64}, Vector{Float64}, Matrix{Float64}}}, ProductRepr{Tuple{Matrix{Float64}, Vector{Float64}, Matrix{Float64}}}, StopWhenAny{Tuple{StopAfterIteration, StopWhenGradientNormLess, StopWhenChangeLess}}, ConstantStepsize{Float64}, ProductRetraction{Tuple{PolarRetraction, ExponentialRetraction, PolarRetraction}}})",
      "    @ Manopt ~/.julia/packages/Manopt/G7Amz/src/solvers/gradient_descent.jl:99",
      "  [6] initialize_solver!(p::GradientProblem{AllocatingEvaluation, ProductManifold{ℝ, Tuple{Stiefel{48, 5, ℝ}, PowerManifold{ℝ, PositiveNumbers, Tuple{5}, NestedPowerRepresentation}, Stiefel{288, 5, ℝ}}}, var\"#CCL#1054\"{PowerManifold{ℝ, SymmetricPositiveDefinite{3}, Tuple{48}, NestedPowerRepresentation}, Vector{Matrix{Float64}}, Vector{Vector{Matrix{Float64}}}}, var\"#gradCCL#1055\"{PowerManifold{ℝ, SymmetricPositiveDefinite{3}, Tuple{48}, NestedPowerRepresentation}, Vector{Matrix{Float64}}, Vector{Vector{Matrix{Float64}}}}}, o::DebugOptions{GradientDescentOptions{ProductRepr{Tuple{Matrix{Float64}, Vector{Float64}, Matrix{Float64}}}, ProductRepr{Tuple{Matrix{Float64}, Vector{Float64}, Matrix{Float64}}}, StopWhenAny{Tuple{StopAfterIteration, StopWhenGradientNormLess, StopWhenChangeLess}}, ConstantStepsize{Float64}, ProductRetraction{Tuple{PolarRetraction, ExponentialRetraction, PolarRetraction}}}})",
      "    @ Manopt ~/.julia/packages/Manopt/G7Amz/src/solvers/debug_solver.jl:11",
      "  [7] solve(p::GradientProblem{AllocatingEvaluation, ProductManifold{ℝ, Tuple{Stiefel{48, 5, ℝ}, PowerManifold{ℝ, PositiveNumbers, Tuple{5}, NestedPowerRepresentation}, Stiefel{288, 5, ℝ}}}, var\"#CCL#1054\"{PowerManifold{ℝ, SymmetricPositiveDefinite{3}, Tuple{48}, NestedPowerRepresentation}, Vector{Matrix{Float64}}, Vector{Vector{Matrix{Float64}}}}, var\"#gradCCL#1055\"{PowerManifold{ℝ, SymmetricPositiveDefinite{3}, Tuple{48}, NestedPowerRepresentation}, Vector{Matrix{Float64}}, Vector{Vector{Matrix{Float64}}}}}, o::DebugOptions{GradientDescentOptions{ProductRepr{Tuple{Matrix{Float64}, Vector{Float64}, Matrix{Float64}}}, ProductRepr{Tuple{Matrix{Float64}, Vector{Float64}, Matrix{Float64}}}, StopWhenAny{Tuple{StopAfterIteration, StopWhenGradientNormLess, StopWhenChangeLess}}, ConstantStepsize{Float64}, ProductRetraction{Tuple{PolarRetraction, ExponentialRetraction, PolarRetraction}}}})",
      "    @ Manopt ~/.julia/packages/Manopt/G7Amz/src/solvers/solver.jl:85",
      "  [8] #gradient_descent!#345",
      "    @ ~/.julia/packages/Manopt/G7Amz/src/solvers/gradient_descent.jl:88 [inlined]",
      "  [9] gradient_descent(M::ProductManifold{ℝ, Tuple{Stiefel{48, 5, ℝ}, PowerManifold{ℝ, PositiveNumbers, Tuple{5}, NestedPowerRepresentation}, Stiefel{288, 5, ℝ}}}, F::var\"#CCL#1054\"{PowerManifold{ℝ, SymmetricPositiveDefinite{3}, Tuple{48}, NestedPowerRepresentation}, Vector{Matrix{Float64}}, Vector{Vector{Matrix{Float64}}}}, gradF::var\"#gradCCL#1055\"{PowerManifold{ℝ, SymmetricPositiveDefinite{3}, Tuple{48}, NestedPowerRepresentation}, Vector{Matrix{Float64}}, Vector{Vector{Matrix{Float64}}}}, x::ProductRepr{Tuple{Matrix{Float64}, Vector{Float64}, Matrix{Float64}}}; kwargs::Base.Pairs{Symbol, Any, Tuple{Symbol, Symbol, Symbol}, NamedTuple{(:stepsize, :stopping_criterion, :debug), Tuple{ConstantStepsize{Float64}, StopWhenAny{Tuple{StopAfterIteration, StopWhenGradientNormLess, StopWhenChangeLess}}, Vector{Any}}}})",
      "    @ Manopt ~/.julia/packages/Manopt/G7Amz/src/solvers/gradient_descent.jl:42",
      " [10] curvature_corrected_low_rank_approximation(M::PowerManifold{ℝ, SymmetricPositiveDefinite{3}, Tuple{48}, NestedPowerRepresentation}, q::Vector{Matrix{Float64}}, X::Vector{Vector{Matrix{Float64}}}, rank::Int64; stepsize::Float64, max_iter::Int64, change_tol::Float64)",
      "    @ Main ~/Documents/PhD/Projects/8 - Manifold-valued tensor decomposition/src/manifold-valued-tensors/src/decompositions/signals/curvature_corrected_low_rank_approximation.jl:29",
      " [11] curvature_corrected_low_multilinear_rank_approximation(M::SymmetricPositiveDefinite{3}, q::Matrix{Float64}, X::Matrix{Matrix{Float64}}, rank::Int64; stepsize::Float64, max_iter::Int64, change_tol::Float64)",
      "    @ Main ~/Documents/PhD/Projects/8 - Manifold-valued tensor decomposition/src/manifold-valued-tensors/src/decompositions/tensors/curvature_corrected_low_multilinear_rank_approximation.jl:37",
      " [12] curvature_corrected_low_multilinear_rank_approximation(M::SymmetricPositiveDefinite{3}, q::Matrix{Float64}, X::Matrix{Matrix{Float64}}, rank::Int64)",
      "    @ Main ~/Documents/PhD/Projects/8 - Manifold-valued tensor decomposition/src/manifold-valued-tensors/src/decompositions/tensors/curvature_corrected_low_multilinear_rank_approximation.jl:9",
      " [13] top-level scope",
      "    @ In[34]:4",
      " [14] eval",
      "    @ ./boot.jl:373 [inlined]",
      " [15] include_string(mapexpr::typeof(REPL.softscope), mod::Module, code::String, filename::String)",
      "    @ Base ./loading.jl:1196"
     ]
    }
   ],
   "source": [
    "rank = 5\n",
    "\n",
    "# N_R_q, N_U = naive_low_multilinear_rank_approximation(M, q, data, rank); \n",
    "CR_R_q, CR_U = curvature_corrected_low_multilinear_rank_approximation(M, q, data, rank);"
   ]
  },
  {
   "cell_type": "code",
   "execution_count": null,
   "metadata": {},
   "outputs": [],
   "source": [
    "ref_distance = sqrt(sum(distance.(Ref(M), Ref(q), data).^2))\n",
    "max_rank = min((size.(N_U)...)...)\n",
    "\n",
    "N_tangent_distances_r = zeros(max_rank)\n",
    "N_distances_r = zeros(max_rank)\n",
    "CR_tangent_distances_r = zeros(max_rank)\n",
    "CR_distances_r = zeros(max_rank)\n",
    "\n",
    "for rank in 1:max_rank\n",
    "    N_log_q_data_r = Symmetric.([sum([N_R_q[i,j] * N_U[1][k,i] * N_U[2][l,j] for i=max_rank-rank+1:max_rank, j=max_rank-rank+1:max_rank]) for k=1:n[1], l=1:n[2]])\n",
    "    CR_log_q_data_r = Symmetric.([sum([CR_R_q[i,j] * CR_U[1][k,i] * CR_U[2][l,j] for i=max_rank-rank+1:max_rank, j=max_rank-rank+1:max_rank]) for k=1:n[1], l=1:n[2]])\n",
    "    # expoentiate back\n",
    "    N_data_r = exp.(Ref(M), Ref(q), N_log_q_data_r)\n",
    "    CR_data_r = exp.(Ref(M), Ref(q), CR_log_q_data_r)\n",
    "\n",
    "\n",
    "    # compute relative tangent space error\n",
    "    N_tangent_distances_r[rank] = sqrt(sum(norm.(Ref(M), Ref(q),  log_q_data - N_log_q_data_r).^2)) / ref_distance\n",
    "    CR_tangent_distances_r[rank] = sqrt(sum(norm.(Ref(M), Ref(q),  log_q_data - CR_log_q_data_r).^2)) / ref_distance\n",
    "\n",
    "\n",
    "    # compute relative manifold error\n",
    "    N_distances_r[rank] = sqrt(sum(distance.(Ref(M), data, N_data_r).^2)) / ref_distance\n",
    "    CR_distances_r[rank] = sqrt(sum(distance.(Ref(M), data, CR_data_r).^2)) / ref_distance\n",
    "end"
   ]
  },
  {
   "cell_type": "code",
   "execution_count": null,
   "metadata": {},
   "outputs": [
    {
     "data": {
      "text/plain": [
       "\"/Users/wdiepeveen/Documents/PhD/Projects/8 - Manifold-valued tensor decomposition/src/manifold-valued-tensors/experiments/2D/P3/results/DTI_camino_2D_tangent_rank.png\""
      ]
     },
     "execution_count": 17,
     "metadata": {},
     "output_type": "execute_result"
    }
   ],
   "source": [
    "plot(1:max_rank, [N_tangent_distances_r, CR_tangent_distances_r], label = [\"standard inner product\" \"reweighted inner product\"], ylims=(0,1), xlims=(1,max_rank))\n",
    "savefig(\"results/Camino2D_tangent_rank.png\")"
   ]
  },
  {
   "cell_type": "code",
   "execution_count": null,
   "metadata": {},
   "outputs": [],
   "source": [
    "plot(1:max_rank, [N_distances_r, CR_distances_r], label = [\"standard inner product\" \"reweighted inner product\"], ylims=(0,1), xlims=(1,max_rank))\n",
    "savefig(\"results/Camino2D_rank.png\")"
   ]
  }
 ],
 "metadata": {
  "kernelspec": {
   "display_name": "Julia 1.7.2",
   "language": "julia",
   "name": "julia-1.7"
  },
  "language_info": {
   "file_extension": ".jl",
   "mimetype": "application/julia",
   "name": "julia",
   "version": "1.7.2"
  },
  "orig_nbformat": 4,
  "vscode": {
   "interpreter": {
    "hash": "31f2aee4e71d21fbe5cf8b01ff0e069b9275f58929596ceb00d14d90e3e16cd6"
   }
  }
 },
 "nbformat": 4,
 "nbformat_minor": 2
}
