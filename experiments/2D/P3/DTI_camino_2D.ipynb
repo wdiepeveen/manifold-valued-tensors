{
 "cells": [
  {
   "cell_type": "markdown",
   "metadata": {},
   "source": [
    "# Low-rank approximation on $\\mathcal{P}(d)$ - the space of $d$-dimensional SPD matrices"
   ]
  },
  {
   "cell_type": "markdown",
   "metadata": {},
   "source": [
    "In this notebook we want to get some intuition in different approaches for computing low-rank approximations for manifold-valued signals"
   ]
  },
  {
   "cell_type": "code",
   "execution_count": 43,
   "metadata": {},
   "outputs": [],
   "source": [
    "using Manifolds\n",
    "using Manopt\n",
    "using LinearAlgebra\n",
    "using NIfTI\n",
    "using Plots\n",
    "using LaTeXStrings\n",
    "using JLD"
   ]
  },
  {
   "cell_type": "code",
   "execution_count": 44,
   "metadata": {},
   "outputs": [
    {
     "data": {
      "text/plain": [
       "curvature_corrected_stepsize (generic function with 2 methods)"
      ]
     },
     "execution_count": 44,
     "metadata": {},
     "output_type": "execute_result"
    }
   ],
   "source": [
    "include(\"../../../src/decompositions/tensors/naive_low_multilinear_rank_approximation.jl\")\n",
    "include(\"../../../src/decompositions/tensors/curvature_corrected_low_multilinear_rank_approximation.jl\")\n",
    "include(\"../../../src/decompositions/tensors/iterative_curvature_corrected_low_multilinear_rank_approximation.jl\")\n",
    "\n",
    "include(\"../../../src/functions/loss_functions/curvature_corrected_loss.jl\")\n",
    "include(\"../../../src/functions/loss_functions/exact_loss.jl\")"
   ]
  },
  {
   "attachments": {},
   "cell_type": "markdown",
   "metadata": {},
   "source": [
    "### Load data and construct manifold ###"
   ]
  },
  {
   "cell_type": "code",
   "execution_count": 45,
   "metadata": {},
   "outputs": [
    {
     "data": {
      "text/plain": [
       "(112, 112, 50, 1, 6)"
      ]
     },
     "execution_count": 45,
     "metadata": {},
     "output_type": "execute_result"
    }
   ],
   "source": [
    "# load data\n",
    "ni = niread(\"../../../data/nifti_dt_nonlinear.nii.gz\") * 1e9;\n",
    "size(ni)"
   ]
  },
  {
   "cell_type": "code",
   "execution_count": 46,
   "metadata": {},
   "outputs": [
    {
     "data": {
      "text/plain": [
       "6"
      ]
     },
     "execution_count": 46,
     "metadata": {},
     "output_type": "execute_result"
    }
   ],
   "source": [
    " d1, d2, d3, _, d = size(ni)\n",
    "\n",
    "# construct data as points on the manifold (and add 1e-5 * I for numerical stability)\n",
    "predata = [ # data ordered as [xx, yx, yy, zx, zy, zz]\n",
    "    [\n",
    "    [ni[i,j,k,1,1] + 1e-5;; ni[i,j,k,1,2];; ni[i,j,k,1,4]]; \n",
    "    [ni[i,j,k,1,2];; ni[i,j,k,1,3] + 1e-5;; ni[i,j,k,1,5]]; \n",
    "    [ni[i,j,k,1,4];; ni[i,j,k,1,5];; ni[i,j,k,1,6] + 1e-5]\n",
    "    ] for i=1:d1, j=1:d2, k=1:d3];\n",
    "    \n",
    "# pick a 2D slice \n",
    "data = predata[38:77,36:75,15];\n",
    "data = data[1:10,1:10]\n",
    "\n",
    "# construct data manifold\n",
    "n = size(data)\n",
    "M = SymmetricPositiveDefinite(3)\n",
    "d = manifold_dimension(M) # -> different than in 1D"
   ]
  },
  {
   "cell_type": "code",
   "execution_count": 47,
   "metadata": {},
   "outputs": [],
   "source": [
    "# Export slice image\n",
    "asymptote_export_SPD(\"results/Camino2D_orig.asy\", data=data);"
   ]
  },
  {
   "attachments": {},
   "cell_type": "markdown",
   "metadata": {},
   "source": [
    "### Construct low rank approximation ###"
   ]
  },
  {
   "cell_type": "code",
   "execution_count": 48,
   "metadata": {},
   "outputs": [],
   "source": [
    "unrolled_data = []\n",
    "for mat in data\n",
    "    push!(unrolled_data,mat)\n",
    "end\n",
    "q = mean(M, unrolled_data)\n",
    "log_q_data = log.(Ref(M), Ref(q), data);  # ∈ T_q P(3)^n"
   ]
  },
  {
   "cell_type": "code",
   "execution_count": 51,
   "metadata": {},
   "outputs": [
    {
     "ename": "LoadError",
     "evalue": "InterruptException:",
     "output_type": "error",
     "traceback": [
      "InterruptException:",
      "",
      "Stacktrace:",
      "  [1] Array",
      "    @ ./boot.jl:459 [inlined]",
      "  [2] Array",
      "    @ ./boot.jl:467 [inlined]",
      "  [3] similar",
      "    @ ./array.jl:378 [inlined]",
      "  [4] similar",
      "    @ /Applications/Julia-1.7.app/Contents/Resources/julia/share/julia/stdlib/v1.7/LinearAlgebra/src/symmetric.jl:254 [inlined]",
      "  [5] *",
      "    @ /Applications/Julia-1.7.app/Contents/Resources/julia/share/julia/stdlib/v1.7/LinearAlgebra/src/matmul.jl:153 [inlined]",
      "  [6] _tri_matmul(A::Symmetric{Float64, Matrix{Float64}}, B::Matrix{Float64}, C::Symmetric{Float64, Matrix{Float64}}, δ::Nothing)",
      "    @ LinearAlgebra /Applications/Julia-1.7.app/Contents/Resources/julia/share/julia/stdlib/v1.7/LinearAlgebra/src/matmul.jl:1132",
      "  [7] _tri_matmul",
      "    @ /Applications/Julia-1.7.app/Contents/Resources/julia/share/julia/stdlib/v1.7/LinearAlgebra/src/matmul.jl:1124 [inlined]",
      "  [8] *",
      "    @ /Applications/Julia-1.7.app/Contents/Resources/julia/share/julia/stdlib/v1.7/LinearAlgebra/src/matmul.jl:1120 [inlined]",
      "  [9] get_vector_orthonormal!(#unused#::SymmetricPositiveDefinite{3}, X::Matrix{Float64}, p::Matrix{Float64}, c::Vector{Float64}, #unused#::ManifoldsBase.RealNumbers)",
      "    @ Manifolds ~/.julia/packages/Manifolds/RgXwm/src/manifolds/SymmetricPositiveDefiniteLinearAffine.jl:300",
      " [10] _get_vector!",
      "    @ ~/.julia/packages/ManifoldsBase/PPCQj/src/bases.jl:754 [inlined]",
      " [11] get_vector!",
      "    @ ~/.julia/packages/ManifoldsBase/PPCQj/src/bases.jl:731 [inlined]",
      " [12] get_vector!(::ManifoldsBase.EmptyTrait, M::SymmetricPositiveDefinite{3}, Y::Matrix{Float64}, p::Matrix{Float64}, c::Vector{Float64}, B::DefaultOrthonormalBasis{ℝ, ManifoldsBase.TangentSpaceType})",
      "    @ ManifoldsBase ~/.julia/packages/ManifoldsBase/PPCQj/src/nested_trait.jl:315",
      " [13] get_vector! (repeats 3 times)",
      "    @ ~/.julia/packages/ManifoldsBase/PPCQj/src/nested_trait.jl:282 [inlined]",
      " [14] get_vector!",
      "    @ ~/.julia/packages/ManifoldsBase/PPCQj/src/nested_trait.jl:275 [inlined]",
      " [15] get_vector_orthonormal",
      "    @ ~/.julia/packages/ManifoldsBase/PPCQj/src/bases.jl:691 [inlined]",
      " [16] _get_vector",
      "    @ ~/.julia/packages/ManifoldsBase/PPCQj/src/bases.jl:686 [inlined]",
      " [17] get_vector",
      "    @ ~/.julia/packages/ManifoldsBase/PPCQj/src/bases.jl:661 [inlined]",
      " [18] get_vector(::ManifoldsBase.EmptyTrait, M::SymmetricPositiveDefinite{3}, p::Matrix{Float64}, c::Vector{Float64}, B::DefaultOrthonormalBasis{ℝ, ManifoldsBase.TangentSpaceType})",
      "    @ ManifoldsBase ~/.julia/packages/ManifoldsBase/PPCQj/src/nested_trait.jl:315",
      " [19] get_vector (repeats 3 times)",
      "    @ ~/.julia/packages/ManifoldsBase/PPCQj/src/nested_trait.jl:282 [inlined]",
      " [20] get_vector",
      "    @ ~/.julia/packages/ManifoldsBase/PPCQj/src/nested_trait.jl:275 [inlined]",
      " [21] (::var\"#1761#1769\"{CartesianIndex{2}, Int64, CartesianIndex{2}, Int64, SymmetricPositiveDefinite{3}, Matrix{Float64}, Vector{Any}, Int64, Int64, CartesianIndex{2}, Vector{Float64}, Vector{Matrix{Float64}}})(j::Int64)",
      "    @ Main ./none:0",
      " [22] iterate",
      "    @ ./generator.jl:47 [inlined]",
      " [23] collect_to!(dest::Vector{Float64}, itr::Base.Generator{UnitRange{Int64}, var\"#1761#1769\"{CartesianIndex{2}, Int64, CartesianIndex{2}, Int64, SymmetricPositiveDefinite{3}, Matrix{Float64}, Vector{Any}, Int64, Int64, CartesianIndex{2}, Vector{Float64}, Vector{Matrix{Float64}}}}, offs::Int64, st::Int64)",
      "    @ Base ./array.jl:782",
      " [24] collect_to_with_first!(dest::Vector{Float64}, v1::Float64, itr::Base.Generator{UnitRange{Int64}, var\"#1761#1769\"{CartesianIndex{2}, Int64, CartesianIndex{2}, Int64, SymmetricPositiveDefinite{3}, Matrix{Float64}, Vector{Any}, Int64, Int64, CartesianIndex{2}, Vector{Float64}, Vector{Matrix{Float64}}}}, st::Int64)",
      "    @ Base ./array.jl:760",
      " [25] collect(itr::Base.Generator{UnitRange{Int64}, var\"#1761#1769\"{CartesianIndex{2}, Int64, CartesianIndex{2}, Int64, SymmetricPositiveDefinite{3}, Matrix{Float64}, Vector{Any}, Int64, Int64, CartesianIndex{2}, Vector{Float64}, Vector{Matrix{Float64}}}})",
      "    @ Base ./array.jl:734",
      " [26] (::var\"#1760#1768\"{SymmetricPositiveDefinite{3}, Matrix{Float64}, Vector{Any}, Int64, Int64, CartesianIndex{2}, Vector{Float64}, Vector{Matrix{Float64}}})(::Tuple{Int64, CartesianIndex{2}, Int64, CartesianIndex{2}})",
      "    @ Main ./none:0",
      " [27] iterate",
      "    @ ./generator.jl:47 [inlined]",
      " [28] collect_to!(dest::Array{Float64, 6}, itr::Base.Generator{Base.Iterators.ProductIterator{Tuple{UnitRange{Int64}, CartesianIndices{2, Tuple{Base.OneTo{Int64}, Base.OneTo{Int64}}}, UnitRange{Int64}, CartesianIndices{2, Tuple{Base.OneTo{Int64}, Base.OneTo{Int64}}}}}, var\"#1760#1768\"{SymmetricPositiveDefinite{3}, Matrix{Float64}, Vector{Any}, Int64, Int64, CartesianIndex{2}, Vector{Float64}, Vector{Matrix{Float64}}}}, offs::Int64, st::Tuple{Tuple{Int64, Int64}, Tuple{CartesianIndex{2}, CartesianIndex{2}}, Tuple{Int64, Int64}, Tuple{CartesianIndex{2}, CartesianIndex{2}}})",
      "    @ Base ./array.jl:782",
      " [29] collect_to_with_first!(dest::Array{Float64, 6}, v1::Float64, itr::Base.Generator{Base.Iterators.ProductIterator{Tuple{UnitRange{Int64}, CartesianIndices{2, Tuple{Base.OneTo{Int64}, Base.OneTo{Int64}}}, UnitRange{Int64}, CartesianIndices{2, Tuple{Base.OneTo{Int64}, Base.OneTo{Int64}}}}}, var\"#1760#1768\"{SymmetricPositiveDefinite{3}, Matrix{Float64}, Vector{Any}, Int64, Int64, CartesianIndex{2}, Vector{Float64}, Vector{Matrix{Float64}}}}, st::Tuple{Tuple{Int64, Int64}, Tuple{CartesianIndex{2}, CartesianIndex{2}}, Tuple{Int64, Int64}, Tuple{CartesianIndex{2}, CartesianIndex{2}}})",
      "    @ Base ./array.jl:760",
      " [30] collect(itr::Base.Generator{Base.Iterators.ProductIterator{Tuple{UnitRange{Int64}, CartesianIndices{2, Tuple{Base.OneTo{Int64}, Base.OneTo{Int64}}}, UnitRange{Int64}, CartesianIndices{2, Tuple{Base.OneTo{Int64}, Base.OneTo{Int64}}}}}, var\"#1760#1768\"{SymmetricPositiveDefinite{3}, Matrix{Float64}, Vector{Any}, Int64, Int64, CartesianIndex{2}, Vector{Float64}, Vector{Matrix{Float64}}}})",
      "    @ Base ./array.jl:734",
      " [31] curvature_corrected_low_multilinear_rank_approximation(M::SymmetricPositiveDefinite{3}, q::Matrix{Float64}, X::Matrix{Matrix{Float64}}, rank::Vector{Int64}; λ::Float64)",
      "    @ Main ~/Documents/PhD/Projects/8 - Manifold-valued tensor decomposition/src/manifold-valued-tensors/src/decompositions/tensors/curvature_corrected_low_multilinear_rank_approximation.jl:39",
      " [32] curvature_corrected_low_multilinear_rank_approximation(M::SymmetricPositiveDefinite{3}, q::Matrix{Float64}, X::Matrix{Matrix{Float64}}, rank::Vector{Int64})",
      "    @ Main ~/Documents/PhD/Projects/8 - Manifold-valued tensor decomposition/src/manifold-valued-tensors/src/decompositions/tensors/curvature_corrected_low_multilinear_rank_approximation.jl:7",
      " [33] top-level scope",
      "    @ ./In[51]:6",
      " [34] eval",
      "    @ ./boot.jl:373 [inlined]",
      " [35] include_string(mapexpr::typeof(REPL.softscope), mod::Module, code::String, filename::String)",
      "    @ Base ./loading.jl:1196"
     ]
    }
   ],
   "source": [
    "rank_range = collect(1:10)\n",
    "# rank_range = collect(1:min(n[1],n[2]))\n",
    "\n",
    "for rank in rank_range\n",
    "    nRr_q, nUr = naive_low_multilinear_rank_approximation(M, q, data, [rank,rank]); \n",
    "    ccRr_q, ccUr = curvature_corrected_low_multilinear_rank_approximation(M, q, data, [rank,rank]); \n",
    "\n",
    "    save(\"results/Camino2D/jld/RqU-size$(n[1])x$(n[2])-rank$(rank).jld\", \"nRr_q\", nRr_q, \"nUr\", nUr, \"ccRr_q\", ccRr_q, \"ccUr\", ccUr)\n",
    "end"
   ]
  },
  {
   "cell_type": "code",
   "execution_count": 52,
   "metadata": {},
   "outputs": [],
   "source": [
    "# retrieve results\n",
    "# rank_range = [1, 2, 5]\n",
    "rank_range = collect(1:8)\n",
    "\n",
    "nR_q = []\n",
    "nU = []\n",
    "ccR_q = []\n",
    "ccU = []\n",
    "for rank in rank_range\n",
    "    dic = load(\"results/Camino2D/jld/RqU-size$(n[1])x$(n[2])-rank$(rank).jld\")\n",
    "\n",
    "    push!(nR_q, dic[\"nRr_q\"])\n",
    "    push!(nU, dic[\"nUr\"])\n",
    "    push!(ccR_q, dic[\"ccRr_q\"])\n",
    "    push!(ccU, dic[\"ccUr\"])\n",
    "end"
   ]
  },
  {
   "cell_type": "code",
   "execution_count": 53,
   "metadata": {},
   "outputs": [],
   "source": [
    "num_ranks = length(rank_range)\n",
    "ref_distance = sum(distance.(Ref(M), Ref(q), data).^2)\n",
    "\n",
    "naive_tangent_distances_r = zeros(num_ranks)\n",
    "predicted_naive_distances_r= zeros(num_ranks)\n",
    "true_naive_distances_r= zeros(num_ranks)\n",
    "\n",
    "curvature_corrected_tangent_distances_r = zeros(num_ranks)\n",
    "predicted_curvature_corrected_distances_r = zeros(num_ranks)\n",
    "true_curvature_corrected_distances_r = zeros(num_ranks)\n",
    "\n",
    "for (idx,rank) in enumerate(rank_range)\n",
    "    naive_log_q_data_r = Symmetric.([sum([nR_q[idx][i,j] * nU[idx][1][k,i] * nU[idx][2][l,j] for i in 1:rank, j in 1:rank]) for k=1:n[1], l=1:n[2]])\n",
    "    curvature_corrected_log_q_data_r = Symmetric.([sum([ccR_q[idx][i,j] * ccU[idx][1][k,i] * ccU[idx][2][l,j] for i in 1:rank, j in 1:rank]) for k=1:n[1], l=1:n[2]])\n",
    "    # expoentiate back\n",
    "    naive_data_r = exp.(Ref(M), Ref(q), naive_log_q_data_r)\n",
    "    curvature_corrected_data_r = exp.(Ref(M), Ref(q), curvature_corrected_log_q_data_r)\n",
    "\n",
    "    # compute relative tangent space error\n",
    "    naive_tangent_distances_r[idx] = sum(norm.(Ref(M), Ref(q),  log_q_data - naive_log_q_data_r).^2) / ref_distance\n",
    "    curvature_corrected_tangent_distances_r[idx] = sum(norm.(Ref(M), Ref(q),  log_q_data - curvature_corrected_log_q_data_r).^2) / ref_distance\n",
    "\n",
    "    # compute relative manifold error\n",
    "    predicted_naive_distances_r[idx] = curvature_corrected_loss(M, q, data, naive_log_q_data_r)\n",
    "    true_naive_distances_r[idx] = exact_loss(M, q, data, naive_log_q_data_r)\n",
    "    predicted_curvature_corrected_distances_r[idx] = curvature_corrected_loss(M, q, data, curvature_corrected_log_q_data_r)\n",
    "    true_curvature_corrected_distances_r[idx] = exact_loss(M, q, data, curvature_corrected_log_q_data_r)\n",
    "end"
   ]
  },
  {
   "cell_type": "code",
   "execution_count": 54,
   "metadata": {},
   "outputs": [
    {
     "data": {
      "text/plain": [
       "\"/Users/wdiepeveen/Documents/PhD/Projects/8 - Manifold-valued tensor decomposition/src/manifold-valued-tensors/experiments/2D/P3/results/Camino2D_logerrors_by_rank.png\""
      ]
     },
     "execution_count": 54,
     "metadata": {},
     "output_type": "execute_result"
    }
   ],
   "source": [
    "plot(rank_range, [naive_tangent_distances_r, true_naive_distances_r, true_curvature_corrected_distances_r], label = [\"theoretical lower bound\" \"naive\" \"curvature corrected\"], ylims=(0,1), xlims=(1,max(rank_range...)),xaxis=(\"approximation rank\"), yaxis=(L\"$\\varepsilon_{rel}$\"))\n",
    "savefig(\"results/Camino2D_errors_by_rank.png\")\n",
    "plot(rank_range, [naive_tangent_distances_r .+ 1e-16, true_naive_distances_r .+ 1e-16, true_curvature_corrected_distances_r .+ 1e-16], label = [\"theoretical lower bound\" \"naive\" \"curvature corrected\"], ylims=(1e-16,1), xlims=(1,max(rank_range...)), xaxis=(\"approximation rank\"), yaxis=(L\"$\\varepsilon_{rel}$\", :log), legend=:bottomleft)\n",
    "savefig(\"results/Camino2D_logerrors_by_rank.png\")"
   ]
  },
  {
   "cell_type": "code",
   "execution_count": 55,
   "metadata": {},
   "outputs": [
    {
     "data": {
      "text/plain": [
       "\"/Users/wdiepeveen/Documents/PhD/Projects/8 - Manifold-valued tensor decomposition/src/manifold-valued-tensors/experiments/2D/P3/results/Camino2D_logdiscrepancy_by_rank.png\""
      ]
     },
     "execution_count": 55,
     "metadata": {},
     "output_type": "execute_result"
    }
   ],
   "source": [
    "# It would be nice to also have a plot that tells us something about the error in predicting the manifold loss (using CCL) and the actual loss \n",
    "# (1) for the naive approach (2) for the curvature corrected approach\n",
    "plot(rank_range, [predicted_naive_distances_r ./ true_naive_distances_r, predicted_curvature_corrected_distances_r ./ true_curvature_corrected_distances_r], label = [\"discrepancy in initialisation\" \"discrepancy in solutions\"], xlims=(1,max(rank_range...)),xaxis=(\"approximation rank\"), yaxis=(L\"$\\delta_{rel}$\"))\n",
    "savefig(\"results/Camino2D_discrepancy_by_rank.png\")\n",
    "plot(rank_range, [predicted_naive_distances_r ./ true_naive_distances_r, predicted_curvature_corrected_distances_r ./ true_curvature_corrected_distances_r], label = [\"discrepancy in initialisation\" \"discrepancy in solutions\"], xlims=(1,max(rank_range...)), xaxis=(\"approximation rank\"), yaxis=(L\"$\\delta_{rel}$\", :log), legend=:bottomleft)\n",
    "savefig(\"results/Camino2D_logdiscrepancy_by_rank.png\")"
   ]
  }
 ],
 "metadata": {
  "kernelspec": {
   "display_name": "Julia 1.7.2",
   "language": "julia",
   "name": "julia-1.7"
  },
  "language_info": {
   "file_extension": ".jl",
   "mimetype": "application/julia",
   "name": "julia",
   "version": "1.7.2"
  },
  "orig_nbformat": 4,
  "vscode": {
   "interpreter": {
    "hash": "31f2aee4e71d21fbe5cf8b01ff0e069b9275f58929596ceb00d14d90e3e16cd6"
   }
  }
 },
 "nbformat": 4,
 "nbformat_minor": 2
}
