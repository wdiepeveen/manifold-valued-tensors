{
 "cells": [
  {
   "cell_type": "markdown",
   "metadata": {},
   "source": [
    "# Low-rank approximation on $\\mathcal{P}(d)$ - the space of $d$-dimensional SPD matrices"
   ]
  },
  {
   "cell_type": "markdown",
   "metadata": {},
   "source": [
    "In this notebook we want to get some intuition in different approaches for computing low-rank approximations for manifold-valued signals"
   ]
  },
  {
   "cell_type": "code",
   "execution_count": 71,
   "metadata": {},
   "outputs": [],
   "source": [
    "using Manifolds\n",
    "using Manopt\n",
    "using LinearAlgebra\n",
    "using NIfTI\n",
    "using Plots"
   ]
  },
  {
   "cell_type": "code",
   "execution_count": 72,
   "metadata": {},
   "outputs": [
    {
     "data": {
      "text/plain": [
       "naive_HOSVD (generic function with 1 method)"
      ]
     },
     "execution_count": 72,
     "metadata": {},
     "output_type": "execute_result"
    }
   ],
   "source": [
    "include(\"../../../src/decompositions/naive_HOSVD.jl\")\n",
    "# include(\"../../../src/decompositions/CR_SVD.jl\")"
   ]
  },
  {
   "attachments": {},
   "cell_type": "markdown",
   "metadata": {},
   "source": [
    "### Load data and construct manifold ###"
   ]
  },
  {
   "cell_type": "code",
   "execution_count": 73,
   "metadata": {},
   "outputs": [
    {
     "data": {
      "text/plain": [
       "(112, 112, 50, 1, 6)"
      ]
     },
     "execution_count": 73,
     "metadata": {},
     "output_type": "execute_result"
    }
   ],
   "source": [
    "# load data\n",
    "# ni = niread(\"data/nifti_dt.nii.gz\") * 1e9;\n",
    "ni = niread(\"../../../data/nifti_dt_nonlinear.nii.gz\") * 1e9;\n",
    "size(ni)"
   ]
  },
  {
   "cell_type": "code",
   "execution_count": 74,
   "metadata": {},
   "outputs": [
    {
     "data": {
      "text/plain": [
       "6"
      ]
     },
     "execution_count": 74,
     "metadata": {},
     "output_type": "execute_result"
    }
   ],
   "source": [
    " d1, d2, d3, _, d = size(ni)\n",
    "\n",
    "# construct data as points on the manifold (and add 1e-5 * I for numerical stability)\n",
    "predata = [ # data ordered as [xx, yx, yy, zx, zy, zz]\n",
    "    [\n",
    "    [ni[i,j,k,1,1] + 1e-5;; ni[i,j,k,1,2];; ni[i,j,k,1,4]]; \n",
    "    [ni[i,j,k,1,2];; ni[i,j,k,1,3] + 1e-5;; ni[i,j,k,1,5]]; \n",
    "    [ni[i,j,k,1,4];; ni[i,j,k,1,5];; ni[i,j,k,1,6] + 1e-5]\n",
    "    ] for i=1:d1, j=1:d2, k=1:d3];\n",
    "    \n",
    "# pick a 2D slice \n",
    "data = predata[34:81,32:79,15];\n",
    "\n",
    "# construct data manifold\n",
    "n = size(data)\n",
    "M = SymmetricPositiveDefinite(3)\n",
    "d = manifold_dimension(M) # -> different than in 1D"
   ]
  },
  {
   "cell_type": "code",
   "execution_count": 75,
   "metadata": {},
   "outputs": [],
   "source": [
    "# Export slice image\n",
    "asymptote_export_SPD(\"results/Camino2D_orig.asy\", data=data);"
   ]
  },
  {
   "attachments": {},
   "cell_type": "markdown",
   "metadata": {},
   "source": [
    "### Construct low rank approximation ###"
   ]
  },
  {
   "cell_type": "code",
   "execution_count": 76,
   "metadata": {},
   "outputs": [],
   "source": [
    "q = 1. * Matrix(I, 3, 3)\n",
    "log_q_data = log.(Ref(M), Ref(q), data);  # ∈ T_q P(3)^n"
   ]
  },
  {
   "cell_type": "code",
   "execution_count": 77,
   "metadata": {},
   "outputs": [
    {
     "name": "stdout",
     "output_type": "stream",
     "text": [
      "(1,)\n",
      "(48,)\n"
     ]
    },
    {
     "ename": "LoadError",
     "evalue": "MethodError: no method matching symmetric_type(::Type{Vector{Matrix{Float64}}})\n\u001b[0mClosest candidates are:\n\u001b[0m  symmetric_type(\u001b[91m::Type{T}\u001b[39m) where {S<:Number, T<:AbstractMatrix{S}} at /Applications/Julia-1.7.app/Contents/Resources/julia/share/julia/stdlib/v1.7/LinearAlgebra/src/symmetric.jl:77\n\u001b[0m  symmetric_type(\u001b[91m::Type{T}\u001b[39m) where {S<:(AbstractMatrix), T<:AbstractMatrix{S}} at /Applications/Julia-1.7.app/Contents/Resources/julia/share/julia/stdlib/v1.7/LinearAlgebra/src/symmetric.jl:80\n\u001b[0m  symmetric_type(\u001b[91m::Type{T}\u001b[39m) where {S, T<:AbstractMatrix{S}} at /Applications/Julia-1.7.app/Contents/Resources/julia/share/julia/stdlib/v1.7/LinearAlgebra/src/symmetric.jl:74\n\u001b[0m  ...",
     "output_type": "error",
     "traceback": [
      "MethodError: no method matching symmetric_type(::Type{Vector{Matrix{Float64}}})\n\u001b[0mClosest candidates are:\n\u001b[0m  symmetric_type(\u001b[91m::Type{T}\u001b[39m) where {S<:Number, T<:AbstractMatrix{S}} at /Applications/Julia-1.7.app/Contents/Resources/julia/share/julia/stdlib/v1.7/LinearAlgebra/src/symmetric.jl:77\n\u001b[0m  symmetric_type(\u001b[91m::Type{T}\u001b[39m) where {S<:(AbstractMatrix), T<:AbstractMatrix{S}} at /Applications/Julia-1.7.app/Contents/Resources/julia/share/julia/stdlib/v1.7/LinearAlgebra/src/symmetric.jl:80\n\u001b[0m  symmetric_type(\u001b[91m::Type{T}\u001b[39m) where {S, T<:AbstractMatrix{S}} at /Applications/Julia-1.7.app/Contents/Resources/julia/share/julia/stdlib/v1.7/LinearAlgebra/src/symmetric.jl:74\n\u001b[0m  ...",
      "",
      "Stacktrace:",
      "  [1] symmetric_type(#unused#::Type{SubArray{Vector{Matrix{Float64}}, 2, Array{Vector{Matrix{Float64}}, 3}, Tuple{Base.Slice{Base.OneTo{Int64}}, Base.Slice{Base.OneTo{Int64}}, Int64}, true}})",
      "    @ LinearAlgebra /Applications/Julia-1.7.app/Contents/Resources/julia/share/julia/stdlib/v1.7/LinearAlgebra/src/symmetric.jl:75",
      "  [2] Symmetric(A::SubArray{Vector{Matrix{Float64}}, 2, Array{Vector{Matrix{Float64}}, 3}, Tuple{Base.Slice{Base.OneTo{Int64}}, Base.Slice{Base.OneTo{Int64}}, Int64}, true}, uplo::Symbol)",
      "    @ LinearAlgebra /Applications/Julia-1.7.app/Contents/Resources/julia/share/julia/stdlib/v1.7/LinearAlgebra/src/symmetric.jl:50",
      "  [3] Symmetric(A::SubArray{Vector{Matrix{Float64}}, 2, Array{Vector{Matrix{Float64}}, 3}, Tuple{Base.Slice{Base.OneTo{Int64}}, Base.Slice{Base.OneTo{Int64}}, Int64}, true})",
      "    @ LinearAlgebra /Applications/Julia-1.7.app/Contents/Resources/julia/share/julia/stdlib/v1.7/LinearAlgebra/src/symmetric.jl:49",
      "  [4] spd_sqrt_and_sqrt_inv(p::SubArray{Vector{Matrix{Float64}}, 2, Array{Vector{Matrix{Float64}}, 3}, Tuple{Base.Slice{Base.OneTo{Int64}}, Base.Slice{Base.OneTo{Int64}}, Int64}, true})",
      "    @ Manifolds ~/.julia/packages/Manifolds/1oKAJ/src/manifolds/SymmetricPositiveDefinite.jl:349",
      "  [5] log!(#unused#::SymmetricPositiveDefinite{3}, X::SubArray{Vector{Matrix{Float64}}, 2, Array{Vector{Matrix{Float64}}, 3}, Tuple{Base.Slice{Base.OneTo{Int64}}, Base.Slice{Base.OneTo{Int64}}, Int64}, true}, p::SubArray{Vector{Matrix{Float64}}, 2, Array{Vector{Matrix{Float64}}, 3}, Tuple{Base.Slice{Base.OneTo{Int64}}, Base.Slice{Base.OneTo{Int64}}, Int64}, true}, q::SubArray{Matrix{Float64}, 2, Array{Matrix{Float64}, 3}, Tuple{Base.Slice{Base.OneTo{Int64}}, Base.Slice{Base.OneTo{Int64}}, Int64}, true})",
      "    @ Manifolds ~/.julia/packages/Manifolds/1oKAJ/src/manifolds/SymmetricPositiveDefiniteLinearAffine.jl:351",
      "  [6] log!(M::PowerManifold{ℝ, SymmetricPositiveDefinite{3}, Tuple{48}, ArrayPowerRepresentation}, X::Vector{Vector{Matrix{Float64}}}, p::Vector{Vector{Matrix{Float64}}}, q::Vector{Matrix{Float64}})",
      "    @ ManifoldsBase ~/.julia/packages/ManifoldsBase/b4Ovn/src/PowerManifold.jl:833",
      "  [7] log(M::PowerManifold{ℝ, SymmetricPositiveDefinite{3}, Tuple{48}, ArrayPowerRepresentation}, p::Vector{Vector{Matrix{Float64}}}, q::Vector{Matrix{Float64}})",
      "    @ ManifoldsBase ~/.julia/packages/ManifoldsBase/b4Ovn/src/exp_log_geo.jl:143",
      "  [8] _broadcast_getindex_evalf",
      "    @ ./broadcast.jl:670 [inlined]",
      "  [9] _broadcast_getindex",
      "    @ ./broadcast.jl:643 [inlined]",
      " [10] getindex",
      "    @ ./broadcast.jl:597 [inlined]",
      " [11] copy",
      "    @ ./broadcast.jl:899 [inlined]",
      " [12] materialize",
      "    @ ./broadcast.jl:860 [inlined]",
      " [13] naive_SVD(M::PowerManifold{ℝ, SymmetricPositiveDefinite{3}, Tuple{48}, ArrayPowerRepresentation}, q::Vector{Vector{Matrix{Float64}}}, X::Vector{Vector{Matrix{Float64}}})",
      "    @ Main ~/Documents/PhD/Projects/8 - Manifold-valued tensor decomposition/src/manifold-valued-tensors/src/decompositions/naive_SVD.jl:6",
      " [14] naive_HOSVD(M::SymmetricPositiveDefinite{3}, q::Matrix{Float64}, X::Matrix{Matrix{Float64}})",
      "    @ Main ~/Documents/PhD/Projects/8 - Manifold-valued tensor decomposition/src/manifold-valued-tensors/src/decompositions/naive_HOSVD.jl:37",
      " [15] top-level scope",
      "    @ In[77]:1",
      " [16] eval",
      "    @ ./boot.jl:373 [inlined]",
      " [17] include_string(mapexpr::typeof(REPL.softscope), mod::Module, code::String, filename::String)",
      "    @ Base ./loading.jl:1196"
     ]
    }
   ],
   "source": [
    "N_R_q, N_U = naive_HOSVD(M,q, data);  # Error in power manifold representation\n",
    "# CR_R_q, CR_U = CR_SVD(M,q, data);"
   ]
  },
  {
   "cell_type": "code",
   "execution_count": null,
   "metadata": {},
   "outputs": [],
   "source": [
    "ref_distance = sqrt(sum(distance.(Ref(M), Ref(q), data).^2))\n",
    "\n",
    "N_tangent_distances_r = zeros(d)\n",
    "N_distances_r = zeros(d)\n",
    "CR_tangent_distances_r = zeros(d)\n",
    "CR_distances_r = zeros(d)\n",
    "\n",
    "for rank in 1:d\n",
    "    N_log_q_data_r = Symmetric.([sum([N_R_q[i] * N_U[k,i] for i in d-rank+1:d]) for k in 1:n])\n",
    "    CR_log_q_data_r = Symmetric.([sum([CR_R_q[i] * CR_U[k,i] for i in d-rank+1:d]) for k in 1:n])\n",
    "    # expoentiate back\n",
    "    N_data_r = exp.(Ref(M), Ref(q), N_log_q_data_r)\n",
    "    CR_data_r = exp.(Ref(M), Ref(q), CR_log_q_data_r)\n",
    "\n",
    "\n",
    "    # compute relative tangent space error\n",
    "    N_tangent_distances_r[rank] = sqrt(sum(norm.(Ref(M), Ref(q),  log_q_data - N_log_q_data_r).^2)) / ref_distance\n",
    "    CR_tangent_distances_r[rank] = sqrt(sum(norm.(Ref(M), Ref(q),  log_q_data - CR_log_q_data_r).^2)) / ref_distance\n",
    "\n",
    "\n",
    "    # compute relative manifold error\n",
    "    N_distances_r[rank] = sqrt(sum(distance.(Ref(M), data, N_data_r).^2)) / ref_distance\n",
    "    CR_distances_r[rank] = sqrt(sum(distance.(Ref(M), data, CR_data_r).^2)) / ref_distance\n",
    "end"
   ]
  },
  {
   "cell_type": "code",
   "execution_count": null,
   "metadata": {},
   "outputs": [
    {
     "data": {
      "text/plain": [
       "\"/Users/wdiepeveen/Documents/PhD/Projects/8 - Manifold-valued tensor decomposition/src/manifold-valued-tensors/experiments/1D/P3/results/DTI_camino_1D_rank.png\""
      ]
     },
     "metadata": {},
     "output_type": "display_data"
    }
   ],
   "source": [
    "plot(1:d, [N_distances_r, CR_distances_r], label = [\"standard inner product\" \"reweighted inner product\"], ylims=(0,1), xlims=(1,d))\n",
    "savefig(\"results/DTI_camino_1D_rank.png\")"
   ]
  }
 ],
 "metadata": {
  "kernelspec": {
   "display_name": "Julia 1.7.2",
   "language": "julia",
   "name": "julia-1.7"
  },
  "language_info": {
   "file_extension": ".jl",
   "mimetype": "application/julia",
   "name": "julia",
   "version": "1.7.2"
  },
  "orig_nbformat": 4,
  "vscode": {
   "interpreter": {
    "hash": "31f2aee4e71d21fbe5cf8b01ff0e069b9275f58929596ceb00d14d90e3e16cd6"
   }
  }
 },
 "nbformat": 4,
 "nbformat_minor": 2
}
