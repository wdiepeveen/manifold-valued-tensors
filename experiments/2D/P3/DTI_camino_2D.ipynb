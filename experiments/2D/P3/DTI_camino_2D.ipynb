{
 "cells": [
  {
   "cell_type": "markdown",
   "metadata": {},
   "source": [
    "# Low-rank approximation on $\\mathcal{P}(d)$ - the space of $d$-dimensional SPD matrices"
   ]
  },
  {
   "cell_type": "markdown",
   "metadata": {},
   "source": [
    "In this notebook we want to get some intuition in different approaches for computing low-rank approximations for manifold-valued signals"
   ]
  },
  {
   "cell_type": "code",
   "execution_count": 19,
   "metadata": {},
   "outputs": [],
   "source": [
    "using Manifolds\n",
    "using Manopt\n",
    "using LinearAlgebra\n",
    "using NIfTI\n",
    "using Plots\n",
    "using LaTeXStrings\n",
    "using JLD"
   ]
  },
  {
   "cell_type": "code",
   "execution_count": 20,
   "metadata": {},
   "outputs": [
    {
     "data": {
      "text/plain": [
       "exact_loss (generic function with 2 methods)"
      ]
     },
     "execution_count": 20,
     "metadata": {},
     "output_type": "execute_result"
    }
   ],
   "source": [
    "include(\"../../../src/decompositions/tensors/naive_low_multilinear_rank_approximation.jl\")\n",
    "include(\"../../../src/decompositions/tensors/curvature_corrected_low_multilinear_rank_approximation.jl\")\n",
    "include(\"../../../src/decompositions/tensors/iterative_curvature_corrected_low_multilinear_rank_approximation.jl\")\n",
    "\n",
    "include(\"../../../src/functions/loss_functions/curvature_corrected_loss.jl\")\n",
    "include(\"../../../src/functions/loss_functions/exact_loss.jl\")"
   ]
  },
  {
   "attachments": {},
   "cell_type": "markdown",
   "metadata": {},
   "source": [
    "### Load data and construct manifold ###"
   ]
  },
  {
   "cell_type": "code",
   "execution_count": 21,
   "metadata": {},
   "outputs": [
    {
     "data": {
      "text/plain": [
       "(112, 112, 50, 1, 6)"
      ]
     },
     "execution_count": 21,
     "metadata": {},
     "output_type": "execute_result"
    }
   ],
   "source": [
    "# load data\n",
    "ni = niread(\"../../../data/nifti_dt_nonlinear.nii.gz\") * 1e9;\n",
    "size(ni)"
   ]
  },
  {
   "cell_type": "code",
   "execution_count": 22,
   "metadata": {},
   "outputs": [
    {
     "name": "stdout",
     "output_type": "stream",
     "text": [
      "data size = (40, 40)\n"
     ]
    },
    {
     "data": {
      "text/plain": [
       "6"
      ]
     },
     "execution_count": 22,
     "metadata": {},
     "output_type": "execute_result"
    }
   ],
   "source": [
    " d1, d2, d3, _, d = size(ni)\n",
    "\n",
    "# construct data as points on the manifold (and add 1e-5 * I for numerical stability)\n",
    "predata = [ # data ordered as [xx, yx, yy, zx, zy, zz]\n",
    "    [\n",
    "    [ni[i,j,k,1,1] + 1e-5;; ni[i,j,k,1,2];; ni[i,j,k,1,4]]; \n",
    "    [ni[i,j,k,1,2];; ni[i,j,k,1,3] + 1e-5;; ni[i,j,k,1,5]]; \n",
    "    [ni[i,j,k,1,4];; ni[i,j,k,1,5];; ni[i,j,k,1,6] + 1e-5]\n",
    "    ] for i=1:d1, j=1:d2, k=1:d3];\n",
    "    \n",
    "# pick a 2D slice \n",
    "data = predata[38:77,36:75,15];\n",
    "# data = data[1:10,1:10]\n",
    "println(\"data size = $(size(data))\")\n",
    "\n",
    "# construct data manifold\n",
    "n = size(data)\n",
    "M = SymmetricPositiveDefinite(3)\n",
    "d = manifold_dimension(M) "
   ]
  },
  {
   "cell_type": "code",
   "execution_count": 23,
   "metadata": {},
   "outputs": [],
   "source": [
    "# Export slice image\n",
    "asymptote_export_SPD(\"results/Camino2D_orig.asy\", data=data);"
   ]
  },
  {
   "attachments": {},
   "cell_type": "markdown",
   "metadata": {},
   "source": [
    "### Construct low rank approximation ###"
   ]
  },
  {
   "cell_type": "code",
   "execution_count": 24,
   "metadata": {},
   "outputs": [],
   "source": [
    "unrolled_data = []\n",
    "for mat in data\n",
    "    push!(unrolled_data,mat)\n",
    "end\n",
    "q = mean(M, unrolled_data)\n",
    "log_q_data = log.(Ref(M), Ref(q), data);  # ∈ T_q P(3)^n"
   ]
  },
  {
   "cell_type": "code",
   "execution_count": 25,
   "metadata": {},
   "outputs": [
    {
     "data": {
      "text/plain": [
       "([[0.8950044738973227 0.6692007023653097 0.18192408878533542; 0.6692007023653097 -0.3959969445677654 -0.1943966809004528; 0.18192408878533542 -0.1943966809004528 0.520395048654941] [4.778954643848296 0.8350167502433133 -0.6096050134116588; 0.8350167502433133 3.4546565459092684 -0.29378223771945977; -0.6096050134116588 -0.29378223771945977 3.591810436594278] … [-1.5789986320626614 1.818457276265771 0.5161712206847788; 1.818457276265771 -1.0787680982280126 -0.6785620671386691; 0.5161712206847788 -0.6785620671386691 -2.029295990487366] [1.2666231856002175 -1.3857754891774232 0.7759527838512013; -1.3857754891774232 0.8360238590419994 -0.5417704520633215; 0.7759527838512013 -0.5417704520633215 -1.1620456970187312]; [-3.4061642776829895 0.6555409784628693 -0.2285094606598303; 0.6555409784628693 -3.4678282342077376 1.0460681109163212; -0.2285094606598303 1.0460681109163212 -4.936097465547379] [2.3640118956035483 1.4383978171194534 -1.0177369726704752; 1.4383978171194534 0.6779202101827806 -0.5056264100636001; -1.0177369726704752 -0.5056264100636001 0.7976252957901824] … [3.20455742184471 -0.29808544030499007 0.613047215588028; -0.29808544030499007 3.381224411273783 -0.497684250628249; 0.613047215588028 -0.497684250628249 1.6884390995287748] [3.8977450669152534 -0.3464292767511842 -1.259338649937283; -0.3464292767511842 1.6091846813052246 -1.3512502098516388; -1.259338649937283 -1.3512502098516388 2.012611912970856]; … ; [-0.6693971807301642 1.0472559093623215 -1.5281158108880488; 1.0472559093623215 -0.9240094277249985 -0.14305738095379303; -1.5281158108880488 -0.14305738095379303 -1.2096894222331986] [0.6108028385435443 0.31687840868977735 0.18357191019577002; 0.31687840868977735 0.9906168449324243 1.0436316724615846; 0.18357191019577002 1.0436316724615846 -2.584831600652601] … [-5.457906686848925 -0.7350957707477949 -0.6530625279744716; -0.7350957707477949 -5.575893027123535 0.08616662060939027; -0.6530625279744716 0.08616662060939027 -6.120231788223399] [0.5671368494047136 0.8140919877587615 -1.3182075453820186; 0.8140919877587615 -2.961280685983613 0.5608720466991723; -1.3182075453820186 0.5608720466991723 -4.702900144431448]; [1.9500002399106957 0.7826364965186415 0.2552551777163476; 0.7826364965186415 0.7241295748225222 0.04320231811866004; 0.2552551777163476 0.04320231811866004 0.1476656228190441] [-1.9347129125017912 0.8375509897366646 -1.263002506919732; 0.8375509897366646 -2.1720986159426037 -0.055693007107397524; -1.263002506919732 -0.055693007107397524 -0.2887280969987108] … [-4.390018621119699 0.02352324430230173 0.605488837412812; 0.02352324430230173 -4.187065217263196 0.23021832297207398; 0.605488837412812 0.23021832297207398 -6.69804377463542] [2.51235292015478 -1.2547801235829739 -0.41812879194841945; -1.2547801235829739 10.587212915683189 -0.308119430596578; -0.41812879194841945 -0.308119430596578 7.92645981620222]], Any[[0.07369414600721902 -0.10283073925931555 … 0.024825531135978473 0.01825056572390972; 0.007503421431141708 -0.003119702194461007 … 0.0598155867130724 0.011286358909395016; … ; 0.022151137348604633 0.004105826619535638 … 0.0275789631820455 0.02528601231565364; -0.03584686304934897 -0.013949140889512403 … 0.04961321268620036 0.04414382187227519], [0.0274228105285768 0.0061987874927892156 … -0.012825006978837478 0.04747874432659447; 0.052827036469287804 -0.012956920216132801 … -0.04693859795532082 0.0561268661339567; … ; -0.009545768829023 -0.03887247868890259 … 0.03381555487563889 -0.05814381680435138; -0.036028423876238176 -0.029092554571058176 … 0.021944854226838912 -0.021908436551679164]])"
      ]
     },
     "execution_count": 25,
     "metadata": {},
     "output_type": "execute_result"
    }
   ],
   "source": [
    "curvature_corrected_low_multilinear_rank_approximation(M, q, data, [5,5])"
   ]
  },
  {
   "cell_type": "code",
   "execution_count": 26,
   "metadata": {},
   "outputs": [
    {
     "name": "stdout",
     "output_type": "stream",
     "text": [
      "#1 | computing naive low-rank approximation\n",
      "#1 | computing curvature corrected low-rank approximation\n",
      "#4 | computing naive low-rank approximation\n",
      "#4 | computing curvature corrected low-rank approximation\n",
      "#7 | computing naive low-rank approximation\n",
      "#7 | computing curvature corrected low-rank approximation\n",
      "#10 | computing naive low-rank approximation\n",
      "#10 | computing curvature corrected low-rank approximation\n",
      "#13 | computing naive low-rank approximation\n",
      "#13 | computing curvature corrected low-rank approximation\n",
      "#16 | computing naive low-rank approximation\n",
      "#16 | computing curvature corrected low-rank approximation\n",
      "#19 | computing naive low-rank approximation\n",
      "#19 | computing curvature corrected low-rank approximation\n",
      "#22 | computing naive low-rank approximation\n",
      "#22 | computing curvature corrected low-rank approximation\n",
      "#25 | computing naive low-rank approximation\n",
      "#25 | computing curvature corrected low-rank approximation\n",
      "#28 | computing naive low-rank approximation\n",
      "#28 | computing curvature corrected low-rank approximation\n",
      "#31 | computing naive low-rank approximation\n",
      "#31 | computing curvature corrected low-rank approximation\n",
      "#34 | computing naive low-rank approximation\n",
      "#34 | computing curvature corrected low-rank approximation\n",
      "#37 | computing naive low-rank approximation\n",
      "#37 | computing curvature corrected low-rank approximation\n",
      "#40 | computing naive low-rank approximation\n",
      "#40 | computing curvature corrected low-rank approximation\n"
     ]
    }
   ],
   "source": [
    "# rank_range = collect(1:min(n[1],n[2]))\n",
    "# rank_range = collect(1:3:20)\n",
    "rank_range = collect(1:3:min(n[1],n[2]))\n",
    "\n",
    "ranks = []\n",
    "nR_q = []\n",
    "nU = []\n",
    "ccR_q = []\n",
    "ccU = []\n",
    "\n",
    "for rank in rank_range\n",
    "    push!(ranks,rank)\n",
    "    println(\"#$(rank) | computing naive low-rank approximation\")\n",
    "    nRr_q, nUr = naive_low_multilinear_rank_approximation(M, q, data, [rank,rank]); \n",
    "    push!(nR_q, nRr_q)\n",
    "    push!(nU, nUr)\n",
    "    println(\"#$(rank) | computing curvature corrected low-rank approximation\")\n",
    "    ccRr_q, ccUr = curvature_corrected_low_multilinear_rank_approximation(M, q, data, [rank,rank]); \n",
    "    push!(ccR_q, ccRr_q)\n",
    "    push!(ccU, ccUr)\n",
    "end"
   ]
  },
  {
   "cell_type": "code",
   "execution_count": 27,
   "metadata": {},
   "outputs": [],
   "source": [
    "num_ranks = length(ccU)\n",
    "ref_distance = sum(distance.(Ref(M), Ref(q), data).^2)\n",
    "\n",
    "naive_tangent_distances_r = zeros(num_ranks)\n",
    "predicted_naive_distances_r= zeros(num_ranks)\n",
    "true_naive_distances_r= zeros(num_ranks)\n",
    "\n",
    "curvature_corrected_tangent_distances_r = zeros(num_ranks)\n",
    "predicted_curvature_corrected_distances_r = zeros(num_ranks)\n",
    "true_curvature_corrected_distances_r = zeros(num_ranks)\n",
    "\n",
    "for (idx,rank) in enumerate(ranks)\n",
    "    naive_log_q_data_r = Symmetric.([sum([nR_q[idx][i,j] * nU[idx][1][k,i] * nU[idx][2][l,j] for i in 1:rank, j in 1:rank]) for k=1:n[1], l=1:n[2]])\n",
    "    curvature_corrected_log_q_data_r = Symmetric.([sum([ccR_q[idx][i,j] * ccU[idx][1][k,i] * ccU[idx][2][l,j] for i in 1:rank, j in 1:rank]) for k=1:n[1], l=1:n[2]])\n",
    "    # expoentiate back\n",
    "    naive_data_r = exp.(Ref(M), Ref(q), naive_log_q_data_r)\n",
    "    curvature_corrected_data_r = exp.(Ref(M), Ref(q), curvature_corrected_log_q_data_r)\n",
    "\n",
    "    # compute relative tangent space error\n",
    "    naive_tangent_distances_r[idx] = sum(norm.(Ref(M), Ref(q),  log_q_data - naive_log_q_data_r).^2) / ref_distance\n",
    "    curvature_corrected_tangent_distances_r[idx] = sum(norm.(Ref(M), Ref(q),  log_q_data - curvature_corrected_log_q_data_r).^2) / ref_distance\n",
    "\n",
    "    # compute relative manifold error\n",
    "    predicted_naive_distances_r[idx] = curvature_corrected_loss(M, q, data, naive_log_q_data_r)\n",
    "    true_naive_distances_r[idx] = exact_loss(M, q, data, naive_log_q_data_r)\n",
    "    predicted_curvature_corrected_distances_r[idx] = curvature_corrected_loss(M, q, data, curvature_corrected_log_q_data_r)\n",
    "    true_curvature_corrected_distances_r[idx] = exact_loss(M, q, data, curvature_corrected_log_q_data_r)\n",
    "end"
   ]
  },
  {
   "cell_type": "code",
   "execution_count": 28,
   "metadata": {},
   "outputs": [
    {
     "data": {
      "text/plain": [
       "\"/Users/wdiepeveen/Documents/PhD/Projects/8 - Manifold-valued tensor decomposition/src/manifold-valued-tensors/experiments/2D/P3/results/Camino2D_logerrors_by_rank.png\""
      ]
     },
     "execution_count": 28,
     "metadata": {},
     "output_type": "execute_result"
    }
   ],
   "source": [
    "plot(ranks, [naive_tangent_distances_r, true_naive_distances_r, true_curvature_corrected_distances_r], label = [\"theoretical lower bound\" \"naive\" \"curvature corrected\"], ylims=(0,1), xlims=(1,max(ranks...)),xaxis=(\"approximation rank\"), yaxis=(L\"$\\varepsilon_{rel}$\"))\n",
    "savefig(\"results/Camino2D_errors_by_rank.png\")\n",
    "plot(ranks, [naive_tangent_distances_r .+ 1e-16, true_naive_distances_r .+ 1e-16, true_curvature_corrected_distances_r .+ 1e-16], label = [\"theoretical lower bound\" \"naive\" \"curvature corrected\"], ylims=(1e-16,1), xlims=(1,max(ranks...)), xaxis=(\"approximation rank\"), yaxis=(L\"$\\varepsilon_{rel}$\", :log), legend=:bottomleft)\n",
    "savefig(\"results/Camino2D_logerrors_by_rank.png\")"
   ]
  },
  {
   "cell_type": "code",
   "execution_count": 29,
   "metadata": {},
   "outputs": [
    {
     "data": {
      "text/plain": [
       "\"/Users/wdiepeveen/Documents/PhD/Projects/8 - Manifold-valued tensor decomposition/src/manifold-valued-tensors/experiments/2D/P3/results/Camino2D_logdiscrepancy_by_rank.png\""
      ]
     },
     "execution_count": 29,
     "metadata": {},
     "output_type": "execute_result"
    }
   ],
   "source": [
    "# It would be nice to also have a plot that tells us something about the error in predicting the manifold loss (using CCL) and the actual loss \n",
    "# (1) for the naive approach (2) for the curvature corrected approach\n",
    "plot(ranks, [predicted_naive_distances_r ./ true_naive_distances_r, predicted_curvature_corrected_distances_r ./ true_curvature_corrected_distances_r], label = [\"discrepancy in initialisation\" \"discrepancy in solutions\"], xlims=(1,max(ranks...)),xaxis=(\"approximation rank\"), yaxis=(L\"$\\delta_{rel}$\"))\n",
    "savefig(\"results/Camino2D_discrepancy_by_rank.png\")\n",
    "plot(ranks, [predicted_naive_distances_r ./ true_naive_distances_r, predicted_curvature_corrected_distances_r ./ true_curvature_corrected_distances_r], label = [\"discrepancy in initialisation\" \"discrepancy in solutions\"], xlims=(1,max(ranks...)), xaxis=(\"approximation rank\"), yaxis=(L\"$\\delta_{rel}$\", :log), legend=:bottomleft)\n",
    "savefig(\"results/Camino2D_logdiscrepancy_by_rank.png\")"
   ]
  }
 ],
 "metadata": {
  "kernelspec": {
   "display_name": "Julia 1.7.2",
   "language": "julia",
   "name": "julia-1.7"
  },
  "language_info": {
   "file_extension": ".jl",
   "mimetype": "application/julia",
   "name": "julia",
   "version": "1.7.2"
  },
  "orig_nbformat": 4,
  "vscode": {
   "interpreter": {
    "hash": "31f2aee4e71d21fbe5cf8b01ff0e069b9275f58929596ceb00d14d90e3e16cd6"
   }
  }
 },
 "nbformat": 4,
 "nbformat_minor": 2
}
