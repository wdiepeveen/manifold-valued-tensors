{
 "cells": [
  {
   "attachments": {},
   "cell_type": "markdown",
   "metadata": {},
   "source": [
    "# Low-rank approximation on $\\mathcal{P}(d)$ - the space of $d$-dimensional SPD matrices"
   ]
  },
  {
   "attachments": {},
   "cell_type": "markdown",
   "metadata": {},
   "source": [
    "In this notebook we want to get some intuition in different approaches for computing low-rank approximations for manifold-valued signals"
   ]
  },
  {
   "cell_type": "code",
   "execution_count": 18,
   "metadata": {},
   "outputs": [],
   "source": [
    "using Manifolds\n",
    "using Manopt\n",
    "using LinearAlgebra\n",
    "using NIfTI\n",
    "using Plots\n",
    "using LaTeXStrings\n",
    "using BenchmarkTools"
   ]
  },
  {
   "cell_type": "code",
   "execution_count": 19,
   "metadata": {},
   "outputs": [
    {
     "data": {
      "text/plain": [
       "exact_loss (generic function with 2 methods)"
      ]
     },
     "execution_count": 19,
     "metadata": {},
     "output_type": "execute_result"
    }
   ],
   "source": [
    "include(\"../../../src/decompositions/tensors/naive_low_multilinear_rank_approximation.jl\")\n",
    "include(\"../../../src/decompositions/tensors/curvature_corrected_low_multilinear_rank_approximation.jl\")\n",
    "include(\"../../../src/decompositions/tensors/iterative_curvature_corrected_low_multilinear_rank_approximation.jl\")\n",
    "\n",
    "include(\"../../../src/functions/loss_functions/curvature_corrected_loss.jl\")\n",
    "include(\"../../../src/functions/loss_functions/exact_loss.jl\")"
   ]
  },
  {
   "attachments": {},
   "cell_type": "markdown",
   "metadata": {},
   "source": [
    "### Load data and construct manifold ###"
   ]
  },
  {
   "cell_type": "code",
   "execution_count": 20,
   "metadata": {},
   "outputs": [
    {
     "data": {
      "text/plain": [
       "(112, 112, 50, 1, 6)"
      ]
     },
     "execution_count": 20,
     "metadata": {},
     "output_type": "execute_result"
    }
   ],
   "source": [
    "# load data\n",
    "ni = niread(\"../../../data/nifti_dt_nonlinear.nii.gz\") * 1e9;\n",
    "size(ni)"
   ]
  },
  {
   "cell_type": "code",
   "execution_count": 21,
   "metadata": {},
   "outputs": [
    {
     "name": "stdout",
     "output_type": "stream",
     "text": [
      "data size = (40, 40)\n",
      "data patch size = (10, 10)\n"
     ]
    },
    {
     "data": {
      "text/plain": [
       "6"
      ]
     },
     "execution_count": 21,
     "metadata": {},
     "output_type": "execute_result"
    }
   ],
   "source": [
    " d1, d2, d3, _, d = size(ni)\n",
    "\n",
    "# construct data as points on the manifold (and add 1e-5 * I for numerical stability)\n",
    "predata = [ # data ordered as [xx, yx, yy, zx, zy, zz]\n",
    "    [\n",
    "    [ni[i,j,k,1,1] + 1e-5;; ni[i,j,k,1,2];; ni[i,j,k,1,4]]; \n",
    "    [ni[i,j,k,1,2];; ni[i,j,k,1,3] + 1e-5;; ni[i,j,k,1,5]]; \n",
    "    [ni[i,j,k,1,4];; ni[i,j,k,1,5];; ni[i,j,k,1,6] + 1e-5]\n",
    "    ] for i=1:d1, j=1:d2, k=1:d3];\n",
    "    \n",
    "# pick a 2D slice \n",
    "data = predata[38:77,36:75,15];\n",
    "data_patch = data[1:10,1:10]\n",
    "println(\"data size = $(size(data))\")\n",
    "println(\"data patch size = $(size(data_patch))\")\n",
    "\n",
    "# construct data manifold\n",
    "n = size(data)\n",
    "n_patch = size(data_patch)\n",
    "M = SymmetricPositiveDefinite(3)\n",
    "d = manifold_dimension(M) "
   ]
  },
  {
   "attachments": {},
   "cell_type": "markdown",
   "metadata": {},
   "source": [
    "### Construct low rank approximation for full data ###"
   ]
  },
  {
   "cell_type": "code",
   "execution_count": 23,
   "metadata": {},
   "outputs": [],
   "source": [
    "# Export slice image\n",
    "asymptote_export_SPD(\"results/Camino2D_orig.asy\", data=data);"
   ]
  },
  {
   "cell_type": "code",
   "execution_count": 22,
   "metadata": {},
   "outputs": [],
   "source": [
    "unrolled_data = []\n",
    "for mat in data\n",
    "    push!(unrolled_data,mat)\n",
    "end\n",
    "q = mean(M, unrolled_data)\n",
    "log_q_data = log.(Ref(M), Ref(q), data);  # ∈ T_q P(3)^n"
   ]
  },
  {
   "cell_type": "code",
   "execution_count": 25,
   "metadata": {},
   "outputs": [
    {
     "data": {
      "text/plain": [
       "([[0.8950044738973227 0.6692007023653097 0.18192408878533542; 0.6692007023653097 -0.3959969445677654 -0.1943966809004528; 0.18192408878533542 -0.1943966809004528 0.520395048654941] [4.778954643848296 0.8350167502433133 -0.6096050134116588; 0.8350167502433133 3.4546565459092684 -0.29378223771945977; -0.6096050134116588 -0.29378223771945977 3.591810436594278] … [-1.5789986320626614 1.818457276265771 0.5161712206847788; 1.818457276265771 -1.0787680982280126 -0.6785620671386691; 0.5161712206847788 -0.6785620671386691 -2.029295990487366] [1.2666231856002175 -1.3857754891774232 0.7759527838512013; -1.3857754891774232 0.8360238590419994 -0.5417704520633215; 0.7759527838512013 -0.5417704520633215 -1.1620456970187312]; [-3.4061642776829895 0.6555409784628693 -0.2285094606598303; 0.6555409784628693 -3.4678282342077376 1.0460681109163212; -0.2285094606598303 1.0460681109163212 -4.936097465547379] [2.3640118956035483 1.4383978171194534 -1.0177369726704752; 1.4383978171194534 0.6779202101827806 -0.5056264100636001; -1.0177369726704752 -0.5056264100636001 0.7976252957901824] … [3.20455742184471 -0.29808544030499007 0.613047215588028; -0.29808544030499007 3.381224411273783 -0.497684250628249; 0.613047215588028 -0.497684250628249 1.6884390995287748] [3.8977450669152534 -0.3464292767511842 -1.259338649937283; -0.3464292767511842 1.6091846813052246 -1.3512502098516388; -1.259338649937283 -1.3512502098516388 2.012611912970856]; … ; [-0.6693971807301642 1.0472559093623215 -1.5281158108880488; 1.0472559093623215 -0.9240094277249985 -0.14305738095379303; -1.5281158108880488 -0.14305738095379303 -1.2096894222331986] [0.6108028385435443 0.31687840868977735 0.18357191019577002; 0.31687840868977735 0.9906168449324243 1.0436316724615846; 0.18357191019577002 1.0436316724615846 -2.584831600652601] … [-5.457906686848925 -0.7350957707477949 -0.6530625279744716; -0.7350957707477949 -5.575893027123535 0.08616662060939027; -0.6530625279744716 0.08616662060939027 -6.120231788223399] [0.5671368494047136 0.8140919877587615 -1.3182075453820186; 0.8140919877587615 -2.961280685983613 0.5608720466991723; -1.3182075453820186 0.5608720466991723 -4.702900144431448]; [1.9500002399106957 0.7826364965186415 0.2552551777163476; 0.7826364965186415 0.7241295748225222 0.04320231811866004; 0.2552551777163476 0.04320231811866004 0.1476656228190441] [-1.9347129125017912 0.8375509897366646 -1.263002506919732; 0.8375509897366646 -2.1720986159426037 -0.055693007107397524; -1.263002506919732 -0.055693007107397524 -0.2887280969987108] … [-4.390018621119699 0.02352324430230173 0.605488837412812; 0.02352324430230173 -4.187065217263196 0.23021832297207398; 0.605488837412812 0.23021832297207398 -6.69804377463542] [2.51235292015478 -1.2547801235829739 -0.41812879194841945; -1.2547801235829739 10.587212915683189 -0.308119430596578; -0.41812879194841945 -0.308119430596578 7.92645981620222]], Any[[0.07369414600721902 -0.10283073925931555 … 0.024825531135978473 0.01825056572390972; 0.007503421431141708 -0.003119702194461007 … 0.0598155867130724 0.011286358909395016; … ; 0.022151137348604633 0.004105826619535638 … 0.0275789631820455 0.02528601231565364; -0.03584686304934897 -0.013949140889512403 … 0.04961321268620036 0.04414382187227519], [0.0274228105285768 0.0061987874927892156 … -0.012825006978837478 0.04747874432659447; 0.052827036469287804 -0.012956920216132801 … -0.04693859795532082 0.0561268661339567; … ; -0.009545768829023 -0.03887247868890259 … 0.03381555487563889 -0.05814381680435138; -0.036028423876238176 -0.029092554571058176 … 0.021944854226838912 -0.021908436551679164]])"
      ]
     },
     "execution_count": 25,
     "metadata": {},
     "output_type": "execute_result"
    }
   ],
   "source": [
    "curvature_corrected_low_multilinear_rank_approximation(M, q, data, [5,5])"
   ]
  },
  {
   "cell_type": "code",
   "execution_count": 23,
   "metadata": {},
   "outputs": [
    {
     "name": "stdout",
     "output_type": "stream",
     "text": [
      "#1 | computing naive low-rank approximation\n",
      "#1 | computing curvature corrected low-rank approximation\n",
      "#4 | computing naive low-rank approximation\n",
      "#4 | computing curvature corrected low-rank approximation\n",
      "#7 | computing naive low-rank approximation\n",
      "#7 | computing curvature corrected low-rank approximation\n",
      "#10 | computing naive low-rank approximation\n",
      "#10 | computing curvature corrected low-rank approximation\n",
      "#13 | computing naive low-rank approximation\n",
      "#13 | computing curvature corrected low-rank approximation\n",
      "#16 | computing naive low-rank approximation\n",
      "#16 | computing curvature corrected low-rank approximation\n",
      "#19 | computing naive low-rank approximation\n",
      "#19 | computing curvature corrected low-rank approximation\n",
      "#22 | computing naive low-rank approximation\n",
      "#22 | computing curvature corrected low-rank approximation\n",
      "#25 | computing naive low-rank approximation\n",
      "#25 | computing curvature corrected low-rank approximation\n",
      "#28 | computing naive low-rank approximation\n",
      "#28 | computing curvature corrected low-rank approximation\n",
      "#31 | computing naive low-rank approximation\n",
      "#31 | computing curvature corrected low-rank approximation\n",
      "#34 | computing naive low-rank approximation\n",
      "#34 | computing curvature corrected low-rank approximation\n",
      "#37 | computing naive low-rank approximation\n",
      "#37 | computing curvature corrected low-rank approximation\n"
     ]
    },
    {
     "ename": "LoadError",
     "evalue": "InterruptException:",
     "output_type": "error",
     "traceback": [
      "InterruptException:",
      "",
      "Stacktrace:",
      "  [1] Array",
      "    @ ./boot.jl:459 [inlined]",
      "  [2] Array",
      "    @ ./boot.jl:467 [inlined]",
      "  [3] similar",
      "    @ ./array.jl:378 [inlined]",
      "  [4] similar",
      "    @ /Applications/Julia-1.7.app/Contents/Resources/julia/share/julia/stdlib/v1.7/LinearAlgebra/src/symmetric.jl:254 [inlined]",
      "  [5] /(B::Symmetric{Float64, Matrix{Float64}}, F::Cholesky{Float64, Matrix{Float64}})",
      "    @ LinearAlgebra /Applications/Julia-1.7.app/Contents/Resources/julia/share/julia/stdlib/v1.7/LinearAlgebra/src/factorization.jl:113",
      "  [6] inner(#unused#::SymmetricPositiveDefinite{3}, p::Matrix{Float64}, X::Matrix{Float64}, Y::Matrix{Float64})",
      "    @ Manifolds ~/.julia/packages/Manifolds/RgXwm/src/manifolds/SymmetricPositiveDefiniteLinearAffine.jl:323",
      "  [7] _broadcast_getindex_evalf",
      "    @ ./broadcast.jl:670 [inlined]",
      "  [8] _broadcast_getindex",
      "    @ ./broadcast.jl:643 [inlined]",
      "  [9] _getindex",
      "    @ ./broadcast.jl:667 [inlined]",
      " [10] _getindex",
      "    @ ./broadcast.jl:666 [inlined]",
      " [11] _broadcast_getindex",
      "    @ ./broadcast.jl:642 [inlined]",
      " [12] getindex",
      "    @ ./broadcast.jl:597 [inlined]",
      " [13] macro expansion",
      "    @ ./broadcast.jl:961 [inlined]",
      " [14] macro expansion",
      "    @ ./simdloop.jl:77 [inlined]",
      " [15] copyto!",
      "    @ ./broadcast.jl:960 [inlined]",
      " [16] copyto!",
      "    @ ./broadcast.jl:913 [inlined]",
      " [17] copy",
      "    @ ./broadcast.jl:885 [inlined]",
      " [18] materialize(bc::Base.Broadcast.Broadcasted{Base.Broadcast.DefaultArrayStyle{6}, Nothing, typeof(*), Tuple{Base.Broadcast.Broadcasted{Base.Broadcast.DefaultArrayStyle{6}, Nothing, typeof(*), Tuple{Array{Float64, 6}, Array{Float64, 6}}}, Base.Broadcast.Broadcasted{Base.Broadcast.DefaultArrayStyle{6}, Nothing, typeof(inner), Tuple{Base.RefValue{SymmetricPositiveDefinite{3}}, Base.RefValue{Matrix{Float64}}, Array{Matrix{Float64}, 6}, Array{Matrix{Float64}, 6}}}}})",
      "    @ Base.Broadcast ./broadcast.jl:860",
      " [19] curvature_corrected_low_multilinear_rank_approximation(M::SymmetricPositiveDefinite{3}, q::Matrix{Float64}, X::Matrix{Matrix{Float64}}, rank::Vector{Int64})",
      "    @ Main ~/Documents/PhD/Projects/8 - Manifold-valued tensor decomposition/src/manifold-valued-tensors/src/decompositions/tensors/curvature_corrected_low_multilinear_rank_approximation.jl:30",
      " [20] top-level scope",
      "    @ ./In[23]:18",
      " [21] eval",
      "    @ ./boot.jl:373 [inlined]",
      " [22] include_string(mapexpr::typeof(REPL.softscope), mod::Module, code::String, filename::String)",
      "    @ Base ./loading.jl:1196"
     ]
    }
   ],
   "source": [
    "# rank_range = collect(1:min(n[1],n[2]))\n",
    "# rank_range = collect(1:3:20)\n",
    "rank_range = collect(1:3:min(n[1],n[2]))\n",
    "\n",
    "ranks = []\n",
    "nR_q = []\n",
    "nU = []\n",
    "ccR_q = []\n",
    "ccU = []\n",
    "\n",
    "for rank in rank_range\n",
    "    push!(ranks,rank)\n",
    "    println(\"#$(rank) | computing naive low-rank approximation\")\n",
    "    nRr_q, nUr = naive_low_multilinear_rank_approximation(M, q, data, [rank,rank]); \n",
    "    push!(nR_q, nRr_q)\n",
    "    push!(nU, nUr)\n",
    "    println(\"#$(rank) | computing curvature corrected low-rank approximation\")\n",
    "    ccRr_q, ccUr = curvature_corrected_low_multilinear_rank_approximation(M, q, data, [rank,rank]); \n",
    "    push!(ccR_q, ccRr_q)\n",
    "    push!(ccU, ccUr)\n",
    "end"
   ]
  },
  {
   "cell_type": "code",
   "execution_count": null,
   "metadata": {},
   "outputs": [],
   "source": [
    "num_ranks = length(ccU)\n",
    "ref_distance = sum(distance.(Ref(M), Ref(q), data).^2)\n",
    "\n",
    "naive_tangent_distances_r = zeros(num_ranks)\n",
    "predicted_naive_distances_r= zeros(num_ranks)\n",
    "true_naive_distances_r= zeros(num_ranks)\n",
    "\n",
    "curvature_corrected_tangent_distances_r = zeros(num_ranks)\n",
    "predicted_curvature_corrected_distances_r = zeros(num_ranks)\n",
    "true_curvature_corrected_distances_r = zeros(num_ranks)\n",
    "\n",
    "for (idx,rank) in enumerate(ranks)\n",
    "    naive_log_q_data_r = Symmetric.([sum([nR_q[idx][i,j] * nU[idx][1][k,i] * nU[idx][2][l,j] for i in 1:rank, j in 1:rank]) for k=1:n[1], l=1:n[2]])\n",
    "    curvature_corrected_log_q_data_r = Symmetric.([sum([ccR_q[idx][i,j] * ccU[idx][1][k,i] * ccU[idx][2][l,j] for i in 1:rank, j in 1:rank]) for k=1:n[1], l=1:n[2]])\n",
    "    # expoentiate back\n",
    "    naive_data_r = exp.(Ref(M), Ref(q), naive_log_q_data_r)\n",
    "    curvature_corrected_data_r = exp.(Ref(M), Ref(q), curvature_corrected_log_q_data_r)\n",
    "\n",
    "    # compute relative tangent space error\n",
    "    naive_tangent_distances_r[idx] = sum(norm.(Ref(M), Ref(q),  log_q_data - naive_log_q_data_r).^2) / ref_distance\n",
    "    curvature_corrected_tangent_distances_r[idx] = sum(norm.(Ref(M), Ref(q),  log_q_data - curvature_corrected_log_q_data_r).^2) / ref_distance\n",
    "\n",
    "    # compute relative manifold error\n",
    "    predicted_naive_distances_r[idx] = curvature_corrected_loss(M, q, data, naive_log_q_data_r)\n",
    "    true_naive_distances_r[idx] = exact_loss(M, q, data, naive_log_q_data_r)\n",
    "    predicted_curvature_corrected_distances_r[idx] = curvature_corrected_loss(M, q, data, curvature_corrected_log_q_data_r)\n",
    "    true_curvature_corrected_distances_r[idx] = exact_loss(M, q, data, curvature_corrected_log_q_data_r)\n",
    "end"
   ]
  },
  {
   "cell_type": "code",
   "execution_count": null,
   "metadata": {},
   "outputs": [
    {
     "ename": "LoadError",
     "evalue": "UndefVarError: naive_tangent_distances_r not defined",
     "output_type": "error",
     "traceback": [
      "UndefVarError: naive_tangent_distances_r not defined",
      "",
      "Stacktrace:",
      " [1] top-level scope",
      "   @ In[16]:1",
      " [2] eval",
      "   @ ./boot.jl:373 [inlined]",
      " [3] include_string(mapexpr::typeof(REPL.softscope), mod::Module, code::String, filename::String)",
      "   @ Base ./loading.jl:1196"
     ]
    }
   ],
   "source": [
    "plot(ranks, [naive_tangent_distances_r, true_naive_distances_r, true_curvature_corrected_distances_r], label = [\"theoretical lower bound\" \"naive\" \"curvature corrected\"], ylims=(0,1), xlims=(1,max(ranks...)),xaxis=(\"approximation rank\"), yaxis=(L\"$\\varepsilon_{rel}$\"))\n",
    "savefig(\"results/Camino2D_errors_by_rank.svg\")\n",
    "plot(ranks, [naive_tangent_distances_r .+ 1e-16, true_naive_distances_r .+ 1e-16, true_curvature_corrected_distances_r .+ 1e-16], label = [\"theoretical lower bound\" \"naive\" \"curvature corrected\"], ylims=(1e-16,1), xlims=(1,max(ranks...)), xaxis=(\"approximation rank\"), yaxis=(L\"$\\varepsilon_{rel}$\", :log), legend=:bottomleft)\n",
    "savefig(\"results/Camino2D_logerrors_by_rank.svg\")"
   ]
  },
  {
   "cell_type": "code",
   "execution_count": null,
   "metadata": {},
   "outputs": [
    {
     "data": {
      "text/plain": [
       "\"/Users/wdiepeveen/Documents/PhD/Projects/8 - Manifold-valued tensor decomposition/src/manifold-valued-tensors/experiments/2D/P3/results/Camino2D_logdiscrepancy_by_rank.png\""
      ]
     },
     "execution_count": 44,
     "metadata": {},
     "output_type": "execute_result"
    }
   ],
   "source": [
    "# It would be nice to also have a plot that tells us something about the error in predicting the manifold loss (using CCL) and the actual loss \n",
    "# (1) for the naive approach (2) for the curvature corrected approach\n",
    "# plot(ranks, [predicted_naive_distances_r ./ true_naive_distances_r, predicted_curvature_corrected_distances_r ./ true_curvature_corrected_distances_r], label = [\"discrepancy in initialisation\" \"discrepancy in solutions\"], xlims=(1,max(ranks...)),xaxis=(\"approximation rank\"), yaxis=(L\"$\\delta_{rel}$\"))\n",
    "plot(ranks[1:end-1], (predicted_curvature_corrected_distances_r[1:end-1] .- true_curvature_corrected_distances_r[1:end-1] .+ 1e-16) ./ (curvature_corrected_tangent_distances_r[1:end-1] .* sqrt.(curvature_corrected_tangent_distances_r[1:end-1] .* ref_distance) .+ 1e-16), label=(\"curvature corrected\"), xlims=(1,ranks[end-1]),xaxis=(\"approximation rank\"), yaxis=(L\"$\\delta_{rel}$\"), color=3)\n",
    "savefig(\"results/Camino2D_discrepancy_by_rank.svg\")\n",
    "# plot(ranks, [predicted_naive_distances_r ./ true_naive_distances_r, predicted_curvature_corrected_distances_r ./ true_curvature_corrected_distances_r], label = [\"discrepancy in initialisation\" \"discrepancy in solutions\"], xlims=(1,max(ranks...)), xaxis=(\"approximation rank\"), yaxis=(L\"$\\delta_{rel}$\", :log), legend=:bottomleft)\n",
    "# savefig(\"results/Camino2D_logdiscrepancy_by_rank.svg\")"
   ]
  },
  {
   "attachments": {},
   "cell_type": "markdown",
   "metadata": {},
   "source": [
    "#### Benchmark different methods ####"
   ]
  },
  {
   "cell_type": "code",
   "execution_count": 8,
   "metadata": {},
   "outputs": [
    {
     "data": {
      "text/plain": [
       "BenchmarkTools.Trial: 17 samples with 1 evaluation.\n",
       " Range \u001b[90m(\u001b[39m\u001b[36m\u001b[1mmin\u001b[22m\u001b[39m … \u001b[35mmax\u001b[39m\u001b[90m):  \u001b[39m\u001b[36m\u001b[1m261.216 ms\u001b[22m\u001b[39m … \u001b[35m333.792 ms\u001b[39m  \u001b[90m┊\u001b[39m GC \u001b[90m(\u001b[39mmin … max\u001b[90m): \u001b[39m0.00% … 6.07%\n",
       " Time  \u001b[90m(\u001b[39m\u001b[34m\u001b[1mmedian\u001b[22m\u001b[39m\u001b[90m):     \u001b[39m\u001b[34m\u001b[1m300.306 ms               \u001b[22m\u001b[39m\u001b[90m┊\u001b[39m GC \u001b[90m(\u001b[39mmedian\u001b[90m):    \u001b[39m6.10%\n",
       " Time  \u001b[90m(\u001b[39m\u001b[32m\u001b[1mmean\u001b[22m\u001b[39m ± \u001b[32mσ\u001b[39m\u001b[90m):   \u001b[39m\u001b[32m\u001b[1m297.645 ms\u001b[22m\u001b[39m ± \u001b[32m 18.973 ms\u001b[39m  \u001b[90m┊\u001b[39m GC \u001b[90m(\u001b[39mmean ± σ\u001b[90m):  \u001b[39m4.21% ± 3.16%\n",
       "\n",
       "  \u001b[39m▁\u001b[39m▁\u001b[39m \u001b[39m \u001b[39m \u001b[39m \u001b[39m \u001b[39m \u001b[39m \u001b[39m \u001b[39m \u001b[39m \u001b[39m \u001b[39m \u001b[39m \u001b[39m \u001b[39m \u001b[39m \u001b[39m \u001b[39m▁\u001b[39m \u001b[39m█\u001b[39m \u001b[39m \u001b[39m▁\u001b[39m \u001b[39m \u001b[39m \u001b[39m▁\u001b[34m▁\u001b[39m\u001b[39m \u001b[32m \u001b[39m\u001b[39m▁\u001b[39m█\u001b[39m \u001b[39m▁\u001b[39m▁\u001b[39m \u001b[39m \u001b[39m▁\u001b[39m \u001b[39m \u001b[39m \u001b[39m \u001b[39m▁\u001b[39m \u001b[39m \u001b[39m \u001b[39m \u001b[39m \u001b[39m \u001b[39m \u001b[39m \u001b[39m \u001b[39m \u001b[39m \u001b[39m▁\u001b[39m \u001b[39m \u001b[39m \u001b[39m▁\u001b[39m \u001b[39m \n",
       "  \u001b[39m█\u001b[39m█\u001b[39m▁\u001b[39m▁\u001b[39m▁\u001b[39m▁\u001b[39m▁\u001b[39m▁\u001b[39m▁\u001b[39m▁\u001b[39m▁\u001b[39m▁\u001b[39m▁\u001b[39m▁\u001b[39m▁\u001b[39m▁\u001b[39m▁\u001b[39m▁\u001b[39m▁\u001b[39m█\u001b[39m▁\u001b[39m█\u001b[39m▁\u001b[39m▁\u001b[39m█\u001b[39m▁\u001b[39m▁\u001b[39m▁\u001b[39m█\u001b[34m█\u001b[39m\u001b[39m▁\u001b[32m▁\u001b[39m\u001b[39m█\u001b[39m█\u001b[39m▁\u001b[39m█\u001b[39m█\u001b[39m▁\u001b[39m▁\u001b[39m█\u001b[39m▁\u001b[39m▁\u001b[39m▁\u001b[39m▁\u001b[39m█\u001b[39m▁\u001b[39m▁\u001b[39m▁\u001b[39m▁\u001b[39m▁\u001b[39m▁\u001b[39m▁\u001b[39m▁\u001b[39m▁\u001b[39m▁\u001b[39m▁\u001b[39m█\u001b[39m▁\u001b[39m▁\u001b[39m▁\u001b[39m█\u001b[39m \u001b[39m▁\n",
       "  261 ms\u001b[90m           Histogram: frequency by time\u001b[39m          334 ms \u001b[0m\u001b[1m<\u001b[22m\n",
       "\n",
       " Memory estimate\u001b[90m: \u001b[39m\u001b[33m81.78 MiB\u001b[39m, allocs estimate\u001b[90m: \u001b[39m\u001b[33m863128\u001b[39m."
      ]
     },
     "execution_count": 8,
     "metadata": {},
     "output_type": "execute_result"
    }
   ],
   "source": [
    "@benchmark naive_low_multilinear_rank_approximation(M, q, data, [2,2])"
   ]
  },
  {
   "cell_type": "code",
   "execution_count": 9,
   "metadata": {},
   "outputs": [
    {
     "data": {
      "text/plain": [
       "BenchmarkTools.Trial: 7 samples with 1 evaluation.\n",
       " Range \u001b[90m(\u001b[39m\u001b[36m\u001b[1mmin\u001b[22m\u001b[39m … \u001b[35mmax\u001b[39m\u001b[90m):  \u001b[39m\u001b[36m\u001b[1m712.979 ms\u001b[22m\u001b[39m … \u001b[35m758.683 ms\u001b[39m  \u001b[90m┊\u001b[39m GC \u001b[90m(\u001b[39mmin … max\u001b[90m): \u001b[39m2.56% … 4.97%\n",
       " Time  \u001b[90m(\u001b[39m\u001b[34m\u001b[1mmedian\u001b[22m\u001b[39m\u001b[90m):     \u001b[39m\u001b[34m\u001b[1m754.585 ms               \u001b[22m\u001b[39m\u001b[90m┊\u001b[39m GC \u001b[90m(\u001b[39mmedian\u001b[90m):    \u001b[39m5.07%\n",
       " Time  \u001b[90m(\u001b[39m\u001b[32m\u001b[1mmean\u001b[22m\u001b[39m ± \u001b[32mσ\u001b[39m\u001b[90m):   \u001b[39m\u001b[32m\u001b[1m744.111 ms\u001b[22m\u001b[39m ± \u001b[32m 16.563 ms\u001b[39m  \u001b[90m┊\u001b[39m GC \u001b[90m(\u001b[39mmean ± σ\u001b[90m):  \u001b[39m4.44% ± 1.34%\n",
       "\n",
       "  \u001b[39m \u001b[39m \u001b[39m \u001b[39m \u001b[39m \u001b[39m \u001b[39m \u001b[39m \u001b[39m \u001b[39m \u001b[39m \u001b[39m \u001b[39m \u001b[39m \u001b[39m \u001b[39m \u001b[39m \u001b[39m \u001b[39m \u001b[39m \u001b[39m \u001b[39m \u001b[39m \u001b[39m \u001b[39m \u001b[39m \u001b[39m \u001b[39m \u001b[39m \u001b[39m \u001b[39m \u001b[39m \u001b[39m \u001b[39m \u001b[39m \u001b[34m \u001b[39m\u001b[39m \u001b[39m \u001b[39m \u001b[39m \u001b[39m \u001b[39m \u001b[32m \u001b[39m\u001b[39m \u001b[39m \u001b[39m \u001b[39m \u001b[39m \u001b[39m \u001b[39m \u001b[39m \u001b[39m \u001b[39m \u001b[39m \u001b[39m \u001b[39m█\u001b[39m \u001b[39m \u001b[39m \u001b[39m \u001b[39m \u001b[39m \u001b[39m \n",
       "  \u001b[39m▇\u001b[39m▁\u001b[39m▁\u001b[39m▁\u001b[39m▁\u001b[39m▁\u001b[39m▁\u001b[39m▁\u001b[39m▁\u001b[39m▁\u001b[39m▁\u001b[39m▁\u001b[39m▁\u001b[39m▁\u001b[39m▁\u001b[39m▁\u001b[39m▁\u001b[39m▁\u001b[39m▁\u001b[39m▁\u001b[39m▁\u001b[39m▁\u001b[39m▁\u001b[39m▁\u001b[39m▁\u001b[39m▁\u001b[39m▁\u001b[39m▇\u001b[39m▁\u001b[39m▁\u001b[39m▁\u001b[39m▁\u001b[39m▁\u001b[39m▁\u001b[39m▁\u001b[34m▇\u001b[39m\u001b[39m▁\u001b[39m▁\u001b[39m▁\u001b[39m▁\u001b[39m▁\u001b[39m▁\u001b[32m▁\u001b[39m\u001b[39m▁\u001b[39m▁\u001b[39m▁\u001b[39m▁\u001b[39m▁\u001b[39m▁\u001b[39m▁\u001b[39m▁\u001b[39m▁\u001b[39m▁\u001b[39m▁\u001b[39m▁\u001b[39m█\u001b[39m▁\u001b[39m▁\u001b[39m▁\u001b[39m▁\u001b[39m▇\u001b[39m \u001b[39m▁\n",
       "  713 ms\u001b[90m           Histogram: frequency by time\u001b[39m          759 ms \u001b[0m\u001b[1m<\u001b[22m\n",
       "\n",
       " Memory estimate\u001b[90m: \u001b[39m\u001b[33m217.18 MiB\u001b[39m, allocs estimate\u001b[90m: \u001b[39m\u001b[33m2290743\u001b[39m."
      ]
     },
     "execution_count": 9,
     "metadata": {},
     "output_type": "execute_result"
    }
   ],
   "source": [
    "@benchmark curvature_corrected_low_multilinear_rank_approximation(M, q, data, [2,2]) "
   ]
  },
  {
   "cell_type": "code",
   "execution_count": 15,
   "metadata": {},
   "outputs": [],
   "source": [
    "nT = []\n",
    "nΣ = []\n",
    "\n",
    "rank_range = collect(1:6:min(n[1],n[2]))\n",
    "\n",
    "for i in rank_range\n",
    "    nbm = @benchmark naive_low_multilinear_rank_approximation(M, q, data, [$i, $i])\n",
    "    push!(nT, mean(nbm).time / 1e9)\n",
    "    push!(nΣ, std(nbm).time / 1e9)\n",
    "end"
   ]
  },
  {
   "cell_type": "code",
   "execution_count": 12,
   "metadata": {},
   "outputs": [],
   "source": [
    "ccT = []\n",
    "ccΣ = []\n",
    "\n",
    "for i in rank_range\n",
    "    ccbm = @benchmark curvature_corrected_low_multilinear_rank_approximation(M, q, data, [$i, $i])\n",
    "    push!(ccT, mean(ccbm).time / 1e9)\n",
    "    push!(ccΣ, std(ccbm).time / 1e9)\n",
    "end"
   ]
  },
  {
   "cell_type": "code",
   "execution_count": 17,
   "metadata": {},
   "outputs": [
    {
     "name": "stdout",
     "output_type": "stream",
     "text": [
      "tHOSVD & $0.297$ & $0.278$ & $0.2922$ & $0.329$ & $0.4585$ & $0.937$\\\\ \n",
      "CC-tHOSVD & $0.4487$ & $0.763$ & $1.298$ & $1.888$ & $2.896$ & $4.023$\\\\ \n"
     ]
    }
   ],
   "source": [
    "# methods above each other and results per rank in colums\n",
    "println(\"tHOSVD\" * prod([\" & \" * raw\"$\" * \"$(Float16(nT[i]))\" * raw\"$\" for i in 1:length(rank_range)]) * raw\"\\\\ \")\n",
    "println(\"CC-tHOSVD\" * prod([\" & \" * raw\"$\" * \"$(Float16(ccT[i]))\" * raw\"$\" for i in 1:length(rank_range)]) * raw\"\\\\ \")"
   ]
  },
  {
   "attachments": {},
   "cell_type": "markdown",
   "metadata": {},
   "source": [
    "### Construct low rank approximation for data patch ###"
   ]
  },
  {
   "cell_type": "code",
   "execution_count": 31,
   "metadata": {},
   "outputs": [],
   "source": [
    "# Export slice image\n",
    "asymptote_export_SPD(\"results/Camino2D_patch_orig.asy\", data=data_patch);"
   ]
  },
  {
   "cell_type": "code",
   "execution_count": 32,
   "metadata": {},
   "outputs": [],
   "source": [
    "unrolled_data_patch = []\n",
    "for mat in data_patch\n",
    "    push!(unrolled_data_patch,mat)\n",
    "end\n",
    "q_patch = mean(M, unrolled_data_patch)\n",
    "log_q_data_patch = log.(Ref(M), Ref(q_patch), data_patch);  # ∈ T_q P(3)^n"
   ]
  },
  {
   "cell_type": "code",
   "execution_count": 33,
   "metadata": {},
   "outputs": [
    {
     "data": {
      "text/plain": [
       "([[1.456967130844801 1.037992138707543 -0.11840550963060817; 1.0379921387075428 0.16280407999894575 0.23094068297268014; -0.11840550963060817 0.23094068297268014 -0.7272514736731621] [-0.6715330442894946 -0.4844381736383714 0.08096625570505155; -0.4844381736383714 -0.9587158868279703 -0.5800838384837529; 0.08096625570505155 -0.5800838384837529 0.3608374929652587] … [0.8859168288424525 0.6256748595834983 -0.275461134157919; 0.6256748595834982 1.1661001979615557 0.34819272813230634; -0.275461134157919 0.34819272813230634 -0.058904818142000874] [-0.4019241298512537 -0.1401700968336153 0.12370003306713377; -0.1401700968336153 -0.2993226486955483 0.04388092954662832; 0.12370003306713377 0.04388092954662832 0.09271531808771184]; [0.4935451478203173 -0.4229351390287915 -0.28239663734768117; -0.42293513902879143 -0.4561780134204427 -0.2311514790898678; -0.28239663734768117 -0.2311514790898678 0.3747480031689027] [0.7376121080898552 -0.205744245455683 0.4520011334249363; -0.2057442454556829 1.029290526806302 -0.06033376668772883; 0.4520011334249363 -0.06033376668772882 2.2385485292965694] … [-0.45111334204558295 -0.05268757335227224 -0.08423497269605378; -0.05268757335227225 -0.08876123161374609 -0.7521187604187233; -0.08423497269605378 -0.7521187604187233 -0.7171608106748916] [-0.22753955850272228 0.007738590558597025 0.20982717232898446; 0.007738590558597032 -0.11836257933176982 -0.16637147134759106; 0.20982717232898446 -0.16637147134759106 0.5767174725346206]; … ; [-0.43542377944074445 -0.7200183283854626 -0.6614443388682893; -0.7200183283854626 -0.7523941814455358 -0.009943402940324806; -0.6614443388682893 -0.009943402940324806 0.5039542978290165] [-1.3832590143599204 -0.3358797528318618 0.2289483941755035; -0.3358797528318618 -0.5427164285526378 0.51233350027112; 0.2289483941755035 0.51233350027112 -0.08497549542246911] … [0.11806423560271849 1.0367203409033403 -1.1491479445649142; 1.03672034090334 -3.5259034786095627 2.5188691845283113; -1.1491479445649142 2.5188691845283113 -5.4584599139847505] [0.19358207644267028 0.18882085150606615 0.6221226730988897; 0.18882085150606615 0.09963531217775254 1.1291649694517225; 0.6221226730988897 1.1291649694517225 -0.10144725097983184]; [-0.3322000784402647 -0.534176036501896 0.48196941157688444; -0.534176036501896 -0.40779037015882813 0.24379640184725848; 0.48196941157688444 0.2437964018472585 -0.04146831904748194] [1.2531590830224233 0.7186557937240501 0.5066788482112043; 0.71865579372405 1.0638985152529723 0.1280978248626181; 0.5066788482112043 0.1280978248626181 0.23455082413254494] … [-0.6279462465428088 -0.7383206309128288 -0.6774651516167338; -0.7383206309128287 -0.6867566516906126 -0.3253664021137846; -0.6774651516167338 -0.3253664021137846 0.28917268369143045] [-4.052377923263855 2.3200064732734536 2.2494294625497844; 2.3200064732734527 -2.8246673977889256 1.0519442645664125; 2.2494294625497844 1.0519442645664125 -5.876817063666235]], Any[[0.6239348175079577 0.1029623057725701 … 0.07801158456378265 -0.037740314090617864; 0.7086270884050477 0.1481098381922048 … 0.08182081242391981 -0.018816136788727886; … ; 0.01848895614608233 0.26055182816742933 … -0.9033432958287501 0.0026848533763831617; 0.08542925826723667 -0.40728829320362636 … -0.17992738615146786 0.010259975051474126], [-0.2612311010694827 -0.10673000885490044 … 0.03131791407675743 -0.03265230754353925; -0.33793458357809486 -0.17193877518517472 … 0.0481403380154516 -0.0021063423182122384; … ; -0.14460550391341337 0.3281614850493786 … -0.018947257283139674 -0.18091866584665683; -0.15294083790989035 0.32071674130583494 … 0.08845017415113332 -0.20640042727387767]])"
      ]
     },
     "execution_count": 33,
     "metadata": {},
     "output_type": "execute_result"
    }
   ],
   "source": [
    "curvature_corrected_low_multilinear_rank_approximation(M, q_patch, data_patch, [5,5])"
   ]
  },
  {
   "cell_type": "code",
   "execution_count": 37,
   "metadata": {},
   "outputs": [
    {
     "name": "stdout",
     "output_type": "stream",
     "text": [
      "#1 | computing naive low-rank approximation\n",
      "#1 | computing curvature corrected low-rank approximation\n",
      "#2 | computing naive low-rank approximation\n",
      "#2 | computing curvature corrected low-rank approximation\n",
      "#3 | computing naive low-rank approximation\n",
      "#3 | computing curvature corrected low-rank approximation\n",
      "#4 | computing naive low-rank approximation\n",
      "#4 | computing curvature corrected low-rank approximation\n",
      "#5 | computing naive low-rank approximation\n",
      "#5 | computing curvature corrected low-rank approximation\n",
      "#6 | computing naive low-rank approximation\n",
      "#6 | computing curvature corrected low-rank approximation\n",
      "#7 | computing naive low-rank approximation\n",
      "#7 | computing curvature corrected low-rank approximation\n",
      "#8 | computing naive low-rank approximation\n",
      "#8 | computing curvature corrected low-rank approximation\n",
      "#9 | computing naive low-rank approximation\n",
      "#9 | computing curvature corrected low-rank approximation\n",
      "#10 | computing naive low-rank approximation\n",
      "#10 | computing curvature corrected low-rank approximation\n"
     ]
    }
   ],
   "source": [
    "rank_range_patch = collect(1:min(n_patch[1],n_patch[2]))\n",
    "\n",
    "ranks_patch = []\n",
    "nR_q_patch = []\n",
    "nU_patch = []\n",
    "ccR_q_patch = []\n",
    "ccU_patch = []\n",
    "\n",
    "for rank in rank_range_patch\n",
    "    push!(ranks_patch,rank)\n",
    "    println(\"#$(rank) | computing naive low-rank approximation\")\n",
    "    nRr_q, nUr = naive_low_multilinear_rank_approximation(M, q_patch, data_patch, [rank,rank]); \n",
    "    push!(nR_q_patch, nRr_q)\n",
    "    push!(nU_patch, nUr)\n",
    "    println(\"#$(rank) | computing curvature corrected low-rank approximation\")\n",
    "    ccRr_q, ccUr = curvature_corrected_low_multilinear_rank_approximation(M, q_patch, data_patch, [rank,rank]); \n",
    "    push!(ccR_q_patch, ccRr_q)\n",
    "    push!(ccU_patch, ccUr)\n",
    "end"
   ]
  },
  {
   "cell_type": "code",
   "execution_count": 38,
   "metadata": {},
   "outputs": [],
   "source": [
    "num_ranks_patch = length(ccU_patch)\n",
    "ref_distance_patch = sum(distance.(Ref(M), Ref(q_patch), data_patch).^2)\n",
    "\n",
    "naive_tangent_distances_r_patch = zeros(num_ranks_patch)\n",
    "predicted_naive_distances_r_patch= zeros(num_ranks_patch)\n",
    "true_naive_distances_r_patch= zeros(num_ranks_patch)\n",
    "\n",
    "curvature_corrected_tangent_distances_r_patch = zeros(num_ranks_patch)\n",
    "predicted_curvature_corrected_distances_r_patch = zeros(num_ranks_patch)\n",
    "true_curvature_corrected_distances_r_patch = zeros(num_ranks_patch)\n",
    "\n",
    "for (idx,rank) in enumerate(ranks_patch)\n",
    "    naive_log_q_data_r_patch = Symmetric.([sum([nR_q_patch[idx][i,j] * nU_patch[idx][1][k,i] * nU_patch[idx][2][l,j] for i in 1:rank, j in 1:rank]) for k=1:n_patch[1], l=1:n_patch[2]])\n",
    "    curvature_corrected_log_q_data_r_patch = Symmetric.([sum([ccR_q_patch[idx][i,j] * ccU_patch[idx][1][k,i] * ccU_patch[idx][2][l,j] for i in 1:rank, j in 1:rank]) for k=1:n_patch[1], l=1:n_patch[2]])\n",
    "    # expoentiate back\n",
    "    naive_data_r_patch = exp.(Ref(M), Ref(q_patch), naive_log_q_data_r_patch)\n",
    "    curvature_corrected_data_r_patch = exp.(Ref(M), Ref(q_patch), curvature_corrected_log_q_data_r_patch)\n",
    "\n",
    "    # compute relative tangent space error\n",
    "    naive_tangent_distances_r_patch[idx] = sum(norm.(Ref(M), Ref(q_patch),  log_q_data_patch - naive_log_q_data_r_patch).^2) / ref_distance_patch\n",
    "    curvature_corrected_tangent_distances_r_patch[idx] = sum(norm.(Ref(M), Ref(q_patch),  log_q_data_patch - curvature_corrected_log_q_data_r_patch).^2) / ref_distance_patch\n",
    "\n",
    "    # compute relative manifold error\n",
    "    predicted_naive_distances_r_patch[idx] = curvature_corrected_loss(M, q_patch, data_patch, naive_log_q_data_r_patch)\n",
    "    true_naive_distances_r_patch[idx] = exact_loss(M, q_patch, data_patch, naive_log_q_data_r_patch)\n",
    "    predicted_curvature_corrected_distances_r_patch[idx] = curvature_corrected_loss(M, q_patch, data_patch, curvature_corrected_log_q_data_r_patch)\n",
    "    true_curvature_corrected_distances_r_patch[idx] = exact_loss(M, q_patch, data_patch, curvature_corrected_log_q_data_r_patch)\n",
    "end"
   ]
  },
  {
   "cell_type": "code",
   "execution_count": 40,
   "metadata": {},
   "outputs": [
    {
     "data": {
      "text/plain": [
       "\"/Users/wdiepeveen/Documents/PhD/Projects/8 - Manifold-valued tensor decomposition/src/manifold-valued-tensors/experiments/2D/P3/results/Camino2D_patch_logerrors_by_rank.png\""
      ]
     },
     "execution_count": 40,
     "metadata": {},
     "output_type": "execute_result"
    }
   ],
   "source": [
    "plot(ranks_patch, [naive_tangent_distances_r_patch, true_naive_distances_r_patch, true_curvature_corrected_distances_r_patch], label = [\"theoretical lower bound\" \"naive\" \"curvature corrected\"], ylims=(0,1), xlims=(1,max(ranks_patch...)),xaxis=(\"approximation rank\"), yaxis=(L\"$\\varepsilon_{rel}$\"))\n",
    "savefig(\"results/Camino2D_patch_errors_by_rank.png\")\n",
    "plot(ranks_patch, [naive_tangent_distances_r_patch .+ 1e-16, true_naive_distances_r_patch .+ 1e-16, true_curvature_corrected_distances_r_patch .+ 1e-16], label = [\"theoretical lower bound\" \"naive\" \"curvature corrected\"], ylims=(1e-16,1), xlims=(1,max(ranks_patch...)), xaxis=(\"approximation rank\"), yaxis=(L\"$\\varepsilon_{rel}$\", :log), legend=:bottomleft)\n",
    "savefig(\"results/Camino2D_patch_logerrors_by_rank.png\")"
   ]
  },
  {
   "cell_type": "code",
   "execution_count": 43,
   "metadata": {},
   "outputs": [
    {
     "data": {
      "text/plain": [
       "\"/Users/wdiepeveen/Documents/PhD/Projects/8 - Manifold-valued tensor decomposition/src/manifold-valued-tensors/experiments/2D/P3/results/Camino2D_patch_logdiscrepancy_by_rank.png\""
      ]
     },
     "execution_count": 43,
     "metadata": {},
     "output_type": "execute_result"
    }
   ],
   "source": [
    "# It would be nice to also have a plot that tells us something about the error in predicting the manifold loss (using CCL) and the actual loss \n",
    "# (1) for the naive approach (2) for the curvature corrected approach\n",
    "plot(ranks_patch, [predicted_naive_distances_r_patch ./ true_naive_distances_r_patch, predicted_curvature_corrected_distances_r_patch ./ true_curvature_corrected_distances_r_patch], label = [\"discrepancy in initialisation\" \"discrepancy in solutions\"], xlims=(1,max(ranks_patch...)),xaxis=(\"approximation rank\"), yaxis=(L\"$\\delta_{rel}$\"))\n",
    "savefig(\"results/Camino2D_patch_discrepancy_by_rank.png\")\n",
    "plot(ranks_patch, [predicted_naive_distances_r_patch ./ true_naive_distances_r_patch, predicted_curvature_corrected_distances_r_patch ./ true_curvature_corrected_distances_r_patch], label = [\"discrepancy in initialisation\" \"discrepancy in solutions\"], xlims=(1,max(ranks_patch...)), xaxis=(\"approximation rank\"), yaxis=(L\"$\\delta_{rel}$\", :log), legend=:bottomleft)\n",
    "savefig(\"results/Camino2D_patch_logdiscrepancy_by_rank.png\")"
   ]
  }
 ],
 "metadata": {
  "kernelspec": {
   "display_name": "Julia 1.7.2",
   "language": "julia",
   "name": "julia-1.7"
  },
  "language_info": {
   "file_extension": ".jl",
   "mimetype": "application/julia",
   "name": "julia",
   "version": "1.7.2"
  },
  "orig_nbformat": 4,
  "vscode": {
   "interpreter": {
    "hash": "31f2aee4e71d21fbe5cf8b01ff0e069b9275f58929596ceb00d14d90e3e16cd6"
   }
  }
 },
 "nbformat": 4,
 "nbformat_minor": 2
}
