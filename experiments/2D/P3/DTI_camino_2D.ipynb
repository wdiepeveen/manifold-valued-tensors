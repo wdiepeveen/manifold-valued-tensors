{
 "cells": [
  {
   "cell_type": "markdown",
   "metadata": {},
   "source": [
    "# Low-rank approximation on $\\mathcal{P}(d)$ - the space of $d$-dimensional SPD matrices"
   ]
  },
  {
   "cell_type": "markdown",
   "metadata": {},
   "source": [
    "In this notebook we want to get some intuition in different approaches for computing low-rank approximations for manifold-valued signals"
   ]
  },
  {
   "cell_type": "code",
   "execution_count": 72,
   "metadata": {},
   "outputs": [],
   "source": [
    "using Manifolds\n",
    "using Manopt\n",
    "using LinearAlgebra\n",
    "using NIfTI\n",
    "using Plots"
   ]
  },
  {
   "cell_type": "markdown",
   "metadata": {},
   "source": [
    "### Load data ###"
   ]
  },
  {
   "cell_type": "code",
   "execution_count": 73,
   "metadata": {},
   "outputs": [],
   "source": [
    "# load data\n",
    "# ni = niread(\"data/nifti_dt.nii.gz\") * 1e9;\n",
    "ni = niread(\"data/nifti_dt_nonlinear.nii.gz\") * 1e9;"
   ]
  },
  {
   "cell_type": "code",
   "execution_count": 74,
   "metadata": {},
   "outputs": [
    {
     "data": {
      "text/plain": [
       "(112, 112, 50, 1, 6)"
      ]
     },
     "metadata": {},
     "output_type": "display_data"
    }
   ],
   "source": [
    "size(ni)"
   ]
  },
  {
   "cell_type": "code",
   "execution_count": 75,
   "metadata": {},
   "outputs": [
    {
     "data": {
      "text/plain": [
       "6-element Vector{Float64}:\n",
       "  1.456667231281017\n",
       "  0.08766011527772122\n",
       "  1.8108553545559403\n",
       " -0.10191358174038712\n",
       " -0.15621183513392367\n",
       "  1.4246920310156952"
      ]
     },
     "metadata": {},
     "output_type": "display_data"
    }
   ],
   "source": [
    "x = 49\n",
    "y = 60\n",
    "z = 25\n",
    "\n",
    "ni[x,y,z,1,:]  # gets xx, yx, yy, zx, zy, zz"
   ]
  },
  {
   "cell_type": "markdown",
   "metadata": {},
   "source": [
    "### Construct manifold ###"
   ]
  },
  {
   "cell_type": "code",
   "execution_count": 76,
   "metadata": {},
   "outputs": [
    {
     "data": {
      "text/plain": [
       "(112, 112, 50, 1, 6)"
      ]
     },
     "metadata": {},
     "output_type": "display_data"
    }
   ],
   "source": [
    "d1, d2, d3, _, d = size(ni)"
   ]
  },
  {
   "cell_type": "code",
   "execution_count": 77,
   "metadata": {},
   "outputs": [],
   "source": [
    "# construct data as points on the manifold (and add 1e-5 * I for numerical stability)\n",
    "predata = [\n",
    "    [\n",
    "    [ni[i,j,k,1,1] + 1e-5;; ni[i,j,k,1,2];; ni[i,j,k,1,4]]; \n",
    "    [ni[i,j,k,1,2];; ni[i,j,k,1,3] + 1e-5;; ni[i,j,k,1,5]]; \n",
    "    [ni[i,j,k,1,4];; ni[i,j,k,1,5];; ni[i,j,k,1,6] + 1e-5]\n",
    "    ] for i=1:d1, j=1:d2, k=1:d3];"
   ]
  },
  {
   "cell_type": "code",
   "execution_count": 78,
   "metadata": {},
   "outputs": [
    {
     "name": "stdout",
     "output_type": "stream",
     "text": [
      "(112, 112, 50)"
     ]
    }
   ],
   "source": [
    "print(size(predata))"
   ]
  },
  {
   "cell_type": "code",
   "execution_count": 79,
   "metadata": {},
   "outputs": [
    {
     "name": "stdout",
     "output_type": "stream",
     "text": [
      "(48, 48)\n"
     ]
    },
    {
     "data": {
      "text/plain": [
       "48×48 Matrix{Nothing}:\n",
       " nothing  nothing  nothing  nothing  …  nothing  nothing  nothing  nothing\n",
       " nothing  nothing  nothing  nothing     nothing  nothing  nothing  nothing\n",
       " nothing  nothing  nothing  nothing     nothing  nothing  nothing  nothing\n",
       " nothing  nothing  nothing  nothing     nothing  nothing  nothing  nothing\n",
       " nothing  nothing  nothing  nothing     nothing  nothing  nothing  nothing\n",
       " nothing  nothing  nothing  nothing  …  nothing  nothing  nothing  nothing\n",
       " nothing  nothing  nothing  nothing     nothing  nothing  nothing  nothing\n",
       " nothing  nothing  nothing  nothing     nothing  nothing  nothing  nothing\n",
       " nothing  nothing  nothing  nothing     nothing  nothing  nothing  nothing\n",
       " nothing  nothing  nothing  nothing     nothing  nothing  nothing  nothing\n",
       " ⋮                                   ⋱           ⋮                 \n",
       " nothing  nothing  nothing  nothing     nothing  nothing  nothing  nothing\n",
       " nothing  nothing  nothing  nothing  …  nothing  nothing  nothing  nothing\n",
       " nothing  nothing  nothing  nothing     nothing  nothing  nothing  nothing\n",
       " nothing  nothing  nothing  nothing     nothing  nothing  nothing  nothing\n",
       " nothing  nothing  nothing  nothing     nothing  nothing  nothing  nothing\n",
       " nothing  nothing  nothing  nothing     nothing  nothing  nothing  nothing\n",
       " nothing  nothing  nothing  nothing  …  nothing  nothing  nothing  nothing\n",
       " nothing  nothing  nothing  nothing     nothing  nothing  nothing  nothing\n",
       " nothing  nothing  nothing  nothing     nothing  nothing  nothing  nothing"
      ]
     },
     "metadata": {},
     "output_type": "display_data"
    }
   ],
   "source": [
    "# pick a 2D slice \n",
    "# xlims [34,81] y: [32,79] z:[8,30]\n",
    "# data = predata[34:81, 32:79, 8:30]\n",
    "# data = predata[34:51,32:59,15] \n",
    "data = predata[34:81,32:79,15]\n",
    "D1, D2 = size(data)\n",
    "\n",
    "M = SymmetricPositiveDefinite(3)\n",
    "println(size(data))\n",
    "check_point.(Ref(M), data)"
   ]
  },
  {
   "cell_type": "code",
   "execution_count": 80,
   "metadata": {},
   "outputs": [],
   "source": [
    "# Export slice image\n",
    "asymptote_export_SPD(\"results/Camino2D_orig.asy\", data=data);"
   ]
  },
  {
   "cell_type": "code",
   "execution_count": 81,
   "metadata": {},
   "outputs": [
    {
     "data": {
      "text/plain": [
       "48×48 Matrix{Nothing}:\n",
       " nothing  nothing  nothing  nothing  …  nothing  nothing  nothing  nothing\n",
       " nothing  nothing  nothing  nothing     nothing  nothing  nothing  nothing\n",
       " nothing  nothing  nothing  nothing     nothing  nothing  nothing  nothing\n",
       " nothing  nothing  nothing  nothing     nothing  nothing  nothing  nothing\n",
       " nothing  nothing  nothing  nothing     nothing  nothing  nothing  nothing\n",
       " nothing  nothing  nothing  nothing  …  nothing  nothing  nothing  nothing\n",
       " nothing  nothing  nothing  nothing     nothing  nothing  nothing  nothing\n",
       " nothing  nothing  nothing  nothing     nothing  nothing  nothing  nothing\n",
       " nothing  nothing  nothing  nothing     nothing  nothing  nothing  nothing\n",
       " nothing  nothing  nothing  nothing     nothing  nothing  nothing  nothing\n",
       " ⋮                                   ⋱           ⋮                 \n",
       " nothing  nothing  nothing  nothing     nothing  nothing  nothing  nothing\n",
       " nothing  nothing  nothing  nothing  …  nothing  nothing  nothing  nothing\n",
       " nothing  nothing  nothing  nothing     nothing  nothing  nothing  nothing\n",
       " nothing  nothing  nothing  nothing     nothing  nothing  nothing  nothing\n",
       " nothing  nothing  nothing  nothing     nothing  nothing  nothing  nothing\n",
       " nothing  nothing  nothing  nothing     nothing  nothing  nothing  nothing\n",
       " nothing  nothing  nothing  nothing  …  nothing  nothing  nothing  nothing\n",
       " nothing  nothing  nothing  nothing     nothing  nothing  nothing  nothing\n",
       " nothing  nothing  nothing  nothing     nothing  nothing  nothing  nothing"
      ]
     },
     "metadata": {},
     "output_type": "display_data"
    }
   ],
   "source": [
    "q = 1. * Matrix(I, 3, 3)\n",
    "#  construct data\n",
    "log_q_data = log.(Ref(M), Ref(q), data);  # ∈ T_q P(3)^d1\n",
    "exp_log_q_data = Symmetric.(exp.(Ref(M), Ref(q), log_q_data));\n",
    "check_point.(Ref(M), exp_log_q_data)"
   ]
  },
  {
   "cell_type": "code",
   "execution_count": 82,
   "metadata": {},
   "outputs": [
    {
     "data": {
      "text/plain": [
       "3×3 Matrix{Float64}:\n",
       " -0.0878752   0.924822   0.301573\n",
       "  0.924822   -0.442671  -0.263334\n",
       "  0.301573   -0.263334  -1.30848"
      ]
     },
     "metadata": {},
     "output_type": "display_data"
    }
   ],
   "source": [
    "# check how transpose works\n",
    "log_q_data[10,10]"
   ]
  },
  {
   "attachments": {},
   "cell_type": "markdown",
   "metadata": {},
   "source": [
    "First do HOSVD without curvature reweighing"
   ]
  },
  {
   "cell_type": "code",
   "execution_count": 83,
   "metadata": {},
   "outputs": [],
   "source": [
    "Gramm1  = Symmetric([sum(inner.(Ref(M), Ref(q), log_q_data[k,:,:], log_q_data[l,:,:])) for k=1:D1, l=1:D1]);\n",
    "Gramm2  = Symmetric([sum(inner.(Ref(M), Ref(q), log_q_data[:,k,:], log_q_data[:,l,:])) for k=1:D2, l=1:D2]);"
   ]
  },
  {
   "cell_type": "code",
   "execution_count": 84,
   "metadata": {},
   "outputs": [],
   "source": [
    "(_, U1) = eigen(Gramm1);\n",
    "(_, U2) = eigen(Gramm2);"
   ]
  },
  {
   "cell_type": "code",
   "execution_count": 85,
   "metadata": {},
   "outputs": [],
   "source": [
    "rank = 10\n",
    "r1, r2= rank .* (1,1)\n",
    "U1r = U1[:,end-r1+1:end]\n",
    "U2r = U2[:,end-r2+1:end]\n",
    "\n",
    "\n",
    "R_q_1 = Symmetric.([sum(U1r[:,i] .* log_q_data[:,j]) for i=1:r1, j=1:D2])\n",
    "R_q = Symmetric.([sum(U2r[:,j] .* R_q_1[i,:]) for i=1:r1, j=1:r2]);\n"
   ]
  },
  {
   "cell_type": "code",
   "execution_count": 86,
   "metadata": {},
   "outputs": [],
   "source": [
    "log_q_data_rr = Symmetric.([sum(U1r[i,:] .* R_q[:,j]) for i=1:D1, j=1:r2])\n",
    "log_q_data_r = Symmetric.([sum(U2r[j,:] .* log_q_data_rr[i,:]) for i=1:D1, j=1:D2]);"
   ]
  },
  {
   "cell_type": "code",
   "execution_count": 87,
   "metadata": {},
   "outputs": [
    {
     "data": {
      "text/plain": [
       "3×3 Symmetric{Float64, Matrix{Float64}}:\n",
       " -0.161939     -0.0202564  -0.000188603\n",
       " -0.0202564    -0.148514    0.0115468\n",
       " -0.000188603   0.0115468  -0.166189"
      ]
     },
     "metadata": {},
     "output_type": "display_data"
    }
   ],
   "source": [
    "log_q_data_r[1,1]"
   ]
  },
  {
   "cell_type": "code",
   "execution_count": 88,
   "metadata": {},
   "outputs": [
    {
     "data": {
      "text/plain": [
       "0.6148818004471404"
      ]
     },
     "metadata": {},
     "output_type": "display_data"
    }
   ],
   "source": [
    "# relative error\n",
    "sqrt(sum(norm.(Ref(M), Ref(q), log_q_data_r - log_q_data) .^ 2))/ sqrt(sum(norm.(Ref(M), Ref(q), log_q_data) .^ 2))"
   ]
  },
  {
   "cell_type": "code",
   "execution_count": 89,
   "metadata": {},
   "outputs": [
    {
     "name": "stdout",
     "output_type": "stream",
     "text": [
      "[0.6969281225245693 0.36825656099934584 0.15688127269562602; 0.36825656099934584 0.4810630216312708 0.07198329422830824; 0.15688127269562602 0.07198329422830824 0.16816243175780088]\n",
      "[1.3084076124761421 0.8073706148081783 0.1168601604373265; 0.8073706148081783 0.9827463367520547 -0.05320955828724827; 0.1168601604373265 -0.05320955828724827 0.2935992917665939]\n"
     ]
    }
   ],
   "source": [
    "data_r = Symmetric.(exp.(Ref(M), Ref(q), Symmetric.(log_q_data_r)))\n",
    "check_point.(Ref(M), data_r)\n",
    "# manifold_error = sqrt(sum(distance.(Ref(M), data_r, data) .^2))\n",
    "println(data_r[10,10])\n",
    "println(data[10,10])"
   ]
  },
  {
   "cell_type": "code",
   "execution_count": 90,
   "metadata": {},
   "outputs": [],
   "source": [
    "# Export compressed slice image\n",
    "asymptote_export_SPD(\"results/Camino2D_low_rank.asy\", data=data_r);"
   ]
  },
  {
   "cell_type": "markdown",
   "metadata": {},
   "source": [
    "Next, let's see what happens if we choose the reweighted metric"
   ]
  }
 ],
 "metadata": {
  "kernelspec": {
   "display_name": "Julia 1.7.2",
   "language": "julia",
   "name": "julia-1.7"
  },
  "language_info": {
   "file_extension": ".jl",
   "mimetype": "application/julia",
   "name": "julia",
   "version": "1.7.2"
  },
  "orig_nbformat": 4,
  "vscode": {
   "interpreter": {
    "hash": "31f2aee4e71d21fbe5cf8b01ff0e069b9275f58929596ceb00d14d90e3e16cd6"
   }
  }
 },
 "nbformat": 4,
 "nbformat_minor": 2
}
