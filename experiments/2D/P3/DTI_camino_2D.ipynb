{
 "cells": [
  {
   "cell_type": "markdown",
   "metadata": {},
   "source": [
    "# Low-rank approximation on $\\mathcal{P}(d)$ - the space of $d$-dimensional SPD matrices"
   ]
  },
  {
   "cell_type": "markdown",
   "metadata": {},
   "source": [
    "In this notebook we want to get some intuition in different approaches for computing low-rank approximations for manifold-valued signals"
   ]
  },
  {
   "cell_type": "code",
   "execution_count": 1,
   "metadata": {},
   "outputs": [],
   "source": [
    "using Manifolds\n",
    "using Manopt\n",
    "using LinearAlgebra\n",
    "using NIfTI\n",
    "using Plots\n",
    "using LaTeXStrings"
   ]
  },
  {
   "cell_type": "code",
   "execution_count": 7,
   "metadata": {},
   "outputs": [
    {
     "data": {
      "text/plain": [
       "exact_loss (generic function with 2 methods)"
      ]
     },
     "execution_count": 7,
     "metadata": {},
     "output_type": "execute_result"
    }
   ],
   "source": [
    "include(\"../../../src/decompositions/tensors/naive_low_multilinear_rank_approximation.jl\")\n",
    "include(\"../../../src/decompositions/tensors/curvature_corrected_low_multilinear_rank_approximation.jl\")\n",
    "\n",
    "include(\"../../../src/functions/loss_functions/curvature_corrected_loss.jl\")\n",
    "include(\"../../../src/functions/loss_functions/exact_loss.jl\")"
   ]
  },
  {
   "attachments": {},
   "cell_type": "markdown",
   "metadata": {},
   "source": [
    "### Load data and construct manifold ###"
   ]
  },
  {
   "cell_type": "code",
   "execution_count": 3,
   "metadata": {},
   "outputs": [
    {
     "data": {
      "text/plain": [
       "(112, 112, 50, 1, 6)"
      ]
     },
     "execution_count": 3,
     "metadata": {},
     "output_type": "execute_result"
    }
   ],
   "source": [
    "# load data\n",
    "# ni = niread(\"data/nifti_dt.nii.gz\") * 1e9;\n",
    "ni = niread(\"../../../data/nifti_dt_nonlinear.nii.gz\") * 1e9;\n",
    "size(ni)"
   ]
  },
  {
   "cell_type": "code",
   "execution_count": 9,
   "metadata": {},
   "outputs": [
    {
     "data": {
      "text/plain": [
       "6"
      ]
     },
     "execution_count": 9,
     "metadata": {},
     "output_type": "execute_result"
    }
   ],
   "source": [
    " d1, d2, d3, _, d = size(ni)\n",
    "\n",
    "# construct data as points on the manifold (and add 1e-5 * I for numerical stability)\n",
    "predata = [ # data ordered as [xx, yx, yy, zx, zy, zz]\n",
    "    [\n",
    "    [ni[i,j,k,1,1] + 1e-5;; ni[i,j,k,1,2];; ni[i,j,k,1,4]]; \n",
    "    [ni[i,j,k,1,2];; ni[i,j,k,1,3] + 1e-5;; ni[i,j,k,1,5]]; \n",
    "    [ni[i,j,k,1,4];; ni[i,j,k,1,5];; ni[i,j,k,1,6] + 1e-5]\n",
    "    ] for i=1:d1, j=1:d2, k=1:d3];\n",
    "    \n",
    "# pick a 2D slice \n",
    "ddata = predata[34:81,32:79,15];\n",
    "data = ddata[1:20,1:20]\n",
    "\n",
    "# construct data manifold\n",
    "n = size(data)\n",
    "M = SymmetricPositiveDefinite(3)\n",
    "d = manifold_dimension(M) # -> different than in 1D"
   ]
  },
  {
   "cell_type": "code",
   "execution_count": 90,
   "metadata": {},
   "outputs": [],
   "source": [
    "# Export slice image\n",
    "asymptote_export_SPD(\"results/Camino2D_orig.asy\", data=data);"
   ]
  },
  {
   "attachments": {},
   "cell_type": "markdown",
   "metadata": {},
   "source": [
    "### Construct low rank approximation ###"
   ]
  },
  {
   "cell_type": "code",
   "execution_count": 10,
   "metadata": {},
   "outputs": [],
   "source": [
    "unrolled_data = []\n",
    "for mat in data\n",
    "    push!(unrolled_data,mat)\n",
    "end\n",
    "q = mean(M, unrolled_data)\n",
    "log_q_data = log.(Ref(M), Ref(q), data);  # ∈ T_q P(3)^n"
   ]
  },
  {
   "cell_type": "code",
   "execution_count": null,
   "metadata": {},
   "outputs": [],
   "source": [
    "# Time loss evaluation\n",
    "curvature_corrected_loss(M, q, data, curvature_corrected_log_q_data_r)\n",
    "# Time gradient evaluation"
   ]
  },
  {
   "cell_type": "code",
   "execution_count": 11,
   "metadata": {},
   "outputs": [
    {
     "name": "stdout",
     "output_type": "stream",
     "text": [
      "Initial  F(x): 1.14014852797 | \n",
      "# 1     change: 0.019822201 |  F(x): 0.80682076716 | \n",
      "# 2     change: 0.013840423 |  F(x): 0.64357138018 | \n",
      "The algorithm reached its maximal number of iterations (2).\n",
      "Initial  F(x): 2.94143252583 | \n",
      "# 1     change: 0.015201436 |  F(x): 2.72629578418 | \n"
     ]
    },
    {
     "ename": "LoadError",
     "evalue": "InterruptException:",
     "output_type": "error",
     "traceback": [
      "InterruptException:",
      "",
      "Stacktrace:",
      "  [1] Array",
      "    @ ./boot.jl:457 [inlined]",
      "  [2] Array",
      "    @ ./boot.jl:466 [inlined]",
      "  [3] similar",
      "    @ ./array.jl:378 [inlined]",
      "  [4] similar",
      "    @ ./abstractarray.jl:783 [inlined]",
      "  [5] getindex",
      "    @ ./array.jl:869 [inlined]",
      "  [6] syevr!(jobz::Char, range::Char, uplo::Char, A::Matrix{Float64}, vl::Float64, vu::Float64, il::Int64, iu::Int64, abstol::Float64)",
      "    @ LinearAlgebra.LAPACK /Applications/Julia-1.7.app/Contents/Resources/julia/share/julia/stdlib/v1.7/LinearAlgebra/src/lapack.jl:5133",
      "  [7] #eigen!#185",
      "    @ /Applications/Julia-1.7.app/Contents/Resources/julia/share/julia/stdlib/v1.7/LinearAlgebra/src/symmetriceigen.jl:4 [inlined]",
      "  [8] #eigen#186",
      "    @ /Applications/Julia-1.7.app/Contents/Resources/julia/share/julia/stdlib/v1.7/LinearAlgebra/src/symmetriceigen.jl:9 [inlined]",
      "  [9] eigen",
      "    @ /Applications/Julia-1.7.app/Contents/Resources/julia/share/julia/stdlib/v1.7/LinearAlgebra/src/symmetriceigen.jl:7 [inlined]",
      " [10] spd_sqrt(p::Matrix{Float64})",
      "    @ Manifolds ~/.julia/packages/Manifolds/RgXwm/src/manifolds/SymmetricPositiveDefinite.jl:309",
      " [11] get_vector_orthonormal!(#unused#::SymmetricPositiveDefinite{3}, X::Matrix{Float64}, p::Matrix{Float64}, c::Vector{Float64}, #unused#::ManifoldsBase.RealNumbers)",
      "    @ Manifolds ~/.julia/packages/Manifolds/RgXwm/src/manifolds/SymmetricPositiveDefiniteLinearAffine.jl:291",
      " [12] _get_vector!",
      "    @ ~/.julia/packages/ManifoldsBase/PPCQj/src/bases.jl:754 [inlined]",
      " [13] get_vector!",
      "    @ ~/.julia/packages/ManifoldsBase/PPCQj/src/bases.jl:731 [inlined]",
      " [14] get_vector!(::ManifoldsBase.EmptyTrait, M::SymmetricPositiveDefinite{3}, Y::Matrix{Float64}, p::Matrix{Float64}, c::Vector{Float64}, B::DefaultOrthonormalBasis{ℝ, ManifoldsBase.TangentSpaceType})",
      "    @ ManifoldsBase ~/.julia/packages/ManifoldsBase/PPCQj/src/nested_trait.jl:315",
      " [15] get_vector! (repeats 3 times)",
      "    @ ~/.julia/packages/ManifoldsBase/PPCQj/src/nested_trait.jl:282 [inlined]",
      " [16] get_vector!",
      "    @ ~/.julia/packages/ManifoldsBase/PPCQj/src/nested_trait.jl:275 [inlined]",
      " [17] get_vector!(M::PowerManifold{ℝ, SymmetricPositiveDefinite{3}, Tuple{20}, NestedPowerRepresentation}, Y::Vector{Matrix{Float64}}, p::Vector{Matrix{Float64}}, c::Vector{Float64}, B::DefaultOrthonormalBasis{ℝ, ManifoldsBase.TangentSpaceType})",
      "    @ ManifoldsBase ~/.julia/packages/ManifoldsBase/PPCQj/src/PowerManifold.jl:615",
      " [18] get_vector",
      "    @ ~/.julia/packages/ManifoldsBase/PPCQj/src/PowerManifold.jl:608 [inlined]",
      " [19] (::var\"#110#117\"{Int64, Int64, PowerManifold{ℝ, SymmetricPositiveDefinite{3}, Tuple{20}, NestedPowerRepresentation}, Vector{Matrix{Float64}}, Matrix{Float64}, Vector{Float64}, Vector{Vector{Matrix{Float64}}}, Vector{Vector{Matrix{Float64}}}, Int64, Int64, CartesianIndex{1}, Vector{Float64}, Vector{Matrix{Float64}}})(j::Int64)",
      "    @ Main ./none:0",
      " [20] iterate",
      "    @ ./generator.jl:47 [inlined]",
      " [21] collect_to!",
      "    @ ./array.jl:782 [inlined]",
      " [22] collect_to_with_first!",
      "    @ ./array.jl:760 [inlined]",
      " [23] collect(itr::Base.Generator{UnitRange{Int64}, var\"#110#117\"{Int64, Int64, PowerManifold{ℝ, SymmetricPositiveDefinite{3}, Tuple{20}, NestedPowerRepresentation}, Vector{Matrix{Float64}}, Matrix{Float64}, Vector{Float64}, Vector{Vector{Matrix{Float64}}}, Vector{Vector{Matrix{Float64}}}, Int64, Int64, CartesianIndex{1}, Vector{Float64}, Vector{Matrix{Float64}}}})",
      "    @ Base ./array.jl:734",
      " [24] (::var\"#109#116\"{PowerManifold{ℝ, SymmetricPositiveDefinite{3}, Tuple{20}, NestedPowerRepresentation}, Vector{Matrix{Float64}}, Matrix{Float64}, Vector{Float64}, Vector{Vector{Matrix{Float64}}}, Vector{Vector{Matrix{Float64}}}, Int64, Int64, Int64, CartesianIndex{1}, Vector{Float64}, Vector{Matrix{Float64}}})(::Tuple{Int64, Int64})",
      "    @ Main ./none:0",
      " [25] iterate",
      "    @ ./generator.jl:47 [inlined]",
      " [26] collect_to!",
      "    @ ./array.jl:782 [inlined]",
      " [27] collect_to_with_first!",
      "    @ ./array.jl:760 [inlined]",
      " [28] collect(itr::Base.Generator{Base.Iterators.ProductIterator{Tuple{UnitRange{Int64}, UnitRange{Int64}}}, var\"#109#116\"{PowerManifold{ℝ, SymmetricPositiveDefinite{3}, Tuple{20}, NestedPowerRepresentation}, Vector{Matrix{Float64}}, Matrix{Float64}, Vector{Float64}, Vector{Vector{Matrix{Float64}}}, Vector{Vector{Matrix{Float64}}}, Int64, Int64, Int64, CartesianIndex{1}, Vector{Float64}, Vector{Matrix{Float64}}}})",
      "    @ Base ./array.jl:734",
      " [29] gradient_curvature_corrected_loss(M::PowerManifold{ℝ, SymmetricPositiveDefinite{3}, Tuple{20}, NestedPowerRepresentation}, q::Vector{Matrix{Float64}}, X::Vector{Vector{Matrix{Float64}}}, U::Matrix{Float64}, Σ::Vector{Float64}, V::Matrix{Float64})",
      "    @ Main ~/Documents/PhD/Projects/8 - Manifold-valued tensor decomposition/src/manifold-valued-tensors/src/functions/gradients/gradient_curvature_corrected_loss.jl:63",
      " [30] gradCCL",
      "    @ ~/Documents/PhD/Projects/8 - Manifold-valued tensor decomposition/src/manifold-valued-tensors/src/decompositions/signals/curvature_corrected_low_rank_approximation.jl:24 [inlined]",
      " [31] get_gradient!(p::GradientProblem{AllocatingEvaluation, ProductManifold{ℝ, Tuple{Stiefel{20, 2, ℝ}, PowerManifold{ℝ, PositiveNumbers, Tuple{2}, NestedPowerRepresentation}, Stiefel{120, 2, ℝ}}}, var\"#CCL#120\"{PowerManifold{ℝ, SymmetricPositiveDefinite{3}, Tuple{20}, NestedPowerRepresentation}, Vector{Matrix{Float64}}, Vector{Vector{Matrix{Float64}}}}, var\"#gradCCL#121\"{PowerManifold{ℝ, SymmetricPositiveDefinite{3}, Tuple{20}, NestedPowerRepresentation}, Vector{Matrix{Float64}}, Vector{Vector{Matrix{Float64}}}}}, X::ProductRepr{Tuple{Matrix{Float64}, Vector{Float64}, Matrix{Float64}}}, x::ProductRepr{Tuple{Matrix{Float64}, Vector{Float64}, Matrix{Float64}}})",
      "    @ Manopt ~/.julia/packages/Manopt/G7Amz/src/plans/gradient_plan.jl:63",
      " [32] (::IdentityUpdateRule)(p::GradientProblem{AllocatingEvaluation, ProductManifold{ℝ, Tuple{Stiefel{20, 2, ℝ}, PowerManifold{ℝ, PositiveNumbers, Tuple{2}, NestedPowerRepresentation}, Stiefel{120, 2, ℝ}}}, var\"#CCL#120\"{PowerManifold{ℝ, SymmetricPositiveDefinite{3}, Tuple{20}, NestedPowerRepresentation}, Vector{Matrix{Float64}}, Vector{Vector{Matrix{Float64}}}}, var\"#gradCCL#121\"{PowerManifold{ℝ, SymmetricPositiveDefinite{3}, Tuple{20}, NestedPowerRepresentation}, Vector{Matrix{Float64}}, Vector{Vector{Matrix{Float64}}}}}, o::GradientDescentOptions{ProductRepr{Tuple{Matrix{Float64}, Vector{Float64}, Matrix{Float64}}}, ProductRepr{Tuple{Matrix{Float64}, Vector{Float64}, Matrix{Float64}}}, StopWhenAny{Tuple{StopAfterIteration, StopWhenGradientNormLess, StopWhenChangeLess}}, ConstantStepsize{Float64}, ProductRetraction{Tuple{PolarRetraction, ExponentialRetraction, PolarRetraction}}}, i::Int64)",
      "    @ Manopt ~/.julia/packages/Manopt/G7Amz/src/plans/gradient_plan.jl:196",
      " [33] step_solver!(p::GradientProblem{AllocatingEvaluation, ProductManifold{ℝ, Tuple{Stiefel{20, 2, ℝ}, PowerManifold{ℝ, PositiveNumbers, Tuple{2}, NestedPowerRepresentation}, Stiefel{120, 2, ℝ}}}, var\"#CCL#120\"{PowerManifold{ℝ, SymmetricPositiveDefinite{3}, Tuple{20}, NestedPowerRepresentation}, Vector{Matrix{Float64}}, Vector{Vector{Matrix{Float64}}}}, var\"#gradCCL#121\"{PowerManifold{ℝ, SymmetricPositiveDefinite{3}, Tuple{20}, NestedPowerRepresentation}, Vector{Matrix{Float64}}, Vector{Vector{Matrix{Float64}}}}}, o::GradientDescentOptions{ProductRepr{Tuple{Matrix{Float64}, Vector{Float64}, Matrix{Float64}}}, ProductRepr{Tuple{Matrix{Float64}, Vector{Float64}, Matrix{Float64}}}, StopWhenAny{Tuple{StopAfterIteration, StopWhenGradientNormLess, StopWhenChangeLess}}, ConstantStepsize{Float64}, ProductRetraction{Tuple{PolarRetraction, ExponentialRetraction, PolarRetraction}}}, iter::Int64)",
      "    @ Manopt ~/.julia/packages/Manopt/G7Amz/src/solvers/gradient_descent.jl:103",
      " [34] step_solver!(p::GradientProblem{AllocatingEvaluation, ProductManifold{ℝ, Tuple{Stiefel{20, 2, ℝ}, PowerManifold{ℝ, PositiveNumbers, Tuple{2}, NestedPowerRepresentation}, Stiefel{120, 2, ℝ}}}, var\"#CCL#120\"{PowerManifold{ℝ, SymmetricPositiveDefinite{3}, Tuple{20}, NestedPowerRepresentation}, Vector{Matrix{Float64}}, Vector{Vector{Matrix{Float64}}}}, var\"#gradCCL#121\"{PowerManifold{ℝ, SymmetricPositiveDefinite{3}, Tuple{20}, NestedPowerRepresentation}, Vector{Matrix{Float64}}, Vector{Vector{Matrix{Float64}}}}}, o::DebugOptions{GradientDescentOptions{ProductRepr{Tuple{Matrix{Float64}, Vector{Float64}, Matrix{Float64}}}, ProductRepr{Tuple{Matrix{Float64}, Vector{Float64}, Matrix{Float64}}}, StopWhenAny{Tuple{StopAfterIteration, StopWhenGradientNormLess, StopWhenChangeLess}}, ConstantStepsize{Float64}, ProductRetraction{Tuple{PolarRetraction, ExponentialRetraction, PolarRetraction}}}}, i::Int64)",
      "    @ Manopt ~/.julia/packages/Manopt/G7Amz/src/solvers/debug_solver.jl:23",
      " [35] solve(p::GradientProblem{AllocatingEvaluation, ProductManifold{ℝ, Tuple{Stiefel{20, 2, ℝ}, PowerManifold{ℝ, PositiveNumbers, Tuple{2}, NestedPowerRepresentation}, Stiefel{120, 2, ℝ}}}, var\"#CCL#120\"{PowerManifold{ℝ, SymmetricPositiveDefinite{3}, Tuple{20}, NestedPowerRepresentation}, Vector{Matrix{Float64}}, Vector{Vector{Matrix{Float64}}}}, var\"#gradCCL#121\"{PowerManifold{ℝ, SymmetricPositiveDefinite{3}, Tuple{20}, NestedPowerRepresentation}, Vector{Matrix{Float64}}, Vector{Vector{Matrix{Float64}}}}}, o::DebugOptions{GradientDescentOptions{ProductRepr{Tuple{Matrix{Float64}, Vector{Float64}, Matrix{Float64}}}, ProductRepr{Tuple{Matrix{Float64}, Vector{Float64}, Matrix{Float64}}}, StopWhenAny{Tuple{StopAfterIteration, StopWhenGradientNormLess, StopWhenChangeLess}}, ConstantStepsize{Float64}, ProductRetraction{Tuple{PolarRetraction, ExponentialRetraction, PolarRetraction}}}})",
      "    @ Manopt ~/.julia/packages/Manopt/G7Amz/src/solvers/solver.jl:88",
      " [36] #gradient_descent!#345",
      "    @ ~/.julia/packages/Manopt/G7Amz/src/solvers/gradient_descent.jl:88 [inlined]",
      " [37] gradient_descent(M::ProductManifold{ℝ, Tuple{Stiefel{20, 2, ℝ}, PowerManifold{ℝ, PositiveNumbers, Tuple{2}, NestedPowerRepresentation}, Stiefel{120, 2, ℝ}}}, F::var\"#CCL#120\"{PowerManifold{ℝ, SymmetricPositiveDefinite{3}, Tuple{20}, NestedPowerRepresentation}, Vector{Matrix{Float64}}, Vector{Vector{Matrix{Float64}}}}, gradF::var\"#gradCCL#121\"{PowerManifold{ℝ, SymmetricPositiveDefinite{3}, Tuple{20}, NestedPowerRepresentation}, Vector{Matrix{Float64}}, Vector{Vector{Matrix{Float64}}}}, x::ProductRepr{Tuple{Matrix{Float64}, Vector{Float64}, Matrix{Float64}}}; kwargs::Base.Pairs{Symbol, Any, Tuple{Symbol, Symbol, Symbol}, NamedTuple{(:stepsize, :stopping_criterion, :debug), Tuple{ConstantStepsize{Float64}, StopWhenAny{Tuple{StopAfterIteration, StopWhenGradientNormLess, StopWhenChangeLess}}, Vector{Any}}}})",
      "    @ Manopt ~/.julia/packages/Manopt/G7Amz/src/solvers/gradient_descent.jl:42",
      " [38] curvature_corrected_low_rank_approximation(M::PowerManifold{ℝ, SymmetricPositiveDefinite{3}, Tuple{20}, NestedPowerRepresentation}, q::Vector{Matrix{Float64}}, X::Vector{Vector{Matrix{Float64}}}, rank::Int64; stepsize::Float64, max_iter::Int64, change_tol::Float64)",
      "    @ Main ~/Documents/PhD/Projects/8 - Manifold-valued tensor decomposition/src/manifold-valued-tensors/src/decompositions/signals/curvature_corrected_low_rank_approximation.jl:27",
      " [39] curvature_corrected_low_multilinear_rank_approximation(M::SymmetricPositiveDefinite{3}, q::Matrix{Float64}, X::Matrix{Matrix{Float64}}, rank::Vector{Int64}; stepsize::Float64, max_iter::Int64, change_tol::Float64)",
      "    @ Main ~/Documents/PhD/Projects/8 - Manifold-valued tensor decomposition/src/manifold-valued-tensors/src/decompositions/tensors/curvature_corrected_low_multilinear_rank_approximation.jl:29",
      " [40] eval",
      "    @ ./boot.jl:373 [inlined]",
      " [41] include_string(mapexpr::typeof(REPL.softscope), mod::Module, code::String, filename::String)",
      "    @ Base ./loading.jl:1196"
     ]
    }
   ],
   "source": [
    "# TODO find a good step size...\n",
    "_, __ = curvature_corrected_low_multilinear_rank_approximation(M, q, data, [2,2]; stepsize=1/1000, max_iter=2, change_tol=1e-4); "
   ]
  },
  {
   "cell_type": "code",
   "execution_count": 17,
   "metadata": {},
   "outputs": [
    {
     "name": "stdout",
     "output_type": "stream",
     "text": [
      "#1 | computing naive low-rank approximation\n",
      "#2 | computing naive low-rank approximation\n",
      "#5 | computing naive low-rank approximation\n",
      "#10 | computing naive low-rank approximation\n",
      "#20 | computing naive low-rank approximation\n"
     ]
    }
   ],
   "source": [
    "rank_range = [1, 2, 5, 10, 20]\n",
    "max_iter = 50\n",
    "\n",
    "nR_q = []\n",
    "nU = []\n",
    "ccR_q = []\n",
    "ccU = []\n",
    "eR_q = []\n",
    "eU = []\n",
    "for rank in rank_range \n",
    "    println(\"#$(rank) | computing naive low-rank approximation\")\n",
    "    nRr_q, nUr = naive_low_multilinear_rank_approximation(M, q, data, [rank,rank]); \n",
    "    push!(nR_q, nRr_q)\n",
    "    push!(nU, nUr)\n",
    "    # println(\"#$(rank) | computing curvature corrected low-rank approximation\")\n",
    "    # ccRr_q, ccUr = curvature_corrected_low_multilinear_rank_approximation(M, q, data, [rank,rank]; stepsize=1/1000, max_iter=max_iter, change_tol=1e-4); \n",
    "    # push!(ccR_q, ccRr_q)\n",
    "    # push!(ccU, ccUr)\n",
    "end"
   ]
  },
  {
   "cell_type": "code",
   "execution_count": 18,
   "metadata": {},
   "outputs": [],
   "source": [
    "num_ranks = length(rank_range)\n",
    "ref_distance = sum(distance.(Ref(M), Ref(q), data).^2)\n",
    "\n",
    "naive_tangent_distances_r = zeros(num_ranks)\n",
    "predicted_naive_distances_r= zeros(num_ranks)\n",
    "true_naive_distances_r= zeros(num_ranks)\n",
    "\n",
    "curvature_corrected_tangent_distances_r = zeros(num_ranks)\n",
    "predicted_curvature_corrected_distances_r = zeros(num_ranks)\n",
    "true_curvature_corrected_distances_r = zeros(num_ranks)\n",
    "\n",
    "for (idx,rank) in enumerate(rank_range)\n",
    "    naive_log_q_data_r = Symmetric.([sum([nR_q[idx][i,j] * nU[idx][1][k,i] * nU[idx][2][l,j] for i in 1:rank, j in 1:rank]) for k=1:n[1], l=1:n[2]])\n",
    "    # curvature_corrected_log_q_data_r = Symmetric.([sum([ccR_q[idx][i,j] * ccU[idx][1][k,i] * ccU[idx][2][l,j] for i in 1:rank, j in 1:rank]) for k=1:n[1], l=1:n[2]])\n",
    "    # expoentiate back\n",
    "    naive_data_r = exp.(Ref(M), Ref(q), naive_log_q_data_r)\n",
    "    # curvature_corrected_data_r = exp.(Ref(M), Ref(q), curvature_corrected_log_q_data_r)\n",
    "\n",
    "    # compute relative tangent space error\n",
    "    naive_tangent_distances_r[idx] = sum(norm.(Ref(M), Ref(q),  log_q_data - naive_log_q_data_r).^2) / ref_distance\n",
    "    # curvature_corrected_tangent_distances_r[idx] = sum(norm.(Ref(M), Ref(q),  log_q_data - curvature_corrected_log_q_data_r).^2) / ref_distance\n",
    "\n",
    "    # compute relative manifold error\n",
    "    predicted_naive_distances_r[idx] = curvature_corrected_loss(M, q, data, naive_log_q_data_r)\n",
    "    true_naive_distances_r[idx] = exact_loss(M, q, data, naive_log_q_data_r)\n",
    "    # predicted_curvature_corrected_distances_r[idx] = curvature_corrected_loss(M, q, data, curvature_corrected_log_q_data_r)\n",
    "    # true_curvature_corrected_distances_r[idx] = exact_loss(M, q, data, curvature_corrected_log_q_data_r)\n",
    "end"
   ]
  },
  {
   "cell_type": "code",
   "execution_count": 19,
   "metadata": {},
   "outputs": [
    {
     "data": {
      "text/plain": [
       "\"/Users/wdiepeveen/Documents/PhD/Projects/8 - Manifold-valued tensor decomposition/src/manifold-valued-tensors/experiments/2D/P3/results/Camino2D_logerrors_by_rank.png\""
      ]
     },
     "execution_count": 19,
     "metadata": {},
     "output_type": "execute_result"
    }
   ],
   "source": [
    "plot(rank_range, [naive_tangent_distances_r, true_naive_distances_r, true_curvature_corrected_distances_r], label = [\"theoretical lower bound\" \"naive\" \"curvature corrected\"], ylims=(0,1), xlims=(1,max(rank_range...)),xaxis=(\"approximation rank\"), yaxis=(L\"$\\varepsilon_{rel}$\"))\n",
    "savefig(\"results/Camino2D_errors_by_rank.png\")\n",
    "plot(rank_range, [naive_tangent_distances_r .+ 1e-16, true_naive_distances_r .+ 1e-16, true_curvature_corrected_distances_r .+ 1e-16], label = [\"theoretical lower bound\" \"naive\" \"curvature corrected\"], ylims=(1e-16,1), xlims=(1,max(rank_range...)), xaxis=(\"approximation rank\"), yaxis=(L\"$\\varepsilon_{rel}$\", :log), legend=:bottomleft)\n",
    "savefig(\"results/Camino2D_logerrors_by_rank.png\")"
   ]
  },
  {
   "cell_type": "code",
   "execution_count": 15,
   "metadata": {},
   "outputs": [
    {
     "data": {
      "text/plain": [
       "\"/Users/wdiepeveen/Documents/PhD/Projects/8 - Manifold-valued tensor decomposition/src/manifold-valued-tensors/experiments/2D/P3/results/Camino2D_logdiscrepancy_by_rank.png\""
      ]
     },
     "execution_count": 15,
     "metadata": {},
     "output_type": "execute_result"
    }
   ],
   "source": [
    "# It would be nice to also have a plot that tells us something about the error in predicting the manifold loss (using CCL) and the actual loss \n",
    "# (1) for the naive approach (2) for the curvature corrected approach\n",
    "plot(rank_range, [predicted_naive_distances_r ./ true_naive_distances_r, predicted_curvature_corrected_distances_r ./ true_curvature_corrected_distances_r], label = [\"discrepancy in initialisation\" \"discrepancy in solutions\"], xlims=(1,max(rank_range...)),xaxis=(\"approximation rank\"), yaxis=(L\"$\\delta_{rel}$\"))\n",
    "savefig(\"results/Camino2D_discrepancy_by_rank.png\")\n",
    "plot(rank_range, [predicted_naive_distances_r ./ true_naive_distances_r, predicted_curvature_corrected_distances_r ./ true_curvature_corrected_distances_r], label = [\"discrepancy in initialisation\" \"discrepancy in solutions\"], xlims=(1,max(rank_range...)), xaxis=(\"approximation rank\"), yaxis=(L\"$\\delta_{rel}$\", :log), legend=:bottomleft)\n",
    "savefig(\"results/Camino2D_logdiscrepancy_by_rank.png\")"
   ]
  }
 ],
 "metadata": {
  "kernelspec": {
   "display_name": "Julia 1.7.2",
   "language": "julia",
   "name": "julia-1.7"
  },
  "language_info": {
   "file_extension": ".jl",
   "mimetype": "application/julia",
   "name": "julia",
   "version": "1.7.2"
  },
  "orig_nbformat": 4,
  "vscode": {
   "interpreter": {
    "hash": "31f2aee4e71d21fbe5cf8b01ff0e069b9275f58929596ceb00d14d90e3e16cd6"
   }
  }
 },
 "nbformat": 4,
 "nbformat_minor": 2
}
