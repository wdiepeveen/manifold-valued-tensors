{
 "cells": [
  {
   "cell_type": "markdown",
   "metadata": {},
   "source": [
    "# Low-rank approximation on $\\mathcal{P}(d)$ - the space of $d$-dimensional SPD matrices"
   ]
  },
  {
   "cell_type": "markdown",
   "metadata": {},
   "source": [
    "In this notebook we want to get some intuition in different approaches for computing low-rank approximations for manifold-valued signals"
   ]
  },
  {
   "cell_type": "code",
   "execution_count": 2,
   "metadata": {},
   "outputs": [],
   "source": [
    "using Manifolds\n",
    "using Manopt\n",
    "using LinearAlgebra\n",
    "using NIfTI\n",
    "using Plots"
   ]
  },
  {
   "cell_type": "code",
   "execution_count": 3,
   "metadata": {},
   "outputs": [
    {
     "data": {
      "text/plain": [
       "curvature_reweighed_HOSVD (generic function with 1 method)"
      ]
     },
     "execution_count": 3,
     "metadata": {},
     "output_type": "execute_result"
    }
   ],
   "source": [
    "include(\"../../../src/decompositions/naive_HOSVD.jl\")\n",
    "include(\"../../../src/decompositions/curvature_reweighed_HOSVD.jl\")"
   ]
  },
  {
   "attachments": {},
   "cell_type": "markdown",
   "metadata": {},
   "source": [
    "### Load data and construct manifold ###"
   ]
  },
  {
   "cell_type": "code",
   "execution_count": 4,
   "metadata": {},
   "outputs": [
    {
     "data": {
      "text/plain": [
       "(112, 112, 50, 1, 6)"
      ]
     },
     "execution_count": 4,
     "metadata": {},
     "output_type": "execute_result"
    }
   ],
   "source": [
    "# load data\n",
    "# ni = niread(\"data/nifti_dt.nii.gz\") * 1e9;\n",
    "ni = niread(\"../../../data/nifti_dt_nonlinear.nii.gz\") * 1e9;\n",
    "size(ni)"
   ]
  },
  {
   "cell_type": "code",
   "execution_count": 5,
   "metadata": {},
   "outputs": [
    {
     "data": {
      "text/plain": [
       "6"
      ]
     },
     "execution_count": 5,
     "metadata": {},
     "output_type": "execute_result"
    }
   ],
   "source": [
    " d1, d2, d3, _, d = size(ni)\n",
    "\n",
    "# construct data as points on the manifold (and add 1e-5 * I for numerical stability)\n",
    "predata = [ # data ordered as [xx, yx, yy, zx, zy, zz]\n",
    "    [\n",
    "    [ni[i,j,k,1,1] + 1e-5;; ni[i,j,k,1,2];; ni[i,j,k,1,4]]; \n",
    "    [ni[i,j,k,1,2];; ni[i,j,k,1,3] + 1e-5;; ni[i,j,k,1,5]]; \n",
    "    [ni[i,j,k,1,4];; ni[i,j,k,1,5];; ni[i,j,k,1,6] + 1e-5]\n",
    "    ] for i=1:d1, j=1:d2, k=1:d3];\n",
    "    \n",
    "# pick a 2D slice \n",
    "data = predata[34:81,32:79,15];\n",
    "\n",
    "# construct data manifold\n",
    "n = size(data)\n",
    "M = SymmetricPositiveDefinite(3)\n",
    "d = manifold_dimension(M) # -> different than in 1D"
   ]
  },
  {
   "cell_type": "code",
   "execution_count": 6,
   "metadata": {},
   "outputs": [],
   "source": [
    "# Export slice image\n",
    "asymptote_export_SPD(\"results/Camino2D_orig.asy\", data=data);"
   ]
  },
  {
   "attachments": {},
   "cell_type": "markdown",
   "metadata": {},
   "source": [
    "### Construct low rank approximation ###"
   ]
  },
  {
   "cell_type": "code",
   "execution_count": 20,
   "metadata": {},
   "outputs": [
    {
     "name": "stdout",
     "output_type": "stream",
     "text": [
      "(2304,)\n",
      "[0.7859244247134054 -0.011675282913863529 -0.01643702259871868; -0.0116752829138635 0.7362532545357557 -0.007476745737044835; -0.01643702259871868 -0.007476745737044849 0.7111882776490579]"
     ]
    }
   ],
   "source": [
    "unrolled_data = []\n",
    "for mat in data\n",
    "    push!(unrolled_data,mat)\n",
    "end\n",
    "q = mean(M, unrolled_data)\n",
    "# q = 1. * Matrix(I, 3, 3) # TODO compute mean here\n",
    "log_q_data = log.(Ref(M), Ref(q), data);  # ∈ T_q P(3)^n"
   ]
  },
  {
   "cell_type": "code",
   "execution_count": 116,
   "metadata": {},
   "outputs": [
    {
     "name": "stdout",
     "output_type": "stream",
     "text": [
      "(48, 48)\n",
      "(48,)\n",
      "(48, 48)\n",
      "(48,)\n",
      "288\n"
     ]
    },
    {
     "ename": "LoadError",
     "evalue": "type PowerBasisData has no field eigenvalues",
     "output_type": "error",
     "traceback": [
      "type PowerBasisData has no field eigenvalues",
      "",
      "Stacktrace:",
      " [1] getproperty",
      "   @ ./Base.jl:42 [inlined]",
      " [2] CR_SVD(M::PowerManifold{ℝ, SymmetricPositiveDefinite{3}, Tuple{48}, NestedPowerRepresentation}, q::Vector{Matrix{Float64}}, X::Vector{Vector{Matrix{Float64}}})",
      "   @ Main ~/Documents/PhD/Projects/8 - Manifold-valued tensor decomposition/src/manifold-valued-tensors/src/decompositions/CR_SVD.jl:17",
      " [3] CR_HOSVD(M::SymmetricPositiveDefinite{3}, q::Matrix{Float64}, X::Matrix{Matrix{Float64}})",
      "   @ Main ~/Documents/PhD/Projects/8 - Manifold-valued tensor decomposition/src/manifold-valued-tensors/src/decompositions/CR_HOSVD.jl:35",
      " [4] top-level scope",
      "   @ In[116]:2",
      " [5] eval",
      "   @ ./boot.jl:373 [inlined]",
      " [6] include_string(mapexpr::typeof(REPL.softscope), mod::Module, code::String, filename::String)",
      "   @ Base ./loading.jl:1196"
     ]
    }
   ],
   "source": [
    "N_R_q, N_U = naive_HOSVD(M,q, data); \n",
    "CR_R_q, CR_U = curvature_reweighed_HOSVD(M,q, data);"
   ]
  },
  {
   "cell_type": "code",
   "execution_count": null,
   "metadata": {},
   "outputs": [
    {
     "name": "stdout",
     "output_type": "stream",
     "text": [
      "computed first one\n",
      "computed first one\n",
      "computed first one\n",
      "computed first one\n",
      "computed first one\n",
      "computed first one\n",
      "computed first one\n",
      "computed first one\n",
      "computed first one\n",
      "computed first one\n",
      "computed first one\n",
      "computed first one\n",
      "computed first one\n",
      "computed first one\n",
      "computed first one\n",
      "computed first one\n",
      "computed first one\n",
      "computed first one\n",
      "computed first one\n",
      "computed first one\n",
      "computed first one\n",
      "computed first one\n",
      "computed first one\n",
      "computed first one\n",
      "computed first one\n",
      "computed first one\n",
      "computed first one\n",
      "computed first one\n",
      "computed first one\n",
      "computed first one\n",
      "computed first one\n",
      "computed first one\n",
      "computed first one\n",
      "computed first one\n",
      "computed first one\n",
      "computed first one\n",
      "computed first one\n",
      "computed first one\n",
      "computed first one\n",
      "computed first one\n",
      "computed first one\n",
      "computed first one\n",
      "computed first one\n",
      "computed first one\n",
      "computed first one\n",
      "computed first one\n",
      "computed first one\n",
      "computed first one\n"
     ]
    }
   ],
   "source": [
    "ref_distance = sqrt(sum(distance.(Ref(M), Ref(q), data).^2))\n",
    "max_rank = min((size.(N_U)...)...)\n",
    "\n",
    "N_tangent_distances_r = zeros(max_rank)\n",
    "N_distances_r = zeros(max_rank)\n",
    "CR_tangent_distances_r = zeros(max_rank)\n",
    "CR_distances_r = zeros(max_rank)\n",
    "\n",
    "for rank in 1:max_rank\n",
    "    N_log_q_data_r = Symmetric.([sum([N_R_q[i,j] * N_U[1][k,i] * N_U[2][l,j] for i=max_rank-rank+1:max_rank, j=max_rank-rank+1:max_rank]) for k=1:n[1], l=1:n[2]])\n",
    "    CR_log_q_data_r = Symmetric.([sum([CR_R_q[i,j] * CR_U[1][k,i] * CR_U[2][l,j] for i=max_rank-rank+1:max_rank, j=max_rank-rank+1:max_rank]) for k=1:n[1], l=1:n[2]])\n",
    "    # expoentiate back\n",
    "    N_data_r = exp.(Ref(M), Ref(q), N_log_q_data_r)\n",
    "    CR_data_r = exp.(Ref(M), Ref(q), CR_log_q_data_r)\n",
    "\n",
    "\n",
    "    # compute relative tangent space error\n",
    "    N_tangent_distances_r[rank] = sqrt(sum(norm.(Ref(M), Ref(q),  log_q_data - N_log_q_data_r).^2)) / ref_distance\n",
    "    CR_tangent_distances_r[rank] = sqrt(sum(norm.(Ref(M), Ref(q),  log_q_data - CR_log_q_data_r).^2)) / ref_distance\n",
    "\n",
    "\n",
    "    # compute relative manifold error\n",
    "    N_distances_r[rank] = sqrt(sum(distance.(Ref(M), data, N_data_r).^2)) / ref_distance\n",
    "    CR_distances_r[rank] = sqrt(sum(distance.(Ref(M), data, CR_data_r).^2)) / ref_distance\n",
    "end"
   ]
  },
  {
   "cell_type": "code",
   "execution_count": null,
   "metadata": {},
   "outputs": [
    {
     "data": {
      "text/plain": [
       "\"/Users/wdiepeveen/Documents/PhD/Projects/8 - Manifold-valued tensor decomposition/src/manifold-valued-tensors/experiments/2D/P3/results/DTI_camino_1D_rank.png\""
      ]
     },
     "execution_count": 87,
     "metadata": {},
     "output_type": "execute_result"
    }
   ],
   "source": [
    "plot(1:max_rank, [N_distances_r, CR_distances_r], label = [\"standard inner product\" \"reweighted inner product\"], ylims=(0,1), xlims=(1,max_rank))\n",
    "savefig(\"results/DTI_camino_2D_rank.png\")"
   ]
  }
 ],
 "metadata": {
  "kernelspec": {
   "display_name": "Julia 1.7.2",
   "language": "julia",
   "name": "julia-1.7"
  },
  "language_info": {
   "file_extension": ".jl",
   "mimetype": "application/julia",
   "name": "julia",
   "version": "1.7.2"
  },
  "orig_nbformat": 4,
  "vscode": {
   "interpreter": {
    "hash": "31f2aee4e71d21fbe5cf8b01ff0e069b9275f58929596ceb00d14d90e3e16cd6"
   }
  }
 },
 "nbformat": 4,
 "nbformat_minor": 2
}
