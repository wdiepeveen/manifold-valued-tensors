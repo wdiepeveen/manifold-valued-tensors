{
 "cells": [
  {
   "cell_type": "markdown",
   "metadata": {},
   "source": [
    "# Low-rank approximation on $\\mathcal{P}(d)$ - the space of $d$-dimensional SPD matrices"
   ]
  },
  {
   "cell_type": "markdown",
   "metadata": {},
   "source": [
    "In this notebook we want to get some intuition in different approaches for computing low-rank approximations for manifold-valued signals"
   ]
  },
  {
   "cell_type": "code",
   "execution_count": 83,
   "metadata": {},
   "outputs": [],
   "source": [
    "using Manifolds\n",
    "using Manopt\n",
    "using LinearAlgebra\n",
    "using Random\n",
    "using Plots\n",
    "using LaTeXStrings"
   ]
  },
  {
   "cell_type": "code",
   "execution_count": 84,
   "metadata": {},
   "outputs": [
    {
     "data": {
      "text/plain": [
       "β (generic function with 1 method)"
      ]
     },
     "execution_count": 84,
     "metadata": {},
     "output_type": "execute_result"
    }
   ],
   "source": [
    "include(\"../../../src/decompositions/signals/naive_low_rank_approximation.jl\")\n",
    "include(\"../../../src/decompositions/signals/curvature_corrected_low_rank_approximation.jl\")\n",
    "include(\"../../../src/decompositions/signals/exact_low_rank_approximation.jl\")\n",
    "\n",
    "include(\"../../../src/functions/loss_functions/curvature_corrected_loss.jl\")\n",
    "include(\"../../../src/functions/loss_functions/exact_loss.jl\")\n",
    "include(\"../../../src/functions/jacobi_field/beta.jl\")"
   ]
  },
  {
   "cell_type": "code",
   "execution_count": 85,
   "metadata": {},
   "outputs": [
    {
     "data": {
      "text/plain": [
       "1"
      ]
     },
     "execution_count": 85,
     "metadata": {},
     "output_type": "execute_result"
    }
   ],
   "source": [
    "black = RGBA{Float64}(colorant\"#000000\")\n",
    "TolVibrantOrange = RGBA{Float64}(colorant\"#EE7733\")\n",
    "TolVibrantBlue = RGBA{Float64}(colorant\"#0077BB\")\n",
    "TolVibrantTeal = RGBA{Float64}(colorant\"#009988\")\n",
    "TolVibrantMagenta = RGBA{Float64}(colorant\"#EE3377\")\n",
    "TolVibrantCyan = RGBA{Float64}(colorant\"#33BBEE\");\n",
    "render_size = 1"
   ]
  },
  {
   "attachments": {},
   "cell_type": "markdown",
   "metadata": {},
   "source": [
    "### Load data and construct manifold ###"
   ]
  },
  {
   "cell_type": "code",
   "execution_count": 86,
   "metadata": {},
   "outputs": [
    {
     "data": {
      "text/plain": [
       "100"
      ]
     },
     "execution_count": 86,
     "metadata": {},
     "output_type": "execute_result"
    }
   ],
   "source": [
    "# load data\n",
    "M = Sphere(2)\n",
    "d = manifold_dimension(M)\n",
    "n = 100  # 100\n"
   ]
  },
  {
   "cell_type": "code",
   "execution_count": 87,
   "metadata": {},
   "outputs": [],
   "source": [
    "θ = collect(range(0, 2 * π, n+1))[1:n]\n",
    "predata = [[cos(θ[i]), sin(θ[i]), 0.] for i in 1:n]\n",
    "σ = .05  # variance\n",
    "\n",
    "Random.seed!(31)\n",
    "data = [exp(M, predata[i], random_tangent(M, predata[i], Val(:Gaussian), σ)) for i in 1:n]; # ∈ S(2)^n"
   ]
  },
  {
   "cell_type": "code",
   "execution_count": 88,
   "metadata": {},
   "outputs": [],
   "source": [
    "# Export slice image\n",
    "asymptote_export_S2_signals(\"results/artificial1D_orig.asy\", points=[data],\n",
    "colors=Dict(:points => [TolVibrantBlue]),\n",
    "dot_size=3.5,\n",
    "camera_position=(1.0, 0.5, 0.5)); "
   ]
  },
  {
   "attachments": {},
   "cell_type": "markdown",
   "metadata": {},
   "source": [
    "### Construct low rank approximation ###"
   ]
  },
  {
   "cell_type": "code",
   "execution_count": 89,
   "metadata": {},
   "outputs": [
    {
     "name": "stdout",
     "output_type": "stream",
     "text": [
      "[0.005864527816832297, -0.004603373218850059, 0.9999722077480426]\n",
      "2.826077714333991\n",
      "[0.9973810846474874, -0.05040543956910714, 0.05186775153451892]\n",
      "9.167247539594285\n"
     ]
    }
   ],
   "source": [
    "q₁ = mean(M, data)\n",
    "println(q₁)\n",
    "log_q_data₁ = log.(Ref(M), Ref(q₁), data);  # ∈ T_q P(3)^n\n",
    "# TODO compute theoretical lower bound\n",
    "ONB₁ = get_basis.(Ref(M), Ref(q₁), DiagonalizingOrthonormalBasis.(log_q_data₁))\n",
    "κ₁ = maximum([maximum(distance(M, q₁, data[i])^2 .* ONB₁[i].data.eigenvalues) for i in 1:n])\n",
    "println(κ₁)\n",
    "\n",
    "\n",
    "summed_pairwise_distances = [sum([distance.(Ref(M), Ref(data[i]), data) .^2]) for i in 1:n]\n",
    "q₂ = data[argmin(summed_pairwise_distances)]\n",
    "log_q_data₂ = log.(Ref(M), Ref(q₂), data);  # ∈ T_q P(3)^n\n",
    "println(q₂)\n",
    "ONB₂ = get_basis.(Ref(M), Ref(q₂), DiagonalizingOrthonormalBasis.(log_q_data₂))\n",
    "κ₂ = maximum([maximum(distance(M, q₂, data[i])^2 .* ONB₂[i].data.eigenvalues) for i in 1:n])\n",
    "println(κ₂)"
   ]
  },
  {
   "cell_type": "code",
   "execution_count": 90,
   "metadata": {},
   "outputs": [
    {
     "name": "stdout",
     "output_type": "stream",
     "text": [
      "Initial  F(x): 0.42256497554 | \n",
      "# 1     change: 0.328193618 |  F(x): 0.41857374134 | \n",
      "# 2     change: 0.272227296 |  F(x): 0.41582767158 | \n",
      "# 3     change: 0.225806336 |  F(x): 0.41393828015 | \n",
      "# 4     change: 0.187302654 |  F(x): 0.41263829244 | \n",
      "# 5     change: 0.155365861 |  F(x): 0.41174382505 | \n",
      "# 6     change: 0.128875895 |  F(x): 0.41112836632 | \n",
      "# 7     change: 0.106903738 |  F(x): 0.41070487560 | \n",
      "# 8     change: 0.088678829 |  F(x): 0.41041346794 | \n",
      "# 9     change: 0.073562037 |  F(x): 0.41021294136 | \n",
      "# 10    change: 0.061023244 |  F(x): 0.41007494776 | \n",
      "The algorithm reached its maximal number of iterations (10).\n"
     ]
    }
   ],
   "source": [
    "curvature_corrected_low_rank_approximation(M, q₁, data, 1; stepsize=1/10, max_iter=10); "
   ]
  },
  {
   "cell_type": "code",
   "execution_count": 91,
   "metadata": {},
   "outputs": [
    {
     "name": "stdout",
     "output_type": "stream",
     "text": [
      "Initial  F(x): 0.01776199510 | \n",
      "# 1     change: 0.161369540 |  F(x): 0.01704129874 | \n",
      "# 2     change: 0.130582351 |  F(x): 0.01656936792 | \n",
      "# 3     change: 0.105669058 |  F(x): 0.01626033461 | \n",
      "# 4     change: 0.085508994 |  F(x): 0.01605797046 | \n",
      "# 5     change: 0.069195302 |  F(x): 0.01592545588 | \n",
      "# 6     change: 0.055994145 |  F(x): 0.01583868053 | \n",
      "# 7     change: 0.045311694 |  F(x): 0.01578185641 | \n",
      "# 8     change: 0.036667418 |  F(x): 0.01574464517 | \n",
      "# 9     change: 0.029672468 |  F(x): 0.01572027701 | \n",
      "# 10    change: 0.024012182 |  F(x): 0.01570431891 | \n",
      "The algorithm reached its maximal number of iterations (10).\n"
     ]
    }
   ],
   "source": [
    "curvature_corrected_low_rank_approximation(M, q₂, data, 1; stepsize=1/10, max_iter=10); "
   ]
  },
  {
   "cell_type": "code",
   "execution_count": 92,
   "metadata": {},
   "outputs": [
    {
     "name": "stdout",
     "output_type": "stream",
     "text": [
      "Initial  F(x): 0.40332784783 | \n",
      "# 1     change: 0.144278613 |  F(x): 0.40123815824 | \n",
      "# 2     change: 0.140723757 |  F(x): 0.39934230430 | \n",
      "# 3     change: 0.137650349 |  F(x): 0.39762392079 | \n",
      "# 4     change: 0.135021760 |  F(x): 0.39606914241 | \n",
      "# 5     change: 0.132807322 |  F(x): 0.39466627665 | \n",
      "# 6     change: 0.130981608 |  F(x): 0.39340553931 | \n",
      "# 7     change: 0.129523835 |  F(x): 0.39227884187 | \n",
      "# 8     change: 0.128417393 |  F(x): 0.39127962256 | \n",
      "# 9     change: 0.127649472 |  F(x): 0.39040271459 | \n",
      "# 10    change: 0.127210768 |  F(x): 0.38964424675 | \n",
      "# 11    change: 0.127095274 |  F(x): 0.38900157278 | \n",
      "# 12    change: 0.127300132 |  F(x): 0.38847322697 | \n",
      "# 13    change: 0.127825546 |  F(x): 0.38805890452 | \n",
      "# 14    change: 0.128674762 |  F(x): 0.38775946594 | \n",
      "# 15    change: 0.129854097 |  F(x): 0.38757696546 | \n",
      "# 16    change: 0.131373026 |  F(x): 0.38751470463 | \n",
      "# 17    change: 0.133244331 |  F(x): 0.38757731269 | \n",
      "# 18    change: 0.135484314 |  F(x): 0.38777085653 | \n",
      "# 19    change: 0.138113068 |  F(x): 0.38810298395 | \n",
      "# 20    change: 0.141154830 |  F(x): 0.38858310533 | \n",
      "The algorithm reached its maximal number of iterations (20).\n"
     ]
    }
   ],
   "source": [
    "exact_low_rank_approximation(M, q₁, data, 1; stepsize=1/20, max_iter=20); "
   ]
  },
  {
   "cell_type": "code",
   "execution_count": 93,
   "metadata": {},
   "outputs": [
    {
     "name": "stdout",
     "output_type": "stream",
     "text": [
      "Initial  F(x): 0.00720070851 | \n",
      "# 1     change: 0.005902608 |  F(x): 0.00721576263 | \n",
      "# 2     change: 0.005939454 |  F(x): 0.00723115553 | \n",
      "# 3     change: 0.005976841 |  F(x): 0.00724689301 | \n",
      "# 4     change: 0.006014772 |  F(x): 0.00726298095 | \n",
      "# 5     change: 0.006053245 |  F(x): 0.00727942535 | \n",
      "# 6     change: 0.006092261 |  F(x): 0.00729623230 | \n",
      "# 7     change: 0.006131820 |  F(x): 0.00731340798 | \n",
      "# 8     change: 0.006171922 |  F(x): 0.00733095870 | \n",
      "# 9     change: 0.006212567 |  F(x): 0.00734889086 | \n",
      "# 10    change: 0.006253755 |  F(x): 0.00736721095 | \n",
      "# 11    change: 0.006295485 |  F(x): 0.00738592559 | \n",
      "# 12    change: 0.006337758 |  F(x): 0.00740504150 | \n",
      "# 13    change: 0.006380572 |  F(x): 0.00742456550 | \n",
      "# 14    change: 0.006423927 |  F(x): 0.00744450454 | \n",
      "# 15    change: 0.006467823 |  F(x): 0.00746486567 | \n",
      "# 16    change: 0.006512260 |  F(x): 0.00748565604 | \n",
      "# 17    change: 0.006557236 |  F(x): 0.00750688294 | \n",
      "# 18    change: 0.006602750 |  F(x): 0.00752855375 | \n",
      "# 19    change: 0.006648803 |  F(x): 0.00755067599 | \n",
      "# 20    change: 0.006695392 |  F(x): 0.00757325727 | \n",
      "The algorithm reached its maximal number of iterations (20).\n"
     ]
    }
   ],
   "source": [
    "exact_low_rank_approximation(M, q₂, data, 1; stepsize=1/100, max_iter=20); "
   ]
  },
  {
   "cell_type": "code",
   "execution_count": 94,
   "metadata": {},
   "outputs": [
    {
     "name": "stdout",
     "output_type": "stream",
     "text": [
      "#1 | computing naive low-rank approximation\n",
      "#1 | computing curvature corrected low-rank approximation\n",
      "Initial  F(x): 0.42256497554 | \n",
      "# 1     change: 0.328193618 |  F(x): 0.41857374134 | \n",
      "# 2     change: 0.272227296 |  F(x): 0.41582767158 | \n",
      "# 3     change: 0.225806336 |  F(x): 0.41393828015 | \n",
      "# 4     change: 0.187302654 |  F(x): 0.41263829244 | \n",
      "# 5     change: 0.155365861 |  F(x): 0.41174382505 | \n",
      "# 6     change: 0.128875895 |  F(x): 0.41112836632 | \n",
      "# 7     change: 0.106903738 |  F(x): 0.41070487560 | \n",
      "# 8     change: 0.088678829 |  F(x): 0.41041346794 | \n",
      "# 9     change: 0.073562037 |  F(x): 0.41021294136 | \n",
      "# 10    change: 0.061023244 |  F(x): 0.41007494776 | \n",
      "# 11    change: 0.050622751 |  F(x): 0.40997998260 | \n",
      "# 12    change: 0.041995855 |  F(x): 0.40991462579 | \n",
      "# 13    change: 0.034840059 |  F(x): 0.40986964349 | \n",
      "# 14    change: 0.028904460 |  F(x): 0.40983868210 | \n",
      "# 15    change: 0.023980949 |  F(x): 0.40981736976 | \n",
      "# 16    change: 0.019896915 |  F(x): 0.40980269811 | \n",
      "# 17    change: 0.016509184 |  F(x): 0.40979259700 | \n",
      "# 18    change: 0.013699005 |  F(x): 0.40978564183 | \n",
      "# 19    change: 0.011367880 |  F(x): 0.40978085220 | \n",
      "# 20    change: 0.009434112 |  F(x): 0.40977755336 | \n",
      "# 21    change: 0.007829935 |  F(x): 0.40977528092 | \n",
      "# 22    change: 0.006499144 |  F(x): 0.40977371521 | \n",
      "# 23    change: 0.005395119 |  F(x): 0.40977263621 | \n",
      "# 24    change: 0.004479192 |  F(x): 0.40977189242 | \n",
      "# 25    change: 0.003719288 |  F(x): 0.40977137956 | \n",
      "# 26    change: 0.003088805 |  F(x): 0.40977102582 | \n",
      "# 27    change: 0.002565676 |  F(x): 0.40977078172 | \n",
      "# 28    change: 0.002131599 |  F(x): 0.40977061322 | \n",
      "# 29    change: 0.001771391 |  F(x): 0.40977049684 | \n",
      "# 30    change: 0.001472461 |  F(x): 0.40977041641 | \n",
      "# 31    change: 0.001224363 |  F(x): 0.40977036079 | \n",
      "# 32    change: 0.001018434 |  F(x): 0.40977032230 | \n",
      "# 33    change: 0.000847487 |  F(x): 0.40977029565 | \n",
      "# 34    change: 0.000705562 |  F(x): 0.40977027717 | \n",
      "# 35    change: 0.000587713 |  F(x): 0.40977026434 | \n",
      "# 36    change: 0.000489840 |  F(x): 0.40977025543 | \n",
      "# 37    change: 0.000408539 |  F(x): 0.40977024923 | \n",
      "# 38    change: 0.000340990 |  F(x): 0.40977024490 | \n",
      "# 39    change: 0.000284850 |  F(x): 0.40977024189 | \n",
      "# 40    change: 0.000238179 |  F(x): 0.40977023978 | \n",
      "# 41    change: 0.000199364 |  F(x): 0.40977023830 | \n",
      "# 42    change: 0.000167070 |  F(x): 0.40977023726 | \n",
      "# 43    change: 0.000140187 |  F(x): 0.40977023652 | \n",
      "# 44    change: 0.000117797 |  F(x): 0.40977023601 | \n",
      "# 45    change: 0.000099136 |  F(x): 0.40977023564 | \n",
      "# 46    change: 0.000083571 |  F(x): 0.40977023538 | \n",
      "# 47    change: 0.000070578 |  F(x): 0.40977023519 | \n",
      "# 48    change: 0.000059720 |  F(x): 0.40977023506 | \n",
      "# 49    change: 0.000050636 |  F(x): 0.40977023496 | \n",
      "# 50    change: 0.000043027 |  F(x): 0.40977023489 | \n",
      "The algorithm reached its maximal number of iterations (50).\n",
      "#1 | computing exact low-rank approximation\n",
      "Initial  F(x): 0.40332784783 | \n",
      "# 1     change: 0.057711445 |  F(x): 0.40247424338 | \n",
      "# 2     change: 0.057123090 |  F(x): 0.40165261650 | \n",
      "# 3     change: 0.056566434 |  F(x): 0.40086181936 | \n",
      "# 4     change: 0.056040446 |  F(x): 0.40010077543 | \n",
      "# 5     change: 0.055544157 |  F(x): 0.39936847532 | \n",
      "# 6     change: 0.055076668 |  F(x): 0.39866397306 | \n",
      "# 7     change: 0.054637134 |  F(x): 0.39798638260 | \n",
      "# 8     change: 0.054224773 |  F(x): 0.39733487462 | \n",
      "# 9     change: 0.053838854 |  F(x): 0.39670867358 | \n",
      "# 10    change: 0.053478699 |  F(x): 0.39610705503 | \n",
      "# 11    change: 0.053143679 |  F(x): 0.39552934310 | \n",
      "# 12    change: 0.052833214 |  F(x): 0.39497490824 | \n",
      "# 13    change: 0.052546766 |  F(x): 0.39444316513 | \n",
      "# 14    change: 0.052283845 |  F(x): 0.39393357074 | \n",
      "# 15    change: 0.052043999 |  F(x): 0.39344562259 | \n",
      "# 16    change: 0.051826817 |  F(x): 0.39297885720 | \n",
      "# 17    change: 0.051631927 |  F(x): 0.39253284858 | \n",
      "# 18    change: 0.051458996 |  F(x): 0.39210720700 | \n",
      "# 19    change: 0.051307726 |  F(x): 0.39170157777 | \n",
      "# 20    change: 0.051177853 |  F(x): 0.39131564021 | \n",
      "# 21    change: 0.051069149 |  F(x): 0.39094910675 | \n",
      "# 22    change: 0.050981422 |  F(x): 0.39060172209 | \n",
      "# 23    change: 0.050914508 |  F(x): 0.39027326250 | \n",
      "# 24    change: 0.050868280 |  F(x): 0.38996353529 | \n",
      "# 25    change: 0.050842641 |  F(x): 0.38967237825 | \n",
      "# 26    change: 0.050837525 |  F(x): 0.38939965932 | \n",
      "# 27    change: 0.050852899 |  F(x): 0.38914527627 | \n",
      "# 28    change: 0.050888759 |  F(x): 0.38890915655 | \n",
      "# 29    change: 0.050945136 |  F(x): 0.38869125718 | \n",
      "# 30    change: 0.051022088 |  F(x): 0.38849156478 | \n",
      "# 31    change: 0.051119706 |  F(x): 0.38831009565 | \n",
      "# 32    change: 0.051238113 |  F(x): 0.38814689602 | \n",
      "# 33    change: 0.051377463 |  F(x): 0.38800204230 | \n",
      "# 34    change: 0.051537942 |  F(x): 0.38787564154 | \n",
      "# 35    change: 0.051719769 |  F(x): 0.38776783192 | \n",
      "# 36    change: 0.051923196 |  F(x): 0.38767878337 | \n",
      "# 37    change: 0.052148509 |  F(x): 0.38760869829 | \n",
      "# 38    change: 0.052396029 |  F(x): 0.38755781241 | \n",
      "# 39    change: 0.052666112 |  F(x): 0.38752639575 | \n",
      "# 40    change: 0.052959150 |  F(x): 0.38751475370 | \n",
      "# 41    change: 0.053275575 |  F(x): 0.38752322822 | \n",
      "# 42    change: 0.053615855 |  F(x): 0.38755219925 | \n",
      "# 43    change: 0.053980501 |  F(x): 0.38760208615 | \n",
      "# 44    change: 0.054370064 |  F(x): 0.38767334941 | \n",
      "# 45    change: 0.054785139 |  F(x): 0.38776649244 | \n",
      "# 46    change: 0.055226367 |  F(x): 0.38788206355 | \n",
      "# 47    change: 0.055694434 |  F(x): 0.38802065819 | \n",
      "# 48    change: 0.056190078 |  F(x): 0.38818292128 | \n",
      "# 49    change: 0.056714086 |  F(x): 0.38836954982 | \n",
      "# 50    change: 0.057267301 |  F(x): 0.38858129575 | \n",
      "The algorithm reached its maximal number of iterations (50).\n",
      "#1 | computing naive low-rank approximation\n",
      "#1 | computing curvature corrected low-rank approximation\n",
      "Initial  F(x): 0.01776199510 | \n",
      "# 1     change: 0.161369540 |  F(x): 0.01704129874 | \n",
      "# 2     change: 0.130582351 |  F(x): 0.01656936792 | \n",
      "# 3     change: 0.105669058 |  F(x): 0.01626033461 | \n",
      "# 4     change: 0.085508994 |  F(x): 0.01605797046 | \n",
      "# 5     change: 0.069195302 |  F(x): 0.01592545588 | \n",
      "# 6     change: 0.055994145 |  F(x): 0.01583868053 | \n",
      "# 7     change: 0.045311694 |  F(x): 0.01578185641 | \n",
      "# 8     change: 0.036667418 |  F(x): 0.01574464517 | \n",
      "# 9     change: 0.029672468 |  F(x): 0.01572027701 | \n",
      "# 10    change: 0.024012182 |  F(x): 0.01570431891 | \n",
      "# 11    change: 0.019431937 |  F(x): 0.01569386800 | \n",
      "# 12    change: 0.015725688 |  F(x): 0.01568702343 | \n",
      "# 13    change: 0.012726705 |  F(x): 0.01568254045 | \n",
      "# 14    change: 0.010300071 |  F(x): 0.01567960399 | \n",
      "# 15    change: 0.008336611 |  F(x): 0.01567768029 | \n",
      "# 16    change: 0.006747984 |  F(x): 0.01567641983 | \n",
      "# 17    change: 0.005462707 |  F(x): 0.01567559375 | \n",
      "# 18    change: 0.004422937 |  F(x): 0.01567505216 | \n",
      "# 19    change: 0.003581874 |  F(x): 0.01567469692 | \n",
      "# 20    change: 0.002901650 |  F(x): 0.01567446375 | \n",
      "# 21    change: 0.002351627 |  F(x): 0.01567431056 | \n",
      "# 22    change: 0.001907019 |  F(x): 0.01567420979 | \n",
      "# 23    change: 0.001547774 |  F(x): 0.01567414337 | \n",
      "# 24    change: 0.001257672 |  F(x): 0.01567409949 | \n",
      "# 25    change: 0.001023591 |  F(x): 0.01567407040 | \n",
      "# 26    change: 0.000834918 |  F(x): 0.01567405102 | \n",
      "# 27    change: 0.000683065 |  F(x): 0.01567403803 | \n",
      "# 28    change: 0.000561082 |  F(x): 0.01567402924 | \n",
      "# 29    change: 0.000463333 |  F(x): 0.01567402323 | \n",
      "# 30    change: 0.000385243 |  F(x): 0.01567401906 | \n",
      "# 31    change: 0.000323083 |  F(x): 0.01567401611 | \n",
      "# 32    change: 0.000273798 |  F(x): 0.01567401399 | \n",
      "# 33    change: 0.000234870 |  F(x): 0.01567401241 | \n",
      "# 34    change: 0.000204214 |  F(x): 0.01567401121 | \n",
      "# 35    change: 0.000180096 |  F(x): 0.01567401028 | \n",
      "# 36    change: 0.000161084 |  F(x): 0.01567400952 | \n",
      "# 37    change: 0.000146005 |  F(x): 0.01567400890 | \n",
      "# 38    change: 0.000133914 |  F(x): 0.01567400837 | \n",
      "# 39    change: 0.000124071 |  F(x): 0.01567400791 | \n",
      "# 40    change: 0.000115903 |  F(x): 0.01567400751 | \n",
      "# 41    change: 0.000108982 |  F(x): 0.01567400716 | \n",
      "# 42    change: 0.000102991 |  F(x): 0.01567400684 | \n",
      "# 43    change: 0.000097700 |  F(x): 0.01567400656 | \n",
      "# 44    change: 0.000092944 |  F(x): 0.01567400630 | \n",
      "# 45    change: 0.000088602 |  F(x): 0.01567400607 | \n",
      "# 46    change: 0.000084591 |  F(x): 0.01567400585 | \n",
      "# 47    change: 0.000080851 |  F(x): 0.01567400566 | \n",
      "# 48    change: 0.000077337 |  F(x): 0.01567400548 | \n",
      "# 49    change: 0.000074017 |  F(x): 0.01567400531 | \n",
      "# 50    change: 0.000070869 |  F(x): 0.01567400516 | \n",
      "The algorithm reached its maximal number of iterations (50).\n",
      "#1 | computing exact low-rank approximation\n",
      "Initial  F(x): 0.00720070851 | \n",
      "# 1     change: 0.005902608 |  F(x): 0.00721576263 | \n",
      "# 2     change: 0.005939454 |  F(x): 0.00723115553 | \n",
      "# 3     change: 0.005976841 |  F(x): 0.00724689301 | \n",
      "# 4     change: 0.006014772 |  F(x): 0.00726298095 | \n",
      "# 5     change: 0.006053245 |  F(x): 0.00727942535 | \n",
      "# 6     change: 0.006092261 |  F(x): 0.00729623230 | \n",
      "# 7     change: 0.006131820 |  F(x): 0.00731340798 | \n",
      "# 8     change: 0.006171922 |  F(x): 0.00733095870 | \n",
      "# 9     change: 0.006212567 |  F(x): 0.00734889086 | \n",
      "# 10    change: 0.006253755 |  F(x): 0.00736721095 | \n",
      "# 11    change: 0.006295485 |  F(x): 0.00738592559 | \n",
      "# 12    change: 0.006337758 |  F(x): 0.00740504150 | \n",
      "# 13    change: 0.006380572 |  F(x): 0.00742456550 | \n",
      "# 14    change: 0.006423927 |  F(x): 0.00744450454 | \n",
      "# 15    change: 0.006467823 |  F(x): 0.00746486567 | \n",
      "# 16    change: 0.006512260 |  F(x): 0.00748565604 | \n",
      "# 17    change: 0.006557236 |  F(x): 0.00750688294 | \n",
      "# 18    change: 0.006602750 |  F(x): 0.00752855375 | \n",
      "# 19    change: 0.006648803 |  F(x): 0.00755067599 | \n",
      "# 20    change: 0.006695392 |  F(x): 0.00757325727 | \n",
      "# 21    change: 0.006742517 |  F(x): 0.00759630536 | \n",
      "# 22    change: 0.006790178 |  F(x): 0.00761982810 | \n",
      "# 23    change: 0.006838372 |  F(x): 0.00764383348 | \n",
      "# 24    change: 0.006887099 |  F(x): 0.00766832961 | \n",
      "# 25    change: 0.006936357 |  F(x): 0.00769332473 | \n",
      "# 26    change: 0.006986145 |  F(x): 0.00771882718 | \n",
      "# 27    change: 0.007036461 |  F(x): 0.00774484545 | \n",
      "# 28    change: 0.007087305 |  F(x): 0.00777138815 | \n",
      "# 29    change: 0.007138674 |  F(x): 0.00779846400 | \n",
      "# 30    change: 0.007190566 |  F(x): 0.00782608187 | \n",
      "# 31    change: 0.007242981 |  F(x): 0.00785425076 | \n",
      "# 32    change: 0.007295915 |  F(x): 0.00788297979 | \n",
      "# 33    change: 0.007349368 |  F(x): 0.00791227822 | \n",
      "# 34    change: 0.007403336 |  F(x): 0.00794215543 | \n",
      "# 35    change: 0.007457819 |  F(x): 0.00797262095 | \n",
      "# 36    change: 0.007512813 |  F(x): 0.00800368443 | \n",
      "# 37    change: 0.007568317 |  F(x): 0.00803535566 | \n",
      "# 38    change: 0.007624327 |  F(x): 0.00806764459 | \n",
      "# 39    change: 0.007680842 |  F(x): 0.00810056126 | \n",
      "# 40    change: 0.007737859 |  F(x): 0.00813411589 | \n",
      "# 41    change: 0.007795376 |  F(x): 0.00816831881 | \n",
      "# 42    change: 0.007853388 |  F(x): 0.00820318052 | \n",
      "# 43    change: 0.007911895 |  F(x): 0.00823871162 | \n",
      "# 44    change: 0.007970892 |  F(x): 0.00827492290 | \n",
      "# 45    change: 0.008030376 |  F(x): 0.00831182524 | \n",
      "# 46    change: 0.008090345 |  F(x): 0.00834942970 | \n",
      "# 47    change: 0.008150795 |  F(x): 0.00838774747 | \n",
      "# 48    change: 0.008211723 |  F(x): 0.00842678988 | \n",
      "# 49    change: 0.008273124 |  F(x): 0.00846656841 | \n",
      "# 50    change: 0.008334997 |  F(x): 0.00850709467 | \n",
      "The algorithm reached its maximal number of iterations (50).\n",
      "#2 | computing naive low-rank approximation\n",
      "#2 | computing curvature corrected low-rank approximation\n",
      "Initial  F(x): 0.00000000000 | \n",
      "The algorithm reached approximately critical point after 0 iterations; the gradient norm (4.8812731789673e-15) is less than 1.0e-8.\n",
      "#2 | computing exact low-rank approximation\n",
      "Initial  F(x): 0.00000000000 | \n",
      "The algorithm reached approximately critical point after 0 iterations; the gradient norm (2.1747309751959786e-15) is less than 1.0e-8.\n",
      "#2 | computing naive low-rank approximation\n",
      "#2 | computing curvature corrected low-rank approximation\n",
      "Initial  F(x): 0.00000000000 | \n",
      "The algorithm reached approximately critical point after 0 iterations; the gradient norm (4.045615069819264e-15) is less than 1.0e-8.\n",
      "#2 | computing exact low-rank approximation\n",
      "Initial  F(x): 0.00000000000 | \n",
      "The algorithm reached approximately critical point after 0 iterations; the gradient norm (1.321908520531634e-14) is less than 1.0e-8.\n"
     ]
    }
   ],
   "source": [
    "max_iter = 50\n",
    "\n",
    "nR_q₁ = []\n",
    "nU₁ = []\n",
    "ccR_q₁ = []\n",
    "ccU₁ = []\n",
    "eR_q₁ = []\n",
    "eU₁ = []\n",
    "\n",
    "nR_q₂ = []\n",
    "nU₂ = []\n",
    "ccR_q₂ = []\n",
    "ccU₂ = []\n",
    "eR_q₂ = []\n",
    "eU₂ = []\n",
    "\n",
    "for i in 1:d\n",
    "    println(\"#$(i) | computing naive low-rank approximation\")\n",
    "    nRr_q₁, nUr₁ = naive_low_rank_approximation(M, q₁, data, i)\n",
    "    push!(nR_q₁, nRr_q₁)\n",
    "    push!(nU₁, nUr₁)\n",
    "    println(\"#$(i) | computing curvature corrected low-rank approximation\")\n",
    "    ccRr_q₁, ccUr₁ = curvature_corrected_low_rank_approximation(M, q₁, data, i; stepsize=1/10, max_iter=max_iter); \n",
    "    push!(ccR_q₁, ccRr_q₁)\n",
    "    push!(ccU₁, ccUr₁)\n",
    "    println(\"#$(i) | computing exact low-rank approximation\")\n",
    "    eRr_q₁, eUr₁ = exact_low_rank_approximation(M, q₁, data, i; stepsize=1/50, max_iter=max_iter); \n",
    "    push!(eR_q₁, eRr_q₁)\n",
    "    push!(eU₁, eUr₁)\n",
    "\n",
    "    println(\"#$(i) | computing naive low-rank approximation\")\n",
    "    nRr_q₂, nUr₂ = naive_low_rank_approximation(M, q₂, data, i)\n",
    "    push!(nR_q₂, nRr_q₂)\n",
    "    push!(nU₂, nUr₂)\n",
    "    println(\"#$(i) | computing curvature corrected low-rank approximation\")\n",
    "    ccRr_q₂, ccUr₂ = curvature_corrected_low_rank_approximation(M, q₂, data, i; stepsize=1/10, max_iter=max_iter); \n",
    "    push!(ccR_q₂, ccRr_q₂)\n",
    "    push!(ccU₂, ccUr₂)\n",
    "    println(\"#$(i) | computing exact low-rank approximation\")\n",
    "    eRr_q₂, eUr₂ = exact_low_rank_approximation(M, q₂, data, i; stepsize=1/100, max_iter=max_iter); \n",
    "    push!(eR_q₂, eRr_q₂)\n",
    "    push!(eU₂, eUr₂)\n",
    "end"
   ]
  },
  {
   "cell_type": "code",
   "execution_count": 95,
   "metadata": {},
   "outputs": [],
   "source": [
    "# basepoint q₁\n",
    "ref_distance₁ = sum(distance.(Ref(M), Ref(q₁), data).^2)\n",
    "\n",
    "naive_tangent_distances_r₁ = zeros(d)\n",
    "predicted_naive_distances_r₁ = zeros(d)\n",
    "true_naive_distances_r₁ = zeros(d)\n",
    "\n",
    "curvature_corrected_tangent_distances_r₁ = zeros(d)\n",
    "predicted_curvature_corrected_distances_r₁ = zeros(d)\n",
    "true_curvature_corrected_distances_r₁ = zeros(d)\n",
    "\n",
    "exact_tangent_distances_r₁ = zeros(d)\n",
    "exact_distances_r₁ = zeros(d)\n",
    "\n",
    "# basepoint q₂\n",
    "ref_distance₂ = sum(distance.(Ref(M), Ref(q₂), data).^2)\n",
    "\n",
    "naive_tangent_distances_r₂ = zeros(d)\n",
    "predicted_naive_distances_r₂ = zeros(d)\n",
    "true_naive_distances_r₂ = zeros(d)\n",
    "\n",
    "curvature_corrected_tangent_distances_r₂ = zeros(d)\n",
    "predicted_curvature_corrected_distances_r₂ = zeros(d)\n",
    "true_curvature_corrected_distances_r₂ = zeros(d)\n",
    "\n",
    "exact_tangent_distances_r₂ = zeros(d)\n",
    "exact_distances_r₂ = zeros(d)\n",
    "\n",
    "for rank in 1:d\n",
    "    ## basepoint q₁\n",
    "    naive_log_q_data_r₁ = [sum([nR_q₁[rank][i] * nU₁[rank][k,i] for i in 1:rank]) for k in 1:n]\n",
    "    curvature_corrected_log_q_data_r₁ = [sum([ccR_q₁[rank][i] * ccU₁[rank][k,i] for i in 1:rank]) for k in 1:n]\n",
    "    exact_log_q_data_r₁ = [sum([eR_q₁[rank][i] * eU₁[rank][k,i] for i in 1:rank]) for k in 1:n]\n",
    "    \n",
    "    # expoentiate back\n",
    "    naive_data_r₁ = exp.(Ref(M), Ref(q₁), naive_log_q_data_r₁)\n",
    "    curvature_corrected_data_r₁ = exp.(Ref(M), Ref(q₁), curvature_corrected_log_q_data_r₁)\n",
    "    exact_data_r₁ = exp.(Ref(M), Ref(q₁), exact_log_q_data_r₁)\n",
    "\n",
    "\n",
    "    # compute relative tangent space error\n",
    "    naive_tangent_distances_r₁[rank] = sum(norm.(Ref(M), Ref(q₁),  log_q_data₁ - naive_log_q_data_r₁).^2) / ref_distance₁\n",
    "    curvature_corrected_tangent_distances_r₁[rank] = sum(norm.(Ref(M), Ref(q₁),  log_q_data₁ - curvature_corrected_log_q_data_r₁).^2) / ref_distance₁\n",
    "    exact_tangent_distances_r₁[rank] = sum(norm.(Ref(M), Ref(q₁),  log_q_data₁ - exact_log_q_data_r₁).^2) / ref_distance₁\n",
    "\n",
    "\n",
    "    # compute relative manifold error\n",
    "    predicted_naive_distances_r₁[rank] = curvature_corrected_loss(M, q₁, data, naive_log_q_data_r₁)\n",
    "    true_naive_distances_r₁[rank] = exact_loss(M, q₁, data, naive_log_q_data_r₁)\n",
    "    predicted_curvature_corrected_distances_r₁[rank] = curvature_corrected_loss(M, q₁, data, curvature_corrected_log_q_data_r₁)\n",
    "    true_curvature_corrected_distances_r₁[rank] = exact_loss(M, q₁, data, curvature_corrected_log_q_data_r₁)\n",
    "    exact_distances_r₁[rank] = exact_loss(M, q₁, data, exact_log_q_data_r₁)\n",
    "\n",
    "    ## basepoint q₂\n",
    "    naive_log_q_data_r₂ = [sum([nR_q₂[rank][i] * nU₂[rank][k,i] for i in 1:rank]) for k in 1:n]\n",
    "    curvature_corrected_log_q_data_r₂ = [sum([ccR_q₂[rank][i] * ccU₂[rank][k,i] for i in 1:rank]) for k in 1:n]\n",
    "    exact_log_q_data_r₂ = [sum([eR_q₂[rank][i] * eU₂[rank][k,i] for i in 1:rank]) for k in 1:n]\n",
    "    \n",
    "    # expoentiate back\n",
    "    naive_data_r₂ = exp.(Ref(M), Ref(q₂), naive_log_q_data_r₂)\n",
    "    curvature_corrected_data_r₂ = exp.(Ref(M), Ref(q₂), curvature_corrected_log_q_data_r₂)\n",
    "    exact_data_r₂ = exp.(Ref(M), Ref(q₂), exact_log_q_data_r₂)\n",
    "\n",
    "\n",
    "    # compute relative tangent space error\n",
    "    naive_tangent_distances_r₂[rank] = sum(norm.(Ref(M), Ref(q₂),  log_q_data₂ - naive_log_q_data_r₂).^2) / ref_distance₂\n",
    "    curvature_corrected_tangent_distances_r₂[rank] = sum(norm.(Ref(M), Ref(q₂),  log_q_data₂ - curvature_corrected_log_q_data_r₂).^2) / ref_distance₂\n",
    "    exact_tangent_distances_r₂[rank] = sum(norm.(Ref(M), Ref(q₂),  log_q_data₂ - exact_log_q_data_r₂).^2) / ref_distance₂\n",
    "\n",
    "\n",
    "    # compute relative manifold error\n",
    "    predicted_naive_distances_r₂[rank] = curvature_corrected_loss(M, q₂, data, naive_log_q_data_r₂)\n",
    "    true_naive_distances_r₂[rank] = exact_loss(M, q₂, data, naive_log_q_data_r₂)\n",
    "    predicted_curvature_corrected_distances_r₂[rank] = curvature_corrected_loss(M, q₂, data, curvature_corrected_log_q_data_r₂)\n",
    "    true_curvature_corrected_distances_r₂[rank] = exact_loss(M, q₂, data, curvature_corrected_log_q_data_r₂)\n",
    "    exact_distances_r₂[rank] = exact_loss(M, q₂, data, exact_log_q_data_r₂)\n",
    "end"
   ]
  },
  {
   "cell_type": "code",
   "execution_count": 96,
   "metadata": {},
   "outputs": [
    {
     "data": {
      "text/plain": [
       "\"/Users/wdiepeveen/Documents/PhD/Projects/8 - Manifold-valued tensor decomposition/src/manifold-valued-tensors/experiments/1D/S2/results/artificial1D_logerrors_by_rank_2.png\""
      ]
     },
     "execution_count": 96,
     "metadata": {},
     "output_type": "execute_result"
    }
   ],
   "source": [
    "# We want plots with (1) the lower bound error, (2) the actually uncorrected manifold error and (3) the corrected manifold error\n",
    "# basepoint q₁\n",
    "plot(1:d, [β(κ₁)^2 .* naive_tangent_distances_r₁, true_naive_distances_r₁, true_curvature_corrected_distances_r₁, exact_distances_r₁], label = [\"theoretical lower bound\" \"naive\" \"curvature corrected\" \"exact\"], ylims=(0,1), xlims=(1,d),xaxis=(\"approximation rank\"), yaxis=(L\"$\\varepsilon_{rel}$\"))\n",
    "savefig(\"results/artificial1D_errors_by_rank_1.png\")\n",
    "plot(1:d, [β(κ₁)^2 .* naive_tangent_distances_r₁ .+ 1e-16, true_naive_distances_r₁ .+ 1e-16, true_curvature_corrected_distances_r₁ .+ 1e-16, exact_distances_r₁ .+ 1e-16], label = [\"theoretical lower bound\" \"naive\" \"curvature corrected\" \"exact\"], ylims=(1e-16,1), xlims=(1,d), xaxis=(\"approximation rank\"), yaxis=(L\"$\\varepsilon_{rel}$\", :log), legend=:bottomleft)\n",
    "savefig(\"results/artificial1D_logerrors_by_rank_1.png\")\n",
    "# basepoint q₂\n",
    "plot(1:d, [β(κ₂)^2 .* naive_tangent_distances_r₂, true_naive_distances_r₂, true_curvature_corrected_distances_r₂, exact_distances_r₂], label = [\"theoretical lower bound\" \"naive\" \"curvature corrected\" \"exact\"], ylims=(0,1), xlims=(1,d),xaxis=(\"approximation rank\"), yaxis=(L\"$\\varepsilon_{rel}$\"))\n",
    "savefig(\"results/artificial1D_errors_by_rank_2.png\")\n",
    "plot(1:d, [β(κ₂)^2 .* naive_tangent_distances_r₂ .+ 1e-16, true_naive_distances_r₂ .+ 1e-16, true_curvature_corrected_distances_r₂ .+ 1e-16, exact_distances_r₂ .+ 1e-16], label = [\"theoretical lower bound\" \"naive\" \"curvature corrected\" \"exact\"], ylims=(1e-16,1), xlims=(1,d), xaxis=(\"approximation rank\"), yaxis=(L\"$\\varepsilon_{rel}$\", :log), legend=:bottomleft)\n",
    "savefig(\"results/artificial1D_logerrors_by_rank_2.png\")"
   ]
  },
  {
   "cell_type": "code",
   "execution_count": 97,
   "metadata": {},
   "outputs": [
    {
     "data": {
      "text/plain": [
       "\"/Users/wdiepeveen/Documents/PhD/Projects/8 - Manifold-valued tensor decomposition/src/manifold-valued-tensors/experiments/1D/S2/results/artificial1D_logdiscrepancy_by_rank_2.png\""
      ]
     },
     "execution_count": 97,
     "metadata": {},
     "output_type": "execute_result"
    }
   ],
   "source": [
    "# It would be nice to also have a plot that tells us something about the error in predicting the manifold loss (using CCL) and the actual loss \n",
    "# (1) for the naive approach (2) for the curvature corrected approach\n",
    "# basepoint q₁\n",
    "plot(1:d, [(predicted_naive_distances_r₁ .+ 1e-16) ./ (true_naive_distances_r₁ .+ 1e-16), (predicted_curvature_corrected_distances_r₁ .+ 1e-16) ./ (true_curvature_corrected_distances_r₁ .+ 1e-16)], label = [\"discrepancy in initialisation\" \"discrepancy in solutions\"], xlims=(1,d),xaxis=(\"approximation rank\"), yaxis=(L\"$\\delta_{rel}$\"))\n",
    "savefig(\"results/artificial1D_discrepancy_by_rank_1.png\")\n",
    "plot(1:d, [(predicted_naive_distances_r₁ .+ 1e-16) ./ (true_naive_distances_r₁ .+ 1e-16), (predicted_curvature_corrected_distances_r₁ .+ 1e-16) ./ (true_curvature_corrected_distances_r₁ .+ 1e-16)], label = [\"discrepancy in initialisation\" \"discrepancy in solutions\"], xlims=(1,d), xaxis=(\"approximation rank\"), yaxis=(L\"$\\delta_{rel}$\", :log), legend=:bottomleft)\n",
    "savefig(\"results/artificial1D_logdiscrepancy_by_rank_1.png\")\n",
    "# basepoint q₂\n",
    "plot(1:d, [(predicted_naive_distances_r₂ .+ 1e-16) ./ (true_naive_distances_r₂ .+ 1e-16), (predicted_curvature_corrected_distances_r₂ .+ 1e-16) ./ (true_curvature_corrected_distances_r₂ .+ 1e-16)], label = [\"discrepancy in initialisation\" \"discrepancy in solutions\"], xlims=(1,d),xaxis=(\"approximation rank\"), yaxis=(L\"$\\delta_{rel}$\"))\n",
    "savefig(\"results/artificial1D_discrepancy_by_rank_2.png\")\n",
    "plot(1:d, [(predicted_naive_distances_r₂ .+ 1e-16) ./ (true_naive_distances_r₂ .+ 1e-16), (predicted_curvature_corrected_distances_r₂ .+ 1e-16) ./ (true_curvature_corrected_distances_r₂ .+ 1e-16)], label = [\"discrepancy in initialisation\" \"discrepancy in solutions\"], xlims=(1,d), xaxis=(\"approximation rank\"), yaxis=(L\"$\\delta_{rel}$\", :log), legend=:bottomleft)\n",
    "savefig(\"results/artificial1D_logdiscrepancy_by_rank_2.png\")"
   ]
  }
 ],
 "metadata": {
  "kernelspec": {
   "display_name": "Julia 1.7.2",
   "language": "julia",
   "name": "julia-1.7"
  },
  "language_info": {
   "file_extension": ".jl",
   "mimetype": "application/julia",
   "name": "julia",
   "version": "1.7.2"
  },
  "orig_nbformat": 4,
  "vscode": {
   "interpreter": {
    "hash": "31f2aee4e71d21fbe5cf8b01ff0e069b9275f58929596ceb00d14d90e3e16cd6"
   }
  }
 },
 "nbformat": 4,
 "nbformat_minor": 2
}
