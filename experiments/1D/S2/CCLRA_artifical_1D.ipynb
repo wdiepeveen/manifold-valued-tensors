{
 "cells": [
  {
   "cell_type": "markdown",
   "metadata": {},
   "source": [
    "# Low-rank approximation on $\\mathcal{P}(d)$ - the space of $d$-dimensional SPD matrices"
   ]
  },
  {
   "cell_type": "markdown",
   "metadata": {},
   "source": [
    "In this notebook we want to get some intuition in different approaches for computing low-rank approximations for manifold-valued signals"
   ]
  },
  {
   "cell_type": "code",
   "execution_count": 69,
   "metadata": {},
   "outputs": [],
   "source": [
    "using Manifolds\n",
    "using Manopt\n",
    "using LinearAlgebra\n",
    "using Random\n",
    "using Plots\n",
    "using LaTeXStrings"
   ]
  },
  {
   "cell_type": "code",
   "execution_count": 70,
   "metadata": {},
   "outputs": [
    {
     "data": {
      "text/plain": [
       "exact_loss (generic function with 2 methods)"
      ]
     },
     "execution_count": 70,
     "metadata": {},
     "output_type": "execute_result"
    }
   ],
   "source": [
    "include(\"../../../src/decompositions/signals/naive_low_rank_approximation.jl\")\n",
    "include(\"../../../src/decompositions/signals/curvature_corrected_low_rank_approximation.jl\")\n",
    "include(\"../../../src/decompositions/signals/exact_low_rank_approximation.jl\")\n",
    "\n",
    "include(\"../../../src/functions/loss_functions/curvature_corrected_loss.jl\")\n",
    "include(\"../../../src/functions/loss_functions/exact_loss.jl\")\n",
    "include(\"../../../src/function/jacobi_field/beta.jl\")"
   ]
  },
  {
   "cell_type": "code",
   "execution_count": 71,
   "metadata": {},
   "outputs": [
    {
     "data": {
      "text/plain": [
       "1"
      ]
     },
     "execution_count": 71,
     "metadata": {},
     "output_type": "execute_result"
    }
   ],
   "source": [
    "black = RGBA{Float64}(colorant\"#000000\")\n",
    "TolVibrantOrange = RGBA{Float64}(colorant\"#EE7733\")\n",
    "TolVibrantBlue = RGBA{Float64}(colorant\"#0077BB\")\n",
    "TolVibrantTeal = RGBA{Float64}(colorant\"#009988\")\n",
    "TolVibrantMagenta = RGBA{Float64}(colorant\"#EE3377\")\n",
    "TolVibrantCyan = RGBA{Float64}(colorant\"#33BBEE\");\n",
    "render_size = 1"
   ]
  },
  {
   "attachments": {},
   "cell_type": "markdown",
   "metadata": {},
   "source": [
    "### Load data and construct manifold ###"
   ]
  },
  {
   "cell_type": "code",
   "execution_count": 72,
   "metadata": {},
   "outputs": [
    {
     "data": {
      "text/plain": [
       "100"
      ]
     },
     "execution_count": 72,
     "metadata": {},
     "output_type": "execute_result"
    }
   ],
   "source": [
    "# load data\n",
    "M = Sphere(2)\n",
    "d = manifold_dimension(M)\n",
    "n = 100  # 100\n"
   ]
  },
  {
   "cell_type": "code",
   "execution_count": 73,
   "metadata": {},
   "outputs": [],
   "source": [
    "θ = collect(range(0, 2 * π, n+1))[1:n]\n",
    "predata = [[cos(θ[i]), sin(θ[i]), 0.] for i in 1:n]\n",
    "σ = .05  # variance\n",
    "\n",
    "Random.seed!(31)\n",
    "data = [exp(M, predata[i], random_tangent(M, predata[i], Val(:Gaussian), σ)) for i in 1:n]; # ∈ P(3)^n"
   ]
  },
  {
   "cell_type": "code",
   "execution_count": 18,
   "metadata": {},
   "outputs": [],
   "source": [
    "# Export slice image\n",
    "asymptote_export_S2_signals(\"results/artificial1D_orig.asy\", points=[data],\n",
    "colors=Dict(:points => [TolVibrantBlue]),\n",
    "dot_size=3.5,\n",
    "camera_position=(1.0, 0.5, 0.5)); "
   ]
  },
  {
   "attachments": {},
   "cell_type": "markdown",
   "metadata": {},
   "source": [
    "### Construct low rank approximation ###"
   ]
  },
  {
   "cell_type": "code",
   "execution_count": 74,
   "metadata": {},
   "outputs": [
    {
     "name": "stdout",
     "output_type": "stream",
     "text": [
      "[0.005864527816832297, -0.004603373218850059, 0.9999722077480426]\n",
      "2.826077714333991\n",
      "[0.9973810846474874, -0.05040543956910714, 0.05186775153451892]\n",
      "9.167247539594285\n"
     ]
    }
   ],
   "source": [
    "q₁ = mean(M, data)\n",
    "println(q₁)\n",
    "log_q_data₁ = log.(Ref(M), Ref(q₁), data);  # ∈ T_q P(3)^n\n",
    "# TODO compute theoretical lower bound\n",
    "ONB₁ = get_basis.(Ref(M), Ref(q₁), DiagonalizingOrthonormalBasis.(log_q_data₁))\n",
    "κ₁ = maximum([maximum(distance(M, q₁, data[i])^2 .* ONB₁[i].data.eigenvalues) for i in 1:n])\n",
    "println(κ₁)\n",
    "\n",
    "\n",
    "summed_pairwise_distances = [sum([distance.(Ref(M), Ref(data[i]), data) .^2]) for i in 1:n]\n",
    "q₂ = data[argmin(summed_pairwise_distances)]\n",
    "log_q_data₂ = log.(Ref(M), Ref(q₂), data);  # ∈ T_q P(3)^n\n",
    "println(q₂)\n",
    "ONB₂ = get_basis.(Ref(M), Ref(q₂), DiagonalizingOrthonormalBasis.(log_q_data₂))\n",
    "κ₂ = maximum([maximum(distance(M, q₂, data[i])^2 .* ONB₂[i].data.eigenvalues) for i in 1:n])\n",
    "println(κ₂)"
   ]
  },
  {
   "cell_type": "code",
   "execution_count": 75,
   "metadata": {},
   "outputs": [
    {
     "name": "stdout",
     "output_type": "stream",
     "text": [
      "Initial  F(x): 0.42256497554 | \n",
      "# 1     change: 0.328193618 |  F(x): 0.41857374134 | \n",
      "# 2     change: 0.272227296 |  F(x): 0.41582767158 | \n",
      "# 3     change: 0.225806336 |  F(x): 0.41393828015 | \n",
      "# 4     change: 0.187302654 |  F(x): 0.41263829244 | \n",
      "# 5     change: 0.155365861 |  F(x): 0.41174382505 | \n",
      "# 6     change: 0.128875895 |  F(x): 0.41112836632 | \n",
      "# 7     change: 0.106903738 |  F(x): 0.41070487560 | \n",
      "# 8     change: 0.088678829 |  F(x): 0.41041346794 | \n",
      "# 9     change: 0.073562037 |  F(x): 0.41021294136 | \n",
      "# 10    change: 0.061023244 |  F(x): 0.41007494776 | \n",
      "The algorithm reached its maximal number of iterations (10).\n"
     ]
    }
   ],
   "source": [
    "curvature_corrected_low_rank_approximation(M, q₁, data, 1; stepsize=1/10, max_iter=10); "
   ]
  },
  {
   "cell_type": "code",
   "execution_count": 76,
   "metadata": {},
   "outputs": [
    {
     "name": "stdout",
     "output_type": "stream",
     "text": [
      "Initial  F(x): 0.01776199510 | \n",
      "# 1     change: 0.161369540 |  F(x): 0.01704129874 | \n",
      "# 2     change: 0.130582351 |  F(x): 0.01656936792 | \n",
      "# 3     change: 0.105669058 |  F(x): 0.01626033461 | \n",
      "# 4     change: 0.085508994 |  F(x): 0.01605797046 | \n",
      "# 5     change: 0.069195302 |  F(x): 0.01592545588 | \n",
      "# 6     change: 0.055994145 |  F(x): 0.01583868053 | \n",
      "# 7     change: 0.045311694 |  F(x): 0.01578185641 | \n",
      "# 8     change: 0.036667418 |  F(x): 0.01574464517 | \n",
      "# 9     change: 0.029672468 |  F(x): 0.01572027701 | \n",
      "# 10    change: 0.024012182 |  F(x): 0.01570431891 | \n",
      "The algorithm reached its maximal number of iterations (10).\n"
     ]
    }
   ],
   "source": [
    "curvature_corrected_low_rank_approximation(M, q₂, data, 1; stepsize=1/10, max_iter=10); "
   ]
  },
  {
   "cell_type": "code",
   "execution_count": 77,
   "metadata": {},
   "outputs": [
    {
     "name": "stdout",
     "output_type": "stream",
     "text": [
      "Initial  F(x): 0.40332784783 | \n",
      "# 1     change: 0.114866817 |  F(x): 0.40165210037 | \n",
      "# 2     change: 0.111747412 |  F(x): 0.40011173822 | \n",
      "# 3     change: 0.108967391 |  F(x): 0.39869508851 | \n",
      "# 4     change: 0.106499211 |  F(x): 0.39739202848 | \n",
      "# 5     change: 0.104319135 |  F(x): 0.39619377955 | \n",
      "# 6     change: 0.102406745 |  F(x): 0.39509273630 | \n",
      "# 7     change: 0.100744541 |  F(x): 0.39408232445 | \n",
      "# 8     change: 0.099317601 |  F(x): 0.39315688278 | \n",
      "# 9     change: 0.098113305 |  F(x): 0.39231156541 | \n",
      "# 10    change: 0.097121104 |  F(x): 0.39154226115 | \n",
      "# 11    change: 0.096332328 |  F(x): 0.39084552758 | \n",
      "# 12    change: 0.095740035 |  F(x): 0.39021853781 | \n",
      "# 13    change: 0.095338887 |  F(x): 0.38965903849 | \n",
      "# 14    change: 0.095125059 |  F(x): 0.38916531784 | \n",
      "# 15    change: 0.095096161 |  F(x): 0.38873618281 | \n",
      "# 16    change: 0.095251202 |  F(x): 0.38837094478 | \n",
      "# 17    change: 0.095590557 |  F(x): 0.38806941344 | \n",
      "# 18    change: 0.096115966 |  F(x): 0.38783189861 | \n",
      "# 19    change: 0.096830549 |  F(x): 0.38765922018 | \n",
      "# 20    change: 0.097738843 |  F(x): 0.38755272635 | \n",
      "The algorithm reached its maximal number of iterations (20).\n"
     ]
    }
   ],
   "source": [
    "exact_low_rank_approximation(M, q₁, data, 1; stepsize=1/20, max_iter=20); "
   ]
  },
  {
   "cell_type": "code",
   "execution_count": 46,
   "metadata": {},
   "outputs": [
    {
     "name": "stdout",
     "output_type": "stream",
     "text": [
      "Initial  F(x): 0.00720070851 | \n",
      "# 1     change: 0.008295626 |  F(x): 0.00722458394 | \n",
      "# 2     change: 0.008359502 |  F(x): 0.00724910419 | \n",
      "# 3     change: 0.008424190 |  F(x): 0.00727428189 | \n",
      "# 4     change: 0.008489686 |  F(x): 0.00730012989 | \n",
      "# 5     change: 0.008555985 |  F(x): 0.00732666128 | \n",
      "# 6     change: 0.008623083 |  F(x): 0.00735388935 | \n",
      "# 7     change: 0.008690975 |  F(x): 0.00738182762 | \n",
      "# 8     change: 0.008759657 |  F(x): 0.00741048983 | \n",
      "# 9     change: 0.008829123 |  F(x): 0.00743988996 | \n",
      "# 10    change: 0.008899368 |  F(x): 0.00747004221 | \n",
      "# 11    change: 0.008970387 |  F(x): 0.00750096100 | \n",
      "# 12    change: 0.009042175 |  F(x): 0.00753266101 | \n",
      "# 13    change: 0.009114726 |  F(x): 0.00756515714 | \n",
      "# 14    change: 0.009188034 |  F(x): 0.00759846451 | \n",
      "# 15    change: 0.009262094 |  F(x): 0.00763259849 | \n",
      "# 16    change: 0.009336899 |  F(x): 0.00766757471 | \n",
      "# 17    change: 0.009412443 |  F(x): 0.00770340900 | \n",
      "# 18    change: 0.009488721 |  F(x): 0.00774011745 | \n",
      "# 19    change: 0.009565725 |  F(x): 0.00777771640 | \n",
      "# 20    change: 0.009643449 |  F(x): 0.00781622243 | \n",
      "The algorithm reached its maximal number of iterations (20).\n"
     ]
    }
   ],
   "source": [
    "exact_low_rank_approximation(M, q₂, data, 1; stepsize=1/100, max_iter=20); "
   ]
  },
  {
   "cell_type": "code",
   "execution_count": 78,
   "metadata": {},
   "outputs": [
    {
     "name": "stdout",
     "output_type": "stream",
     "text": [
      "#1 | computing naive low-rank approximation\n",
      "#1 | computing curvature corrected low-rank approximation\n",
      "Initial  F(x): 0.42256497554 | \n",
      "# 1     change: 0.328193618 |  F(x): 0.41857374134 | \n",
      "# 2     change: 0.272227296 |  F(x): 0.41582767158 | \n",
      "# 3     change: 0.225806336 |  F(x): 0.41393828015 | \n",
      "# 4     change: 0.187302654 |  F(x): 0.41263829244 | \n",
      "# 5     change: 0.155365861 |  F(x): 0.41174382505 | \n",
      "# 6     change: 0.128875895 |  F(x): 0.41112836632 | \n",
      "# 7     change: 0.106903738 |  F(x): 0.41070487560 | \n",
      "# 8     change: 0.088678829 |  F(x): 0.41041346794 | \n",
      "# 9     change: 0.073562037 |  F(x): 0.41021294136 | \n",
      "# 10    change: 0.061023244 |  F(x): 0.41007494776 | \n",
      "# 11    change: 0.050622751 |  F(x): 0.40997998260 | \n",
      "# 12    change: 0.041995855 |  F(x): 0.40991462579 | \n",
      "# 13    change: 0.034840059 |  F(x): 0.40986964349 | \n",
      "# 14    change: 0.028904460 |  F(x): 0.40983868210 | \n",
      "# 15    change: 0.023980949 |  F(x): 0.40981736976 | \n",
      "# 16    change: 0.019896915 |  F(x): 0.40980269811 | \n",
      "# 17    change: 0.016509184 |  F(x): 0.40979259700 | \n",
      "# 18    change: 0.013699005 |  F(x): 0.40978564183 | \n",
      "# 19    change: 0.011367880 |  F(x): 0.40978085220 | \n",
      "# 20    change: 0.009434112 |  F(x): 0.40977755336 | \n",
      "# 21    change: 0.007829935 |  F(x): 0.40977528092 | \n",
      "# 22    change: 0.006499144 |  F(x): 0.40977371521 | \n",
      "# 23    change: 0.005395119 |  F(x): 0.40977263621 | \n",
      "# 24    change: 0.004479192 |  F(x): 0.40977189242 | \n",
      "# 25    change: 0.003719288 |  F(x): 0.40977137956 | \n",
      "# 26    change: 0.003088805 |  F(x): 0.40977102582 | \n",
      "# 27    change: 0.002565676 |  F(x): 0.40977078172 | \n",
      "# 28    change: 0.002131599 |  F(x): 0.40977061322 | \n",
      "# 29    change: 0.001771391 |  F(x): 0.40977049684 | \n",
      "# 30    change: 0.001472461 |  F(x): 0.40977041641 | \n",
      "# 31    change: 0.001224363 |  F(x): 0.40977036079 | \n",
      "# 32    change: 0.001018434 |  F(x): 0.40977032230 | \n",
      "# 33    change: 0.000847487 |  F(x): 0.40977029565 | \n",
      "# 34    change: 0.000705562 |  F(x): 0.40977027717 | \n",
      "# 35    change: 0.000587713 |  F(x): 0.40977026434 | \n",
      "# 36    change: 0.000489840 |  F(x): 0.40977025543 | \n",
      "# 37    change: 0.000408539 |  F(x): 0.40977024923 | \n",
      "# 38    change: 0.000340990 |  F(x): 0.40977024490 | \n",
      "# 39    change: 0.000284850 |  F(x): 0.40977024189 | \n",
      "# 40    change: 0.000238179 |  F(x): 0.40977023978 | \n",
      "# 41    change: 0.000199364 |  F(x): 0.40977023830 | \n",
      "# 42    change: 0.000167070 |  F(x): 0.40977023726 | \n",
      "# 43    change: 0.000140187 |  F(x): 0.40977023652 | \n",
      "# 44    change: 0.000117797 |  F(x): 0.40977023601 | \n",
      "# 45    change: 0.000099136 |  F(x): 0.40977023564 | \n",
      "# 46    change: 0.000083571 |  F(x): 0.40977023538 | \n",
      "# 47    change: 0.000070578 |  F(x): 0.40977023519 | \n",
      "# 48    change: 0.000059720 |  F(x): 0.40977023506 | \n",
      "# 49    change: 0.000050636 |  F(x): 0.40977023496 | \n",
      "# 50    change: 0.000043027 |  F(x): 0.40977023489 | \n",
      "The algorithm reached its maximal number of iterations (50).\n",
      "#1 | computing exact low-rank approximation\n",
      "Initial  F(x): 0.40332784783 | \n",
      "# 1     change: 0.045946727 |  F(x): 0.40264631212 | \n",
      "# 2     change: 0.045434909 |  F(x): 0.40198710073 | \n",
      "# 3     change: 0.044945458 |  F(x): 0.40134940705 | \n",
      "# 4     change: 0.044477609 |  F(x): 0.40073246855 | \n",
      "# 5     change: 0.044030641 |  F(x): 0.40013556432 | \n",
      "# 6     change: 0.043603874 |  F(x): 0.39955801269 | \n",
      "# 7     change: 0.043196666 |  F(x): 0.39899916907 | \n",
      "# 8     change: 0.042808412 |  F(x): 0.39845842397 | \n",
      "# 9     change: 0.042438543 |  F(x): 0.39793520107 | \n",
      "# 10    change: 0.042086519 |  F(x): 0.39742895553 | \n",
      "# 11    change: 0.041751834 |  F(x): 0.39693917236 | \n",
      "# 12    change: 0.041434012 |  F(x): 0.39646536487 | \n",
      "# 13    change: 0.041132603 |  F(x): 0.39600707334 | \n",
      "# 14    change: 0.040847187 |  F(x): 0.39556386367 | \n",
      "# 15    change: 0.040577367 |  F(x): 0.39513532618 | \n",
      "# 16    change: 0.040322771 |  F(x): 0.39472107450 | \n",
      "# 17    change: 0.040083051 |  F(x): 0.39432074451 | \n",
      "# 18    change: 0.039857882 |  F(x): 0.39393399339 | \n",
      "# 19    change: 0.039646961 |  F(x): 0.39356049869 | \n",
      "# 20    change: 0.039450003 |  F(x): 0.39319995752 | \n",
      "# 21    change: 0.039266746 |  F(x): 0.39285208580 | \n",
      "# 22    change: 0.039096945 |  F(x): 0.39251661749 | \n",
      "# 23    change: 0.038940376 |  F(x): 0.39219330398 | \n",
      "# 24    change: 0.038796830 |  F(x): 0.39188191349 | \n",
      "# 25    change: 0.038666119 |  F(x): 0.39158223048 | \n",
      "# 26    change: 0.038548068 |  F(x): 0.39129405516 | \n",
      "# 27    change: 0.038442522 |  F(x): 0.39101720305 | \n",
      "# 28    change: 0.038349339 |  F(x): 0.39075150450 | \n",
      "# 29    change: 0.038268395 |  F(x): 0.39049680440 | \n",
      "# 30    change: 0.038199579 |  F(x): 0.39025296176 | \n",
      "# 31    change: 0.038142798 |  F(x): 0.39001984944 | \n",
      "# 32    change: 0.038097971 |  F(x): 0.38979735392 | \n",
      "# 33    change: 0.038065034 |  F(x): 0.38958537500 | \n",
      "# 34    change: 0.038043934 |  F(x): 0.38938382569 | \n",
      "# 35    change: 0.038034636 |  F(x): 0.38919263197 | \n",
      "# 36    change: 0.038037116 |  F(x): 0.38901173273 | \n",
      "# 37    change: 0.038051366 |  F(x): 0.38884107965 | \n",
      "# 38    change: 0.038077391 |  F(x): 0.38868063714 | \n",
      "# 39    change: 0.038115210 |  F(x): 0.38853038231 | \n",
      "# 40    change: 0.038164858 |  F(x): 0.38839030500 | \n",
      "# 41    change: 0.038226380 |  F(x): 0.38826040780 | \n",
      "# 42    change: 0.038299838 |  F(x): 0.38814070610 | \n",
      "# 43    change: 0.038385309 |  F(x): 0.38803122825 | \n",
      "# 44    change: 0.038482881 |  F(x): 0.38793201564 | \n",
      "# 45    change: 0.038592660 |  F(x): 0.38784312293 | \n",
      "# 46    change: 0.038714766 |  F(x): 0.38776461820 | \n",
      "# 47    change: 0.038849332 |  F(x): 0.38769658322 | \n",
      "# 48    change: 0.038996508 |  F(x): 0.38763911377 | \n",
      "# 49    change: 0.039156461 |  F(x): 0.38759231988 | \n",
      "# 50    change: 0.039329372 |  F(x): 0.38755632626 | \n",
      "The algorithm reached its maximal number of iterations (50).\n",
      "#1 | computing naive low-rank approximation\n",
      "#1 | computing curvature corrected low-rank approximation\n",
      "Initial  F(x): 0.01776199510 | \n",
      "# 1     change: 0.161369540 |  F(x): 0.01704129874 | \n",
      "# 2     change: 0.130582351 |  F(x): 0.01656936792 | \n",
      "# 3     change: 0.105669058 |  F(x): 0.01626033461 | \n",
      "# 4     change: 0.085508994 |  F(x): 0.01605797046 | \n",
      "# 5     change: 0.069195302 |  F(x): 0.01592545588 | \n",
      "# 6     change: 0.055994145 |  F(x): 0.01583868053 | \n",
      "# 7     change: 0.045311694 |  F(x): 0.01578185641 | \n",
      "# 8     change: 0.036667418 |  F(x): 0.01574464517 | \n",
      "# 9     change: 0.029672468 |  F(x): 0.01572027701 | \n",
      "# 10    change: 0.024012182 |  F(x): 0.01570431891 | \n",
      "# 11    change: 0.019431937 |  F(x): 0.01569386800 | \n",
      "# 12    change: 0.015725688 |  F(x): 0.01568702343 | \n",
      "# 13    change: 0.012726705 |  F(x): 0.01568254045 | \n",
      "# 14    change: 0.010300071 |  F(x): 0.01567960399 | \n",
      "# 15    change: 0.008336611 |  F(x): 0.01567768029 | \n",
      "# 16    change: 0.006747984 |  F(x): 0.01567641983 | \n",
      "# 17    change: 0.005462707 |  F(x): 0.01567559375 | \n",
      "# 18    change: 0.004422937 |  F(x): 0.01567505216 | \n",
      "# 19    change: 0.003581874 |  F(x): 0.01567469692 | \n",
      "# 20    change: 0.002901650 |  F(x): 0.01567446375 | \n",
      "# 21    change: 0.002351627 |  F(x): 0.01567431056 | \n",
      "# 22    change: 0.001907019 |  F(x): 0.01567420979 | \n",
      "# 23    change: 0.001547774 |  F(x): 0.01567414337 | \n",
      "# 24    change: 0.001257672 |  F(x): 0.01567409949 | \n",
      "# 25    change: 0.001023591 |  F(x): 0.01567407040 | \n",
      "# 26    change: 0.000834918 |  F(x): 0.01567405102 | \n",
      "# 27    change: 0.000683065 |  F(x): 0.01567403803 | \n",
      "# 28    change: 0.000561082 |  F(x): 0.01567402924 | \n",
      "# 29    change: 0.000463333 |  F(x): 0.01567402323 | \n",
      "# 30    change: 0.000385243 |  F(x): 0.01567401906 | \n",
      "# 31    change: 0.000323083 |  F(x): 0.01567401611 | \n",
      "# 32    change: 0.000273798 |  F(x): 0.01567401399 | \n",
      "# 33    change: 0.000234870 |  F(x): 0.01567401241 | \n",
      "# 34    change: 0.000204214 |  F(x): 0.01567401121 | \n",
      "# 35    change: 0.000180096 |  F(x): 0.01567401028 | \n",
      "# 36    change: 0.000161084 |  F(x): 0.01567400952 | \n",
      "# 37    change: 0.000146005 |  F(x): 0.01567400890 | \n",
      "# 38    change: 0.000133914 |  F(x): 0.01567400837 | \n",
      "# 39    change: 0.000124071 |  F(x): 0.01567400791 | \n",
      "# 40    change: 0.000115903 |  F(x): 0.01567400751 | \n",
      "# 41    change: 0.000108982 |  F(x): 0.01567400716 | \n",
      "# 42    change: 0.000102991 |  F(x): 0.01567400684 | \n",
      "# 43    change: 0.000097700 |  F(x): 0.01567400656 | \n",
      "# 44    change: 0.000092944 |  F(x): 0.01567400630 | \n",
      "# 45    change: 0.000088602 |  F(x): 0.01567400607 | \n",
      "# 46    change: 0.000084591 |  F(x): 0.01567400585 | \n",
      "# 47    change: 0.000080851 |  F(x): 0.01567400566 | \n",
      "# 48    change: 0.000077337 |  F(x): 0.01567400548 | \n",
      "# 49    change: 0.000074017 |  F(x): 0.01567400531 | \n",
      "# 50    change: 0.000070869 |  F(x): 0.01567400516 | \n",
      "The algorithm reached its maximal number of iterations (50).\n",
      "#1 | computing exact low-rank approximation\n",
      "Initial  F(x): 0.00720070851 | \n",
      "# 1     change: 0.008295626 |  F(x): 0.00722458394 | \n",
      "# 2     change: 0.008359502 |  F(x): 0.00724910419 | \n",
      "# 3     change: 0.008424190 |  F(x): 0.00727428189 | \n",
      "# 4     change: 0.008489686 |  F(x): 0.00730012989 | \n",
      "# 5     change: 0.008555985 |  F(x): 0.00732666128 | \n",
      "# 6     change: 0.008623083 |  F(x): 0.00735388935 | \n",
      "# 7     change: 0.008690975 |  F(x): 0.00738182762 | \n",
      "# 8     change: 0.008759657 |  F(x): 0.00741048983 | \n",
      "# 9     change: 0.008829123 |  F(x): 0.00743988996 | \n",
      "# 10    change: 0.008899368 |  F(x): 0.00747004221 | \n",
      "# 11    change: 0.008970387 |  F(x): 0.00750096100 | \n",
      "# 12    change: 0.009042175 |  F(x): 0.00753266101 | \n",
      "# 13    change: 0.009114726 |  F(x): 0.00756515714 | \n",
      "# 14    change: 0.009188034 |  F(x): 0.00759846451 | \n",
      "# 15    change: 0.009262094 |  F(x): 0.00763259849 | \n",
      "# 16    change: 0.009336899 |  F(x): 0.00766757471 | \n",
      "# 17    change: 0.009412443 |  F(x): 0.00770340900 | \n",
      "# 18    change: 0.009488721 |  F(x): 0.00774011745 | \n",
      "# 19    change: 0.009565725 |  F(x): 0.00777771640 | \n",
      "# 20    change: 0.009643449 |  F(x): 0.00781622243 | \n",
      "# 21    change: 0.009721886 |  F(x): 0.00785565234 | \n",
      "# 22    change: 0.009801029 |  F(x): 0.00789602322 | \n",
      "# 23    change: 0.009880872 |  F(x): 0.00793735236 | \n",
      "# 24    change: 0.009961406 |  F(x): 0.00797965733 | \n",
      "# 25    change: 0.010042625 |  F(x): 0.00802295593 | \n",
      "# 26    change: 0.010124520 |  F(x): 0.00806726620 | \n",
      "# 27    change: 0.010207084 |  F(x): 0.00811260646 | \n",
      "# 28    change: 0.010290309 |  F(x): 0.00815899525 | \n",
      "# 29    change: 0.010374186 |  F(x): 0.00820645137 | \n",
      "# 30    change: 0.010458707 |  F(x): 0.00825499386 | \n",
      "# 31    change: 0.010543863 |  F(x): 0.00830464201 | \n",
      "# 32    change: 0.010629647 |  F(x): 0.00835541536 | \n",
      "# 33    change: 0.010716047 |  F(x): 0.00840733370 | \n",
      "# 34    change: 0.010803056 |  F(x): 0.00846041708 | \n",
      "# 35    change: 0.010890663 |  F(x): 0.00851468575 | \n",
      "# 36    change: 0.010978859 |  F(x): 0.00857016026 | \n",
      "# 37    change: 0.011067635 |  F(x): 0.00862686137 | \n",
      "# 38    change: 0.011156979 |  F(x): 0.00868481009 | \n",
      "# 39    change: 0.011246882 |  F(x): 0.00874402768 | \n",
      "# 40    change: 0.011337333 |  F(x): 0.00880453562 | \n",
      "# 41    change: 0.011428320 |  F(x): 0.00886635564 | \n",
      "# 42    change: 0.011519834 |  F(x): 0.00892950971 | \n",
      "# 43    change: 0.011611862 |  F(x): 0.00899402003 | \n",
      "# 44    change: 0.011704393 |  F(x): 0.00905990902 | \n",
      "# 45    change: 0.011797414 |  F(x): 0.00912719935 | \n",
      "# 46    change: 0.011890915 |  F(x): 0.00919591388 | \n",
      "# 47    change: 0.011984882 |  F(x): 0.00926607574 | \n",
      "# 48    change: 0.012079304 |  F(x): 0.00933770823 | \n",
      "# 49    change: 0.012174166 |  F(x): 0.00941083489 | \n",
      "# 50    change: 0.012269455 |  F(x): 0.00948547948 | \n",
      "The algorithm reached its maximal number of iterations (50).\n",
      "#2 | computing naive low-rank approximation\n",
      "#2 | computing curvature corrected low-rank approximation\n",
      "Initial  F(x): 0.00000000000 | \n",
      "The algorithm reached approximately critical point after 0 iterations; the gradient norm (4.8812731789673e-15) is less than 1.0e-8.\n",
      "#2 | computing exact low-rank approximation\n",
      "Initial  F(x): 0.00000000000 | \n",
      "The algorithm reached approximately critical point after 0 iterations; the gradient norm (2.8527266547412027e-15) is less than 1.0e-8.\n",
      "#2 | computing naive low-rank approximation\n",
      "#2 | computing curvature corrected low-rank approximation\n",
      "Initial  F(x): 0.00000000000 | \n",
      "The algorithm reached approximately critical point after 0 iterations; the gradient norm (4.045615069819264e-15) is less than 1.0e-8.\n",
      "#2 | computing exact low-rank approximation\n",
      "Initial  F(x): 0.00000000000 | \n",
      "The algorithm reached approximately critical point after 0 iterations; the gradient norm (1.3217412878840523e-14) is less than 1.0e-8.\n"
     ]
    }
   ],
   "source": [
    "max_iter = 50\n",
    "\n",
    "nR_q₁ = []\n",
    "nU₁ = []\n",
    "ccR_q₁ = []\n",
    "ccU₁ = []\n",
    "eR_q₁ = []\n",
    "eU₁ = []\n",
    "\n",
    "nR_q₂ = []\n",
    "nU₂ = []\n",
    "ccR_q₂ = []\n",
    "ccU₂ = []\n",
    "eR_q₂ = []\n",
    "eU₂ = []\n",
    "\n",
    "for i in 1:d\n",
    "    println(\"#$(i) | computing naive low-rank approximation\")\n",
    "    nRr_q₁, nUr₁ = naive_low_rank_approximation(M, q₁, data, i)\n",
    "    push!(nR_q₁, nRr_q₁)\n",
    "    push!(nU₁, nUr₁)\n",
    "    println(\"#$(i) | computing curvature corrected low-rank approximation\")\n",
    "    ccRr_q₁, ccUr₁ = curvature_corrected_low_rank_approximation(M, q₁, data, i; stepsize=1/10, max_iter=max_iter); \n",
    "    push!(ccR_q₁, ccRr_q₁)\n",
    "    push!(ccU₁, ccUr₁)\n",
    "    println(\"#$(i) | computing exact low-rank approximation\")\n",
    "    eRr_q₁, eUr₁ = exact_low_rank_approximation(M, q₁, data, i; stepsize=1/50, max_iter=max_iter); \n",
    "    push!(eR_q₁, eRr_q₁)\n",
    "    push!(eU₁, eUr₁)\n",
    "\n",
    "    println(\"#$(i) | computing naive low-rank approximation\")\n",
    "    nRr_q₂, nUr₂ = naive_low_rank_approximation(M, q₂, data, i)\n",
    "    push!(nR_q₂, nRr_q₂)\n",
    "    push!(nU₂, nUr₂)\n",
    "    println(\"#$(i) | computing curvature corrected low-rank approximation\")\n",
    "    ccRr_q₂, ccUr₂ = curvature_corrected_low_rank_approximation(M, q₂, data, i; stepsize=1/10, max_iter=max_iter); \n",
    "    push!(ccR_q₂, ccRr_q₂)\n",
    "    push!(ccU₂, ccUr₂)\n",
    "    println(\"#$(i) | computing exact low-rank approximation\")\n",
    "    eRr_q₂, eUr₂ = exact_low_rank_approximation(M, q₂, data, i; stepsize=1/100, max_iter=max_iter); \n",
    "    push!(eR_q₂, eRr_q₂)\n",
    "    push!(eU₂, eUr₂)\n",
    "end"
   ]
  },
  {
   "cell_type": "code",
   "execution_count": 79,
   "metadata": {},
   "outputs": [],
   "source": [
    "# basepoint q₁\n",
    "ref_distance₁ = sum(distance.(Ref(M), Ref(q₁), data).^2)\n",
    "\n",
    "naive_tangent_distances_r₁ = zeros(d)\n",
    "predicted_naive_distances_r₁ = zeros(d)\n",
    "true_naive_distances_r₁ = zeros(d)\n",
    "\n",
    "curvature_corrected_tangent_distances_r₁ = zeros(d)\n",
    "predicted_curvature_corrected_distances_r₁ = zeros(d)\n",
    "true_curvature_corrected_distances_r₁ = zeros(d)\n",
    "\n",
    "exact_tangent_distances_r₁ = zeros(d)\n",
    "exact_distances_r₁ = zeros(d)\n",
    "\n",
    "# basepoint q₂\n",
    "ref_distance₂ = sum(distance.(Ref(M), Ref(q₂), data).^2)\n",
    "\n",
    "naive_tangent_distances_r₂ = zeros(d)\n",
    "predicted_naive_distances_r₂ = zeros(d)\n",
    "true_naive_distances_r₂ = zeros(d)\n",
    "\n",
    "curvature_corrected_tangent_distances_r₂ = zeros(d)\n",
    "predicted_curvature_corrected_distances_r₂ = zeros(d)\n",
    "true_curvature_corrected_distances_r₂ = zeros(d)\n",
    "\n",
    "exact_tangent_distances_r₂ = zeros(d)\n",
    "exact_distances_r₂ = zeros(d)\n",
    "\n",
    "for rank in 1:d\n",
    "    ## basepoint q₁\n",
    "    naive_log_q_data_r₁ = [sum([nR_q₁[rank][i] * nU₁[rank][k,i] for i in 1:rank]) for k in 1:n]\n",
    "    curvature_corrected_log_q_data_r₁ = [sum([ccR_q₁[rank][i] * ccU₁[rank][k,i] for i in 1:rank]) for k in 1:n]\n",
    "    exact_log_q_data_r₁ = [sum([eR_q₁[rank][i] * eU₁[rank][k,i] for i in 1:rank]) for k in 1:n]\n",
    "    \n",
    "    # expoentiate back\n",
    "    naive_data_r₁ = exp.(Ref(M), Ref(q₁), naive_log_q_data_r₁)\n",
    "    curvature_corrected_data_r₁ = exp.(Ref(M), Ref(q₁), curvature_corrected_log_q_data_r₁)\n",
    "    exact_data_r₁ = exp.(Ref(M), Ref(q₁), exact_log_q_data_r₁)\n",
    "\n",
    "\n",
    "    # compute relative tangent space error\n",
    "    naive_tangent_distances_r₁[rank] = sum(norm.(Ref(M), Ref(q₁),  log_q_data₁ - naive_log_q_data_r₁).^2) / ref_distance₁\n",
    "    curvature_corrected_tangent_distances_r₁[rank] = sum(norm.(Ref(M), Ref(q₁),  log_q_data₁ - curvature_corrected_log_q_data_r₁).^2) / ref_distance₁\n",
    "    exact_tangent_distances_r₁[rank] = sum(norm.(Ref(M), Ref(q₁),  log_q_data₁ - exact_log_q_data_r₁).^2) / ref_distance₁\n",
    "\n",
    "\n",
    "    # compute relative manifold error\n",
    "    predicted_naive_distances_r₁[rank] = curvature_corrected_loss(M, q₁, data, naive_log_q_data_r₁)\n",
    "    true_naive_distances_r₁[rank] = exact_loss(M, q₁, data, naive_log_q_data_r₁)\n",
    "    predicted_curvature_corrected_distances_r₁[rank] = curvature_corrected_loss(M, q₁, data, curvature_corrected_log_q_data_r₁)\n",
    "    true_curvature_corrected_distances_r₁[rank] = exact_loss(M, q₁, data, curvature_corrected_log_q_data_r₁)\n",
    "    exact_distances_r₁[rank] = exact_loss(M, q₁, data, exact_log_q_data_r₁)\n",
    "\n",
    "    ## basepoint q₂\n",
    "    naive_log_q_data_r₂ = [sum([nR_q₂[rank][i] * nU₂[rank][k,i] for i in 1:rank]) for k in 1:n]\n",
    "    curvature_corrected_log_q_data_r₂ = [sum([ccR_q₂[rank][i] * ccU₂[rank][k,i] for i in 1:rank]) for k in 1:n]\n",
    "    exact_log_q_data_r₂ = [sum([eR_q₂[rank][i] * eU₂[rank][k,i] for i in 1:rank]) for k in 1:n]\n",
    "    \n",
    "    # expoentiate back\n",
    "    naive_data_r₂ = exp.(Ref(M), Ref(q₂), naive_log_q_data_r₂)\n",
    "    curvature_corrected_data_r₂ = exp.(Ref(M), Ref(q₂), curvature_corrected_log_q_data_r₂)\n",
    "    exact_data_r₂ = exp.(Ref(M), Ref(q₂), exact_log_q_data_r₂)\n",
    "\n",
    "\n",
    "    # compute relative tangent space error\n",
    "    naive_tangent_distances_r₂[rank] = sum(norm.(Ref(M), Ref(q₂),  log_q_data₂ - naive_log_q_data_r₂).^2) / ref_distance₂\n",
    "    curvature_corrected_tangent_distances_r₂[rank] = sum(norm.(Ref(M), Ref(q₂),  log_q_data₂ - curvature_corrected_log_q_data_r₂).^2) / ref_distance₂\n",
    "    exact_tangent_distances_r₂[rank] = sum(norm.(Ref(M), Ref(q₂),  log_q_data₂ - exact_log_q_data_r₂).^2) / ref_distance₂\n",
    "\n",
    "\n",
    "    # compute relative manifold error\n",
    "    predicted_naive_distances_r₂[rank] = curvature_corrected_loss(M, q₂, data, naive_log_q_data_r₂)\n",
    "    true_naive_distances_r₂[rank] = exact_loss(M, q₂, data, naive_log_q_data_r₂)\n",
    "    predicted_curvature_corrected_distances_r₂[rank] = curvature_corrected_loss(M, q₂, data, curvature_corrected_log_q_data_r₂)\n",
    "    true_curvature_corrected_distances_r₂[rank] = exact_loss(M, q₂, data, curvature_corrected_log_q_data_r₂)\n",
    "    exact_distances_r₂[rank] = exact_loss(M, q₂, data, exact_log_q_data_r₂)\n",
    "end"
   ]
  },
  {
   "cell_type": "code",
   "execution_count": 80,
   "metadata": {},
   "outputs": [
    {
     "data": {
      "text/plain": [
       "\"/Users/wdiepeveen/Documents/PhD/Projects/8 - Manifold-valued tensor decomposition/src/manifold-valued-tensors/experiments/1D/S2/results/artificial1D_logerrors_by_rank_2.png\""
      ]
     },
     "execution_count": 80,
     "metadata": {},
     "output_type": "execute_result"
    }
   ],
   "source": [
    "# We want plots with (1) the lower bound error, (2) the actually uncorrected manifold error and (3) the corrected manifold error\n",
    "# basepoint q₁\n",
    "plot(1:d, [β(κ₁)^2 .* naive_tangent_distances_r₁, true_naive_distances_r₁, true_curvature_corrected_distances_r₁, exact_distances_r₁], label = [\"theoretical lower bound\" \"naive\" \"curvature corrected\" \"exact\"], ylims=(0,1), xlims=(1,d),xaxis=(\"approximation rank\"), yaxis=(L\"$\\varepsilon_{rel}$\"))\n",
    "savefig(\"results/artificial1D_errors_by_rank_1.png\")\n",
    "plot(1:d, [β(κ₁)^2 .* naive_tangent_distances_r₁ .+ 1e-16, true_naive_distances_r₁ .+ 1e-16, true_curvature_corrected_distances_r₁ .+ 1e-16, exact_distances_r₁ .+ 1e-16], label = [\"theoretical lower bound\" \"naive\" \"curvature corrected\" \"exact\"], ylims=(1e-16,1), xlims=(1,d), xaxis=(\"approximation rank\"), yaxis=(L\"$\\varepsilon_{rel}$\", :log), legend=:bottomleft)\n",
    "savefig(\"results/artificial1D_logerrors_by_rank_1.png\")\n",
    "# basepoint q₂\n",
    "plot(1:d, [β(κ₂)^2 .* naive_tangent_distances_r₂, true_naive_distances_r₂, true_curvature_corrected_distances_r₂, exact_distances_r₂], label = [\"theoretical lower bound\" \"naive\" \"curvature corrected\" \"exact\"], ylims=(0,1), xlims=(1,d),xaxis=(\"approximation rank\"), yaxis=(L\"$\\varepsilon_{rel}$\"))\n",
    "savefig(\"results/artificial1D_errors_by_rank_2.png\")\n",
    "plot(1:d, [β(κ₂)^2 .* naive_tangent_distances_r₂ .+ 1e-16, true_naive_distances_r₂ .+ 1e-16, true_curvature_corrected_distances_r₂ .+ 1e-16, exact_distances_r₂ .+ 1e-16], label = [\"theoretical lower bound\" \"naive\" \"curvature corrected\" \"exact\"], ylims=(1e-16,1), xlims=(1,d), xaxis=(\"approximation rank\"), yaxis=(L\"$\\varepsilon_{rel}$\", :log), legend=:bottomleft)\n",
    "savefig(\"results/artificial1D_logerrors_by_rank_2.png\")"
   ]
  },
  {
   "cell_type": "code",
   "execution_count": 68,
   "metadata": {},
   "outputs": [
    {
     "data": {
      "text/plain": [
       "\"/Users/wdiepeveen/Documents/PhD/Projects/8 - Manifold-valued tensor decomposition/src/manifold-valued-tensors/experiments/1D/S2/results/artificial1D_logdiscrepancy_by_rank_2.png\""
      ]
     },
     "execution_count": 68,
     "metadata": {},
     "output_type": "execute_result"
    }
   ],
   "source": [
    "# It would be nice to also have a plot that tells us something about the error in predicting the manifold loss (using CCL) and the actual loss \n",
    "# (1) for the naive approach (2) for the curvature corrected approach\n",
    "# basepoint q₁\n",
    "plot(1:d, [(predicted_naive_distances_r₁ .+ 1e-16) ./ (true_naive_distances_r₁ .+ 1e-16), (predicted_curvature_corrected_distances_r₁ .+ 1e-16) ./ (true_curvature_corrected_distances_r₁ .+ 1e-16)], label = [\"discrepancy in initialisation\" \"discrepancy in solutions\"], xlims=(1,d),xaxis=(\"approximation rank\"), yaxis=(L\"$\\delta_{rel}$\"))\n",
    "savefig(\"results/artificial1D_discrepancy_by_rank_1.png\")\n",
    "plot(1:d, [(predicted_naive_distances_r₁ .+ 1e-16) ./ (true_naive_distances_r₁ .+ 1e-16), (predicted_curvature_corrected_distances_r₁ .+ 1e-16) ./ (true_curvature_corrected_distances_r₁ .+ 1e-16)], label = [\"discrepancy in initialisation\" \"discrepancy in solutions\"], xlims=(1,d), xaxis=(\"approximation rank\"), yaxis=(L\"$\\delta_{rel}$\", :log), legend=:bottomleft)\n",
    "savefig(\"results/artificial1D_logdiscrepancy_by_rank_1.png\")\n",
    "# basepoint q₂\n",
    "plot(1:d, [(predicted_naive_distances_r₂ .+ 1e-16) ./ (true_naive_distances_r₂ .+ 1e-16), (predicted_curvature_corrected_distances_r₂ .+ 1e-16) ./ (true_curvature_corrected_distances_r₂ .+ 1e-16)], label = [\"discrepancy in initialisation\" \"discrepancy in solutions\"], xlims=(1,d),xaxis=(\"approximation rank\"), yaxis=(L\"$\\delta_{rel}$\"))\n",
    "savefig(\"results/artificial1D_discrepancy_by_rank_2.png\")\n",
    "plot(1:d, [(predicted_naive_distances_r₂ .+ 1e-16) ./ (true_naive_distances_r₂ .+ 1e-16), (predicted_curvature_corrected_distances_r₂ .+ 1e-16) ./ (true_curvature_corrected_distances_r₂ .+ 1e-16)], label = [\"discrepancy in initialisation\" \"discrepancy in solutions\"], xlims=(1,d), xaxis=(\"approximation rank\"), yaxis=(L\"$\\delta_{rel}$\", :log), legend=:bottomleft)\n",
    "savefig(\"results/artificial1D_logdiscrepancy_by_rank_2.png\")"
   ]
  }
 ],
 "metadata": {
  "kernelspec": {
   "display_name": "Julia 1.7.2",
   "language": "julia",
   "name": "julia-1.7"
  },
  "language_info": {
   "file_extension": ".jl",
   "mimetype": "application/julia",
   "name": "julia",
   "version": "1.7.2"
  },
  "orig_nbformat": 4,
  "vscode": {
   "interpreter": {
    "hash": "31f2aee4e71d21fbe5cf8b01ff0e069b9275f58929596ceb00d14d90e3e16cd6"
   }
  }
 },
 "nbformat": 4,
 "nbformat_minor": 2
}
