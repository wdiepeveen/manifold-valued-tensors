{
 "cells": [
  {
   "cell_type": "markdown",
   "metadata": {},
   "source": [
    "# Low-rank approximation on $\\mathcal{P}(d)$ - the space of $d$-dimensional SPD matrices"
   ]
  },
  {
   "cell_type": "markdown",
   "metadata": {},
   "source": [
    "In this notebook we want to get some intuition in different approaches for computing low-rank approximations for manifold-valued signals"
   ]
  },
  {
   "cell_type": "code",
   "execution_count": 28,
   "metadata": {},
   "outputs": [],
   "source": [
    "using Manifolds\n",
    "using Manopt\n",
    "using LinearAlgebra\n",
    "using Random\n",
    "using Plots\n",
    "using LaTeXStrings"
   ]
  },
  {
   "cell_type": "code",
   "execution_count": 29,
   "metadata": {},
   "outputs": [
    {
     "data": {
      "text/plain": [
       "exact_loss (generic function with 2 methods)"
      ]
     },
     "execution_count": 29,
     "metadata": {},
     "output_type": "execute_result"
    }
   ],
   "source": [
    "include(\"../../../src/decompositions/signals/naive_low_rank_approximation.jl\")\n",
    "include(\"../../../src/decompositions/signals/curvature_corrected_low_rank_approximation.jl\")\n",
    "include(\"../../../src/decompositions/signals/exact_low_rank_approximation.jl\")\n",
    "\n",
    "include(\"../../../src/functions/loss_functions/curvature_corrected_loss.jl\")\n",
    "include(\"../../../src/functions/loss_functions/exact_loss.jl\")"
   ]
  },
  {
   "attachments": {},
   "cell_type": "markdown",
   "metadata": {},
   "source": [
    "### Load data and construct manifold ###"
   ]
  },
  {
   "cell_type": "code",
   "execution_count": 30,
   "metadata": {},
   "outputs": [
    {
     "data": {
      "text/plain": [
       "100"
      ]
     },
     "execution_count": 30,
     "metadata": {},
     "output_type": "execute_result"
    }
   ],
   "source": [
    "# load data\n",
    "M = SymmetricPositiveDefinite(3)\n",
    "d = manifold_dimension(M)\n",
    "n = 100  # 100\n"
   ]
  },
  {
   "cell_type": "code",
   "execution_count": 31,
   "metadata": {},
   "outputs": [
    {
     "name": "stdout",
     "output_type": "stream",
     "text": [
      "[0.0 0.0 0.0; 0.0 1.0 0.0; 0.0 0.0 0.0]"
     ]
    }
   ],
   "source": [
    "e = 1. * Matrix(I, 3, 3)\n",
    "# compute basis\n",
    "Θ = get_basis(M, e, DefaultOrthonormalBasis())\n",
    "#  construct data\n",
    "τ = 2.  # variance\n",
    "σ = .05  # variance\n",
    "Xₑ = Θ.data[4]\n",
    "print(Xₑ)\n",
    "\n",
    "Random.seed!(31)\n",
    "predata = [exp(M, e, sqrt(τ) * randn(1)[1] * Xₑ) for i in 1:n]\n",
    "\n",
    "data = [exp(M, predata[i], random_tangent(M, predata[i], Val(:Gaussian), σ)) for i in 1:n]; # ∈ P(3)^n\n"
   ]
  },
  {
   "cell_type": "code",
   "execution_count": 32,
   "metadata": {},
   "outputs": [],
   "source": [
    "# Export slice image\n",
    "num_export = 10\n",
    "asymptote_export_SPD(\"results/artificial1D_orig.asy\", data=data[1:min(num_export,n)], scale_axes=(2,2,2)); "
   ]
  },
  {
   "attachments": {},
   "cell_type": "markdown",
   "metadata": {},
   "source": [
    "### Construct low rank approximation ###"
   ]
  },
  {
   "cell_type": "code",
   "execution_count": 33,
   "metadata": {},
   "outputs": [],
   "source": [
    "q = mean(M, data)\n",
    "log_q_data = log.(Ref(M), Ref(q), data);  # ∈ T_q P(3)^n"
   ]
  },
  {
   "cell_type": "code",
   "execution_count": 34,
   "metadata": {},
   "outputs": [
    {
     "data": {
      "text/plain": [
       "([[0.17325833245696642 -0.29091971605732453 0.14834305377860293; -0.2909197160573246 0.0010519744599409744 0.2618360748373959; 0.14834305377860296 0.2618360748373959 0.15467195813871742], [0.13312262520634632 0.08446349620388509 0.03350967638874231; 0.0844634962038851 -22.691052335418178 0.07537341502309187; 0.03350967638874231 0.07537341502309187 0.03380550088218992]], [0.04141185945717856 0.043589454988513694; -0.062377171919476435 0.06746220792835492; … ; 0.08428851980435229 -0.04426547676489212; 0.09977091731476738 0.09542655939149962])"
      ]
     },
     "execution_count": 34,
     "metadata": {},
     "output_type": "execute_result"
    }
   ],
   "source": [
    "curvature_corrected_low_rank_approximation(M, q, data, 2) "
   ]
  },
  {
   "cell_type": "code",
   "execution_count": 41,
   "metadata": {},
   "outputs": [
    {
     "name": "stdout",
     "output_type": "stream",
     "text": [
      "Initial  F(x): 0.09762949978 | \n",
      "# 1     change: 0.043452491 |  F(x): 0.05179777061 | \n",
      "# 2     change: 0.059657190 |  F(x): 0.01594860649 | \n",
      "# 3     change: 0.063358610 |  F(x): 0.05660493647 | \n",
      "# 4     change: 0.058285768 |  F(x): 0.00991924308 | \n",
      "# 5     change: 0.055190020 |  F(x): 0.05294981081 | \n",
      "# 6     change: 0.059988626 |  F(x): 0.01597051307 | \n",
      "# 7     change: 0.063876396 |  F(x): 0.05776102151 | \n",
      "# 8     change: 0.058220309 |  F(x): 0.00903828027 | \n",
      "# 9     change: 0.053189782 |  F(x): 0.05157091431 | \n",
      "# 10    change: 0.060627068 |  F(x): 0.01840749903 | \n",
      "# 11    change: 0.065569353 |  F(x): 0.05766565645 | \n",
      "# 12    change: 0.058289291 |  F(x): 0.00921186403 | \n",
      "# 13    change: 0.053631637 |  F(x): 0.05192366074 | \n",
      "# 14    change: 0.060487520 |  F(x): 0.01782380249 | \n",
      "# 15    change: 0.065224761 |  F(x): 0.05775240393 | \n",
      "# 16    change: 0.058243411 |  F(x): 0.00906494541 | \n",
      "# 17    change: 0.053240378 |  F(x): 0.05158004482 | \n",
      "# 18    change: 0.060601070 |  F(x): 0.01832546872 | \n",
      "# 19    change: 0.065492130 |  F(x): 0.05760559923 | \n",
      "# 20    change: 0.058283308 |  F(x): 0.00922492245 | \n",
      "# 21    change: 0.053633666 |  F(x): 0.05187299530 | \n",
      "# 22    change: 0.060472284 |  F(x): 0.01781034245 | \n",
      "# 23    change: 0.065178312 |  F(x): 0.05766222894 | \n",
      "# 24    change: 0.058244302 |  F(x): 0.00911054196 | \n",
      "# 25    change: 0.053326433 |  F(x): 0.05159681185 | \n",
      "# 26    change: 0.060559009 |  F(x): 0.01820157828 | \n",
      "# 27    change: 0.065385057 |  F(x): 0.05753965344 | \n",
      "# 28    change: 0.058274335 |  F(x): 0.00923728250 | \n",
      "# 29    change: 0.053632815 |  F(x): 0.05181820195 | \n",
      "# 30    change: 0.060457292 |  F(x): 0.01780076270 | \n",
      "# 31    change: 0.065133885 |  F(x): 0.05757053658 | \n",
      "# 32    change: 0.058245226 |  F(x): 0.00915748533 | \n",
      "# 33    change: 0.053414797 |  F(x): 0.05161495948 | \n",
      "# 34    change: 0.060516350 |  F(x): 0.01807566382 | \n",
      "# 35    change: 0.065275369 |  F(x): 0.05747269220 | \n",
      "# 36    change: 0.058265720 |  F(x): 0.00925108169 | \n",
      "# 37    change: 0.053635460 |  F(x): 0.05176630050 | \n",
      "# 38    change: 0.060441232 |  F(x): 0.01778679004 | \n",
      "# 39    change: 0.065086889 |  F(x): 0.05747982968 | \n",
      "# 40    change: 0.058245793 |  F(x): 0.00920331824 | \n",
      "# 41    change: 0.053499215 |  F(x): 0.05162954664 | \n",
      "# 42    change: 0.060475127 |  F(x): 0.01795589713 | \n",
      "# 43    change: 0.065167705 |  F(x): 0.05740308862 | \n",
      "# 44    change: 0.058258172 |  F(x): 0.00926863392 | \n",
      "# 45    change: 0.053647338 |  F(x): 0.05172188567 | \n",
      "# 46    change: 0.060422398 |  F(x): 0.01776118770 | \n",
      "# 47    change: 0.065032922 |  F(x): 0.05739128318 | \n",
      "# 48    change: 0.058245569 |  F(x): 0.00924647328 | \n",
      "# 49    change: 0.053575839 |  F(x): 0.05163751535 | \n",
      "# 50    change: 0.060436497 |  F(x): 0.01784711764 | \n",
      "The algorithm reached its maximal number of iterations (50).\n"
     ]
    }
   ],
   "source": [
    "exact_low_rank_approximation(M, q, data, 2; stepsize=1/10000, max_iter=50); "
   ]
  },
  {
   "cell_type": "code",
   "execution_count": 36,
   "metadata": {},
   "outputs": [
    {
     "name": "stdout",
     "output_type": "stream",
     "text": [
      "#1 | computing naive low-rank approximation\n",
      "#1 | computing curvature corrected low-rank approximation\n",
      "#1 | computing exact low-rank approximation\n",
      "Initial  F(x): 0.13166108791 | \n",
      "# 1     change: 0.034606484 |  F(x): 0.10439405420 | \n",
      "# 2     change: 0.041838630 |  F(x): 0.06238753221 | \n",
      "# 3     change: 0.056285392 |  F(x): 0.00517685054 | \n",
      "# 4     change: 0.031123974 |  F(x): 0.03000510454 | \n",
      "# 5     change: 0.066681434 |  F(x): 0.04995588114 | \n",
      "# 6     change: 0.061229126 |  F(x): 0.02245472989 | \n",
      "# 7     change: 0.066218234 |  F(x): 0.05616634219 | \n",
      "# 8     change: 0.058886546 |  F(x): 0.01281543791 | \n",
      "# 9     change: 0.058485960 |  F(x): 0.05567113736 | \n",
      "# 10    change: 0.059066837 |  F(x): 0.01352187737 | \n",
      "# 11    change: 0.059560738 |  F(x): 0.05627005310 | \n",
      "# 12    change: 0.058830456 |  F(x): 0.01262467591 | \n",
      "# 13    change: 0.058155281 |  F(x): 0.05543876188 | \n",
      "# 14    change: 0.059138555 |  F(x): 0.01382516844 | \n",
      "# 15    change: 0.059972223 |  F(x): 0.05645306081 | \n",
      "# 16    change: 0.058744136 |  F(x): 0.01232080066 | \n",
      "# 17    change: 0.057617898 |  F(x): 0.05506938195 | \n",
      "# 18    change: 0.059262175 |  F(x): 0.01433530519 | \n",
      "# 19    change: 0.060629803 |  F(x): 0.05673657361 | \n",
      "# 20    change: 0.058619513 |  F(x): 0.01187674256 | \n",
      "# 21    change: 0.056792484 |  F(x): 0.05449363228 | \n",
      "# 22    change: 0.059463699 |  F(x): 0.01516259028 | \n",
      "# 23    change: 0.061594489 |  F(x): 0.05709502226 | \n",
      "# 24    change: 0.058466291 |  F(x): 0.01133408084 | \n",
      "# 25    change: 0.055704077 |  F(x): 0.05370294259 | \n",
      "# 26    change: 0.059745677 |  F(x): 0.01632994154 | \n",
      "# 27    change: 0.062754566 |  F(x): 0.05738324086 | \n",
      "# 28    change: 0.058339812 |  F(x): 0.01089755264 | \n",
      "# 29    change: 0.054752669 |  F(x): 0.05297481737 | \n",
      "# 30    change: 0.060002798 |  F(x): 0.01741383173 | \n",
      "# 31    change: 0.063642039 |  F(x): 0.05743544517 | \n",
      "# 32    change: 0.058303342 |  F(x): 0.01078855625 | \n",
      "# 33    change: 0.054492581 |  F(x): 0.05275133772 | \n",
      "# 34    change: 0.060069635 |  F(x): 0.01771704878 | \n",
      "# 35    change: 0.063848367 |  F(x): 0.05738583734 | \n",
      "# 36    change: 0.058305705 |  F(x): 0.01081891478 | \n",
      "# 37    change: 0.054545548 |  F(x): 0.05276463297 | \n",
      "# 38    change: 0.060047600 |  F(x): 0.01765118432 | \n",
      "# 39    change: 0.063782452 |  F(x): 0.05734438899 | \n",
      "# 40    change: 0.058304969 |  F(x): 0.01083817894 | \n",
      "# 41    change: 0.054573253 |  F(x): 0.05275870808 | \n",
      "# 42    change: 0.060032794 |  F(x): 0.01761539386 | \n",
      "# 43    change: 0.063738134 |  F(x): 0.05730166918 | \n",
      "# 44    change: 0.058304726 |  F(x): 0.01085923344 | \n",
      "# 45    change: 0.054604792 |  F(x): 0.05275562041 | \n",
      "# 46    change: 0.060016945 |  F(x): 0.01757527625 | \n",
      "# 47    change: 0.063690484 |  F(x): 0.05725894856 | \n",
      "# 48    change: 0.058304495 |  F(x): 0.01088034152 | \n",
      "# 49    change: 0.054636252 |  F(x): 0.05275240978 | \n",
      "# 50    change: 0.060001162 |  F(x): 0.01753544566 | \n",
      "The algorithm reached its maximal number of iterations (50).\n",
      "#2 | computing naive low-rank approximation\n",
      "#2 | computing curvature corrected low-rank approximation\n",
      "#2 | computing exact low-rank approximation\n",
      "Initial  F(x): 0.09762949978 | \n",
      "# 1     change: 0.043452491 |  F(x): 0.05179777061 | \n",
      "# 2     change: 0.059657190 |  F(x): 0.01594860649 | \n",
      "# 3     change: 0.063358610 |  F(x): 0.05660493647 | \n",
      "# 4     change: 0.058285768 |  F(x): 0.00991924308 | \n",
      "# 5     change: 0.055190020 |  F(x): 0.05294981081 | \n",
      "# 6     change: 0.059988626 |  F(x): 0.01597051307 | \n",
      "# 7     change: 0.063876396 |  F(x): 0.05776102151 | \n",
      "# 8     change: 0.058220309 |  F(x): 0.00903828027 | \n",
      "# 9     change: 0.053189782 |  F(x): 0.05157091431 | \n",
      "# 10    change: 0.060627068 |  F(x): 0.01840749903 | \n",
      "# 11    change: 0.065569353 |  F(x): 0.05766565645 | \n",
      "# 12    change: 0.058289291 |  F(x): 0.00921186403 | \n",
      "# 13    change: 0.053631637 |  F(x): 0.05192366074 | \n",
      "# 14    change: 0.060487520 |  F(x): 0.01782380249 | \n",
      "# 15    change: 0.065224761 |  F(x): 0.05775240393 | \n",
      "# 16    change: 0.058243411 |  F(x): 0.00906494541 | \n",
      "# 17    change: 0.053240378 |  F(x): 0.05158004482 | \n",
      "# 18    change: 0.060601070 |  F(x): 0.01832546872 | \n",
      "# 19    change: 0.065492130 |  F(x): 0.05760559923 | \n",
      "# 20    change: 0.058283308 |  F(x): 0.00922492245 | \n",
      "# 21    change: 0.053633666 |  F(x): 0.05187299530 | \n",
      "# 22    change: 0.060472284 |  F(x): 0.01781034245 | \n",
      "# 23    change: 0.065178312 |  F(x): 0.05766222894 | \n",
      "# 24    change: 0.058244302 |  F(x): 0.00911054196 | \n",
      "# 25    change: 0.053326433 |  F(x): 0.05159681185 | \n",
      "# 26    change: 0.060559009 |  F(x): 0.01820157828 | \n",
      "# 27    change: 0.065385057 |  F(x): 0.05753965344 | \n",
      "# 28    change: 0.058274335 |  F(x): 0.00923728250 | \n",
      "# 29    change: 0.053632815 |  F(x): 0.05181820195 | \n",
      "# 30    change: 0.060457292 |  F(x): 0.01780076270 | \n",
      "# 31    change: 0.065133885 |  F(x): 0.05757053658 | \n",
      "# 32    change: 0.058245226 |  F(x): 0.00915748533 | \n",
      "# 33    change: 0.053414797 |  F(x): 0.05161495948 | \n",
      "# 34    change: 0.060516350 |  F(x): 0.01807566382 | \n",
      "# 35    change: 0.065275369 |  F(x): 0.05747269220 | \n",
      "# 36    change: 0.058265720 |  F(x): 0.00925108169 | \n",
      "# 37    change: 0.053635460 |  F(x): 0.05176630050 | \n",
      "# 38    change: 0.060441232 |  F(x): 0.01778679004 | \n",
      "# 39    change: 0.065086889 |  F(x): 0.05747982968 | \n",
      "# 40    change: 0.058245793 |  F(x): 0.00920331824 | \n",
      "# 41    change: 0.053499215 |  F(x): 0.05162954664 | \n",
      "# 42    change: 0.060475127 |  F(x): 0.01795589713 | \n",
      "# 43    change: 0.065167705 |  F(x): 0.05740308862 | \n",
      "# 44    change: 0.058258172 |  F(x): 0.00926863392 | \n",
      "# 45    change: 0.053647338 |  F(x): 0.05172188567 | \n",
      "# 46    change: 0.060422398 |  F(x): 0.01776118770 | \n",
      "# 47    change: 0.065032922 |  F(x): 0.05739128318 | \n",
      "# 48    change: 0.058245569 |  F(x): 0.00924647328 | \n",
      "# 49    change: 0.053575839 |  F(x): 0.05163751535 | \n",
      "# 50    change: 0.060436497 |  F(x): 0.01784711764 | \n",
      "The algorithm reached its maximal number of iterations (50).\n",
      "#3 | computing naive low-rank approximation\n",
      "#3 | computing curvature corrected low-rank approximation\n",
      "#3 | computing exact low-rank approximation\n",
      "Initial  F(x): 0.06375254430 | \n",
      "# 1     change: 0.055652507 |  F(x): 0.00241508912 | \n",
      "# 2     change: 0.021150666 |  F(x): 0.01755467435 | \n",
      "# 3     change: 0.066049737 |  F(x): 0.05830870634 | \n",
      "# 4     change: 0.058334246 |  F(x): 0.00793308583 | \n",
      "# 5     change: 0.052817013 |  F(x): 0.05151220758 | \n",
      "# 6     change: 0.061087617 |  F(x): 0.01848294166 | \n",
      "# 7     change: 0.066696777 |  F(x): 0.05846631191 | \n",
      "# 8     change: 0.058392440 |  F(x): 0.00790326048 | \n",
      "# 9     change: 0.052741764 |  F(x): 0.05145915489 | \n",
      "# 10    change: 0.061112493 |  F(x): 0.01857069644 | \n",
      "# 11    change: 0.066727086 |  F(x): 0.05841351465 | \n",
      "# 12    change: 0.058403029 |  F(x): 0.00794677633 | \n",
      "# 13    change: 0.052849052 |  F(x): 0.05152596826 | \n",
      "# 14    change: 0.061069584 |  F(x): 0.01841387940 | \n",
      "# 15    change: 0.066635647 |  F(x): 0.05841625383 | \n",
      "# 16    change: 0.058384770 |  F(x): 0.00790519843 | \n",
      "# 17    change: 0.052716478 |  F(x): 0.05138596435 | \n",
      "# 18    change: 0.061104984 |  F(x): 0.01859024879 | \n",
      "# 19    change: 0.066695998 |  F(x): 0.05831057140 | \n",
      "# 20    change: 0.058408412 |  F(x): 0.00800750637 | \n",
      "# 21    change: 0.052985846 |  F(x): 0.05158885758 | \n",
      "# 22    change: 0.061008702 |  F(x): 0.01821042851 | \n",
      "# 23    change: 0.066498954 |  F(x): 0.05838057663 | \n",
      "# 24    change: 0.058363549 |  F(x): 0.00787583592 | \n",
      "# 25    change: 0.052601709 |  F(x): 0.05123436133 | \n",
      "# 26    change: 0.061126304 |  F(x): 0.01873437843 | \n",
      "# 27    change: 0.066719328 |  F(x): 0.05816399758 | \n",
      "# 28    change: 0.058430385 |  F(x): 0.00812635942 | \n",
      "# 29    change: 0.053278546 |  F(x): 0.05178232203 | \n",
      "# 30    change: 0.060897703 |  F(x): 0.01779637861 | \n",
      "# 31    change: 0.066250082 |  F(x): 0.05839499660 | \n",
      "# 32    change: 0.058322853 |  F(x): 0.00778050743 | \n",
      "# 33    change: 0.052297983 |  F(x): 0.05092017929 | \n",
      "# 34    change: 0.061209766 |  F(x): 0.01914230496 | \n",
      "# 35    change: 0.066848751 |  F(x): 0.05791531428 | \n",
      "# 36    change: 0.058492140 |  F(x): 0.00838414681 | \n",
      "# 37    change: 0.053927331 |  F(x): 0.05226776271 | \n",
      "# 38    change: 0.060674526 |  F(x): 0.01691385579 | \n",
      "# 39    change: 0.065705699 |  F(x): 0.05846843380 | \n",
      "# 40    change: 0.058259292 |  F(x): 0.00760872681 | \n",
      "# 41    change: 0.051764701 |  F(x): 0.05040488151 | \n",
      "# 42    change: 0.061369597 |  F(x): 0.01987663775 | \n",
      "# 43    change: 0.067077671 |  F(x): 0.05750269656 | \n",
      "# 44    change: 0.058617677 |  F(x): 0.00887083815 | \n",
      "# 45    change: 0.055099396 |  F(x): 0.05315785671 | \n",
      "# 46    change: 0.060295184 |  F(x): 0.01539282759 | \n",
      "# 47    change: 0.064582145 |  F(x): 0.05842311034 | \n",
      "# 48    change: 0.058242111 |  F(x): 0.00759335445 | \n",
      "# 49    change: 0.051687585 |  F(x): 0.05028578493 | \n",
      "# 50    change: 0.061378222 |  F(x): 0.01996796487 | \n",
      "The algorithm reached its maximal number of iterations (50).\n",
      "#4 | computing naive low-rank approximation\n",
      "#4 | computing curvature corrected low-rank approximation\n",
      "#4 | computing exact low-rank approximation\n",
      "Initial  F(x): 0.01637417778 | \n",
      "# 1     change: 0.065436721 |  F(x): 0.05684587861 | \n",
      "# 2     change: 0.058376621 |  F(x): 0.00782954149 | \n",
      "# 3     change: 0.054533883 |  F(x): 0.05228323423 | \n",
      "# 4     change: 0.060563563 |  F(x): 0.01552822437 | \n",
      "# 5     change: 0.065570770 |  F(x): 0.05849428113 | \n",
      "# 6     change: 0.058214864 |  F(x): 0.00645752233 | \n",
      "# 7     change: 0.050750858 |  F(x): 0.04920486200 | \n",
      "# 8     change: 0.061852528 |  F(x): 0.02077007899 | \n",
      "# 9     change: 0.067889028 |  F(x): 0.05676179451 | \n",
      "# 10    change: 0.058913135 |  F(x): 0.00883496159 | \n",
      "# 11    change: 0.056970748 |  F(x): 0.05436428676 | \n",
      "# 12    change: 0.059843100 |  F(x): 0.01240979836 | \n",
      "# 13    change: 0.062703101 |  F(x): 0.05786851254 | \n",
      "# 14    change: 0.058464081 |  F(x): 0.00726270619 | \n",
      "# 15    change: 0.053133153 |  F(x): 0.05125585789 | \n",
      "# 16    change: 0.061032649 |  F(x): 0.01732867189 | \n",
      "# 17    change: 0.066645509 |  F(x): 0.05819783775 | \n",
      "# 18    change: 0.058317407 |  F(x): 0.00678781738 | \n",
      "# 19    change: 0.051740251 |  F(x): 0.05001971535 | \n",
      "# 20    change: 0.061489482 |  F(x): 0.01929179684 | \n",
      "# 21    change: 0.067429182 |  F(x): 0.05741211992 | \n",
      "# 22    change: 0.058606644 |  F(x): 0.00780162070 | \n",
      "# 23    change: 0.054527059 |  F(x): 0.05236389263 | \n",
      "# 24    change: 0.060566507 |  F(x): 0.01543351378 | \n",
      "# 25    change: 0.065463644 |  F(x): 0.05839088783 | \n",
      "# 26    change: 0.058206196 |  F(x): 0.00646196562 | \n",
      "# 27    change: 0.050692621 |  F(x): 0.04903162753 | \n",
      "# 28    change: 0.061829122 |  F(x): 0.02079929534 | \n",
      "# 29    change: 0.067794329 |  F(x): 0.05649676879 | \n",
      "# 30    change: 0.058928356 |  F(x): 0.00900418990 | \n",
      "# 31    change: 0.057236676 |  F(x): 0.05440911978 | \n",
      "# 32    change: 0.059734372 |  F(x): 0.01210370114 | \n",
      "# 33    change: 0.062235217 |  F(x): 0.05747144240 | \n",
      "# 34    change: 0.058529874 |  F(x): 0.00760009477 | \n",
      "# 35    change: 0.053959196 |  F(x): 0.05181241174 | \n",
      "# 36    change: 0.060724491 |  F(x): 0.01617080868 | \n",
      "# 37    change: 0.065895074 |  F(x): 0.05818609707 | \n",
      "# 38    change: 0.058232939 |  F(x): 0.00661323928 | \n",
      "# 39    change: 0.051124121 |  F(x): 0.04934151251 | \n",
      "# 40    change: 0.061654616 |  F(x): 0.02013525394 | \n",
      "# 41    change: 0.067573337 |  F(x): 0.05672890527 | \n",
      "# 42    change: 0.058783927 |  F(x): 0.00854734258 | \n",
      "# 43    change: 0.056207442 |  F(x): 0.05354861111 | \n",
      "# 44    change: 0.060014553 |  F(x): 0.01330251044 | \n",
      "# 45    change: 0.063531916 |  F(x): 0.05786047304 | \n",
      "# 46    change: 0.058324555 |  F(x): 0.00696210361 | \n",
      "# 47    change: 0.052145830 |  F(x): 0.05018946445 | \n",
      "# 48    change: 0.061293207 |  F(x): 0.01864924326 | \n",
      "# 49    change: 0.067058952 |  F(x): 0.05734765007 | \n",
      "# 50    change: 0.058506799 |  F(x): 0.00760882351 | \n",
      "The algorithm reached its maximal number of iterations (50).\n",
      "#5 | computing naive low-rank approximation\n",
      "#5 | computing curvature corrected low-rank approximation\n",
      "#5 | computing exact low-rank approximation\n",
      "Initial  F(x): 0.00681036322 | \n",
      "# 1     change: 0.051338997 |  F(x): 0.04602426451 | \n",
      "# 2     change: 0.060656292 |  F(x): 0.01872437003 | \n",
      "# 3     change: 0.065494608 |  F(x): 0.05240072056 | \n",
      "# 4     change: 0.058847384 |  F(x): 0.01055608323 | \n",
      "# 5     change: 0.059973847 |  F(x): 0.05425783430 | \n",
      "# 6     change: 0.058913138 |  F(x): 0.00968687208 | \n",
      "# 7     change: 0.059266504 |  F(x): 0.05499588233 | \n",
      "# 8     change: 0.059185320 |  F(x): 0.00978146773 | \n",
      "# 9     change: 0.059700066 |  F(x): 0.05573485851 | \n",
      "# 10    change: 0.059114167 |  F(x): 0.00911907612 | \n",
      "# 11    change: 0.058608492 |  F(x): 0.05513818254 | \n",
      "# 12    change: 0.059405485 |  F(x): 0.01011177883 | \n",
      "# 13    change: 0.060326939 |  F(x): 0.05627160009 | \n",
      "# 14    change: 0.058968084 |  F(x): 0.00845045534 | \n",
      "# 15    change: 0.057299993 |  F(x): 0.05421342452 | \n",
      "# 16    change: 0.059769113 |  F(x): 0.01151859193 | \n",
      "# 17    change: 0.062310138 |  F(x): 0.05732663766 | \n",
      "# 18    change: 0.058541821 |  F(x): 0.00694367423 | \n",
      "# 19    change: 0.053716623 |  F(x): 0.05134506441 | \n",
      "# 20    change: 0.060869255 |  F(x): 0.01603824825 | \n",
      "# 21    change: 0.066303016 |  F(x): 0.05805185614 | \n",
      "# 22    change: 0.058240168 |  F(x): 0.00594791264 | \n",
      "# 23    change: 0.050769132 |  F(x): 0.04874112669 | \n",
      "# 24    change: 0.061852935 |  F(x): 0.02023779149 | \n",
      "# 25    change: 0.067906367 |  F(x): 0.05631647756 | \n",
      "# 26    change: 0.058901488 |  F(x): 0.00826731327 | \n",
      "# 27    change: 0.056862121 |  F(x): 0.05379841064 | \n",
      "# 28    change: 0.059877366 |  F(x): 0.01202310852 | \n",
      "# 29    change: 0.062864422 |  F(x): 0.05745862067 | \n",
      "# 30    change: 0.058436679 |  F(x): 0.00664802372 | \n",
      "# 31    change: 0.052851502 |  F(x): 0.05052686208 | \n",
      "# 32    change: 0.061129657 |  F(x): 0.01721418408 | \n",
      "# 33    change: 0.066854086 |  F(x): 0.05761505429 | \n",
      "# 34    change: 0.058357536 |  F(x): 0.00640173723 | \n",
      "# 35    change: 0.052122282 |  F(x): 0.04986718227 | \n",
      "# 36    change: 0.061364862 |  F(x): 0.01823787267 | \n",
      "# 37    change: 0.067258577 |  F(x): 0.05718859195 | \n",
      "# 38    change: 0.058506383 |  F(x): 0.00693130047 | \n",
      "# 39    change: 0.053600075 |  F(x): 0.05110839095 | \n",
      "# 40    change: 0.060867567 |  F(x): 0.01616566583 | \n",
      "# 41    change: 0.066274253 |  F(x): 0.05778259563 | \n",
      "# 42    change: 0.058256257 |  F(x): 0.00610654716 | \n",
      "# 43    change: 0.051192715 |  F(x): 0.04899205460 | \n",
      "# 44    change: 0.061662448 |  F(x): 0.01956170483 | \n",
      "# 45    change: 0.067637428 |  F(x): 0.05644865716 | \n",
      "# 46    change: 0.058759730 |  F(x): 0.00786980547 | \n",
      "# 47    change: 0.055894843 |  F(x): 0.05291023783 | \n",
      "# 48    change: 0.060131595 |  F(x): 0.01317660799 | \n",
      "# 49    change: 0.063988006 |  F(x): 0.05764091895 | \n",
      "# 50    change: 0.058276073 |  F(x): 0.00621485307 | \n",
      "The algorithm reached its maximal number of iterations (50).\n",
      "#6 | computing naive low-rank approximation\n",
      "#6 | computing curvature corrected low-rank approximation\n",
      "#6 | computing exact low-rank approximation\n",
      "Initial  F(x): 0.00000000000 | \n",
      "The algorithm reached approximately critical point after 0 iterations; the gradient norm (6.2382102547118724e-9) is less than 1.0e-8.\n"
     ]
    }
   ],
   "source": [
    "max_iter = 50\n",
    "\n",
    "nR_q = []\n",
    "nU = []\n",
    "ccR_q = []\n",
    "ccU = []\n",
    "eR_q = []\n",
    "eU = []\n",
    "for i in 1:d\n",
    "    println(\"#$(i) | computing naive low-rank approximation\")\n",
    "    nRr_q, nUr = naive_low_rank_approximation(M, q, data, i)\n",
    "    push!(nR_q, nRr_q)\n",
    "    push!(nU, nUr)\n",
    "    println(\"#$(i) | computing curvature corrected low-rank approximation\")\n",
    "    ccRr_q, ccUr = curvature_corrected_low_rank_approximation(M, q, data, i); \n",
    "    push!(ccR_q, ccRr_q)\n",
    "    push!(ccU, ccUr)\n",
    "    println(\"#$(i) | computing exact low-rank approximation\")\n",
    "    eRr_q, eUr = exact_low_rank_approximation(M, q, data, i; stepsize=1/10000, max_iter=max_iter); \n",
    "    push!(eR_q, eRr_q)\n",
    "    push!(eU, eUr)\n",
    "end"
   ]
  },
  {
   "cell_type": "code",
   "execution_count": 37,
   "metadata": {},
   "outputs": [],
   "source": [
    "ref_distance = sum(distance.(Ref(M), Ref(q), data).^2)\n",
    "\n",
    "naive_tangent_distances_r = zeros(d)\n",
    "predicted_naive_distances_r= zeros(d)\n",
    "true_naive_distances_r= zeros(d)\n",
    "\n",
    "curvature_corrected_tangent_distances_r = zeros(d)\n",
    "predicted_curvature_corrected_distances_r = zeros(d)\n",
    "true_curvature_corrected_distances_r = zeros(d)\n",
    "\n",
    "exact_tangent_distances_r = zeros(d)\n",
    "exact_distances_r= zeros(d)\n",
    "\n",
    "for rank in 1:d\n",
    "    naive_log_q_data_r = Symmetric.([sum([nR_q[rank][i] * nU[rank][k,i] for i in 1:rank]) for k in 1:n])\n",
    "    curvature_corrected_log_q_data_r = Symmetric.([sum([ccR_q[rank][i] * ccU[rank][k,i] for i in 1:rank]) for k in 1:n])\n",
    "    exact_log_q_data_r = Symmetric.([sum([eR_q[rank][i] * eU[rank][k,i] for i in 1:rank]) for k in 1:n])\n",
    "    \n",
    "    # expoentiate back\n",
    "    naive_data_r = exp.(Ref(M), Ref(q), naive_log_q_data_r)\n",
    "    curvature_corrected_data_r = exp.(Ref(M), Ref(q), curvature_corrected_log_q_data_r)\n",
    "    exact_data_r = exp.(Ref(M), Ref(q), exact_log_q_data_r)\n",
    "\n",
    "\n",
    "    # compute relative tangent space error\n",
    "    naive_tangent_distances_r[rank] = sum(norm.(Ref(M), Ref(q),  log_q_data - naive_log_q_data_r).^2) / ref_distance\n",
    "    curvature_corrected_tangent_distances_r[rank] = sum(norm.(Ref(M), Ref(q),  log_q_data - curvature_corrected_log_q_data_r).^2) / ref_distance\n",
    "    exact_tangent_distances_r[rank] = sum(norm.(Ref(M), Ref(q),  log_q_data - exact_log_q_data_r).^2) / ref_distance\n",
    "\n",
    "\n",
    "    # compute relative manifold error\n",
    "    predicted_naive_distances_r[rank] = curvature_corrected_loss(M, q, data, naive_log_q_data_r)\n",
    "    true_naive_distances_r[rank] = exact_loss(M, q, data, naive_log_q_data_r)\n",
    "    predicted_curvature_corrected_distances_r[rank] = curvature_corrected_loss(M, q, data, curvature_corrected_log_q_data_r)\n",
    "    true_curvature_corrected_distances_r[rank] = exact_loss(M, q, data, curvature_corrected_log_q_data_r)\n",
    "    exact_distances_r[rank] = exact_loss(M, q, data, exact_log_q_data_r)\n",
    "end"
   ]
  },
  {
   "cell_type": "code",
   "execution_count": 38,
   "metadata": {},
   "outputs": [
    {
     "data": {
      "text/plain": [
       "\"/Users/wdiepeveen/Documents/PhD/Projects/8 - Manifold-valued tensor decomposition/src/manifold-valued-tensors/experiments/1D/P3/results/artificial1D_logerrors_by_rank.png\""
      ]
     },
     "execution_count": 38,
     "metadata": {},
     "output_type": "execute_result"
    }
   ],
   "source": [
    "# We want plots with (1) the lower bound error, (2) the actually uncorrected manifold error and (3) the corrected manifold error\n",
    "plot(1:d, [naive_tangent_distances_r, true_naive_distances_r, true_curvature_corrected_distances_r, exact_distances_r], label = [\"theoretical lower bound\" \"naive\" \"curvature corrected\" \"exact\"], ylims=(0,1), xlims=(1,d),xaxis=(\"approximation rank\"), yaxis=(L\"$\\varepsilon_{rel}$\"))\n",
    "savefig(\"results/artificial1D_errors_by_rank.png\")\n",
    "plot(1:d, [naive_tangent_distances_r .+ 1e-16, true_naive_distances_r .+ 1e-16, true_curvature_corrected_distances_r .+ 1e-16, exact_distances_r .+ 1e-16], label = [\"theoretical lower bound\" \"naive\" \"curvature corrected\" \"exact\"], ylims=(1e-16,1), xlims=(1,d), xaxis=(\"approximation rank\"), yaxis=(L\"$\\varepsilon_{rel}$\", :log), legend=:bottomleft)\n",
    "savefig(\"results/artificial1D_logerrors_by_rank.png\")"
   ]
  },
  {
   "cell_type": "code",
   "execution_count": 39,
   "metadata": {},
   "outputs": [
    {
     "data": {
      "text/plain": [
       "\"/Users/wdiepeveen/Documents/PhD/Projects/8 - Manifold-valued tensor decomposition/src/manifold-valued-tensors/experiments/1D/P3/results/artificial1D_logdiscrepancy_by_rank.png\""
      ]
     },
     "execution_count": 39,
     "metadata": {},
     "output_type": "execute_result"
    }
   ],
   "source": [
    "# It would be nice to also have a plot that tells us something about the error in predicting the manifold loss (using CCL) and the actual loss \n",
    "# (1) for the naive approach (2) for the curvature corrected approach\n",
    "plot(1:d, [(predicted_naive_distances_r .+ 1e-16) ./ (true_naive_distances_r .+ 1e-16), (predicted_curvature_corrected_distances_r .+ 1e-16) ./ (true_curvature_corrected_distances_r .+ 1e-16)], label = [\"discrepancy in initialisation\" \"discrepancy in solutions\"], xlims=(1,d),xaxis=(\"approximation rank\"), yaxis=(L\"$\\delta_{rel}$\"))\n",
    "savefig(\"results/artificial1D_discrepancy_by_rank.png\")\n",
    "plot(1:d, [(predicted_naive_distances_r .+ 1e-16) ./ (true_naive_distances_r .+ 1e-16), (predicted_curvature_corrected_distances_r .+ 1e-16) ./ (true_curvature_corrected_distances_r .+ 1e-16)], label = [\"discrepancy in initialisation\" \"discrepancy in solutions\"], xlims=(1,d), xaxis=(\"approximation rank\"), yaxis=(L\"$\\delta_{rel}$\", :log), legend=:bottomleft)\n",
    "savefig(\"results/artificial1D_logdiscrepancy_by_rank.png\")"
   ]
  }
 ],
 "metadata": {
  "kernelspec": {
   "display_name": "Julia 1.7.2",
   "language": "julia",
   "name": "julia-1.7"
  },
  "language_info": {
   "file_extension": ".jl",
   "mimetype": "application/julia",
   "name": "julia",
   "version": "1.7.2"
  },
  "orig_nbformat": 4,
  "vscode": {
   "interpreter": {
    "hash": "31f2aee4e71d21fbe5cf8b01ff0e069b9275f58929596ceb00d14d90e3e16cd6"
   }
  }
 },
 "nbformat": 4,
 "nbformat_minor": 2
}
