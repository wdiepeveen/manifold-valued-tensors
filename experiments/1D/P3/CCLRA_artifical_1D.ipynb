{
 "cells": [
  {
   "attachments": {},
   "cell_type": "markdown",
   "metadata": {},
   "source": [
    "# Low-rank approximation on $\\mathcal{P}(d)$ - the space of $d$-dimensional SPD matrices"
   ]
  },
  {
   "attachments": {},
   "cell_type": "markdown",
   "metadata": {},
   "source": [
    "In this notebook we want to get some intuition in different approaches for computing low-rank approximations for manifold-valued signals"
   ]
  },
  {
   "cell_type": "code",
   "execution_count": 96,
   "metadata": {},
   "outputs": [],
   "source": [
    "using Manifolds\n",
    "using Manopt\n",
    "using LinearAlgebra\n",
    "using Random\n",
    "using Plots\n",
    "using LaTeXStrings\n",
    "using BenchmarkTools"
   ]
  },
  {
   "cell_type": "code",
   "execution_count": 97,
   "metadata": {},
   "outputs": [
    {
     "data": {
      "text/plain": [
       "exact_loss (generic function with 2 methods)"
      ]
     },
     "execution_count": 97,
     "metadata": {},
     "output_type": "execute_result"
    }
   ],
   "source": [
    "include(\"../../../src/decompositions/signals/naive_low_rank_approximation.jl\")\n",
    "include(\"../../../src/decompositions/signals/curvature_corrected_low_rank_approximation.jl\")\n",
    "include(\"../../../src/decompositions/signals/exact_low_rank_approximation.jl\")\n",
    "\n",
    "include(\"../../../src/functions/loss_functions/curvature_corrected_loss.jl\")\n",
    "include(\"../../../src/functions/loss_functions/exact_loss.jl\")"
   ]
  },
  {
   "attachments": {},
   "cell_type": "markdown",
   "metadata": {},
   "source": [
    "### Load data and construct manifold ###"
   ]
  },
  {
   "cell_type": "code",
   "execution_count": 98,
   "metadata": {},
   "outputs": [
    {
     "data": {
      "text/plain": [
       "100"
      ]
     },
     "execution_count": 98,
     "metadata": {},
     "output_type": "execute_result"
    }
   ],
   "source": [
    "# load data\n",
    "M = SymmetricPositiveDefinite(3)\n",
    "d = manifold_dimension(M)\n",
    "n = 100  # 100\n"
   ]
  },
  {
   "cell_type": "code",
   "execution_count": 99,
   "metadata": {},
   "outputs": [
    {
     "name": "stdout",
     "output_type": "stream",
     "text": [
      "[0.0 0.0 0.0; 0.0 1.0 0.0; 0.0 0.0 0.0]"
     ]
    }
   ],
   "source": [
    "e = 1. * Matrix(I, 3, 3)\n",
    "# compute basis\n",
    "Θ = get_basis(M, e, DefaultOrthonormalBasis())\n",
    "#  construct data\n",
    "τ = 2.  # variance\n",
    "σ = .05  # variance\n",
    "Xₑ = Θ.data[4]\n",
    "print(Xₑ)\n",
    "\n",
    "Random.seed!(31)\n",
    "predata = [exp(M, e, sqrt(τ) * randn(1)[1] * Xₑ) for i in 1:n]\n",
    "\n",
    "data = [exp(M, predata[i], random_tangent(M, predata[i], Val(:Gaussian), σ)) for i in 1:n]; # ∈ P(3)^n\n"
   ]
  },
  {
   "cell_type": "code",
   "execution_count": 100,
   "metadata": {},
   "outputs": [],
   "source": [
    "# Export slice image\n",
    "num_export = 10\n",
    "asymptote_export_SPD(\"results/artificial1D_orig.asy\", data=data[1:min(num_export,n)], scale_axes=(2,2,2)); "
   ]
  },
  {
   "attachments": {},
   "cell_type": "markdown",
   "metadata": {},
   "source": [
    "### Construct low rank approximation ###"
   ]
  },
  {
   "cell_type": "code",
   "execution_count": 101,
   "metadata": {},
   "outputs": [],
   "source": [
    "q = mean(M, data)\n",
    "log_q_data = log.(Ref(M), Ref(q), data);  # ∈ T_q P(3)^n"
   ]
  },
  {
   "cell_type": "code",
   "execution_count": 102,
   "metadata": {},
   "outputs": [
    {
     "name": "stdout",
     "output_type": "stream",
     "text": [
      "Initial  F(x): 0.09762949978 | \n",
      "# 1     change: 0.006861669 |  F(x): 0.09130361480 | \n",
      "# 2     change: 0.007144245 |  F(x): 0.08440065924 | \n",
      "# 3     change: 0.007470903 |  F(x): 0.07680096810 | \n",
      "# 4     change: 0.007851756 |  F(x): 0.06834893750 | \n",
      "# 5     change: 0.008298468 |  F(x): 0.05884390425 | \n",
      "# 6     change: 0.008820854 |  F(x): 0.04804239223 | \n",
      "# 7     change: 0.009411652 |  F(x): 0.03572610732 | \n",
      "# 8     change: 0.009982287 |  F(x): 0.02208164196 | \n",
      "# 9     change: 0.010089646 |  F(x): 0.00926109984 | \n",
      "# 10    change: 0.008070115 |  F(x): 0.00299481440 | \n",
      "# 11    change: 0.002737489 |  F(x): 0.00243647160 | \n",
      "# 12    change: 0.000270895 |  F(x): 0.00243089573 | \n",
      "# 13    change: 0.000029044 |  F(x): 0.00243083129 | \n",
      "The algorithm reached approximately critical point after 13 iterations; the gradient norm (1.903447927849) is less than 4.496863545311792.\n"
     ]
    },
    {
     "data": {
      "text/plain": [
       "(([[0.17482058814166665 -0.2861882184985023 0.1485627659295899; -0.28618821849850234 0.0004388541424819651 0.267062388008663; 0.14856276592958992 0.267062388008663 0.1537000884007656], [0.1348063005012861 0.08525472476005042 0.03464641291136735; 0.08525472476005043 -22.694364637389906 0.07622560658504586; 0.03464641291136736 0.07622560658504586 0.035301856370865824]], [0.04141185945717856 0.043589454988513694; -0.062377171919476435 0.06746220792835492; … ; 0.08428851980435229 -0.04426547676489212; 0.09977091731476738 0.09542655939149962]), [0.0913036148023712, 0.08440065924054874, 0.07680096810485246, 0.06834893749827926, 0.0588439042469511, 0.048042392231711965, 0.03572610731951614, 0.022081641959835953, 0.009261099841646341, 0.002994814402764825, 0.0024364715992348687, 0.0024308957343466835, 0.0024308312908571375])"
      ]
     },
     "execution_count": 102,
     "metadata": {},
     "output_type": "execute_result"
    }
   ],
   "source": [
    "(eRr_q, eUr), costs = exact_low_rank_approximation(M, q, data, 2; stepsize=1/(2^16), max_iter=50, print_iterates=true)"
   ]
  },
  {
   "cell_type": "code",
   "execution_count": 103,
   "metadata": {},
   "outputs": [],
   "source": [
    "# costs"
   ]
  },
  {
   "cell_type": "code",
   "execution_count": 104,
   "metadata": {},
   "outputs": [
    {
     "name": "stdout",
     "output_type": "stream",
     "text": [
      "#1 | computing naive low-rank approximation\n",
      "#1 | computing curvature corrected low-rank approximation\n",
      "#1 | computing exact low-rank approximation\n",
      "#2 | computing naive low-rank approximation\n",
      "#2 | computing curvature corrected low-rank approximation\n",
      "#2 | computing exact low-rank approximation\n",
      "#3 | computing naive low-rank approximation\n",
      "#3 | computing curvature corrected low-rank approximation\n",
      "#3 | computing exact low-rank approximation\n",
      "#4 | computing naive low-rank approximation\n",
      "#4 | computing curvature corrected low-rank approximation\n",
      "#4 | computing exact low-rank approximation\n",
      "#5 | computing naive low-rank approximation\n",
      "#5 | computing curvature corrected low-rank approximation\n",
      "#5 | computing exact low-rank approximation\n",
      "#6 | computing naive low-rank approximation\n",
      "#6 | computing curvature corrected low-rank approximation\n",
      "#6 | computing exact low-rank approximation\n"
     ]
    }
   ],
   "source": [
    "max_iter = 25\n",
    "\n",
    "nR_q = []\n",
    "nU = []\n",
    "ccR_q = []\n",
    "ccU = []\n",
    "eR_q = []\n",
    "eU = []\n",
    "eCosts = []\n",
    "for i in 1:d  \n",
    "    println(\"#$(i) | computing naive low-rank approximation\")\n",
    "    nRr_q, nUr = naive_low_rank_approximation(M, q, data, i)\n",
    "    push!(nR_q, nRr_q)\n",
    "    push!(nU, nUr)\n",
    "    println(\"#$(i) | computing curvature corrected low-rank approximation\")\n",
    "    ccRr_q, ccUr = curvature_corrected_low_rank_approximation(M, q, data, i); \n",
    "    push!(ccR_q, ccRr_q)\n",
    "    push!(ccU, ccUr)\n",
    "    println(\"#$(i) | computing exact low-rank approximation\")\n",
    "    (eRr_q, eUr), eCostsr = exact_low_rank_approximation(M, q, data, i; stepsize=1/(2^16), max_iter=max_iter); \n",
    "    push!(eR_q, eRr_q)\n",
    "    push!(eU, eUr)\n",
    "    push!(eCosts, eCostsr)\n",
    "end"
   ]
  },
  {
   "cell_type": "code",
   "execution_count": 105,
   "metadata": {},
   "outputs": [],
   "source": [
    "ref_distance = sum(distance.(Ref(M), Ref(q), data).^2)\n",
    "\n",
    "naive_tangent_distances_r = zeros(d)\n",
    "predicted_naive_distances_r= zeros(d)\n",
    "true_naive_distances_r= zeros(d)\n",
    "\n",
    "curvature_corrected_tangent_distances_r = zeros(d)\n",
    "predicted_curvature_corrected_distances_r = zeros(d)\n",
    "true_curvature_corrected_distances_r = zeros(d)\n",
    "\n",
    "exact_tangent_distances_r = zeros(d)\n",
    "exact_distances_r= zeros(d)\n",
    "\n",
    "for rank in 1:d\n",
    "    naive_log_q_data_r = Symmetric.([sum([nR_q[rank][i] * nU[rank][k,i] for i in 1:rank]) for k in 1:n])\n",
    "    curvature_corrected_log_q_data_r = Symmetric.([sum([ccR_q[rank][i] * ccU[rank][k,i] for i in 1:rank]) for k in 1:n])\n",
    "    exact_log_q_data_r = Symmetric.([sum([eR_q[rank][i] * eU[rank][k,i] for i in 1:rank]) for k in 1:n])\n",
    "    \n",
    "    # expoentiate back\n",
    "    naive_data_r = exp.(Ref(M), Ref(q), naive_log_q_data_r)\n",
    "    curvature_corrected_data_r = exp.(Ref(M), Ref(q), curvature_corrected_log_q_data_r)\n",
    "    exact_data_r = exp.(Ref(M), Ref(q), exact_log_q_data_r)\n",
    "\n",
    "\n",
    "    # compute relative tangent space error\n",
    "    naive_tangent_distances_r[rank] = sum(norm.(Ref(M), Ref(q),  log_q_data - naive_log_q_data_r).^2) / ref_distance\n",
    "    curvature_corrected_tangent_distances_r[rank] = sum(norm.(Ref(M), Ref(q),  log_q_data - curvature_corrected_log_q_data_r).^2) / ref_distance\n",
    "    exact_tangent_distances_r[rank] = sum(norm.(Ref(M), Ref(q),  log_q_data - exact_log_q_data_r).^2) / ref_distance\n",
    "\n",
    "\n",
    "    # compute relative manifold error\n",
    "    predicted_naive_distances_r[rank] = curvature_corrected_loss(M, q, data, naive_log_q_data_r)\n",
    "    true_naive_distances_r[rank] = exact_loss(M, q, data, naive_log_q_data_r)\n",
    "    predicted_curvature_corrected_distances_r[rank] = curvature_corrected_loss(M, q, data, curvature_corrected_log_q_data_r)\n",
    "    true_curvature_corrected_distances_r[rank] = exact_loss(M, q, data, curvature_corrected_log_q_data_r)\n",
    "    exact_distances_r[rank] = exact_loss(M, q, data, exact_log_q_data_r)\n",
    "    \n",
    "end"
   ]
  },
  {
   "cell_type": "code",
   "execution_count": 110,
   "metadata": {},
   "outputs": [
    {
     "data": {
      "text/plain": [
       "\"/Users/wdiepeveen/Documents/PhD/Projects/8 - Manifold-valued tensor decomposition/src/manifold-valued-tensors/experiments/1D/P3/results/artificial1D_exact_iterate_loss.svg\""
      ]
     },
     "execution_count": 110,
     "metadata": {},
     "output_type": "execute_result"
    }
   ],
   "source": [
    "# We want plots with (1) the lower bound error, (2) the actually uncorrected manifold error and (3) the corrected manifold error\n",
    "plot(1:d-1, [naive_tangent_distances_r[1:end-1], true_naive_distances_r[1:end-1], true_curvature_corrected_distances_r[1:end-1], exact_distances_r[1:end-1]], label = [\"zero-δ lower bound\" \"tSVD\" \"CC-tSVD (proposed)\" \"MC-tSVD\"], xlims=(1,d-1),xaxis=(\"approximation rank\"), yaxis=(L\"$\\varepsilon_{rel}$\"))\n",
    "savefig(\"results/artificial1D_errors_by_rank.svg\")\n",
    "plot(1:d-1, [naive_tangent_distances_r[1:end-1] .+ 1e-4, true_naive_distances_r[1:end-1] .+ 1e-4, true_curvature_corrected_distances_r[1:end-1] .+ 1e-4, exact_distances_r[1:end-1] .+ 1e-4], label = [\"zero-δ lower bound\" \"tSVD\" \"CC-tSVD (proposed)\" \"MC-tSVD\"], ylims=(1e-4,1), xlims=(1,d-1), xaxis=(\"approximation rank\"), yaxis=(L\"$\\varepsilon_{rel}$\", :log), legend=:bottomleft)\n",
    "savefig(\"results/artificial1D_logerrors_by_rank.svg\")\n",
    "for i in 1:d-1\n",
    "    if i == 1\n",
    "        plot(1:length(eCosts[1]), eCosts[1], label = \"rank 1\", ylims=(1e-4,1), yaxis=(L\"$\\varepsilon_{rel}$\", :log))\n",
    "    else\n",
    "        plot!(1:length(eCosts[i]), eCosts[i], label = \"rank $(i)\", ylims=(1e-4,1), yaxis=(L\"$\\varepsilon_{rel}$\", :log))\n",
    "    end\n",
    "end\n",
    "savefig(\"results/artificial1D_exact_iterate_loss.svg\")"
   ]
  },
  {
   "cell_type": "code",
   "execution_count": 107,
   "metadata": {},
   "outputs": [
    {
     "data": {
      "text/plain": [
       "\"/Users/wdiepeveen/Documents/PhD/Projects/8 - Manifold-valued tensor decomposition/src/manifold-valued-tensors/experiments/1D/P3/results/artificial1D_discrepancy_by_rank.svg\""
      ]
     },
     "execution_count": 107,
     "metadata": {},
     "output_type": "execute_result"
    }
   ],
   "source": [
    "# It would be nice to also have a plot that tells us something about the error in predicting the manifold loss (using CCL) and the actual loss \n",
    "# (1) for the naive approach (2) for the curvature corrected approach\n",
    "plot(1:d-1, (predicted_curvature_corrected_distances_r[1:end-1] .- true_curvature_corrected_distances_r[1:end-1] .+ 1e-16) ./ (curvature_corrected_tangent_distances_r[1:end-1] .* sqrt.(curvature_corrected_tangent_distances_r[1:end-1] .* ref_distance) .+ 1e-16), label=(\"CC-tSVD (proposed)\"), xlims=(1,d-1),xaxis=(\"approximation rank\"), yaxis=(L\"$\\delta_{rel}$\"), color=3)\n",
    "savefig(\"results/artificial1D_discrepancy_by_rank.svg\")"
   ]
  },
  {
   "attachments": {},
   "cell_type": "markdown",
   "metadata": {},
   "source": [
    "### Benchmarking ###"
   ]
  },
  {
   "cell_type": "code",
   "execution_count": 108,
   "metadata": {},
   "outputs": [
    {
     "data": {
      "text/plain": [
       "BenchmarkTools.Trial: 186 samples with 1 evaluation.\n",
       " Range \u001b[90m(\u001b[39m\u001b[36m\u001b[1mmin\u001b[22m\u001b[39m … \u001b[35mmax\u001b[39m\u001b[90m):  \u001b[39m\u001b[36m\u001b[1m16.882 ms\u001b[22m\u001b[39m … \u001b[35m46.796 ms\u001b[39m  \u001b[90m┊\u001b[39m GC \u001b[90m(\u001b[39mmin … max\u001b[90m): \u001b[39m0.00% … 0.00%\n",
       " Time  \u001b[90m(\u001b[39m\u001b[34m\u001b[1mmedian\u001b[22m\u001b[39m\u001b[90m):     \u001b[39m\u001b[34m\u001b[1m26.507 ms              \u001b[22m\u001b[39m\u001b[90m┊\u001b[39m GC \u001b[90m(\u001b[39mmedian\u001b[90m):    \u001b[39m0.00%\n",
       " Time  \u001b[90m(\u001b[39m\u001b[32m\u001b[1mmean\u001b[22m\u001b[39m ± \u001b[32mσ\u001b[39m\u001b[90m):   \u001b[39m\u001b[32m\u001b[1m26.867 ms\u001b[22m\u001b[39m ± \u001b[32m 5.357 ms\u001b[39m  \u001b[90m┊\u001b[39m GC \u001b[90m(\u001b[39mmean ± σ\u001b[90m):  \u001b[39m2.07% ± 6.02%\n",
       "\n",
       "  \u001b[39m \u001b[39m \u001b[39m \u001b[39m \u001b[39m \u001b[39m \u001b[39m▁\u001b[39m \u001b[39m▁\u001b[39m█\u001b[39m \u001b[39m \u001b[39m▃\u001b[39m▄\u001b[39m \u001b[39m \u001b[39m▄\u001b[39m \u001b[39m▄\u001b[39m▄\u001b[39m▄\u001b[39m▃\u001b[39m█\u001b[39m▆\u001b[34m▁\u001b[39m\u001b[32m█\u001b[39m\u001b[39m▁\u001b[39m▄\u001b[39m▆\u001b[39m▆\u001b[39m \u001b[39m \u001b[39m▃\u001b[39m \u001b[39m█\u001b[39m \u001b[39m \u001b[39m \u001b[39m \u001b[39m \u001b[39m \u001b[39m \u001b[39m \u001b[39m \u001b[39m \u001b[39m \u001b[39m \u001b[39m \u001b[39m \u001b[39m \u001b[39m \u001b[39m \u001b[39m \u001b[39m \u001b[39m \u001b[39m \u001b[39m \u001b[39m \u001b[39m \u001b[39m \u001b[39m \n",
       "  \u001b[39m▇\u001b[39m▄\u001b[39m▆\u001b[39m▄\u001b[39m▄\u001b[39m▆\u001b[39m█\u001b[39m▇\u001b[39m█\u001b[39m█\u001b[39m▄\u001b[39m▇\u001b[39m█\u001b[39m█\u001b[39m▇\u001b[39m▇\u001b[39m█\u001b[39m▆\u001b[39m█\u001b[39m█\u001b[39m█\u001b[39m█\u001b[39m█\u001b[39m█\u001b[34m█\u001b[39m\u001b[32m█\u001b[39m\u001b[39m█\u001b[39m█\u001b[39m█\u001b[39m█\u001b[39m▁\u001b[39m▇\u001b[39m█\u001b[39m▇\u001b[39m█\u001b[39m▇\u001b[39m▄\u001b[39m▇\u001b[39m▇\u001b[39m▇\u001b[39m▇\u001b[39m▄\u001b[39m▇\u001b[39m▄\u001b[39m▄\u001b[39m▆\u001b[39m▄\u001b[39m▁\u001b[39m▁\u001b[39m▆\u001b[39m▄\u001b[39m▄\u001b[39m▁\u001b[39m▄\u001b[39m▄\u001b[39m▁\u001b[39m▄\u001b[39m▁\u001b[39m▄\u001b[39m \u001b[39m▄\n",
       "  16.9 ms\u001b[90m         Histogram: frequency by time\u001b[39m        40.9 ms \u001b[0m\u001b[1m<\u001b[22m\n",
       "\n",
       " Memory estimate\u001b[90m: \u001b[39m\u001b[33m4.95 MiB\u001b[39m, allocs estimate\u001b[90m: \u001b[39m\u001b[33m54122\u001b[39m."
      ]
     },
     "execution_count": 108,
     "metadata": {},
     "output_type": "execute_result"
    }
   ],
   "source": [
    "@benchmark naive_low_rank_approximation(M, q, data, 2)"
   ]
  },
  {
   "cell_type": "code",
   "execution_count": 109,
   "metadata": {},
   "outputs": [
    {
     "ename": "LoadError",
     "evalue": "InterruptException:",
     "output_type": "error",
     "traceback": [
      "InterruptException:",
      "",
      "Stacktrace:",
      "  [1] copy",
      "    @ ./array.jl:369 [inlined]",
      "  [2] copy",
      "    @ /Applications/Julia-1.7.app/Contents/Resources/julia/share/julia/stdlib/v1.7/LinearAlgebra/src/symmetric.jl:281 [inlined]",
      "  [3] copy_oftype",
      "    @ /Applications/Julia-1.7.app/Contents/Resources/julia/share/julia/stdlib/v1.7/LinearAlgebra/src/LinearAlgebra.jl:358 [inlined]",
      "  [4] cholcopy",
      "    @ /Applications/Julia-1.7.app/Contents/Resources/julia/share/julia/stdlib/v1.7/LinearAlgebra/src/cholesky.jl:180 [inlined]",
      "  [5] #cholesky#143",
      "    @ /Applications/Julia-1.7.app/Contents/Resources/julia/share/julia/stdlib/v1.7/LinearAlgebra/src/cholesky.jl:394 [inlined]",
      "  [6] cholesky (repeats 2 times)",
      "    @ /Applications/Julia-1.7.app/Contents/Resources/julia/share/julia/stdlib/v1.7/LinearAlgebra/src/cholesky.jl:394 [inlined]",
      "  [7] inner(#unused#::SymmetricPositiveDefinite{3}, p::Matrix{Float64}, X::Matrix{Float64}, Y::Matrix{Float64})",
      "    @ Manifolds ~/.julia/packages/Manifolds/RgXwm/src/manifolds/SymmetricPositiveDefiniteLinearAffine.jl:322",
      "  [8] #287",
      "    @ ./array.jl:0 [inlined]",
      "  [9] iterate",
      "    @ ./generator.jl:47 [inlined]",
      " [10] collect_to!",
      "    @ ./array.jl:782 [inlined]",
      " [11] collect_to_with_first!",
      "    @ ./array.jl:760 [inlined]",
      " [12] collect(itr::Base.Generator{Base.Iterators.ProductIterator{Tuple{UnitRange{Int64}, UnitRange{Int64}}}, var\"#287#289\"{SymmetricPositiveDefinite{3}, Matrix{Float64}, Vector{Matrix{Float64}}}})",
      "    @ Base ./array.jl:734",
      " [13] tangent_space_SVD(M::SymmetricPositiveDefinite{3}, q::Matrix{Float64}, log_q_X::Vector{Matrix{Float64}}, rank::Int64)",
      "    @ Main ~/Documents/PhD/Projects/8 - Manifold-valued tensor decomposition/src/manifold-valued-tensors/src/decompositions/signals/tangent_space_SVD.jl:7",
      " [14] naive_low_rank_approximation(M::SymmetricPositiveDefinite{3}, q::Matrix{Float64}, X::Vector{Matrix{Float64}}, rank::Int64)",
      "    @ Main ~/Documents/PhD/Projects/8 - Manifold-valued tensor decomposition/src/manifold-valued-tensors/src/decompositions/signals/naive_low_rank_approximation.jl:7",
      " [15] curvature_corrected_low_rank_approximation(M::SymmetricPositiveDefinite{3}, q::Matrix{Float64}, X::Vector{Matrix{Float64}}, rank::Int64)",
      "    @ Main ~/Documents/PhD/Projects/8 - Manifold-valued tensor decomposition/src/manifold-valued-tensors/src/decompositions/signals/curvature_corrected_low_rank_approximation.jl:12",
      " [16] var\"##core#655\"()",
      "    @ Main ~/.julia/packages/BenchmarkTools/0owsb/src/execution.jl:489",
      " [17] var\"##sample#656\"(::Tuple{}, __params::BenchmarkTools.Parameters)",
      "    @ Main ~/.julia/packages/BenchmarkTools/0owsb/src/execution.jl:495",
      " [18] _run(b::BenchmarkTools.Benchmark, p::BenchmarkTools.Parameters; verbose::Bool, pad::String, kwargs::Base.Pairs{Symbol, Union{}, Tuple{}, NamedTuple{(), Tuple{}}})",
      "    @ BenchmarkTools ~/.julia/packages/BenchmarkTools/0owsb/src/execution.jl:105",
      " [19] _run(b::BenchmarkTools.Benchmark, p::BenchmarkTools.Parameters)",
      "    @ BenchmarkTools ~/.julia/packages/BenchmarkTools/0owsb/src/execution.jl:93",
      " [20] #invokelatest#2",
      "    @ ./essentials.jl:716 [inlined]",
      " [21] invokelatest",
      "    @ ./essentials.jl:714 [inlined]",
      " [22] #run_result#45",
      "    @ ~/.julia/packages/BenchmarkTools/0owsb/src/execution.jl:34 [inlined]",
      " [23] run_result",
      "    @ ~/.julia/packages/BenchmarkTools/0owsb/src/execution.jl:34 [inlined]",
      " [24] run(b::BenchmarkTools.Benchmark, p::BenchmarkTools.Parameters; progressid::Nothing, nleaves::Float64, ndone::Float64, kwargs::Base.Pairs{Symbol, Union{}, Tuple{}, NamedTuple{(), Tuple{}}})",
      "    @ BenchmarkTools ~/.julia/packages/BenchmarkTools/0owsb/src/execution.jl:117",
      " [25] run (repeats 2 times)",
      "    @ ~/.julia/packages/BenchmarkTools/0owsb/src/execution.jl:117 [inlined]",
      " [26] eval",
      "    @ ./boot.jl:373 [inlined]",
      " [27] include_string(mapexpr::typeof(REPL.softscope), mod::Module, code::String, filename::String)",
      "    @ Base ./loading.jl:1196"
     ]
    }
   ],
   "source": [
    "@benchmark curvature_corrected_low_rank_approximation(M, q, data, 2) "
   ]
  },
  {
   "cell_type": "code",
   "execution_count": null,
   "metadata": {},
   "outputs": [
    {
     "data": {
      "text/plain": [
       "BenchmarkTools.Trial: 28 samples with 1 evaluation.\n",
       " Range \u001b[90m(\u001b[39m\u001b[36m\u001b[1mmin\u001b[22m\u001b[39m … \u001b[35mmax\u001b[39m\u001b[90m):  \u001b[39m\u001b[36m\u001b[1m154.680 ms\u001b[22m\u001b[39m … \u001b[35m263.368 ms\u001b[39m  \u001b[90m┊\u001b[39m GC \u001b[90m(\u001b[39mmin … max\u001b[90m): \u001b[39m0.00% … 2.50%\n",
       " Time  \u001b[90m(\u001b[39m\u001b[34m\u001b[1mmedian\u001b[22m\u001b[39m\u001b[90m):     \u001b[39m\u001b[34m\u001b[1m178.200 ms               \u001b[22m\u001b[39m\u001b[90m┊\u001b[39m GC \u001b[90m(\u001b[39mmedian\u001b[90m):    \u001b[39m3.37%\n",
       " Time  \u001b[90m(\u001b[39m\u001b[32m\u001b[1mmean\u001b[22m\u001b[39m ± \u001b[32mσ\u001b[39m\u001b[90m):   \u001b[39m\u001b[32m\u001b[1m185.426 ms\u001b[22m\u001b[39m ± \u001b[32m 26.316 ms\u001b[39m  \u001b[90m┊\u001b[39m GC \u001b[90m(\u001b[39mmean ± σ\u001b[90m):  \u001b[39m2.85% ± 1.30%\n",
       "\n",
       "  \u001b[39m \u001b[39m▁\u001b[39m \u001b[39m \u001b[39m \u001b[39m \u001b[39m \u001b[39m \u001b[39m█\u001b[39m \u001b[39m \u001b[39m \u001b[39m▁\u001b[34m▁\u001b[39m\u001b[39m \u001b[39m▁\u001b[39m▁\u001b[32m \u001b[39m\u001b[39m \u001b[39m \u001b[39m \u001b[39m \u001b[39m \u001b[39m \u001b[39m \u001b[39m \u001b[39m \u001b[39m \u001b[39m \u001b[39m \u001b[39m \u001b[39m \u001b[39m \u001b[39m \u001b[39m \u001b[39m \u001b[39m \u001b[39m \u001b[39m \u001b[39m \u001b[39m \u001b[39m \u001b[39m \u001b[39m \u001b[39m \u001b[39m \u001b[39m▁\u001b[39m \u001b[39m \u001b[39m \u001b[39m \u001b[39m \u001b[39m \u001b[39m \u001b[39m \u001b[39m \u001b[39m \u001b[39m \u001b[39m \u001b[39m \u001b[39m \u001b[39m \u001b[39m \n",
       "  \u001b[39m▆\u001b[39m█\u001b[39m▁\u001b[39m▁\u001b[39m▆\u001b[39m▆\u001b[39m▁\u001b[39m▁\u001b[39m█\u001b[39m▆\u001b[39m▁\u001b[39m▆\u001b[39m█\u001b[34m█\u001b[39m\u001b[39m▆\u001b[39m█\u001b[39m█\u001b[32m▁\u001b[39m\u001b[39m▆\u001b[39m▆\u001b[39m▁\u001b[39m▁\u001b[39m▁\u001b[39m▁\u001b[39m▆\u001b[39m▁\u001b[39m▁\u001b[39m▁\u001b[39m▁\u001b[39m▁\u001b[39m▁\u001b[39m▁\u001b[39m▁\u001b[39m▆\u001b[39m▁\u001b[39m▆\u001b[39m▁\u001b[39m▁\u001b[39m▁\u001b[39m▁\u001b[39m▁\u001b[39m▁\u001b[39m▁\u001b[39m▁\u001b[39m▁\u001b[39m▁\u001b[39m█\u001b[39m▁\u001b[39m▁\u001b[39m▁\u001b[39m▁\u001b[39m▁\u001b[39m▁\u001b[39m▁\u001b[39m▁\u001b[39m▁\u001b[39m▁\u001b[39m▁\u001b[39m▁\u001b[39m▁\u001b[39m▆\u001b[39m \u001b[39m▁\n",
       "  155 ms\u001b[90m           Histogram: frequency by time\u001b[39m          263 ms \u001b[0m\u001b[1m<\u001b[22m\n",
       "\n",
       " Memory estimate\u001b[90m: \u001b[39m\u001b[33m55.59 MiB\u001b[39m, allocs estimate\u001b[90m: \u001b[39m\u001b[33m462675\u001b[39m."
      ]
     },
     "execution_count": 91,
     "metadata": {},
     "output_type": "execute_result"
    }
   ],
   "source": [
    "@benchmark exact_low_rank_approximation(M, q, data, 2; stepsize=1/(2^16), max_iter=1) "
   ]
  },
  {
   "cell_type": "code",
   "execution_count": null,
   "metadata": {},
   "outputs": [
    {
     "data": {
      "text/plain": [
       "BenchmarkTools.Trial: 6 samples with 1 evaluation.\n",
       " Range \u001b[90m(\u001b[39m\u001b[36m\u001b[1mmin\u001b[22m\u001b[39m … \u001b[35mmax\u001b[39m\u001b[90m):  \u001b[39m\u001b[36m\u001b[1m830.447 ms\u001b[22m\u001b[39m … \u001b[35m  1.023 s\u001b[39m  \u001b[90m┊\u001b[39m GC \u001b[90m(\u001b[39mmin … max\u001b[90m): \u001b[39m3.47% … 2.32%\n",
       " Time  \u001b[90m(\u001b[39m\u001b[34m\u001b[1mmedian\u001b[22m\u001b[39m\u001b[90m):     \u001b[39m\u001b[34m\u001b[1m891.194 ms              \u001b[22m\u001b[39m\u001b[90m┊\u001b[39m GC \u001b[90m(\u001b[39mmedian\u001b[90m):    \u001b[39m3.34%\n",
       " Time  \u001b[90m(\u001b[39m\u001b[32m\u001b[1mmean\u001b[22m\u001b[39m ± \u001b[32mσ\u001b[39m\u001b[90m):   \u001b[39m\u001b[32m\u001b[1m895.516 ms\u001b[22m\u001b[39m ± \u001b[32m70.425 ms\u001b[39m  \u001b[90m┊\u001b[39m GC \u001b[90m(\u001b[39mmean ± σ\u001b[90m):  \u001b[39m3.25% ± 0.49%\n",
       "\n",
       "  \u001b[39m█\u001b[39m \u001b[39m \u001b[39m \u001b[39m \u001b[39m \u001b[39m \u001b[39m \u001b[39m \u001b[39m \u001b[39m \u001b[39m \u001b[39m \u001b[39m \u001b[39m \u001b[39m \u001b[39m \u001b[39m \u001b[34m▁\u001b[39m\u001b[39m▁\u001b[32m \u001b[39m\u001b[39m \u001b[39m \u001b[39m▁\u001b[39m \u001b[39m \u001b[39m \u001b[39m \u001b[39m \u001b[39m \u001b[39m \u001b[39m \u001b[39m \u001b[39m \u001b[39m \u001b[39m \u001b[39m \u001b[39m \u001b[39m \u001b[39m \u001b[39m \u001b[39m \u001b[39m \u001b[39m \u001b[39m \u001b[39m \u001b[39m \u001b[39m \u001b[39m \u001b[39m \u001b[39m \u001b[39m \u001b[39m \u001b[39m \u001b[39m \u001b[39m \u001b[39m \u001b[39m \u001b[39m \u001b[39m▁\u001b[39m \u001b[39m \n",
       "  \u001b[39m█\u001b[39m▁\u001b[39m▁\u001b[39m▁\u001b[39m▁\u001b[39m▁\u001b[39m▁\u001b[39m▁\u001b[39m▁\u001b[39m▁\u001b[39m▁\u001b[39m▁\u001b[39m▁\u001b[39m▁\u001b[39m▁\u001b[39m▁\u001b[39m▁\u001b[39m▁\u001b[34m█\u001b[39m\u001b[39m█\u001b[32m▁\u001b[39m\u001b[39m▁\u001b[39m▁\u001b[39m█\u001b[39m▁\u001b[39m▁\u001b[39m▁\u001b[39m▁\u001b[39m▁\u001b[39m▁\u001b[39m▁\u001b[39m▁\u001b[39m▁\u001b[39m▁\u001b[39m▁\u001b[39m▁\u001b[39m▁\u001b[39m▁\u001b[39m▁\u001b[39m▁\u001b[39m▁\u001b[39m▁\u001b[39m▁\u001b[39m▁\u001b[39m▁\u001b[39m▁\u001b[39m▁\u001b[39m▁\u001b[39m▁\u001b[39m▁\u001b[39m▁\u001b[39m▁\u001b[39m▁\u001b[39m▁\u001b[39m▁\u001b[39m▁\u001b[39m▁\u001b[39m▁\u001b[39m▁\u001b[39m█\u001b[39m \u001b[39m▁\n",
       "  830 ms\u001b[90m          Histogram: frequency by time\u001b[39m          1.02 s \u001b[0m\u001b[1m<\u001b[22m\n",
       "\n",
       " Memory estimate\u001b[90m: \u001b[39m\u001b[33m311.39 MiB\u001b[39m, allocs estimate\u001b[90m: \u001b[39m\u001b[33m2485179\u001b[39m."
      ]
     },
     "execution_count": 92,
     "metadata": {},
     "output_type": "execute_result"
    }
   ],
   "source": [
    "@benchmark exact_low_rank_approximation(M, q, data, 2; stepsize=1/(2^16), max_iter=50)  "
   ]
  },
  {
   "cell_type": "code",
   "execution_count": null,
   "metadata": {},
   "outputs": [],
   "source": [
    "nT = []\n",
    "nΣ = []\n",
    "\n",
    "for i in 1:d\n",
    "    nbm = @benchmark naive_low_rank_approximation(M, q, data, $i)\n",
    "    push!(nT, mean(nbm).time / 1e9)\n",
    "    push!(nΣ, std(nbm).time / 1e9)\n",
    "end"
   ]
  },
  {
   "cell_type": "code",
   "execution_count": null,
   "metadata": {},
   "outputs": [],
   "source": [
    "ccT = []\n",
    "ccΣ = []\n",
    "\n",
    "for i in 1:d\n",
    "    ccbm = @benchmark curvature_corrected_low_rank_approximation(M, q, data, $i)\n",
    "    push!(ccT, mean(ccbm).time / 1e9)\n",
    "    push!(ccΣ, std(ccbm).time / 1e9)\n",
    "end"
   ]
  },
  {
   "cell_type": "code",
   "execution_count": null,
   "metadata": {},
   "outputs": [
    {
     "ename": "LoadError",
     "evalue": "InterruptException:",
     "output_type": "error",
     "traceback": [
      "InterruptException:",
      "",
      "Stacktrace:",
      "  [1] Array",
      "    @ ./boot.jl:459 [inlined]",
      "  [2] Array",
      "    @ ./boot.jl:467 [inlined]",
      "  [3] similar",
      "    @ ./array.jl:378 [inlined]",
      "  [4] similar",
      "    @ /Applications/Julia-1.7.app/Contents/Resources/julia/share/julia/stdlib/v1.7/LinearAlgebra/src/symmetric.jl:254 [inlined]",
      "  [5] /(B::Symmetric{Float64, Matrix{Float64}}, F::Cholesky{Float64, Matrix{Float64}})",
      "    @ LinearAlgebra /Applications/Julia-1.7.app/Contents/Resources/julia/share/julia/stdlib/v1.7/LinearAlgebra/src/factorization.jl:113",
      "  [6] inner(#unused#::SymmetricPositiveDefinite{3}, p::Matrix{Float64}, X::Matrix{Float64}, Y::Matrix{Float64})",
      "    @ Manifolds ~/.julia/packages/Manifolds/RgXwm/src/manifolds/SymmetricPositiveDefiniteLinearAffine.jl:323",
      "  [7] _broadcast_getindex_evalf",
      "    @ ./broadcast.jl:670 [inlined]",
      "  [8] _broadcast_getindex",
      "    @ ./broadcast.jl:643 [inlined]",
      "  [9] _getindex",
      "    @ ./broadcast.jl:667 [inlined]",
      " [10] _getindex",
      "    @ ./broadcast.jl:666 [inlined]",
      " [11] _broadcast_getindex",
      "    @ ./broadcast.jl:642 [inlined]",
      " [12] getindex",
      "    @ ./broadcast.jl:597 [inlined]",
      " [13] macro expansion",
      "    @ ./broadcast.jl:961 [inlined]",
      " [14] macro expansion",
      "    @ ./simdloop.jl:77 [inlined]",
      " [15] copyto!",
      "    @ ./broadcast.jl:960 [inlined]",
      " [16] copyto!",
      "    @ ./broadcast.jl:913 [inlined]",
      " [17] copy",
      "    @ ./broadcast.jl:885 [inlined]",
      " [18] materialize",
      "    @ ./broadcast.jl:860 [inlined]",
      " [19] gradient_exact_loss(M::SymmetricPositiveDefinite{3}, q::Matrix{Float64}, X::Vector{Matrix{Float64}}, U::Matrix{Float64}, V::Matrix{Float64})",
      "    @ Main ~/Documents/PhD/Projects/8 - Manifold-valued tensor decomposition/src/manifold-valued-tensors/src/functions/gradients/gradient_exact_loss.jl:24",
      " [20] gradCCL",
      "    @ ~/Documents/PhD/Projects/8 - Manifold-valued tensor decomposition/src/manifold-valued-tensors/src/decompositions/signals/exact_low_rank_approximation.jl:20 [inlined]",
      " [21] get_gradient",
      "    @ ~/.julia/packages/Manopt/G7Amz/src/plans/gradient_plan.jl:55 [inlined]",
      " [22] initialize_solver!",
      "    @ ~/.julia/packages/Manopt/G7Amz/src/solvers/gradient_descent.jl:99 [inlined]",
      " [23] initialize_solver!(p::GradientProblem{AllocatingEvaluation, Euclidean{Tuple{6, 2}, ℝ}, var\"#CCL#246\"{SymmetricPositiveDefinite{3}, Matrix{Float64}, Vector{Matrix{Float64}}, Matrix{Float64}}, var\"#gradCCL#247\"{SymmetricPositiveDefinite{3}, Matrix{Float64}, Vector{Matrix{Float64}}, Matrix{Float64}}}, o::DebugOptions{GradientDescentOptions{Matrix{Float64}, Matrix{Float64}, StopWhenAny{Tuple{StopAfterIteration, StopWhenGradientNormLess}}, ConstantStepsize{Float64}, ExponentialRetraction}})",
      "    @ Manopt ~/.julia/packages/Manopt/G7Amz/src/solvers/debug_solver.jl:11",
      " [24] initialize_solver!",
      "    @ ~/.julia/packages/Manopt/G7Amz/src/solvers/record_solver.jl:8 [inlined]",
      " [25] solve(p::GradientProblem{AllocatingEvaluation, Euclidean{Tuple{6, 2}, ℝ}, var\"#CCL#246\"{SymmetricPositiveDefinite{3}, Matrix{Float64}, Vector{Matrix{Float64}}, Matrix{Float64}}, var\"#gradCCL#247\"{SymmetricPositiveDefinite{3}, Matrix{Float64}, Vector{Matrix{Float64}}, Matrix{Float64}}}, o::RecordOptions{DebugOptions{GradientDescentOptions{Matrix{Float64}, Matrix{Float64}, StopWhenAny{Tuple{StopAfterIteration, StopWhenGradientNormLess}}, ConstantStepsize{Float64}, ExponentialRetraction}}, NamedTuple{(:Iteration,), Tuple{RecordCost}}})",
      "    @ Manopt ~/.julia/packages/Manopt/G7Amz/src/solvers/solver.jl:85",
      " [26] gradient_descent!(M::Euclidean{Tuple{6, 2}, ℝ}, F::var\"#CCL#246\"{SymmetricPositiveDefinite{3}, Matrix{Float64}, Vector{Matrix{Float64}}, Matrix{Float64}}, gradF::var\"#gradCCL#247\"{SymmetricPositiveDefinite{3}, Matrix{Float64}, Vector{Matrix{Float64}}, Matrix{Float64}}, x::Matrix{Float64}; stepsize::ConstantStepsize{Float64}, retraction_method::ExponentialRetraction, stopping_criterion::StopWhenAny{Tuple{StopAfterIteration, StopWhenGradientNormLess}}, debug::Vector{Any}, direction::IdentityUpdateRule, evaluation::AllocatingEvaluation, return_options::Bool, kwargs::Base.Pairs{Symbol, Symbol, Tuple{Symbol}, NamedTuple{(:record,), Tuple{Symbol}}})",
      "    @ Manopt ~/.julia/packages/Manopt/G7Amz/src/solvers/gradient_descent.jl:88",
      " [27] #gradient_descent#344",
      "    @ ~/.julia/packages/Manopt/G7Amz/src/solvers/gradient_descent.jl:42 [inlined]",
      " [28] exact_low_rank_approximation(M::SymmetricPositiveDefinite{3}, q::Matrix{Float64}, X::Vector{Matrix{Float64}}, rank::Int64; stepsize::Float64, max_iter::Int64, change_tol::Float64, print_iterates::Bool)",
      "    @ Main ~/Documents/PhD/Projects/8 - Manifold-valued tensor decomposition/src/manifold-valued-tensors/src/decompositions/signals/exact_low_rank_approximation.jl:26",
      " [29] var\"##core#644\"(i#640::Int64)",
      "    @ Main ~/.julia/packages/BenchmarkTools/0owsb/src/execution.jl:489",
      " [30] var\"##sample#645\"(::Tuple{Int64}, __params::BenchmarkTools.Parameters)",
      "    @ Main ~/.julia/packages/BenchmarkTools/0owsb/src/execution.jl:497",
      " [31] _lineartrial(b::BenchmarkTools.Benchmark, p::BenchmarkTools.Parameters; maxevals::Int64, kwargs::Base.Pairs{Symbol, Union{}, Tuple{}, NamedTuple{(), Tuple{}}})",
      "    @ BenchmarkTools ~/.julia/packages/BenchmarkTools/0owsb/src/execution.jl:161",
      " [32] _lineartrial(b::BenchmarkTools.Benchmark, p::BenchmarkTools.Parameters)",
      "    @ BenchmarkTools ~/.julia/packages/BenchmarkTools/0owsb/src/execution.jl:153",
      " [33] #invokelatest#2",
      "    @ ./essentials.jl:716 [inlined]",
      " [34] invokelatest",
      "    @ ./essentials.jl:714 [inlined]",
      " [35] #lineartrial#46",
      "    @ ~/.julia/packages/BenchmarkTools/0owsb/src/execution.jl:35 [inlined]",
      " [36] lineartrial",
      "    @ ~/.julia/packages/BenchmarkTools/0owsb/src/execution.jl:35 [inlined]",
      " [37] tune!(b::BenchmarkTools.Benchmark, p::BenchmarkTools.Parameters; progressid::Nothing, nleaves::Float64, ndone::Float64, verbose::Bool, pad::String, kwargs::Base.Pairs{Symbol, Union{}, Tuple{}, NamedTuple{(), Tuple{}}})",
      "    @ BenchmarkTools ~/.julia/packages/BenchmarkTools/0owsb/src/execution.jl:251",
      " [38] tune! (repeats 2 times)",
      "    @ ~/.julia/packages/BenchmarkTools/0owsb/src/execution.jl:250 [inlined]",
      " [39] eval",
      "    @ ./boot.jl:373 [inlined]",
      " [40] include_string(mapexpr::typeof(REPL.softscope), mod::Module, code::String, filename::String)",
      "    @ Base ./loading.jl:1196"
     ]
    }
   ],
   "source": [
    "eT1 = []\n",
    "eΣ1 = []\n",
    "\n",
    "for i in 1:d\n",
    "    ebm1 = @benchmark exact_low_rank_approximation(M, q, data, $i; stepsize=1/(2^16), max_iter=1)\n",
    "    push!(eT1, mean(ebm1).time / 1e9)\n",
    "    push!(eΣ1, std(ebm1).time / 1e9)\n",
    "end"
   ]
  },
  {
   "cell_type": "code",
   "execution_count": null,
   "metadata": {},
   "outputs": [],
   "source": [
    "eT = []\n",
    "eΣ = []\n",
    "\n",
    "for i in 1:d\n",
    "    ebm = @benchmark exact_low_rank_approximation(M, q, data, $i; stepsize=1/(2^16), max_iter=max_iter)\n",
    "    push!(eT, mean(ebm).time / 1e9)\n",
    "    push!(eΣ, std(ebm).time / 1e9)\n",
    "end"
   ]
  },
  {
   "cell_type": "code",
   "execution_count": null,
   "metadata": {},
   "outputs": [
    {
     "name": "stdout",
     "output_type": "stream",
     "text": [
      "tSVD & $0.02988$ & $0.03314$ & $0.03001$ & $0.02806$ & $0.02998$\\\\ \n",
      "CC-tSVD & $0.04642$ & $0.05252$ & $0.0652$ & $0.07336$ & $0.0799$\\\\ \n",
      "MC-tSVD (1 iteration) & $0.1549$ & $0.1339$ & $0.1288$ & $0.1333$ & $0.1592$\\\\ \n",
      "MC-tSVD (25 iteration) & $1.11$ & $1.355$ & $1.722$ & $1.677$ & $1.793$\\\\ \n"
     ]
    }
   ],
   "source": [
    "# methods above each other and results per rank in colums\n",
    "println(\"tSVD\" * prod([\" & \" * raw\"$\" * \"$(Float16(nT[i]))\" * raw\"$\" for i in 1:d-1]) * raw\"\\\\ \")\n",
    "println(\"CC-tSVD (proposed)\" * prod([\" & \" * raw\"$\" * \"$(Float16(ccT[i]))\" * raw\"$\" for i in 1:d-1]) * raw\"\\\\ \")\n",
    "println(\"MC-tSVD (1 iteration)\" * prod([\" & \" * raw\"$\" * \"$(Float16(eT1[i]))\" * raw\"$\" for i in 1:d-1]) * raw\"\\\\ \")\n",
    "println(\"MC-tSVD\" * prod([\" & \" * raw\"$\" * \"$(Float16(eT[i]))\" * raw\"$\" for i in 1:d-1]) * raw\"\\\\ \")"
   ]
  }
 ],
 "metadata": {
  "kernelspec": {
   "display_name": "Julia 1.7.2",
   "language": "julia",
   "name": "julia-1.7"
  },
  "language_info": {
   "file_extension": ".jl",
   "mimetype": "application/julia",
   "name": "julia",
   "version": "1.7.2"
  },
  "orig_nbformat": 4,
  "vscode": {
   "interpreter": {
    "hash": "31f2aee4e71d21fbe5cf8b01ff0e069b9275f58929596ceb00d14d90e3e16cd6"
   }
  }
 },
 "nbformat": 4,
 "nbformat_minor": 2
}
