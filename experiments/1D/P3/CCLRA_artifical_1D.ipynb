{
 "cells": [
  {
   "cell_type": "markdown",
   "metadata": {},
   "source": [
    "# Low-rank approximation on $\\mathcal{P}(d)$ - the space of $d$-dimensional SPD matrices"
   ]
  },
  {
   "cell_type": "markdown",
   "metadata": {},
   "source": [
    "In this notebook we want to get some intuition in different approaches for computing low-rank approximations for manifold-valued signals"
   ]
  },
  {
   "cell_type": "code",
   "execution_count": 8,
   "metadata": {},
   "outputs": [],
   "source": [
    "using Manifolds\n",
    "using Manopt\n",
    "using LinearAlgebra\n",
    "using Random\n",
    "using Plots\n",
    "using LaTeXStrings"
   ]
  },
  {
   "cell_type": "code",
   "execution_count": 85,
   "metadata": {},
   "outputs": [
    {
     "data": {
      "text/plain": [
       "exact_loss (generic function with 2 methods)"
      ]
     },
     "execution_count": 85,
     "metadata": {},
     "output_type": "execute_result"
    }
   ],
   "source": [
    "include(\"../../../src/decompositions/signals/naive_low_rank_approximation.jl\")\n",
    "include(\"../../../src/decompositions/signals/curvature_corrected_low_rank_approximation.jl\")\n",
    "include(\"../../../src/decompositions/signals/exact_low_rank_approximation.jl\")\n",
    "\n",
    "include(\"../../../src/functions/loss_functions/curvature_corrected_loss.jl\")\n",
    "include(\"../../../src/functions/loss_functions/exact_loss.jl\")"
   ]
  },
  {
   "attachments": {},
   "cell_type": "markdown",
   "metadata": {},
   "source": [
    "### Load data and construct manifold ###"
   ]
  },
  {
   "cell_type": "code",
   "execution_count": 88,
   "metadata": {},
   "outputs": [
    {
     "data": {
      "text/plain": [
       "100"
      ]
     },
     "execution_count": 88,
     "metadata": {},
     "output_type": "execute_result"
    }
   ],
   "source": [
    "# load data\n",
    "M = SymmetricPositiveDefinite(3)\n",
    "d = manifold_dimension(M)\n",
    "n = 100  # 100\n"
   ]
  },
  {
   "cell_type": "code",
   "execution_count": 89,
   "metadata": {},
   "outputs": [
    {
     "name": "stdout",
     "output_type": "stream",
     "text": [
      "[0.0 0.0 0.0; 0.0 1.0 0.0; 0.0 0.0 0.0]"
     ]
    }
   ],
   "source": [
    "e = 1. * Matrix(I, 3, 3)\n",
    "# compute basis\n",
    "Θ = get_basis(M, e, DefaultOrthonormalBasis())\n",
    "#  construct data\n",
    "τ = 2.  # variance\n",
    "σ = .05  # variance\n",
    "Xₑ = Θ.data[4]\n",
    "print(Xₑ)\n",
    "\n",
    "Random.seed!(31)\n",
    "predata = [exp(M, e, sqrt(τ) * randn(1)[1] * Xₑ) for i in 1:n]\n",
    "\n",
    "data = [exp(M, predata[i], random_tangent(M, predata[i], Val(:Gaussian), σ)) for i in 1:n]; # ∈ P(3)^n\n"
   ]
  },
  {
   "cell_type": "code",
   "execution_count": 31,
   "metadata": {},
   "outputs": [],
   "source": [
    "# Export slice image\n",
    "num_export = 10\n",
    "asymptote_export_SPD(\"results/artificial1D_orig.asy\", data=data[1:min(num_export,n)], scale_axes=(2,2,2)); "
   ]
  },
  {
   "attachments": {},
   "cell_type": "markdown",
   "metadata": {},
   "source": [
    "### Construct low rank approximation ###"
   ]
  },
  {
   "cell_type": "code",
   "execution_count": 90,
   "metadata": {},
   "outputs": [],
   "source": [
    "q = mean(M, data)\n",
    "log_q_data = log.(Ref(M), Ref(q), data);  # ∈ T_q P(3)^n"
   ]
  },
  {
   "cell_type": "code",
   "execution_count": 91,
   "metadata": {},
   "outputs": [
    {
     "name": "stdout",
     "output_type": "stream",
     "text": [
      "  0.092107 seconds (184.50 k allocations: 22.621 MiB)\n",
      "Initial  F(x): 1.07408003505 | \n",
      "  0.090800 seconds (184.50 k allocations: 22.621 MiB)\n",
      "# 1     change: 0.003679917 |  F(x): 0.14818842524 | \n",
      "  0.092063 seconds (184.50 k allocations: 22.621 MiB)\n",
      "# 2     change: 0.001352597 |  F(x): 0.02305719338 | \n",
      "The algorithm reached its maximal number of iterations (2).\n",
      "  0.566364 seconds (918.26 k allocations: 92.756 MiB, 47.01% compilation time)\n"
     ]
    }
   ],
   "source": [
    "curvature_corrected_low_rank_approximation(M, q, data, 1; stepsize=1/100000, max_iter=2); "
   ]
  },
  {
   "cell_type": "code",
   "execution_count": 34,
   "metadata": {},
   "outputs": [],
   "source": [
    "# exact_low_rank_approximation(M, q, data, 1; stepsize=1/1000, max_iter=200); "
   ]
  },
  {
   "cell_type": "code",
   "execution_count": 92,
   "metadata": {},
   "outputs": [
    {
     "name": "stdout",
     "output_type": "stream",
     "text": [
      "#1 | computing naive low-rank approximation\n",
      "#1 | computing curvature corrected low-rank approximation\n",
      "  0.089474 seconds (184.50 k allocations: 22.621 MiB)\n",
      "Initial  F(x): 1.07408003505 | \n",
      "  0.100058 seconds (184.50 k allocations: 22.621 MiB)\n",
      "# 1     change: 0.003679917 |  F(x): 0.14818842524 | \n",
      "  0.107042 seconds (184.50 k allocations: 22.621 MiB)\n",
      "# 2     change: 0.001352597 |  F(x): 0.02305719338 | \n",
      "  0.092562 seconds (184.50 k allocations: 22.621 MiB)\n",
      "# 3     change: 0.000497828 |  F(x): 0.00609899385 | \n",
      "  0.116054 seconds (184.50 k allocations: 22.621 MiB, 14.90% gc time)\n",
      "# 4     change: 0.000183553 |  F(x): 0.00379222475 | \n",
      "  0.098818 seconds (184.50 k allocations: 22.621 MiB)\n",
      "# 5     change: 0.000067840 |  F(x): 0.00347687144 | \n",
      "  0.185092 seconds (184.50 k allocations: 22.621 MiB)\n",
      "# 6     change: 0.000025153 |  F(x): 0.00343347165 | \n",
      "  0.117783 seconds (184.50 k allocations: 22.621 MiB)\n",
      "# 7     change: 0.000009366 |  F(x): 0.00342744609 | \n",
      "  0.098260 seconds (184.50 k allocations: 22.621 MiB)\n",
      "# 8     change: 0.000003507 |  F(x): 0.00342659990 | \n",
      "  0.137967 seconds (184.50 k allocations: 22.621 MiB, 31.88% gc time)\n",
      "# 9     change: 0.000001322 |  F(x): 0.00342647932 | \n",
      "  0.092905 seconds (184.50 k allocations: 22.621 MiB)\n",
      "# 10    change: 0.000000503 |  F(x): 0.00342646180 | \n",
      "The algorithm reached its maximal number of iterations (10).\n",
      "  1.331221 seconds (2.27 M allocations: 281.825 MiB, 4.60% gc time)\n",
      "#1 | computing exact low-rank approximation\n",
      "Initial  F(x): 0.13166108791 | \n",
      "# 1     change: 0.000756393 |  F(x): 0.12184377278 | \n",
      "# 2     change: 0.000659314 |  F(x): 0.11319636661 | \n",
      "# 3     change: 0.000582925 |  F(x): 0.10557464829 | \n",
      "# 4     change: 0.000521706 |  F(x): 0.09884787493 | \n",
      "# 5     change: 0.000472171 |  F(x): 0.09290833797 | \n",
      "# 6     change: 0.000431517 |  F(x): 0.08765947310 | \n",
      "# 7     change: 0.000397848 |  F(x): 0.08301938722 | \n",
      "# 8     change: 0.000369640 |  F(x): 0.07891521804 | \n",
      "# 9     change: 0.000345810 |  F(x): 0.07528412426 | \n",
      "# 10    change: 0.000325491 |  F(x): 0.07207043499 | \n",
      "The algorithm reached its maximal number of iterations (10).\n",
      "#2 | computing naive low-rank approximation\n",
      "#2 | computing curvature corrected low-rank approximation\n",
      "  0.193335 seconds (362.10 k allocations: 44.505 MiB, 7.91% gc time)\n",
      "Initial  F(x): 0.49519120482 | \n",
      "  0.200972 seconds (362.10 k allocations: 44.505 MiB, 6.88% gc time)\n",
      "# 1     change: 0.002454865 |  F(x): 0.07683012196 | \n",
      "  0.203596 seconds (362.10 k allocations: 44.505 MiB, 7.68% gc time)\n",
      "# 2     change: 0.000953644 |  F(x): 0.01368714748 | \n",
      "  0.271260 seconds (362.10 k allocations: 44.505 MiB, 5.29% gc time)\n",
      "# 3     change: 0.000370685 |  F(x): 0.00414374290 | \n",
      "  0.205977 seconds (362.10 k allocations: 44.505 MiB)\n",
      "# 4     change: 0.000144305 |  F(x): 0.00269621899 | \n",
      "  0.238045 seconds (362.10 k allocations: 44.505 MiB, 5.52% gc time)\n",
      "# 5     change: 0.000056399 |  F(x): 0.00247462430 | \n",
      "  0.214175 seconds (362.10 k allocations: 44.505 MiB)\n",
      "# 6     change: 0.000022266 |  F(x): 0.00243989459 | \n",
      "  0.194822 seconds (362.10 k allocations: 44.505 MiB, 5.80% gc time)\n",
      "# 7     change: 0.000009010 |  F(x): 0.00243413488 | \n",
      "  0.216555 seconds (362.10 k allocations: 44.505 MiB, 5.55% gc time)\n",
      "# 8     change: 0.000003846 |  F(x): 0.00243305827 | \n",
      "  0.199862 seconds (362.10 k allocations: 44.505 MiB)\n",
      "# 9     change: 0.000001802 |  F(x): 0.00243281304 | \n",
      "  0.192973 seconds (362.10 k allocations: 44.505 MiB, 5.32% gc time)\n",
      "# 10    change: 0.000000946 |  F(x): 0.00243274303 | \n",
      "The algorithm reached its maximal number of iterations (10).\n",
      "  4.107809 seconds (10.18 M allocations: 832.607 MiB, 3.95% gc time, 40.51% compilation time)\n",
      "#2 | computing exact low-rank approximation\n",
      "Initial  F(x): 0.09762949978 | \n",
      "# 1     change: 0.000463829 |  F(x): 0.09134991621 | \n",
      "# 2     change: 0.000421311 |  F(x): 0.08572639783 | \n",
      "# 3     change: 0.000386826 |  F(x): 0.08069982064 | \n",
      "# 4     change: 0.000357946 |  F(x): 0.07620497050 | \n",
      "# 5     change: 0.000333656 |  F(x): 0.07219022125 | \n",
      "# 6     change: 0.000312930 |  F(x): 0.06860397831 | \n",
      "# 7     change: 0.000295189 |  F(x): 0.06540253215 | \n",
      "# 8     change: 0.000279860 |  F(x): 0.06254423462 | \n",
      "# 9     change: 0.000266570 |  F(x): 0.05999266435 | \n",
      "# 10    change: 0.000254968 |  F(x): 0.05771407556 | \n",
      "The algorithm reached its maximal number of iterations (10).\n",
      "#3 | computing naive low-rank approximation\n",
      "#3 | computing curvature corrected low-rank approximation\n",
      "  0.280852 seconds (539.70 k allocations: 66.386 MiB, 5.29% gc time)\n",
      "Initial  F(x): 0.19309144345 | \n",
      "  0.291280 seconds (539.70 k allocations: 66.386 MiB, 4.52% gc time)\n",
      "# 1     change: 0.001428776 |  F(x): 0.04338169821 | \n",
      "  0.288017 seconds (539.70 k allocations: 66.386 MiB, 5.19% gc time)\n",
      "# 2     change: 0.000666907 |  F(x): 0.01076365806 | \n",
      "  0.288756 seconds (539.70 k allocations: 66.386 MiB, 4.45% gc time)\n",
      "# 3     change: 0.000311301 |  F(x): 0.00365657419 | \n",
      "  0.285991 seconds (539.70 k allocations: 66.386 MiB, 3.83% gc time)\n",
      "# 4     change: 0.000145313 |  F(x): 0.00210797212 | \n",
      "  0.282290 seconds (539.70 k allocations: 66.386 MiB, 3.74% gc time)\n",
      "# 5     change: 0.000067832 |  F(x): 0.00177052780 | \n",
      "  0.289028 seconds (539.70 k allocations: 66.386 MiB, 3.42% gc time)\n",
      "# 6     change: 0.000031665 |  F(x): 0.00169699443 | \n",
      "  0.325964 seconds (539.70 k allocations: 66.386 MiB, 3.14% gc time)\n",
      "# 7     change: 0.000014782 |  F(x): 0.00168096929 | \n",
      "  0.283992 seconds (539.70 k allocations: 66.386 MiB, 3.38% gc time)\n",
      "# 8     change: 0.000006901 |  F(x): 0.00167747639 | \n",
      "  0.312867 seconds (539.70 k allocations: 66.386 MiB, 3.78% gc time)\n",
      "# 9     change: 0.000003222 |  F(x): 0.00167671484 | \n",
      "  0.321074 seconds (539.70 k allocations: 66.386 MiB)\n",
      "# 10    change: 0.000001505 |  F(x): 0.00167654870 | \n",
      "The algorithm reached its maximal number of iterations (10).\n",
      "  4.897833 seconds (12.13 M allocations: 1.048 GiB, 3.78% gc time, 31.65% compilation time)\n",
      "#3 | computing exact low-rank approximation\n",
      "Initial  F(x): 0.06375254430 | \n",
      "# 1     change: 0.000323574 |  F(x): 0.06015844028 | \n",
      "# 2     change: 0.000302795 |  F(x): 0.05683933122 | \n",
      "# 3     change: 0.000286165 |  F(x): 0.05377796096 | \n",
      "# 4     change: 0.000271835 |  F(x): 0.05094878029 | \n",
      "# 5     change: 0.000258896 |  F(x): 0.04833429561 | \n",
      "# 6     change: 0.000247075 |  F(x): 0.04591500159 | \n",
      "# 7     change: 0.000236083 |  F(x): 0.04367555455 | \n",
      "# 8     change: 0.000225814 |  F(x): 0.04160059389 | \n",
      "# 9     change: 0.000216148 |  F(x): 0.03967714846 | \n",
      "# 10    change: 0.000207025 |  F(x): 0.03789287574 | \n",
      "The algorithm reached its maximal number of iterations (10).\n",
      "#4 | computing naive low-rank approximation\n",
      "#4 | computing curvature corrected low-rank approximation\n",
      "  0.372670 seconds (717.30 k allocations: 88.271 MiB, 4.23% gc time)\n",
      "Initial  F(x): 0.02183620839 | \n",
      "  0.384783 seconds (717.30 k allocations: 88.271 MiB, 3.60% gc time)\n",
      "# 1     change: 0.000411050 |  F(x): 0.00839047332 | \n",
      "  0.403048 seconds (717.30 k allocations: 88.271 MiB, 7.77% gc time)\n",
      "# 2     change: 0.000243686 |  F(x): 0.00365062941 | \n",
      "  0.383597 seconds (717.30 k allocations: 88.271 MiB, 3.49% gc time)\n",
      "# 3     change: 0.000145706 |  F(x): 0.00194975783 | \n",
      "  0.380801 seconds (717.30 k allocations: 88.271 MiB, 2.62% gc time)\n",
      "# 4     change: 0.000088031 |  F(x): 0.00132615374 | \n",
      "  0.380014 seconds (717.30 k allocations: 88.271 MiB, 2.48% gc time)\n",
      "# 5     change: 0.000053835 |  F(x): 0.00109176211 | \n",
      "  0.380902 seconds (717.30 k allocations: 88.271 MiB, 2.49% gc time)\n",
      "# 6     change: 0.000033369 |  F(x): 0.00100121637 | \n",
      "  0.385261 seconds (717.30 k allocations: 88.271 MiB, 2.72% gc time)\n",
      "# 7     change: 0.000020980 |  F(x): 0.00096522435 | \n",
      "  0.449486 seconds (717.30 k allocations: 88.271 MiB, 2.11% gc time)\n",
      "# 8     change: 0.000013380 |  F(x): 0.00095050837 | \n",
      "  0.420445 seconds (717.30 k allocations: 88.271 MiB, 2.43% gc time)\n",
      "# 9     change: 0.000008648 |  F(x): 0.00094433107 | \n",
      "  0.397263 seconds (717.30 k allocations: 88.271 MiB, 2.36% gc time)\n",
      "# 10    change: 0.000005656 |  F(x): 0.00094167690 | \n",
      "The algorithm reached its maximal number of iterations (10).\n",
      "  6.870922 seconds (15.40 M allocations: 1.343 GiB, 3.51% gc time, 35.24% compilation time)\n",
      "#4 | computing exact low-rank approximation\n",
      "Initial  F(x): 0.01637417778 | \n",
      "# 1     change: 0.000100996 |  F(x): 0.01633086277 | \n",
      "# 2     change: 0.000089141 |  F(x): 0.01628602051 | \n",
      "# 3     change: 0.000084383 |  F(x): 0.01624456927 | \n",
      "# 4     change: 0.000082126 |  F(x): 0.01620371936 | \n",
      "# 5     change: 0.000080915 |  F(x): 0.01616525367 | \n",
      "# 6     change: 0.000080169 |  F(x): 0.01612794786 | \n",
      "# 7     change: 0.000079623 |  F(x): 0.01609248535 | \n",
      "# 8     change: 0.000079173 |  F(x): 0.01605832367 | \n",
      "# 9     change: 0.000078770 |  F(x): 0.01602570679 | \n",
      "# 10    change: 0.000078395 |  F(x): 0.01599437762 | \n",
      "The algorithm reached its maximal number of iterations (10).\n",
      "#5 | computing naive low-rank approximation\n",
      "#5 | computing curvature corrected low-rank approximation\n",
      "  0.542752 seconds (894.90 k allocations: 110.152 MiB, 3.20% gc time)\n",
      "Initial  F(x): 0.00764220904 | \n",
      "  0.490250 seconds (894.90 k allocations: 110.152 MiB, 5.28% gc time)\n",
      "# 1     change: 0.000218083 |  F(x): 0.00367175641 | \n",
      "  0.493012 seconds (894.90 k allocations: 110.152 MiB, 6.20% gc time)\n",
      "# 2     change: 0.000146106 |  F(x): 0.00188917076 | \n",
      "  0.473191 seconds (894.90 k allocations: 110.152 MiB, 2.42% gc time)\n",
      "# 3     change: 0.000097950 |  F(x): 0.00108778222 | \n",
      "  0.483562 seconds (894.90 k allocations: 110.152 MiB, 4.09% gc time)\n",
      "# 4     change: 0.000065712 |  F(x): 0.00072699786 | \n",
      "  0.472689 seconds (894.90 k allocations: 110.152 MiB, 2.16% gc time)\n",
      "# 5     change: 0.000044117 |  F(x): 0.00056433299 | \n",
      "  0.483195 seconds (894.90 k allocations: 110.152 MiB, 4.03% gc time)\n",
      "# 6     change: 0.000029641 |  F(x): 0.00049087981 | \n",
      "  0.472471 seconds (894.90 k allocations: 110.152 MiB, 1.99% gc time)\n",
      "# 7     change: 0.000019931 |  F(x): 0.00045765773 | \n",
      "  0.550970 seconds (894.90 k allocations: 110.152 MiB, 3.64% gc time)\n",
      "# 8     change: 0.000013413 |  F(x): 0.00044260656 | \n",
      "  0.469812 seconds (894.90 k allocations: 110.152 MiB, 2.00% gc time)\n",
      "# 9     change: 0.000009034 |  F(x): 0.00043577583 | \n",
      "  0.540294 seconds (894.90 k allocations: 110.152 MiB, 3.93% gc time)\n",
      "# 10    change: 0.000006091 |  F(x): 0.00043267026 | \n",
      "The algorithm reached its maximal number of iterations (10).\n",
      "  7.071490 seconds (14.41 M allocations: 1.439 GiB, 3.49% gc time, 21.23% compilation time)\n",
      "#5 | computing exact low-rank approximation\n",
      "Initial  F(x): 0.00681036322 | \n",
      "# 1     change: 0.000061750 |  F(x): 0.00667504777 | \n",
      "# 2     change: 0.000046032 |  F(x): 0.00654390243 | \n",
      "# 3     change: 0.000040046 |  F(x): 0.00641897924 | \n",
      "# 4     change: 0.000037049 |  F(x): 0.00629880185 | \n",
      "# 5     change: 0.000035315 |  F(x): 0.00618393800 | \n",
      "# 6     change: 0.000034177 |  F(x): 0.00607363687 | \n",
      "# 7     change: 0.000033296 |  F(x): 0.00596798890 | \n",
      "# 8     change: 0.000032552 |  F(x): 0.00586656987 | \n",
      "# 9     change: 0.000031875 |  F(x): 0.00576930010 | \n",
      "# 10    change: 0.000031247 |  F(x): 0.00567590127 | \n",
      "The algorithm reached its maximal number of iterations (10).\n",
      "#6 | computing naive low-rank approximation\n",
      "#6 | computing curvature corrected low-rank approximation\n",
      "  0.616140 seconds (1.07 M allocations: 132.036 MiB, 4.88% gc time)\n",
      "Initial  F(x): 0.00000000000 | \n",
      "The algorithm reached approximately critical point after 0 iterations; the gradient norm (1.0535913419209763e-10) is less than 1.0e-8.\n",
      "  1.129011 seconds (2.02 M allocations: 185.758 MiB, 3.99% gc time, 43.83% compilation time)\n",
      "#6 | computing exact low-rank approximation\n",
      "Initial  F(x): 0.00000000000 | \n",
      "The algorithm reached approximately critical point after 0 iterations; the gradient norm (2.035873684961762e-12) is less than 1.0e-8.\n"
     ]
    }
   ],
   "source": [
    "max_iter = 10\n",
    "\n",
    "nR_q = []\n",
    "nU = []\n",
    "ccR_q = []\n",
    "ccU = []\n",
    "eR_q = []\n",
    "eU = []\n",
    "for i in 1:d\n",
    "    println(\"#$(i) | computing naive low-rank approximation\")\n",
    "    nRr_q, nUr = naive_low_rank_approximation(M, q, data, i)\n",
    "    push!(nR_q, nRr_q)\n",
    "    push!(nU, nUr)\n",
    "    println(\"#$(i) | computing curvature corrected low-rank approximation\")\n",
    "    ccRr_q, ccUr = curvature_corrected_low_rank_approximation(M, q, data, i; stepsize=1/100000, max_iter=max_iter); \n",
    "    push!(ccR_q, ccRr_q)\n",
    "    push!(ccU, ccUr)\n",
    "    println(\"#$(i) | computing exact low-rank approximation\")\n",
    "    eRr_q, eUr = exact_low_rank_approximation(M, q, data, i; stepsize=1/1000, max_iter=max_iter); \n",
    "    push!(eR_q, eRr_q)\n",
    "    push!(eU, eUr)\n",
    "end"
   ]
  },
  {
   "cell_type": "code",
   "execution_count": 93,
   "metadata": {},
   "outputs": [],
   "source": [
    "ref_distance = sum(distance.(Ref(M), Ref(q), data).^2)\n",
    "\n",
    "naive_tangent_distances_r = zeros(d)\n",
    "predicted_naive_distances_r= zeros(d)\n",
    "true_naive_distances_r= zeros(d)\n",
    "\n",
    "curvature_corrected_tangent_distances_r = zeros(d)\n",
    "predicted_curvature_corrected_distances_r = zeros(d)\n",
    "true_curvature_corrected_distances_r = zeros(d)\n",
    "\n",
    "exact_tangent_distances_r = zeros(d)\n",
    "exact_distances_r= zeros(d)\n",
    "\n",
    "for rank in 1:d\n",
    "    naive_log_q_data_r = Symmetric.([sum([nR_q[rank][i] * nU[rank][k,i] for i in 1:rank]) for k in 1:n])\n",
    "    curvature_corrected_log_q_data_r = Symmetric.([sum([ccR_q[rank][i] * ccU[rank][k,i] for i in 1:rank]) for k in 1:n])\n",
    "    exact_log_q_data_r = Symmetric.([sum([eR_q[rank][i] * eU[rank][k,i] for i in 1:rank]) for k in 1:n])\n",
    "    \n",
    "    # expoentiate back\n",
    "    naive_data_r = exp.(Ref(M), Ref(q), naive_log_q_data_r)\n",
    "    curvature_corrected_data_r = exp.(Ref(M), Ref(q), curvature_corrected_log_q_data_r)\n",
    "    exact_data_r = exp.(Ref(M), Ref(q), exact_log_q_data_r)\n",
    "\n",
    "\n",
    "    # compute relative tangent space error\n",
    "    naive_tangent_distances_r[rank] = sum(norm.(Ref(M), Ref(q),  log_q_data - naive_log_q_data_r).^2) / ref_distance\n",
    "    curvature_corrected_tangent_distances_r[rank] = sum(norm.(Ref(M), Ref(q),  log_q_data - curvature_corrected_log_q_data_r).^2) / ref_distance\n",
    "    exact_tangent_distances_r[rank] = sum(norm.(Ref(M), Ref(q),  log_q_data - exact_log_q_data_r).^2) / ref_distance\n",
    "\n",
    "\n",
    "    # compute relative manifold error\n",
    "    predicted_naive_distances_r[rank] = curvature_corrected_loss(M, q, data, naive_log_q_data_r)\n",
    "    true_naive_distances_r[rank] = exact_loss(M, q, data, naive_log_q_data_r)\n",
    "    predicted_curvature_corrected_distances_r[rank] = curvature_corrected_loss(M, q, data, curvature_corrected_log_q_data_r)\n",
    "    true_curvature_corrected_distances_r[rank] = exact_loss(M, q, data, curvature_corrected_log_q_data_r)\n",
    "    exact_distances_r[rank] = exact_loss(M, q, data, exact_log_q_data_r)\n",
    "end"
   ]
  },
  {
   "cell_type": "code",
   "execution_count": 94,
   "metadata": {},
   "outputs": [
    {
     "data": {
      "text/plain": [
       "\"/Users/wdiepeveen/Documents/PhD/Projects/8 - Manifold-valued tensor decomposition/src/manifold-valued-tensors/experiments/1D/P3/results/artificial1D_logerrors_by_rank.png\""
      ]
     },
     "execution_count": 94,
     "metadata": {},
     "output_type": "execute_result"
    }
   ],
   "source": [
    "# We want plots with (1) the lower bound error, (2) the actually uncorrected manifold error and (3) the corrected manifold error\n",
    "plot(1:d, [naive_tangent_distances_r, true_naive_distances_r, true_curvature_corrected_distances_r, exact_distances_r], label = [\"theoretical lower bound\" \"naive\" \"curvature corrected\" \"exact\"], ylims=(0,1), xlims=(1,d),xaxis=(\"approximation rank\"), yaxis=(L\"$\\varepsilon_{rel}$\"))\n",
    "savefig(\"results/artificial1D_errors_by_rank.png\")\n",
    "plot(1:d, [naive_tangent_distances_r .+ 1e-16, true_naive_distances_r .+ 1e-16, true_curvature_corrected_distances_r .+ 1e-16, exact_distances_r .+ 1e-16], label = [\"theoretical lower bound\" \"naive\" \"curvature corrected\" \"exact\"], ylims=(1e-16,1), xlims=(1,d), xaxis=(\"approximation rank\"), yaxis=(L\"$\\varepsilon_{rel}$\", :log), legend=:bottomleft)\n",
    "savefig(\"results/artificial1D_logerrors_by_rank.png\")"
   ]
  },
  {
   "cell_type": "code",
   "execution_count": 95,
   "metadata": {},
   "outputs": [
    {
     "data": {
      "text/plain": [
       "\"/Users/wdiepeveen/Documents/PhD/Projects/8 - Manifold-valued tensor decomposition/src/manifold-valued-tensors/experiments/1D/P3/results/artificial1D_logdiscrepancy_by_rank.png\""
      ]
     },
     "execution_count": 95,
     "metadata": {},
     "output_type": "execute_result"
    }
   ],
   "source": [
    "# It would be nice to also have a plot that tells us something about the error in predicting the manifold loss (using CCL) and the actual loss \n",
    "# (1) for the naive approach (2) for the curvature corrected approach\n",
    "plot(1:d, [(predicted_naive_distances_r .+ 1e-16) ./ (true_naive_distances_r .+ 1e-16), (predicted_curvature_corrected_distances_r .+ 1e-16) ./ (true_curvature_corrected_distances_r .+ 1e-16)], label = [\"discrepancy in initialisation\" \"discrepancy in solutions\"], xlims=(1,d),xaxis=(\"approximation rank\"), yaxis=(L\"$\\delta_{rel}$\"))\n",
    "savefig(\"results/artificial1D_discrepancy_by_rank.png\")\n",
    "plot(1:d, [(predicted_naive_distances_r .+ 1e-16) ./ (true_naive_distances_r .+ 1e-16), (predicted_curvature_corrected_distances_r .+ 1e-16) ./ (true_curvature_corrected_distances_r .+ 1e-16)], label = [\"discrepancy in initialisation\" \"discrepancy in solutions\"], xlims=(1,d), xaxis=(\"approximation rank\"), yaxis=(L\"$\\delta_{rel}$\", :log), legend=:bottomleft)\n",
    "savefig(\"results/artificial1D_logdiscrepancy_by_rank.png\")"
   ]
  }
 ],
 "metadata": {
  "kernelspec": {
   "display_name": "Julia 1.7.2",
   "language": "julia",
   "name": "julia-1.7"
  },
  "language_info": {
   "file_extension": ".jl",
   "mimetype": "application/julia",
   "name": "julia",
   "version": "1.7.2"
  },
  "orig_nbformat": 4,
  "vscode": {
   "interpreter": {
    "hash": "31f2aee4e71d21fbe5cf8b01ff0e069b9275f58929596ceb00d14d90e3e16cd6"
   }
  }
 },
 "nbformat": 4,
 "nbformat_minor": 2
}
