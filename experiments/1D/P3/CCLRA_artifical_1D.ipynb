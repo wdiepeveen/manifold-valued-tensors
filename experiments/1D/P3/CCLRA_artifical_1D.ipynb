{
 "cells": [
  {
   "cell_type": "markdown",
   "metadata": {},
   "source": [
    "# Low-rank approximation on $\\mathcal{P}(d)$ - the space of $d$-dimensional SPD matrices"
   ]
  },
  {
   "cell_type": "markdown",
   "metadata": {},
   "source": [
    "In this notebook we want to get some intuition in different approaches for computing low-rank approximations for manifold-valued signals"
   ]
  },
  {
   "cell_type": "code",
   "execution_count": 1,
   "metadata": {},
   "outputs": [],
   "source": [
    "using Manifolds\n",
    "using Manopt\n",
    "using LinearAlgebra\n",
    "using Random\n",
    "using Plots\n",
    "using LaTeXStrings\n",
    "using BenchmarkTools"
   ]
  },
  {
   "cell_type": "code",
   "execution_count": 20,
   "metadata": {},
   "outputs": [
    {
     "data": {
      "text/plain": [
       "exact_loss (generic function with 2 methods)"
      ]
     },
     "execution_count": 20,
     "metadata": {},
     "output_type": "execute_result"
    }
   ],
   "source": [
    "include(\"../../../src/decompositions/signals/naive_low_rank_approximation.jl\")\n",
    "include(\"../../../src/decompositions/signals/curvature_corrected_low_rank_approximation.jl\")\n",
    "include(\"../../../src/decompositions/signals/exact_low_rank_approximation.jl\")\n",
    "\n",
    "include(\"../../../src/functions/loss_functions/curvature_corrected_loss.jl\")\n",
    "include(\"../../../src/functions/loss_functions/exact_loss.jl\")"
   ]
  },
  {
   "attachments": {},
   "cell_type": "markdown",
   "metadata": {},
   "source": [
    "### Load data and construct manifold ###"
   ]
  },
  {
   "cell_type": "code",
   "execution_count": 3,
   "metadata": {},
   "outputs": [
    {
     "data": {
      "text/plain": [
       "100"
      ]
     },
     "execution_count": 3,
     "metadata": {},
     "output_type": "execute_result"
    }
   ],
   "source": [
    "# load data\n",
    "M = SymmetricPositiveDefinite(3)\n",
    "d = manifold_dimension(M)\n",
    "n = 100  # 100\n"
   ]
  },
  {
   "cell_type": "code",
   "execution_count": 4,
   "metadata": {},
   "outputs": [
    {
     "name": "stdout",
     "output_type": "stream",
     "text": [
      "[0.0 0.0 0.0; 0.0 1.0 0.0; 0.0 0.0 0.0]"
     ]
    }
   ],
   "source": [
    "e = 1. * Matrix(I, 3, 3)\n",
    "# compute basis\n",
    "Θ = get_basis(M, e, DefaultOrthonormalBasis())\n",
    "#  construct data\n",
    "τ = 2.  # variance\n",
    "σ = .05  # variance\n",
    "Xₑ = Θ.data[4]\n",
    "print(Xₑ)\n",
    "\n",
    "Random.seed!(31)\n",
    "predata = [exp(M, e, sqrt(τ) * randn(1)[1] * Xₑ) for i in 1:n]\n",
    "\n",
    "data = [exp(M, predata[i], random_tangent(M, predata[i], Val(:Gaussian), σ)) for i in 1:n]; # ∈ P(3)^n\n"
   ]
  },
  {
   "cell_type": "code",
   "execution_count": 32,
   "metadata": {},
   "outputs": [],
   "source": [
    "# Export slice image\n",
    "num_export = 10\n",
    "asymptote_export_SPD(\"results/artificial1D_orig.asy\", data=data[1:min(num_export,n)], scale_axes=(2,2,2)); "
   ]
  },
  {
   "attachments": {},
   "cell_type": "markdown",
   "metadata": {},
   "source": [
    "### Construct low rank approximation ###"
   ]
  },
  {
   "cell_type": "code",
   "execution_count": 5,
   "metadata": {},
   "outputs": [],
   "source": [
    "q = mean(M, data)\n",
    "log_q_data = log.(Ref(M), Ref(q), data);  # ∈ T_q P(3)^n"
   ]
  },
  {
   "cell_type": "code",
   "execution_count": 8,
   "metadata": {},
   "outputs": [
    {
     "data": {
      "text/plain": [
       "(([[0.17525404284891413 -0.287957326702762 0.14872841784557383; -0.28795732670276203 -0.00010583998011175689 0.2667710267880373; 0.14872841784557386 0.2667710267880373 0.15378791440207504], [0.13209193428322943 0.09619096703363013 0.03361047693778811; 0.09619096703363016 -22.690965378102366 0.07797447309149758; 0.03361047693778812 0.07797447309149758 0.03476301769969326]], [0.04141185945717856 0.043589454988513694; -0.062377171919476435 0.06746220792835492; … ; 0.08428851980435229 -0.04426547676489212; 0.09977091731476738 0.09542655939149962]), [0.049940970415489165, 0.019723246782690336, 0.05663330241992408, 0.011140240157969297, 0.05555910194147775, 0.013479927280286783, 0.057924414731575044, 0.010207364781930284, 0.05457367466117646, 0.015238115241389493])"
      ]
     },
     "execution_count": 8,
     "metadata": {},
     "output_type": "execute_result"
    }
   ],
   "source": [
    "(eRr_q, eUr), costs = exact_low_rank_approximation(M, q, data, 2; stepsize=1/10000, max_iter=10)"
   ]
  },
  {
   "cell_type": "code",
   "execution_count": 31,
   "metadata": {},
   "outputs": [
    {
     "data": {
      "text/plain": [
       "10-element Vector{Float64}:\n",
       " 0.05179777061223446\n",
       " 0.015948606491658798\n",
       " 0.05660493646913368\n",
       " 0.009919243079205645\n",
       " 0.05294981080865168\n",
       " 0.01597051307193173\n",
       " 0.05776102150791481\n",
       " 0.0090382802715633\n",
       " 0.051570914309466524\n",
       " 0.018407499028757636"
      ]
     },
     "execution_count": 31,
     "metadata": {},
     "output_type": "execute_result"
    }
   ],
   "source": [
    "# costs"
   ]
  },
  {
   "cell_type": "code",
   "execution_count": 24,
   "metadata": {},
   "outputs": [
    {
     "name": "stdout",
     "output_type": "stream",
     "text": [
      "#1 | computing naive low-rank approximation\n",
      "#1 | computing curvature corrected low-rank approximation\n",
      "#1 | computing exact low-rank approximation\n",
      "#2 | computing naive low-rank approximation\n",
      "#2 | computing curvature corrected low-rank approximation\n",
      "#2 | computing exact low-rank approximation\n",
      "#3 | computing naive low-rank approximation\n",
      "#3 | computing curvature corrected low-rank approximation\n",
      "#3 | computing exact low-rank approximation\n",
      "#4 | computing naive low-rank approximation\n",
      "#4 | computing curvature corrected low-rank approximation\n",
      "#4 | computing exact low-rank approximation\n",
      "#5 | computing naive low-rank approximation\n",
      "#5 | computing curvature corrected low-rank approximation\n",
      "#5 | computing exact low-rank approximation\n",
      "#6 | computing naive low-rank approximation\n",
      "#6 | computing curvature corrected low-rank approximation\n",
      "#6 | computing exact low-rank approximation\n"
     ]
    }
   ],
   "source": [
    "max_iter = 50\n",
    "\n",
    "nR_q = []\n",
    "nU = []\n",
    "ccR_q = []\n",
    "ccU = []\n",
    "eR_q = []\n",
    "eU = []\n",
    "eCosts = []\n",
    "for i in 1:d  \n",
    "    println(\"#$(i) | computing naive low-rank approximation\")\n",
    "    nRr_q, nUr = naive_low_rank_approximation(M, q, data, i)\n",
    "    push!(nR_q, nRr_q)\n",
    "    push!(nU, nUr)\n",
    "    println(\"#$(i) | computing curvature corrected low-rank approximation\")\n",
    "    ccRr_q, ccUr = curvature_corrected_low_rank_approximation(M, q, data, i); \n",
    "    push!(ccR_q, ccRr_q)\n",
    "    push!(ccU, ccUr)\n",
    "    println(\"#$(i) | computing exact low-rank approximation\")\n",
    "    (eRr_q, eUr), eCostsr = exact_low_rank_approximation(M, q, data, i; stepsize=1/100000, max_iter=max_iter); \n",
    "    push!(eR_q, eRr_q)\n",
    "    push!(eU, eUr)\n",
    "    push!(eCosts, eCostsr)\n",
    "end"
   ]
  },
  {
   "cell_type": "code",
   "execution_count": 25,
   "metadata": {},
   "outputs": [],
   "source": [
    "ref_distance = sum(distance.(Ref(M), Ref(q), data).^2)\n",
    "\n",
    "naive_tangent_distances_r = zeros(d)\n",
    "predicted_naive_distances_r= zeros(d)\n",
    "true_naive_distances_r= zeros(d)\n",
    "\n",
    "curvature_corrected_tangent_distances_r = zeros(d)\n",
    "predicted_curvature_corrected_distances_r = zeros(d)\n",
    "true_curvature_corrected_distances_r = zeros(d)\n",
    "\n",
    "exact_tangent_distances_r = zeros(d)\n",
    "exact_distances_r= zeros(d)\n",
    "\n",
    "for rank in 1:d\n",
    "    naive_log_q_data_r = Symmetric.([sum([nR_q[rank][i] * nU[rank][k,i] for i in 1:rank]) for k in 1:n])\n",
    "    curvature_corrected_log_q_data_r = Symmetric.([sum([ccR_q[rank][i] * ccU[rank][k,i] for i in 1:rank]) for k in 1:n])\n",
    "    exact_log_q_data_r = Symmetric.([sum([eR_q[rank][i] * eU[rank][k,i] for i in 1:rank]) for k in 1:n])\n",
    "    \n",
    "    # expoentiate back\n",
    "    naive_data_r = exp.(Ref(M), Ref(q), naive_log_q_data_r)\n",
    "    curvature_corrected_data_r = exp.(Ref(M), Ref(q), curvature_corrected_log_q_data_r)\n",
    "    exact_data_r = exp.(Ref(M), Ref(q), exact_log_q_data_r)\n",
    "\n",
    "\n",
    "    # compute relative tangent space error\n",
    "    naive_tangent_distances_r[rank] = sum(norm.(Ref(M), Ref(q),  log_q_data - naive_log_q_data_r).^2) / ref_distance\n",
    "    curvature_corrected_tangent_distances_r[rank] = sum(norm.(Ref(M), Ref(q),  log_q_data - curvature_corrected_log_q_data_r).^2) / ref_distance\n",
    "    exact_tangent_distances_r[rank] = sum(norm.(Ref(M), Ref(q),  log_q_data - exact_log_q_data_r).^2) / ref_distance\n",
    "\n",
    "\n",
    "    # compute relative manifold error\n",
    "    predicted_naive_distances_r[rank] = curvature_corrected_loss(M, q, data, naive_log_q_data_r)\n",
    "    true_naive_distances_r[rank] = exact_loss(M, q, data, naive_log_q_data_r)\n",
    "    predicted_curvature_corrected_distances_r[rank] = curvature_corrected_loss(M, q, data, curvature_corrected_log_q_data_r)\n",
    "    true_curvature_corrected_distances_r[rank] = exact_loss(M, q, data, curvature_corrected_log_q_data_r)\n",
    "    exact_distances_r[rank] = exact_loss(M, q, data, exact_log_q_data_r)\n",
    "    \n",
    "end"
   ]
  },
  {
   "cell_type": "code",
   "execution_count": 26,
   "metadata": {},
   "outputs": [
    {
     "data": {
      "text/plain": [
       "\"/Users/wdiepeveen/Documents/PhD/Projects/8 - Manifold-valued tensor decomposition/src/manifold-valued-tensors/experiments/1D/P3/results/artificial1D_exact_iterate_loss.png\""
      ]
     },
     "execution_count": 26,
     "metadata": {},
     "output_type": "execute_result"
    }
   ],
   "source": [
    "# We want plots with (1) the lower bound error, (2) the actually uncorrected manifold error and (3) the corrected manifold error\n",
    "plot(1:d, [naive_tangent_distances_r, true_naive_distances_r, true_curvature_corrected_distances_r, exact_distances_r], label = [\"theoretical lower bound\" \"naive\" \"curvature corrected\" \"exact\"], ylims=(0,1), xlims=(1,d),xaxis=(\"approximation rank\"), yaxis=(L\"$\\varepsilon_{rel}$\"))\n",
    "savefig(\"results/artificial1D_errors_by_rank.png\")\n",
    "plot(1:d, [naive_tangent_distances_r .+ 1e-16, true_naive_distances_r .+ 1e-16, true_curvature_corrected_distances_r .+ 1e-16, exact_distances_r .+ 1e-16], label = [\"theoretical lower bound\" \"naive\" \"curvature corrected\" \"exact\"], ylims=(1e-16,1), xlims=(1,d), xaxis=(\"approximation rank\"), yaxis=(L\"$\\varepsilon_{rel}$\", :log), legend=:bottomleft)\n",
    "savefig(\"results/artificial1D_logerrors_by_rank.png\")\n",
    "for i in 1:d-1\n",
    "    if i == 1\n",
    "        plot(1:length(eCosts[1]), eCosts[1], label = \"rank 1\", ylims=(1e-4,1), yaxis=(L\"$\\varepsilon_{rel}$\", :log))\n",
    "    else\n",
    "        plot!(1:length(eCosts[i]), eCosts[i], label = \"rank $(i)\", ylims=(1e-4,1), yaxis=(L\"$\\varepsilon_{rel}$\", :log))\n",
    "    end\n",
    "end\n",
    "savefig(\"results/artificial1D_exact_iterate_loss.png\")"
   ]
  },
  {
   "cell_type": "code",
   "execution_count": null,
   "metadata": {},
   "outputs": [
    {
     "data": {
      "text/plain": [
       "\"/Users/wdiepeveen/Documents/PhD/Projects/8 - Manifold-valued tensor decomposition/src/manifold-valued-tensors/experiments/1D/P3/results/artificial1D_logdiscrepancy_by_rank.png\""
      ]
     },
     "execution_count": 39,
     "metadata": {},
     "output_type": "execute_result"
    }
   ],
   "source": [
    "# It would be nice to also have a plot that tells us something about the error in predicting the manifold loss (using CCL) and the actual loss \n",
    "# (1) for the naive approach (2) for the curvature corrected approach\n",
    "plot(1:d, [(predicted_naive_distances_r .+ 1e-16) ./ (true_naive_distances_r .+ 1e-16), (predicted_curvature_corrected_distances_r .+ 1e-16) ./ (true_curvature_corrected_distances_r .+ 1e-16)], label = [\"discrepancy in initialisation\" \"discrepancy in solutions\"], xlims=(1,d),xaxis=(\"approximation rank\"), yaxis=(L\"$\\delta_{rel}$\"))\n",
    "savefig(\"results/artificial1D_discrepancy_by_rank.png\")\n",
    "plot(1:d, [(predicted_naive_distances_r .+ 1e-16) ./ (true_naive_distances_r .+ 1e-16), (predicted_curvature_corrected_distances_r .+ 1e-16) ./ (true_curvature_corrected_distances_r .+ 1e-16)], label = [\"discrepancy in initialisation\" \"discrepancy in solutions\"], xlims=(1,d), xaxis=(\"approximation rank\"), yaxis=(L\"$\\delta_{rel}$\", :log), legend=:bottomleft)\n",
    "savefig(\"results/artificial1D_logdiscrepancy_by_rank.png\")"
   ]
  },
  {
   "attachments": {},
   "cell_type": "markdown",
   "metadata": {},
   "source": [
    "### Benchmark different methods ###"
   ]
  },
  {
   "cell_type": "code",
   "execution_count": null,
   "metadata": {},
   "outputs": [],
   "source": [
    "t = @benchmark naive_low_rank_approximation(M, q, data, 2)\n",
    "mean(t).time\n",
    "std(t).time\n",
    "# TODO also do the benchmarking in here similarly as run above | also do this for 3 different step sizes for exact | if benchmark=true\n",
    "@benchmark exact_low_rank_approximation(M, q, data, 2; stepsize=1/10000, max_iter=50) \n",
    "@benchmark curvature_corrected_low_rank_approximation(M, q, data, 2) "
   ]
  },
  {
   "cell_type": "code",
   "execution_count": 12,
   "metadata": {},
   "outputs": [
    {
     "data": {
      "text/plain": [
       "BenchmarkTools.Trial: 273 samples with 1 evaluation.\n",
       " Range \u001b[90m(\u001b[39m\u001b[36m\u001b[1mmin\u001b[22m\u001b[39m … \u001b[35mmax\u001b[39m\u001b[90m):  \u001b[39m\u001b[36m\u001b[1m15.884 ms\u001b[22m\u001b[39m … \u001b[35m29.450 ms\u001b[39m  \u001b[90m┊\u001b[39m GC \u001b[90m(\u001b[39mmin … max\u001b[90m): \u001b[39m0.00% … 0.00%\n",
       " Time  \u001b[90m(\u001b[39m\u001b[34m\u001b[1mmedian\u001b[22m\u001b[39m\u001b[90m):     \u001b[39m\u001b[34m\u001b[1m17.508 ms              \u001b[22m\u001b[39m\u001b[90m┊\u001b[39m GC \u001b[90m(\u001b[39mmedian\u001b[90m):    \u001b[39m0.00%\n",
       " Time  \u001b[90m(\u001b[39m\u001b[32m\u001b[1mmean\u001b[22m\u001b[39m ± \u001b[32mσ\u001b[39m\u001b[90m):   \u001b[39m\u001b[32m\u001b[1m18.321 ms\u001b[22m\u001b[39m ± \u001b[32m 2.068 ms\u001b[39m  \u001b[90m┊\u001b[39m GC \u001b[90m(\u001b[39mmean ± σ\u001b[90m):  \u001b[39m2.10% ± 5.79%\n",
       "\n",
       "  \u001b[39m \u001b[39m \u001b[39m \u001b[39m \u001b[39m \u001b[39m▁\u001b[39m▄\u001b[39m█\u001b[39m▄\u001b[39m \u001b[39m \u001b[39m \u001b[34m \u001b[39m\u001b[39m \u001b[39m \u001b[39m \u001b[39m \u001b[32m \u001b[39m\u001b[39m \u001b[39m \u001b[39m \u001b[39m \u001b[39m \u001b[39m \u001b[39m \u001b[39m \u001b[39m \u001b[39m \u001b[39m \u001b[39m \u001b[39m \u001b[39m \u001b[39m \u001b[39m \u001b[39m \u001b[39m \u001b[39m \u001b[39m \u001b[39m \u001b[39m \u001b[39m \u001b[39m \u001b[39m \u001b[39m \u001b[39m \u001b[39m \u001b[39m \u001b[39m \u001b[39m \u001b[39m \u001b[39m \u001b[39m \u001b[39m \u001b[39m \u001b[39m \u001b[39m \u001b[39m \u001b[39m \u001b[39m \u001b[39m \u001b[39m \n",
       "  \u001b[39m▃\u001b[39m▂\u001b[39m▄\u001b[39m▆\u001b[39m▆\u001b[39m█\u001b[39m█\u001b[39m█\u001b[39m█\u001b[39m█\u001b[39m▆\u001b[39m▇\u001b[34m▅\u001b[39m\u001b[39m▄\u001b[39m▆\u001b[39m▃\u001b[39m▅\u001b[32m▆\u001b[39m\u001b[39m▄\u001b[39m▅\u001b[39m▄\u001b[39m▃\u001b[39m▄\u001b[39m▅\u001b[39m▂\u001b[39m▃\u001b[39m▃\u001b[39m▃\u001b[39m▃\u001b[39m▄\u001b[39m▃\u001b[39m▃\u001b[39m▃\u001b[39m▁\u001b[39m▂\u001b[39m▄\u001b[39m▄\u001b[39m▃\u001b[39m▃\u001b[39m▃\u001b[39m▄\u001b[39m▂\u001b[39m▂\u001b[39m▂\u001b[39m▂\u001b[39m▃\u001b[39m▁\u001b[39m▁\u001b[39m▁\u001b[39m▁\u001b[39m▃\u001b[39m▃\u001b[39m▂\u001b[39m▂\u001b[39m▂\u001b[39m▁\u001b[39m▂\u001b[39m▂\u001b[39m▂\u001b[39m \u001b[39m▃\n",
       "  15.9 ms\u001b[90m         Histogram: frequency by time\u001b[39m        24.1 ms \u001b[0m\u001b[1m<\u001b[22m\n",
       "\n",
       " Memory estimate\u001b[90m: \u001b[39m\u001b[33m4.95 MiB\u001b[39m, allocs estimate\u001b[90m: \u001b[39m\u001b[33m54122\u001b[39m."
      ]
     },
     "execution_count": 12,
     "metadata": {},
     "output_type": "execute_result"
    }
   ],
   "source": [
    "@benchmark naive_low_rank_approximation(M, q, data, 2)"
   ]
  },
  {
   "cell_type": "code",
   "execution_count": 13,
   "metadata": {},
   "outputs": [
    {
     "data": {
      "text/plain": [
       "BenchmarkTools.Trial: 145 samples with 1 evaluation.\n",
       " Range \u001b[90m(\u001b[39m\u001b[36m\u001b[1mmin\u001b[22m\u001b[39m … \u001b[35mmax\u001b[39m\u001b[90m):  \u001b[39m\u001b[36m\u001b[1m31.986 ms\u001b[22m\u001b[39m … \u001b[35m43.204 ms\u001b[39m  \u001b[90m┊\u001b[39m GC \u001b[90m(\u001b[39mmin … max\u001b[90m): \u001b[39m0.00% … 0.00%\n",
       " Time  \u001b[90m(\u001b[39m\u001b[34m\u001b[1mmedian\u001b[22m\u001b[39m\u001b[90m):     \u001b[39m\u001b[34m\u001b[1m33.731 ms              \u001b[22m\u001b[39m\u001b[90m┊\u001b[39m GC \u001b[90m(\u001b[39mmedian\u001b[90m):    \u001b[39m0.00%\n",
       " Time  \u001b[90m(\u001b[39m\u001b[32m\u001b[1mmean\u001b[22m\u001b[39m ± \u001b[32mσ\u001b[39m\u001b[90m):   \u001b[39m\u001b[32m\u001b[1m34.649 ms\u001b[22m\u001b[39m ± \u001b[32m 2.331 ms\u001b[39m  \u001b[90m┊\u001b[39m GC \u001b[90m(\u001b[39mmean ± σ\u001b[90m):  \u001b[39m2.35% ± 4.75%\n",
       "\n",
       "  \u001b[39m \u001b[39m \u001b[39m▁\u001b[39m \u001b[39m▁\u001b[39m▆\u001b[39m█\u001b[39m▃\u001b[39m▁\u001b[34m▇\u001b[39m\u001b[39m▁\u001b[39m \u001b[39m \u001b[39m \u001b[32m▁\u001b[39m\u001b[39m \u001b[39m \u001b[39m \u001b[39m \u001b[39m \u001b[39m \u001b[39m \u001b[39m \u001b[39m \u001b[39m \u001b[39m \u001b[39m \u001b[39m \u001b[39m \u001b[39m \u001b[39m \u001b[39m \u001b[39m \u001b[39m \u001b[39m \u001b[39m \u001b[39m \u001b[39m \u001b[39m \u001b[39m \u001b[39m \u001b[39m \u001b[39m \u001b[39m \u001b[39m \u001b[39m \u001b[39m \u001b[39m \u001b[39m \u001b[39m \u001b[39m \u001b[39m \u001b[39m \u001b[39m \u001b[39m \u001b[39m \u001b[39m \u001b[39m \u001b[39m \u001b[39m \u001b[39m \n",
       "  \u001b[39m▄\u001b[39m▄\u001b[39m█\u001b[39m█\u001b[39m█\u001b[39m█\u001b[39m█\u001b[39m█\u001b[39m█\u001b[34m█\u001b[39m\u001b[39m█\u001b[39m▆\u001b[39m▅\u001b[39m▄\u001b[32m█\u001b[39m\u001b[39m▃\u001b[39m▅\u001b[39m▇\u001b[39m▃\u001b[39m▃\u001b[39m▄\u001b[39m▁\u001b[39m▄\u001b[39m▁\u001b[39m▁\u001b[39m▁\u001b[39m▄\u001b[39m▁\u001b[39m▃\u001b[39m▆\u001b[39m▄\u001b[39m▁\u001b[39m▆\u001b[39m▄\u001b[39m▁\u001b[39m▄\u001b[39m▃\u001b[39m▁\u001b[39m▃\u001b[39m▃\u001b[39m▁\u001b[39m▄\u001b[39m▁\u001b[39m▃\u001b[39m▁\u001b[39m▄\u001b[39m▁\u001b[39m▃\u001b[39m▁\u001b[39m▁\u001b[39m▁\u001b[39m▁\u001b[39m▁\u001b[39m▁\u001b[39m▁\u001b[39m▁\u001b[39m▁\u001b[39m▁\u001b[39m▃\u001b[39m \u001b[39m▃\n",
       "  32 ms\u001b[90m           Histogram: frequency by time\u001b[39m          43 ms \u001b[0m\u001b[1m<\u001b[22m\n",
       "\n",
       " Memory estimate\u001b[90m: \u001b[39m\u001b[33m10.16 MiB\u001b[39m, allocs estimate\u001b[90m: \u001b[39m\u001b[33m107620\u001b[39m."
      ]
     },
     "execution_count": 13,
     "metadata": {},
     "output_type": "execute_result"
    }
   ],
   "source": [
    "@benchmark curvature_corrected_low_rank_approximation(M, q, data, 2) "
   ]
  },
  {
   "cell_type": "code",
   "execution_count": 14,
   "metadata": {},
   "outputs": [
    {
     "data": {
      "text/plain": [
       "BenchmarkTools.Trial: 4 samples with 1 evaluation.\n",
       " Range \u001b[90m(\u001b[39m\u001b[36m\u001b[1mmin\u001b[22m\u001b[39m … \u001b[35mmax\u001b[39m\u001b[90m):  \u001b[39m\u001b[36m\u001b[1m1.269 s\u001b[22m\u001b[39m … \u001b[35m  1.353 s\u001b[39m  \u001b[90m┊\u001b[39m GC \u001b[90m(\u001b[39mmin … max\u001b[90m): \u001b[39m2.87% … 2.76%\n",
       " Time  \u001b[90m(\u001b[39m\u001b[34m\u001b[1mmedian\u001b[22m\u001b[39m\u001b[90m):     \u001b[39m\u001b[34m\u001b[1m1.317 s              \u001b[22m\u001b[39m\u001b[90m┊\u001b[39m GC \u001b[90m(\u001b[39mmedian\u001b[90m):    \u001b[39m2.74%\n",
       " Time  \u001b[90m(\u001b[39m\u001b[32m\u001b[1mmean\u001b[22m\u001b[39m ± \u001b[32mσ\u001b[39m\u001b[90m):   \u001b[39m\u001b[32m\u001b[1m1.314 s\u001b[22m\u001b[39m ± \u001b[32m35.715 ms\u001b[39m  \u001b[90m┊\u001b[39m GC \u001b[90m(\u001b[39mmean ± σ\u001b[90m):  \u001b[39m2.69% ± 0.20%\n",
       "\n",
       "  \u001b[39m█\u001b[39m \u001b[39m \u001b[39m \u001b[39m \u001b[39m \u001b[39m \u001b[39m \u001b[39m \u001b[39m \u001b[39m \u001b[39m \u001b[39m \u001b[39m \u001b[39m \u001b[39m \u001b[39m \u001b[39m \u001b[39m \u001b[39m \u001b[39m \u001b[39m \u001b[39m \u001b[39m \u001b[34m█\u001b[39m\u001b[39m \u001b[39m \u001b[39m \u001b[39m \u001b[39m \u001b[32m \u001b[39m\u001b[39m \u001b[39m \u001b[39m \u001b[39m \u001b[39m \u001b[39m \u001b[39m \u001b[39m \u001b[39m \u001b[39m█\u001b[39m \u001b[39m \u001b[39m \u001b[39m \u001b[39m \u001b[39m \u001b[39m \u001b[39m \u001b[39m \u001b[39m \u001b[39m \u001b[39m \u001b[39m \u001b[39m \u001b[39m \u001b[39m█\u001b[39m \u001b[39m \n",
       "  \u001b[39m█\u001b[39m▁\u001b[39m▁\u001b[39m▁\u001b[39m▁\u001b[39m▁\u001b[39m▁\u001b[39m▁\u001b[39m▁\u001b[39m▁\u001b[39m▁\u001b[39m▁\u001b[39m▁\u001b[39m▁\u001b[39m▁\u001b[39m▁\u001b[39m▁\u001b[39m▁\u001b[39m▁\u001b[39m▁\u001b[39m▁\u001b[39m▁\u001b[39m▁\u001b[39m▁\u001b[34m█\u001b[39m\u001b[39m▁\u001b[39m▁\u001b[39m▁\u001b[39m▁\u001b[39m▁\u001b[32m▁\u001b[39m\u001b[39m▁\u001b[39m▁\u001b[39m▁\u001b[39m▁\u001b[39m▁\u001b[39m▁\u001b[39m▁\u001b[39m▁\u001b[39m▁\u001b[39m█\u001b[39m▁\u001b[39m▁\u001b[39m▁\u001b[39m▁\u001b[39m▁\u001b[39m▁\u001b[39m▁\u001b[39m▁\u001b[39m▁\u001b[39m▁\u001b[39m▁\u001b[39m▁\u001b[39m▁\u001b[39m▁\u001b[39m▁\u001b[39m█\u001b[39m \u001b[39m▁\n",
       "  1.27 s\u001b[90m         Histogram: frequency by time\u001b[39m        1.35 s \u001b[0m\u001b[1m<\u001b[22m\n",
       "\n",
       " Memory estimate\u001b[90m: \u001b[39m\u001b[33m478.92 MiB\u001b[39m, allocs estimate\u001b[90m: \u001b[39m\u001b[33m3810072\u001b[39m."
      ]
     },
     "execution_count": 14,
     "metadata": {},
     "output_type": "execute_result"
    }
   ],
   "source": [
    "@benchmark exact_low_rank_approximation(M, q, data, 2; stepsize=1/100000, max_iter=50) "
   ]
  }
 ],
 "metadata": {
  "kernelspec": {
   "display_name": "Julia 1.7.2",
   "language": "julia",
   "name": "julia-1.7"
  },
  "language_info": {
   "file_extension": ".jl",
   "mimetype": "application/julia",
   "name": "julia",
   "version": "1.7.2"
  },
  "orig_nbformat": 4,
  "vscode": {
   "interpreter": {
    "hash": "31f2aee4e71d21fbe5cf8b01ff0e069b9275f58929596ceb00d14d90e3e16cd6"
   }
  }
 },
 "nbformat": 4,
 "nbformat_minor": 2
}
