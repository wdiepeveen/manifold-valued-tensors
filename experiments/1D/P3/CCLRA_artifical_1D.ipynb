{
 "cells": [
  {
   "cell_type": "markdown",
   "metadata": {},
   "source": [
    "# Low-rank approximation on $\\mathcal{P}(d)$ - the space of $d$-dimensional SPD matrices"
   ]
  },
  {
   "cell_type": "markdown",
   "metadata": {},
   "source": [
    "In this notebook we want to get some intuition in different approaches for computing low-rank approximations for manifold-valued signals"
   ]
  },
  {
   "cell_type": "code",
   "execution_count": 3,
   "metadata": {},
   "outputs": [],
   "source": [
    "using Manifolds\n",
    "using Manopt\n",
    "using LinearAlgebra\n",
    "using Random\n",
    "using Plots\n",
    "using LaTeXStrings"
   ]
  },
  {
   "cell_type": "code",
   "execution_count": 13,
   "metadata": {},
   "outputs": [
    {
     "data": {
      "text/plain": [
       "manifold_loss (generic function with 1 method)"
      ]
     },
     "execution_count": 13,
     "metadata": {},
     "output_type": "execute_result"
    }
   ],
   "source": [
    "include(\"../../../src/decompositions/naive_SVD.jl\")\n",
    "include(\"../../../src/decompositions/curvature_corrected_low_rank_approximation.jl\")\n",
    "include(\"../../../src/functions/loss_functions/curvature_corrected_loss.jl\")\n",
    "include(\"../../../src/functions/loss_functions/manifold_loss.jl\")"
   ]
  },
  {
   "attachments": {},
   "cell_type": "markdown",
   "metadata": {},
   "source": [
    "### Load data and construct manifold ###"
   ]
  },
  {
   "cell_type": "code",
   "execution_count": 5,
   "metadata": {},
   "outputs": [
    {
     "data": {
      "text/plain": [
       "100"
      ]
     },
     "execution_count": 5,
     "metadata": {},
     "output_type": "execute_result"
    }
   ],
   "source": [
    "# load data\n",
    "M = SymmetricPositiveDefinite(3)\n",
    "d = manifold_dimension(M)\n",
    "n = 100  # 100\n"
   ]
  },
  {
   "cell_type": "code",
   "execution_count": 6,
   "metadata": {},
   "outputs": [
    {
     "name": "stdout",
     "output_type": "stream",
     "text": [
      "[0.0 0.0 0.0; 0.0 1.0 0.0; 0.0 0.0 0.0]"
     ]
    }
   ],
   "source": [
    "e = 1. * Matrix(I, 3, 3)\n",
    "# compute basis\n",
    "Θ = get_basis(M, e, DefaultOrthonormalBasis())\n",
    "#  construct data\n",
    "τ = 2.  # variance\n",
    "σ = .05  # variance\n",
    "Xₑ = Θ.data[4]\n",
    "print(Xₑ)\n",
    "\n",
    "Random.seed!(31)\n",
    "predata = [exp(M, e, sqrt(τ) * randn(1)[1] * Xₑ) for i in 1:n]\n",
    "\n",
    "data = [exp(M, predata[i], random_tangent(M, predata[i], Val(:Gaussian), σ)) for i in 1:n]; # ∈ P(3)^n\n"
   ]
  },
  {
   "cell_type": "code",
   "execution_count": 7,
   "metadata": {},
   "outputs": [],
   "source": [
    "# Export slice image\n",
    "num_export = 10\n",
    "asymptote_export_SPD(\"results/artificial1D_orig.asy\", data=data[1:min(num_export,n)], scale_axes=(2,2,2)); "
   ]
  },
  {
   "attachments": {},
   "cell_type": "markdown",
   "metadata": {},
   "source": [
    "### Construct low rank approximation ###"
   ]
  },
  {
   "cell_type": "code",
   "execution_count": 8,
   "metadata": {},
   "outputs": [],
   "source": [
    "q = mean(M, data)\n",
    "log_q_data = log.(Ref(M), Ref(q), data);  # ∈ T_q P(3)^n"
   ]
  },
  {
   "cell_type": "code",
   "execution_count": 9,
   "metadata": {},
   "outputs": [
    {
     "name": "stdout",
     "output_type": "stream",
     "text": [
      "Initial  F(x): 1.07408003505 | \n",
      "# 1     change: 0.003679917 |  F(x): 0.14818842524 | \n",
      "# 2     change: 0.001352597 |  F(x): 0.02305719338 | \n",
      "# 3     change: 0.000497828 |  F(x): 0.00609899385 | \n",
      "# 4     change: 0.000183553 |  F(x): 0.00379222475 | \n",
      "# 5     change: 0.000067840 |  F(x): 0.00347687144 | \n",
      "# 6     change: 0.000025153 |  F(x): 0.00343347165 | \n",
      "# 7     change: 0.000009366 |  F(x): 0.00342744609 | \n",
      "# 8     change: 0.000003507 |  F(x): 0.00342659990 | \n",
      "# 9     change: 0.000001322 |  F(x): 0.00342647932 | \n",
      "# 10    change: 0.000000503 |  F(x): 0.00342646180 | \n",
      "The algorithm performed a step with a change (5.031321101913103e-7) less than 1.0e-6.\n",
      "Initial  F(x): 0.49519120482 | \n",
      "# 1     change: 0.002454865 |  F(x): 0.07683012196 | \n",
      "# 2     change: 0.000953644 |  F(x): 0.01368714748 | \n",
      "# 3     change: 0.000370685 |  F(x): 0.00414374290 | \n",
      "# 4     change: 0.000144305 |  F(x): 0.00269621899 | \n",
      "# 5     change: 0.000056399 |  F(x): 0.00247462430 | \n",
      "# 6     change: 0.000022266 |  F(x): 0.00243989459 | \n",
      "# 7     change: 0.000009010 |  F(x): 0.00243413488 | \n",
      "# 8     change: 0.000003846 |  F(x): 0.00243305827 | \n",
      "# 9     change: 0.000001802 |  F(x): 0.00243281304 | \n",
      "# 10    change: 0.000000946 |  F(x): 0.00243274303 | \n",
      "The algorithm performed a step with a change (9.458080353783394e-7) less than 1.0e-6.\n",
      "Initial  F(x): 0.19309144345 | \n",
      "# 1     change: 0.001428776 |  F(x): 0.04338169821 | \n",
      "# 2     change: 0.000666907 |  F(x): 0.01076365806 | \n",
      "# 3     change: 0.000311301 |  F(x): 0.00365657419 | \n",
      "# 4     change: 0.000145313 |  F(x): 0.00210797212 | \n",
      "# 5     change: 0.000067832 |  F(x): 0.00177052780 | \n",
      "# 6     change: 0.000031665 |  F(x): 0.00169699443 | \n",
      "# 7     change: 0.000014782 |  F(x): 0.00168096929 | \n",
      "# 8     change: 0.000006901 |  F(x): 0.00167747639 | \n",
      "# 9     change: 0.000003222 |  F(x): 0.00167671484 | \n",
      "# 10    change: 0.000001505 |  F(x): 0.00167654870 | \n",
      "# 11    change: 0.000000703 |  F(x): 0.00167651241 | \n",
      "The algorithm performed a step with a change (7.032552055090657e-7) less than 1.0e-6.\n",
      "Initial  F(x): 0.02183620839 | \n",
      "# 1     change: 0.000411050 |  F(x): 0.00839047332 | \n",
      "# 2     change: 0.000243686 |  F(x): 0.00365062941 | \n",
      "# 3     change: 0.000145706 |  F(x): 0.00194975783 | \n",
      "# 4     change: 0.000088031 |  F(x): 0.00132615374 | \n",
      "# 5     change: 0.000053835 |  F(x): 0.00109176211 | \n",
      "# 6     change: 0.000033369 |  F(x): 0.00100121637 | \n",
      "# 7     change: 0.000020980 |  F(x): 0.00096522435 | \n",
      "# 8     change: 0.000013380 |  F(x): 0.00095050837 | \n",
      "# 9     change: 0.000008648 |  F(x): 0.00094433107 | \n",
      "# 10    change: 0.000005656 |  F(x): 0.00094167690 | \n",
      "# 11    change: 0.000003738 |  F(x): 0.00094051378 | \n",
      "# 12    change: 0.000002491 |  F(x): 0.00093999585 | \n",
      "# 13    change: 0.000001671 |  F(x): 0.00093976228 | \n",
      "# 14    change: 0.000001127 |  F(x): 0.00093965593 | \n",
      "# 15    change: 0.000000762 |  F(x): 0.00093960715 | \n",
      "The algorithm performed a step with a change (7.624914423050288e-7) less than 1.0e-6.\n",
      "Initial  F(x): 0.00764220904 | \n",
      "# 1     change: 0.000218083 |  F(x): 0.00367175641 | \n",
      "# 2     change: 0.000146106 |  F(x): 0.00188917076 | \n",
      "# 3     change: 0.000097950 |  F(x): 0.00108778222 | \n",
      "# 4     change: 0.000065712 |  F(x): 0.00072699786 | \n",
      "# 5     change: 0.000044117 |  F(x): 0.00056433299 | \n",
      "# 6     change: 0.000029641 |  F(x): 0.00049087981 | \n",
      "# 7     change: 0.000019931 |  F(x): 0.00045765773 | \n",
      "# 8     change: 0.000013413 |  F(x): 0.00044260656 | \n",
      "# 9     change: 0.000009034 |  F(x): 0.00043577583 | \n",
      "# 10    change: 0.000006091 |  F(x): 0.00043267026 | \n",
      "# 11    change: 0.000004110 |  F(x): 0.00043125572 | \n",
      "# 12    change: 0.000002776 |  F(x): 0.00043061019 | \n",
      "# 13    change: 0.000001877 |  F(x): 0.00043031504 | \n",
      "# 14    change: 0.000001270 |  F(x): 0.00043017982 | \n",
      "# 15    change: 0.000000860 |  F(x): 0.00043011775 | \n",
      "The algorithm performed a step with a change (8.602062610081895e-7) less than 1.0e-6.\n",
      "Initial  F(x): 0.00000000000 | \n",
      "The algorithm reached approximately critical point after 0 iterations; the gradient norm (1.0525414502840686e-10) is less than 1.0e-8.\n"
     ]
    }
   ],
   "source": [
    "nR_q, nU = naive_SVD(M, q, data);\n",
    "# TODO compute the low rank approximations up till rank d\n",
    "ccR_q = []\n",
    "ccU = []\n",
    "for i in 1:d\n",
    "    ccRr_q, ccUr = curvature_corrected_low_rank_approximation(M, q, data, i; stepsize=1/100000); \n",
    "    push!(ccR_q, ccRr_q)\n",
    "    push!(ccU, ccUr)\n",
    "end"
   ]
  },
  {
   "cell_type": "code",
   "execution_count": 14,
   "metadata": {},
   "outputs": [],
   "source": [
    "ref_distance = sum(distance.(Ref(M), Ref(q), data).^2)\n",
    "\n",
    "naive_tangent_distances_r = zeros(d)\n",
    "predicted_naive_distances_r= zeros(d)\n",
    "true_naive_distances_r= zeros(d)\n",
    "curvature_corrected_tangent_distances_r = zeros(d)\n",
    "predicted_curvature_corrected_distances_r = zeros(d)\n",
    "true_curvature_corrected_distances_r = zeros(d)\n",
    "\n",
    "for rank in 1:d\n",
    "    naive_log_q_data_r = Symmetric.([sum([nR_q[i] * nU[k,i] for i in d-rank+1:d]) for k in 1:n])\n",
    "    curvature_corrected_log_q_data_r = Symmetric.([sum([ccR_q[rank][i] * ccU[rank][k,i] for i in 1:rank]) for k in 1:n])\n",
    "    \n",
    "    # expoentiate back\n",
    "    naive_data_r = exp.(Ref(M), Ref(q), naive_log_q_data_r)\n",
    "    curvature_corrected_data_r = exp.(Ref(M), Ref(q), curvature_corrected_log_q_data_r)\n",
    "\n",
    "\n",
    "    # compute relative tangent space error\n",
    "    naive_tangent_distances_r[rank] = sum(norm.(Ref(M), Ref(q),  log_q_data - naive_log_q_data_r).^2) / ref_distance\n",
    "    curvature_corrected_tangent_distances_r[rank] = sum(norm.(Ref(M), Ref(q),  log_q_data - curvature_corrected_log_q_data_r).^2) / ref_distance\n",
    "\n",
    "\n",
    "    # compute relative manifold error\n",
    "    predicted_naive_distances_r[rank] = curvature_corrected_loss(M, q, data, naive_log_q_data_r)\n",
    "    true_naive_distances_r[rank] = manifold_loss(M, q, data, naive_log_q_data_r)\n",
    "    predicted_curvature_corrected_distances_r[rank] = curvature_corrected_loss(M, q, data, curvature_corrected_log_q_data_r)\n",
    "    true_curvature_corrected_distances_r[rank] = manifold_loss(M, q, data, curvature_corrected_log_q_data_r)\n",
    "end"
   ]
  },
  {
   "cell_type": "code",
   "execution_count": 15,
   "metadata": {},
   "outputs": [
    {
     "data": {
      "text/plain": [
       "\"/Users/wdiepeveen/Documents/PhD/Projects/8 - Manifold-valued tensor decomposition/src/manifold-valued-tensors/experiments/1D/P3/results/artificial1D_logerrors_by_rank.png\""
      ]
     },
     "execution_count": 15,
     "metadata": {},
     "output_type": "execute_result"
    }
   ],
   "source": [
    "# We want plots with (1) the lower bound error, (2) the actually uncorrected manifold error and (3) the corrected manifold error\n",
    "plot(1:d, [naive_tangent_distances_r, true_naive_distances_r, true_curvature_corrected_distances_r], label = [\"theoretical lower bound\" \"naive\" \"curvature corrected\"], ylims=(0,1), xlims=(1,d),xaxis=(\"approximation rank\"), yaxis=(L\"$\\varepsilon_{rel}$\"))\n",
    "savefig(\"results/artificial1D_errors_by_rank.png\")\n",
    "plot(1:d, [naive_tangent_distances_r .+ 1e-16, true_naive_distances_r .+ 1e-16, true_curvature_corrected_distances_r .+ 1e-16], label = [\"theoretical lower bound\" \"naive\" \"curvature corrected\"], ylims=(1e-16,1), xlims=(1,d), xaxis=(\"approximation rank\"), yaxis=(L\"$\\varepsilon_{rel}$\", :log), legend=:bottomleft)\n",
    "savefig(\"results/artificial1D_logerrors_by_rank.png\")"
   ]
  },
  {
   "cell_type": "code",
   "execution_count": 18,
   "metadata": {},
   "outputs": [
    {
     "data": {
      "text/plain": [
       "\"/Users/wdiepeveen/Documents/PhD/Projects/8 - Manifold-valued tensor decomposition/src/manifold-valued-tensors/experiments/1D/P3/results/artificial1D_logdiscrepancy_by_rank.png\""
      ]
     },
     "execution_count": 18,
     "metadata": {},
     "output_type": "execute_result"
    }
   ],
   "source": [
    "# It would be nice to also have a plot that tells us something about the error in predicting the manifold loss (using CCL) and the actual loss \n",
    "# (1) for the naive approach (2) for the curvature corrected approach\n",
    "plot(1:d, [predicted_naive_distances_r - true_naive_distances_r, predicted_curvature_corrected_distances_r - true_curvature_corrected_distances_r], label = [\"discrepancy in initialisation\" \"discrepancy in solutions\"], ylims=(0,1), xlims=(1,d),xaxis=(\"approximation rank\"), yaxis=(L\"$\\delta_{rel}$\"))\n",
    "savefig(\"results/artificial1D_discrepancy_by_rank.png\")\n",
    "plot(1:d, [predicted_naive_distances_r - true_naive_distances_r .+ 1e-16, predicted_curvature_corrected_distances_r - true_curvature_corrected_distances_r .+ 1e-16], label = [\"discrepancy in initialisation\" \"discrepancy in solutions\"], ylims=(1e-16,1), xlims=(1,d), xaxis=(\"approximation rank\"), yaxis=(L\"$\\delta_{rel}$\", :log), legend=:bottomleft)\n",
    "savefig(\"results/artificial1D_logdiscrepancy_by_rank.png\")"
   ]
  }
 ],
 "metadata": {
  "kernelspec": {
   "display_name": "Julia 1.7.2",
   "language": "julia",
   "name": "julia-1.7"
  },
  "language_info": {
   "file_extension": ".jl",
   "mimetype": "application/julia",
   "name": "julia",
   "version": "1.7.2"
  },
  "orig_nbformat": 4,
  "vscode": {
   "interpreter": {
    "hash": "31f2aee4e71d21fbe5cf8b01ff0e069b9275f58929596ceb00d14d90e3e16cd6"
   }
  }
 },
 "nbformat": 4,
 "nbformat_minor": 2
}
