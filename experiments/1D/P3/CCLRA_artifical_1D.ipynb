{
 "cells": [
  {
   "cell_type": "markdown",
   "metadata": {},
   "source": [
    "# Low-rank approximation on $\\mathcal{P}(d)$ - the space of $d$-dimensional SPD matrices"
   ]
  },
  {
   "cell_type": "markdown",
   "metadata": {},
   "source": [
    "In this notebook we want to get some intuition in different approaches for computing low-rank approximations for manifold-valued signals"
   ]
  },
  {
   "cell_type": "code",
   "execution_count": 80,
   "metadata": {},
   "outputs": [
    {
     "name": "stderr",
     "output_type": "stream",
     "text": [
      "WARNING: using FiniteDifferences.jacobian in module Manifolds conflicts with an existing identifier.\n",
      "WARNING: using FiniteDifferences.jacobian in module ManifoldDiff conflicts with an existing identifier.\n"
     ]
    }
   ],
   "source": [
    "using Manifolds\n",
    "using Manopt\n",
    "using LinearAlgebra\n",
    "using Random\n",
    "using Plots\n",
    "using ManifoldDiff\n",
    "using FiniteDiff\n",
    "using FiniteDifferences"
   ]
  },
  {
   "cell_type": "code",
   "execution_count": 84,
   "metadata": {},
   "outputs": [
    {
     "data": {
      "text/plain": [
       "curvature_reweighed_low_rank_approximation (generic function with 1 method)"
      ]
     },
     "execution_count": 84,
     "metadata": {},
     "output_type": "execute_result"
    }
   ],
   "source": [
    "include(\"../../../src/decompositions/naive_SVD.jl\")\n",
    "include(\"../../../src/utils/curvature_corrected_loss.jl\")\n",
    "include(\"../../../src/decompositions/curvature_corrected_low_rank_approximation.jl\")"
   ]
  },
  {
   "attachments": {},
   "cell_type": "markdown",
   "metadata": {},
   "source": [
    "### Load data and construct manifold ###"
   ]
  },
  {
   "cell_type": "code",
   "execution_count": 49,
   "metadata": {},
   "outputs": [
    {
     "data": {
      "text/plain": [
       "5"
      ]
     },
     "execution_count": 49,
     "metadata": {},
     "output_type": "execute_result"
    }
   ],
   "source": [
    "# load data\n",
    "M = SymmetricPositiveDefinite(3)\n",
    "d = manifold_dimension(M)\n",
    "n = 5  # 100\n"
   ]
  },
  {
   "cell_type": "code",
   "execution_count": 50,
   "metadata": {},
   "outputs": [],
   "source": [
    "e = 1. * Matrix(I, 3, 3)\n",
    "# compute basis\n",
    "Θ = get_basis(M, e, DefaultOrthonormalBasis())\n",
    "#  construct data\n",
    "τ = 2.  # variance\n",
    "σ = .05  # variance\n",
    "Xₑ = Θ.data[1]\n",
    "\n",
    "Random.seed!(31)\n",
    "predata = [exp(M, e, sqrt(τ) * randn(1)[1] * Xₑ) for i in 1:n]\n",
    "\n",
    "data = [exp(M, predata[i], random_tangent(M, predata[i], Val(:Gaussian), σ)) for i in 1:n]; # ∈ P(3)^n\n"
   ]
  },
  {
   "cell_type": "code",
   "execution_count": 23,
   "metadata": {},
   "outputs": [],
   "source": [
    "# Export slice image\n",
    "asymptote_export_SPD(\"results/artificial1D_orig.asy\", data=data);"
   ]
  },
  {
   "attachments": {},
   "cell_type": "markdown",
   "metadata": {},
   "source": [
    "### Construct low rank approximation ###"
   ]
  },
  {
   "cell_type": "code",
   "execution_count": 51,
   "metadata": {},
   "outputs": [],
   "source": [
    "q = mean(M, data)\n",
    "# q = 1. * Matrix(I, 3, 3)\n",
    "log_q_data = log.(Ref(M), Ref(q), data);  # ∈ T_q P(3)^n"
   ]
  },
  {
   "cell_type": "code",
   "execution_count": 52,
   "metadata": {},
   "outputs": [
    {
     "data": {
      "text/plain": [
       "0.0731933024500142"
      ]
     },
     "execution_count": 52,
     "metadata": {},
     "output_type": "execute_result"
    }
   ],
   "source": [
    "# TOY -- test\n",
    "# compute curvature corrected loss\n",
    "Ξ = 1/2 .* log_q_data\n",
    "loss = curvature_corrected_loss(M, e, data, Ξ, 1)"
   ]
  },
  {
   "cell_type": "code",
   "execution_count": 85,
   "metadata": {},
   "outputs": [
    {
     "name": "stdout",
     "output_type": "stream",
     "text": [
      "[[0.0032603164109766825 -0.011612164491239595 -0.006220519029908633; -0.011612164491239594 -0.01238433336169978 0.06425941685921388; -0.006220519029908634 0.0642594168592139 0.05404868213545831], [3.941273828877989e-5 0.023489998075394952 -0.0010714421026251602; 0.023489998075394952 0.03414750422585027 -0.023176174824101968; -0.0010714421026251602 -0.02317617482410196 0.057112216206355024], [0.0011130689969645058 -0.05154273519884497 -0.03537476423598776; -0.05154273519884497 0.018759775700455047 0.017287146648717097; -0.03537476423598776 0.017287146648717097 0.048777688135281924], [0.0018188140743078396 0.06672709416577406 0.07412698960696018; 0.06672709416577408 0.025567210381737693 0.02067787984845943; 0.07412698960696018 0.020677879848459424 0.06802077552367838], [-0.0016162933613197983 0.08840863625067531 -0.04969025275349079; 0.08840863625067531 -0.04326390060280254 -0.05459751016594417; -0.04969025275349079 -0.05459751016594417 -0.0472170937581457]]\n"
     ]
    },
    {
     "ename": "LoadError",
     "evalue": "MethodError: no method matching getindex(::ProductRepr{Tuple{Matrix{Float64}, Vector{Float64}, Matrix{Float64}}}, ::Int64)\n\u001b[0mClosest candidates are:\n\u001b[0m  getindex(::Union{ProductRepr, ArrayPartition}, \u001b[91m::SemidirectProductGroup\u001b[39m, \u001b[91m::Union{Colon, Integer, Val, AbstractVector}\u001b[39m) at ~/.julia/packages/Manifolds/1oKAJ/src/groups/semidirect_product_group.jl:260\n\u001b[0m  getindex(::Union{ProductRepr, ArrayPartition}, \u001b[91m::ProductGroup\u001b[39m, \u001b[91m::Union{Colon, Integer, Val, AbstractVector}\u001b[39m) at ~/.julia/packages/Manifolds/1oKAJ/src/groups/product_group.jl:340\n\u001b[0m  getindex(::ProductRepr, \u001b[91m::ProductManifold\u001b[39m, \u001b[91m::Union{Colon, Integer, Val, AbstractVector}\u001b[39m) at ~/.julia/packages/Manifolds/1oKAJ/src/manifolds/ProductManifold.jl:639\n\u001b[0m  ...",
     "output_type": "error",
     "traceback": [
      "MethodError: no method matching getindex(::ProductRepr{Tuple{Matrix{Float64}, Vector{Float64}, Matrix{Float64}}}, ::Int64)\n\u001b[0mClosest candidates are:\n\u001b[0m  getindex(::Union{ProductRepr, ArrayPartition}, \u001b[91m::SemidirectProductGroup\u001b[39m, \u001b[91m::Union{Colon, Integer, Val, AbstractVector}\u001b[39m) at ~/.julia/packages/Manifolds/1oKAJ/src/groups/semidirect_product_group.jl:260\n\u001b[0m  getindex(::Union{ProductRepr, ArrayPartition}, \u001b[91m::ProductGroup\u001b[39m, \u001b[91m::Union{Colon, Integer, Val, AbstractVector}\u001b[39m) at ~/.julia/packages/Manifolds/1oKAJ/src/groups/product_group.jl:340\n\u001b[0m  getindex(::ProductRepr, \u001b[91m::ProductManifold\u001b[39m, \u001b[91m::Union{Colon, Integer, Val, AbstractVector}\u001b[39m) at ~/.julia/packages/Manifolds/1oKAJ/src/manifolds/ProductManifold.jl:639\n\u001b[0m  ...",
      "",
      "Stacktrace:",
      "  [1] (::var\"#237#240\"{ProductManifold{ℝ, Tuple{Stiefel{5, 1, ℝ}, PowerManifold{ℝ, Hyperbolic{1}, Tuple{1}, NestedPowerRepresentation}, Stiefel{6, 1, ℝ}}}, ProductRepr{Tuple{Matrix{Float64}, Vector{Float64}, Matrix{Float64}}}, SymmetricPositiveDefinite{3}, Matrix{Float64}, Vector{Matrix{Float64}}, ManifoldDiff.TangentDiffBackend{ManifoldDiff.FiniteDifferencesBackend{FiniteDifferences.AdaptedFiniteDifferenceMethod{5, 1, FiniteDifferences.UnadaptedFiniteDifferenceMethod{7, 5}}}, ExponentialRetraction, LogarithmicInverseRetraction, DefaultOrthonormalBasis{ℝ, ManifoldsBase.TangentSpaceType}, DefaultOrthonormalBasis{ℝ, ManifoldsBase.TangentSpaceType}}})(i::Int64)",
      "    @ Main ./none:0",
      "  [2] iterate",
      "    @ ./generator.jl:47 [inlined]",
      "  [3] collect",
      "    @ ./array.jl:724 [inlined]",
      "  [4] gradCCL",
      "    @ ~/Documents/PhD/Projects/8 - Manifold-valued tensor decomposition/src/manifold-valued-tensors/src/decompositions/curvature_corrected_low_rank_approximation.jl:32 [inlined]",
      "  [5] stochastic_gradient_descent!(M::ProductManifold{ℝ, Tuple{Stiefel{5, 1, ℝ}, PowerManifold{ℝ, Hyperbolic{1}, Tuple{1}, NestedPowerRepresentation}, Stiefel{6, 1, ℝ}}}, gradF::var\"#gradCCL#239\"{SymmetricPositiveDefinite{3}, Matrix{Float64}, Vector{Matrix{Float64}}, ManifoldDiff.TangentDiffBackend{ManifoldDiff.FiniteDifferencesBackend{FiniteDifferences.AdaptedFiniteDifferenceMethod{5, 1, FiniteDifferences.UnadaptedFiniteDifferenceMethod{7, 5}}}, ExponentialRetraction, LogarithmicInverseRetraction, DefaultOrthonormalBasis{ℝ, ManifoldsBase.TangentSpaceType}, DefaultOrthonormalBasis{ℝ, ManifoldsBase.TangentSpaceType}}, Int64}, x::ProductRepr{Tuple{Matrix{Float64}, Vector{Float64}, Matrix{Float64}}})",
      "    @ Manopt ~/.julia/packages/Manopt/G7Amz/src/solvers/stochastic_gradient_descent.jl:71",
      "  [6] stochastic_gradient_descent(M::ProductManifold{ℝ, Tuple{Stiefel{5, 1, ℝ}, PowerManifold{ℝ, Hyperbolic{1}, Tuple{1}, NestedPowerRepresentation}, Stiefel{6, 1, ℝ}}}, gradF::var\"#gradCCL#239\"{SymmetricPositiveDefinite{3}, Matrix{Float64}, Vector{Matrix{Float64}}, ManifoldDiff.TangentDiffBackend{ManifoldDiff.FiniteDifferencesBackend{FiniteDifferences.AdaptedFiniteDifferenceMethod{5, 1, FiniteDifferences.UnadaptedFiniteDifferenceMethod{7, 5}}}, ExponentialRetraction, LogarithmicInverseRetraction, DefaultOrthonormalBasis{ℝ, ManifoldsBase.TangentSpaceType}, DefaultOrthonormalBasis{ℝ, ManifoldsBase.TangentSpaceType}}, Int64}, x::ProductRepr{Tuple{Matrix{Float64}, Vector{Float64}, Matrix{Float64}}}; kwargs::Base.Pairs{Symbol, Union{}, Tuple{}, NamedTuple{(), Tuple{}}})",
      "    @ Manopt ~/.julia/packages/Manopt/G7Amz/src/solvers/stochastic_gradient_descent.jl:38",
      "  [7] stochastic_gradient_descent(M::ProductManifold{ℝ, Tuple{Stiefel{5, 1, ℝ}, PowerManifold{ℝ, Hyperbolic{1}, Tuple{1}, NestedPowerRepresentation}, Stiefel{6, 1, ℝ}}}, gradF::var\"#gradCCL#239\"{SymmetricPositiveDefinite{3}, Matrix{Float64}, Vector{Matrix{Float64}}, ManifoldDiff.TangentDiffBackend{ManifoldDiff.FiniteDifferencesBackend{FiniteDifferences.AdaptedFiniteDifferenceMethod{5, 1, FiniteDifferences.UnadaptedFiniteDifferenceMethod{7, 5}}}, ExponentialRetraction, LogarithmicInverseRetraction, DefaultOrthonormalBasis{ℝ, ManifoldsBase.TangentSpaceType}, DefaultOrthonormalBasis{ℝ, ManifoldsBase.TangentSpaceType}}, Int64}, x::ProductRepr{Tuple{Matrix{Float64}, Vector{Float64}, Matrix{Float64}}})",
      "    @ Manopt ~/.julia/packages/Manopt/G7Amz/src/solvers/stochastic_gradient_descent.jl:36",
      "  [8] curvature_reweighed_low_rank_approximation(M::SymmetricPositiveDefinite{3}, q::Matrix{Float64}, X::Vector{Matrix{Float64}}, rank::Int64)",
      "    @ Main ~/Documents/PhD/Projects/8 - Manifold-valued tensor decomposition/src/manifold-valued-tensors/src/decompositions/curvature_corrected_low_rank_approximation.jl:34",
      "  [9] top-level scope",
      "    @ In[85]:2",
      " [10] eval",
      "    @ ./boot.jl:373 [inlined]",
      " [11] include_string(mapexpr::typeof(REPL.softscope), mod::Module, code::String, filename::String)",
      "    @ Base ./loading.jl:1196"
     ]
    }
   ],
   "source": [
    "# TOY -- test\n",
    "curvature_reweighed_low_rank_approximation(M, e, data, 1);"
   ]
  },
  {
   "cell_type": "code",
   "execution_count": 23,
   "metadata": {},
   "outputs": [],
   "source": [
    "N_R_q, N_U = naive_SVD(M,q, data);\n",
    "CR_R_q, CR_U = curvature_reweighed_SVD(M,q, data);"
   ]
  },
  {
   "cell_type": "code",
   "execution_count": 24,
   "metadata": {},
   "outputs": [],
   "source": [
    "ref_distance = sqrt(sum(distance.(Ref(M), Ref(q), data).^2))\n",
    "\n",
    "N_tangent_distances_r = zeros(d)\n",
    "N_distances_r = zeros(d)\n",
    "CR_tangent_distances_r = zeros(d)\n",
    "CR_distances_r = zeros(d)\n",
    "\n",
    "for rank in 1:d\n",
    "    N_log_q_data_r = Symmetric.([sum([N_R_q[i] * N_U[k,i] for i in d-rank+1:d]) for k in 1:n])\n",
    "    CR_log_q_data_r = Symmetric.([sum([CR_R_q[i] * CR_U[k,i] for i in d-rank+1:d]) for k in 1:n])\n",
    "    # expoentiate back\n",
    "    N_data_r = exp.(Ref(M), Ref(q), N_log_q_data_r)\n",
    "    CR_data_r = exp.(Ref(M), Ref(q), CR_log_q_data_r)\n",
    "\n",
    "\n",
    "    # compute relative tangent space error\n",
    "    N_tangent_distances_r[rank] = sqrt(sum(norm.(Ref(M), Ref(q),  log_q_data - N_log_q_data_r).^2)) / ref_distance\n",
    "    CR_tangent_distances_r[rank] = sqrt(sum(norm.(Ref(M), Ref(q),  log_q_data - CR_log_q_data_r).^2)) / ref_distance\n",
    "\n",
    "\n",
    "    # compute relative manifold error\n",
    "    N_distances_r[rank] = sqrt(sum(distance.(Ref(M), data, N_data_r).^2)) / ref_distance\n",
    "    CR_distances_r[rank] = sqrt(sum(distance.(Ref(M), data, CR_data_r).^2)) / ref_distance\n",
    "end"
   ]
  },
  {
   "cell_type": "code",
   "execution_count": 25,
   "metadata": {},
   "outputs": [
    {
     "data": {
      "text/plain": [
       "\"/Users/wdiepeveen/Documents/PhD/Projects/8 - Manifold-valued tensor decomposition/src/manifold-valued-tensors/experiments/1D/P3/results/artificial1D_tangent_rank.png\""
      ]
     },
     "execution_count": 25,
     "metadata": {},
     "output_type": "execute_result"
    }
   ],
   "source": [
    "plot(1:d, [N_tangent_distances_r, CR_tangent_distances_r], label = [\"standard inner product\" \"reweighted inner product\"], ylims=(0,1), xlims=(1,d))\n",
    "savefig(\"results/artificial1D_tangent_rank.png\")"
   ]
  },
  {
   "cell_type": "code",
   "execution_count": 26,
   "metadata": {},
   "outputs": [
    {
     "data": {
      "text/plain": [
       "\"/Users/wdiepeveen/Documents/PhD/Projects/8 - Manifold-valued tensor decomposition/src/manifold-valued-tensors/experiments/1D/P3/results/artificial1D_rank.png\""
      ]
     },
     "execution_count": 26,
     "metadata": {},
     "output_type": "execute_result"
    }
   ],
   "source": [
    "plot(1:d, [N_distances_r, CR_distances_r], label = [\"standard inner product\" \"reweighted inner product\"], ylims=(0,1), xlims=(1,d))\n",
    "savefig(\"results/artificial1D_rank.png\")"
   ]
  }
 ],
 "metadata": {
  "kernelspec": {
   "display_name": "Julia 1.7.2",
   "language": "julia",
   "name": "julia-1.7"
  },
  "language_info": {
   "file_extension": ".jl",
   "mimetype": "application/julia",
   "name": "julia",
   "version": "1.7.2"
  },
  "orig_nbformat": 4,
  "vscode": {
   "interpreter": {
    "hash": "31f2aee4e71d21fbe5cf8b01ff0e069b9275f58929596ceb00d14d90e3e16cd6"
   }
  }
 },
 "nbformat": 4,
 "nbformat_minor": 2
}
