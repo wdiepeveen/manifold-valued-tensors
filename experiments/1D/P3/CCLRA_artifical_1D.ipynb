{
 "cells": [
  {
   "cell_type": "markdown",
   "metadata": {},
   "source": [
    "# Low-rank approximation on $\\mathcal{P}(d)$ - the space of $d$-dimensional SPD matrices"
   ]
  },
  {
   "cell_type": "markdown",
   "metadata": {},
   "source": [
    "In this notebook we want to get some intuition in different approaches for computing low-rank approximations for manifold-valued signals"
   ]
  },
  {
   "cell_type": "code",
   "execution_count": 3,
   "metadata": {},
   "outputs": [
    {
     "name": "stderr",
     "output_type": "stream",
     "text": [
      "WARNING: using FiniteDifferences.jacobian in module Manifolds conflicts with an existing identifier.\n",
      "WARNING: using FiniteDifferences.jacobian in module ManifoldDiff conflicts with an existing identifier.\n"
     ]
    }
   ],
   "source": [
    "using Manifolds\n",
    "using Manopt\n",
    "using LinearAlgebra\n",
    "using Random\n",
    "using Plots\n",
    "using ManifoldDiff\n",
    "using FiniteDiff\n",
    "using FiniteDifferences"
   ]
  },
  {
   "cell_type": "code",
   "execution_count": 183,
   "metadata": {},
   "outputs": [
    {
     "data": {
      "text/plain": [
       "curvature_corrected_low_rank_approximation (generic function with 2 methods)"
      ]
     },
     "execution_count": 183,
     "metadata": {},
     "output_type": "execute_result"
    }
   ],
   "source": [
    "include(\"../../../src/decompositions/naive_SVD.jl\")\n",
    "include(\"../../../src/utils/curvature_corrected_loss.jl\")\n",
    "# include(\"../../../src/utils/gradient_curvature_corrected_loss.jl\")\n",
    "include(\"../../../src/decompositions/curvature_corrected_low_rank_approximation.jl\")"
   ]
  },
  {
   "attachments": {},
   "cell_type": "markdown",
   "metadata": {},
   "source": [
    "### Load data and construct manifold ###"
   ]
  },
  {
   "cell_type": "code",
   "execution_count": 172,
   "metadata": {},
   "outputs": [
    {
     "data": {
      "text/plain": [
       "100"
      ]
     },
     "execution_count": 172,
     "metadata": {},
     "output_type": "execute_result"
    }
   ],
   "source": [
    "# load data\n",
    "M = SymmetricPositiveDefinite(3)\n",
    "d = manifold_dimension(M)\n",
    "n = 100  # 100\n"
   ]
  },
  {
   "cell_type": "code",
   "execution_count": 173,
   "metadata": {},
   "outputs": [],
   "source": [
    "e = 1. * Matrix(I, 3, 3)\n",
    "# compute basis\n",
    "Θ = get_basis(M, e, DefaultOrthonormalBasis())\n",
    "#  construct data\n",
    "τ = 2.  # variance\n",
    "σ = .05  # variance\n",
    "Xₑ = Θ.data[1]\n",
    "\n",
    "Random.seed!(31)\n",
    "predata = [exp(M, e, sqrt(τ) * randn(1)[1] * Xₑ) for i in 1:n]\n",
    "\n",
    "data = [exp(M, predata[i], random_tangent(M, predata[i], Val(:Gaussian), σ)) for i in 1:n]; # ∈ P(3)^n\n"
   ]
  },
  {
   "cell_type": "code",
   "execution_count": 163,
   "metadata": {},
   "outputs": [],
   "source": [
    "# Export slice image\n",
    "asymptote_export_SPD(\"results/artificial1D_orig.asy\", data=data);"
   ]
  },
  {
   "attachments": {},
   "cell_type": "markdown",
   "metadata": {},
   "source": [
    "### Construct low rank approximation ###"
   ]
  },
  {
   "cell_type": "code",
   "execution_count": 174,
   "metadata": {},
   "outputs": [],
   "source": [
    "q = mean(M, data)\n",
    "# q = 1. * Matrix(I, 3, 3)\n",
    "log_q_data = log.(Ref(M), Ref(q), data);  # ∈ T_q P(3)^n"
   ]
  },
  {
   "cell_type": "code",
   "execution_count": 165,
   "metadata": {},
   "outputs": [
    {
     "data": {
      "text/plain": [
       "0.1908537095052726"
      ]
     },
     "execution_count": 165,
     "metadata": {},
     "output_type": "execute_result"
    }
   ],
   "source": [
    "# TOY -- test\n",
    "# compute curvature corrected loss\n",
    "Ξ = 1/2 .* log_q_data\n",
    "i = 1\n",
    "loss = curvature_corrected_loss(M, e, data, Ξ[i], i)"
   ]
  },
  {
   "cell_type": "code",
   "execution_count": 186,
   "metadata": {},
   "outputs": [
    {
     "name": "stdout",
     "output_type": "stream",
     "text": [
      "Initial  F(x): 0.97109675402 | \n",
      "# 1     change: 0.003567717 |  F(x): 0.11684527545 | \n",
      "# 2     change: 0.001221225 |  F(x): 0.01673893463 | \n",
      "# 3     change: 0.000418290 |  F(x): 0.00499234909 | \n",
      "# 4     change: 0.000143394 |  F(x): 0.00361152157 | \n",
      "# 5     change: 0.000049216 |  F(x): 0.00344879542 | \n",
      "# 6     change: 0.000016920 |  F(x): 0.00342955117 | \n",
      "# 7     change: 0.000005831 |  F(x): 0.00342726416 | \n",
      "# 8     change: 0.000002016 |  F(x): 0.00342699051 | \n",
      "# 9     change: 0.000000700 |  F(x): 0.00342695743 | \n",
      "# 10    change: 0.000000245 |  F(x): 0.00342695336 | \n",
      "# 11    change: 0.000000088 |  F(x): 0.00342695282 | \n",
      "# 12    change: 0.000000032 |  F(x): 0.00342695271 | \n",
      "# 13    change: 0.000000017 |  F(x): 0.00342695267 | \n",
      "# 14    change: 0.000000019 |  F(x): 0.00342695263 | \n",
      "# 15    change: 0.000000001 |  F(x): 0.00342695259 | \n",
      "# 16    change: 0.000000019 |  F(x): 0.00342695255 | \n",
      "# 17    change: 0.000000019 |  F(x): 0.00342695251 | \n",
      "# 18    change: 0.000000019 |  F(x): 0.00342695247 | \n",
      "# 19    change: 0.000000000 |  F(x): 0.00342695243 | \n",
      "# 20    change: 0.000000007 |  F(x): 0.00342695239 | \n",
      "# 21    change: 0.000000019 |  F(x): 0.00342695235 | \n",
      "# 22    change: 0.000000019 |  F(x): 0.00342695231 | \n",
      "# 23    change: 0.000000009 |  F(x): 0.00342695227 | \n",
      "# 24    change: 0.000000010 |  F(x): 0.00342695223 | \n",
      "# 25    change: 0.000000019 |  F(x): 0.00342695220 | \n",
      "# 26    change: 0.000000019 |  F(x): 0.00342695216 | \n",
      "# 27    change: 0.000000019 |  F(x): 0.00342695212 | \n",
      "# 28    change: 0.000000019 |  F(x): 0.00342695208 | \n",
      "# 29    change: 0.000000019 |  F(x): 0.00342695204 | \n",
      "# 30    change: 0.000000019 |  F(x): 0.00342695200 | \n",
      "# 31    change: 0.000000019 |  F(x): 0.00342695196 | \n",
      "# 32    change: 0.000000019 |  F(x): 0.00342695192 | \n",
      "# 33    change: 0.000000019 |  F(x): 0.00342695188 | \n",
      "# 34    change: 0.000000019 |  F(x): 0.00342695184 | \n",
      "# 35    change: 0.000000019 |  F(x): 0.00342695180 | \n",
      "# 36    change: 0.000000019 |  F(x): 0.00342695177 | \n",
      "# 37    change: 0.000000002 |  F(x): 0.00342695173 | \n",
      "# 38    change: 0.000000019 |  F(x): 0.00342695169 | \n",
      "# 39    change: 0.000000004 |  F(x): 0.00342695165 | \n",
      "# 40    change: 0.000000019 |  F(x): 0.00342695161 | \n",
      "# 41    change: 0.000000019 |  F(x): 0.00342695157 | \n",
      "# 42    change: 0.000000019 |  F(x): 0.00342695153 | \n",
      "# 43    change: 0.000000019 |  F(x): 0.00342695149 | \n",
      "# 44    change: 0.000000009 |  F(x): 0.00342695145 | \n",
      "# 45    change: 0.000000006 |  F(x): 0.00342695141 | \n",
      "# 46    change: 0.000000004 |  F(x): 0.00342695137 | \n",
      "# 47    change: 0.000000019 |  F(x): 0.00342695133 | \n",
      "# 48    change: 0.000000019 |  F(x): 0.00342695130 | \n",
      "# 49    change: 0.000000019 |  F(x): 0.00342695126 | \n",
      "# 50    change: 0.000000019 |  F(x): 0.00342695122 | \n",
      "# 51    change: 0.000000002 |  F(x): 0.00342695118 | \n",
      "# 52    change: 0.000000019 |  F(x): 0.00342695114 | \n",
      "# 53    change: 0.000000009 |  F(x): 0.00342695110 | \n",
      "# 54    change: 0.000000006 |  F(x): 0.00342695106 | \n",
      "# 55    change: 0.000000019 |  F(x): 0.00342695102 | \n",
      "# 56    change: 0.000000019 |  F(x): 0.00342695098 | \n",
      "# 57    change: 0.000000019 |  F(x): 0.00342695094 | \n",
      "# 58    change: 0.000000019 |  F(x): 0.00342695091 | \n",
      "# 59    change: 0.000000019 |  F(x): 0.00342695087 | \n",
      "# 60    change: 0.000000019 |  F(x): 0.00342695083 | \n",
      "# 61    change: 0.000000019 |  F(x): 0.00342695079 | \n",
      "# 62    change: 0.000000019 |  F(x): 0.00342695075 | \n",
      "# 63    change: 0.000000019 |  F(x): 0.00342695071 | \n",
      "# 64    change: 0.000000019 |  F(x): 0.00342695067 | \n",
      "# 65    change: 0.000000007 |  F(x): 0.00342695063 | \n",
      "# 66    change: 0.000000013 |  F(x): 0.00342695059 | \n",
      "# 67    change: 0.000000019 |  F(x): 0.00342695055 | \n",
      "# 68    change: 0.000000019 |  F(x): 0.00342695051 | \n",
      "# 69    change: 0.000000019 |  F(x): 0.00342695048 | \n",
      "# 70    change: 0.000000006 |  F(x): 0.00342695044 | \n",
      "# 71    change: 0.000000019 |  F(x): 0.00342695040 | \n",
      "# 72    change: 0.000000005 |  F(x): 0.00342695036 | \n",
      "# 73    change: 0.000000019 |  F(x): 0.00342695032 | \n",
      "# 74    change: 0.000000019 |  F(x): 0.00342695028 | \n",
      "# 75    change: 0.000000019 |  F(x): 0.00342695024 | \n",
      "# 76    change: 0.000000019 |  F(x): 0.00342695020 | \n",
      "# 77    change: 0.000000001 |  F(x): 0.00342695016 | \n",
      "# 78    change: 0.000000005 |  F(x): 0.00342695012 | \n",
      "# 79    change: 0.000000019 |  F(x): 0.00342695008 | \n",
      "# 80    change: 0.000000019 |  F(x): 0.00342695005 | \n",
      "# 81    change: 0.000000019 |  F(x): 0.00342695001 | \n",
      "# 82    change: 0.000000019 |  F(x): 0.00342694997 | \n",
      "# 83    change: 0.000000019 |  F(x): 0.00342694993 | \n",
      "# 84    change: 0.000000019 |  F(x): 0.00342694989 | \n",
      "# 85    change: 0.000000019 |  F(x): 0.00342694985 | \n",
      "# 86    change: 0.000000019 |  F(x): 0.00342694981 | \n",
      "# 87    change: 0.000000019 |  F(x): 0.00342694977 | \n",
      "# 88    change: 0.000000019 |  F(x): 0.00342694973 | \n",
      "# 89    change: 0.000000010 |  F(x): 0.00342694969 | \n",
      "# 90    change: 0.000000019 |  F(x): 0.00342694966 | \n",
      "# 91    change: 0.000000019 |  F(x): 0.00342694962 | \n",
      "# 92    change: 0.000000010 |  F(x): 0.00342694958 | \n",
      "# 93    change: 0.000000019 |  F(x): 0.00342694954 | \n",
      "# 94    change: 0.000000019 |  F(x): 0.00342694950 | \n",
      "# 95    change: 0.000000019 |  F(x): 0.00342694946 | \n",
      "# 96    change: 0.000000013 |  F(x): 0.00342694942 | \n",
      "# 97    change: 0.000000019 |  F(x): 0.00342694938 | \n",
      "# 98    change: 0.000000019 |  F(x): 0.00342694934 | \n",
      "# 99    change: 0.000000019 |  F(x): 0.00342694930 | \n",
      "# 100   change: 0.000000019 |  F(x): 0.00342694927 | \n",
      "# 101   change: 0.000000019 |  F(x): 0.00342694923 | \n",
      "# 102   change: 0.000000001 |  F(x): 0.00342694919 | \n",
      "# 103   change: 0.000000019 |  F(x): 0.00342694915 | \n",
      "# 104   change: 0.000000010 |  F(x): 0.00342694911 | \n",
      "# 105   change: 0.000000019 |  F(x): 0.00342694907 | \n",
      "# 106   change: 0.000000002 |  F(x): 0.00342694903 | \n",
      "# 107   change: 0.000000019 |  F(x): 0.00342694899 | \n",
      "# 108   change: 0.000000019 |  F(x): 0.00342694895 | \n",
      "# 109   change: 0.000000019 |  F(x): 0.00342694891 | \n",
      "# 110   change: 0.000000009 |  F(x): 0.00342694888 | \n",
      "# 111   change: 0.000000019 |  F(x): 0.00342694884 | \n",
      "# 112   change: 0.000000011 |  F(x): 0.00342694880 | \n",
      "# 113   change: 0.000000019 |  F(x): 0.00342694876 | \n",
      "# 114   change: 0.000000019 |  F(x): 0.00342694872 | \n",
      "# 115   change: 0.000000005 |  F(x): 0.00342694868 | \n",
      "# 116   change: 0.000000019 |  F(x): 0.00342694864 | \n",
      "# 117   change: 0.000000019 |  F(x): 0.00342694860 | \n",
      "# 118   change: 0.000000019 |  F(x): 0.00342694856 | \n",
      "# 119   change: 0.000000019 |  F(x): 0.00342694852 | \n",
      "# 120   change: 0.000000002 |  F(x): 0.00342694849 | \n",
      "# 121   change: 0.000000019 |  F(x): 0.00342694845 | \n",
      "# 122   change: 0.000000019 |  F(x): 0.00342694841 | \n",
      "# 123   change: 0.000000019 |  F(x): 0.00342694837 | \n",
      "# 124   change: 0.000000019 |  F(x): 0.00342694833 | \n",
      "# 125   change: 0.000000003 |  F(x): 0.00342694829 | \n",
      "# 126   change: 0.000000014 |  F(x): 0.00342694825 | \n",
      "# 127   change: 0.000000019 |  F(x): 0.00342694821 | \n",
      "# 128   change: 0.000000019 |  F(x): 0.00342694817 | \n",
      "# 129   change: 0.000000019 |  F(x): 0.00342694813 | \n",
      "# 130   change: 0.000000012 |  F(x): 0.00342694810 | \n",
      "# 131   change: 0.000000008 |  F(x): 0.00342694806 | \n",
      "# 132   change: 0.000000019 |  F(x): 0.00342694802 | \n",
      "# 133   change: 0.000000019 |  F(x): 0.00342694798 | \n",
      "# 134   change: 0.000000008 |  F(x): 0.00342694794 | \n",
      "# 135   change: 0.000000019 |  F(x): 0.00342694790 | \n",
      "# 136   change: 0.000000019 |  F(x): 0.00342694786 | \n",
      "# 137   change: 0.000000019 |  F(x): 0.00342694782 | \n",
      "# 138   change: 0.000000019 |  F(x): 0.00342694778 | \n",
      "# 139   change: 0.000000019 |  F(x): 0.00342694775 | \n",
      "# 140   change: 0.000000010 |  F(x): 0.00342694771 | \n",
      "# 141   change: 0.000000019 |  F(x): 0.00342694767 | \n",
      "# 142   change: 0.000000003 |  F(x): 0.00342694763 | \n",
      "# 143   change: 0.000000019 |  F(x): 0.00342694759 | \n",
      "# 144   change: 0.000000019 |  F(x): 0.00342694755 | \n",
      "# 145   change: 0.000000019 |  F(x): 0.00342694751 | \n",
      "# 146   change: 0.000000019 |  F(x): 0.00342694747 | \n",
      "# 147   change: 0.000000014 |  F(x): 0.00342694743 | \n",
      "# 148   change: 0.000000006 |  F(x): 0.00342694739 | \n",
      "# 149   change: 0.000000019 |  F(x): 0.00342694736 | \n",
      "# 150   change: 0.000000019 |  F(x): 0.00342694732 | \n",
      "# 151   change: 0.000000006 |  F(x): 0.00342694728 | \n",
      "# 152   change: 0.000000019 |  F(x): 0.00342694724 | \n",
      "# 153   change: 0.000000019 |  F(x): 0.00342694720 | \n",
      "# 154   change: 0.000000019 |  F(x): 0.00342694716 | \n",
      "# 155   change: 0.000000019 |  F(x): 0.00342694712 | \n",
      "# 156   change: 0.000000019 |  F(x): 0.00342694708 | \n",
      "# 157   change: 0.000000019 |  F(x): 0.00342694704 | \n",
      "# 158   change: 0.000000013 |  F(x): 0.00342694701 | \n",
      "# 159   change: 0.000000019 |  F(x): 0.00342694697 | \n",
      "# 160   change: 0.000000019 |  F(x): 0.00342694693 | \n",
      "# 161   change: 0.000000010 |  F(x): 0.00342694689 | \n",
      "# 162   change: 0.000000019 |  F(x): 0.00342694685 | \n",
      "# 163   change: 0.000000019 |  F(x): 0.00342694681 | \n",
      "# 164   change: 0.000000019 |  F(x): 0.00342694677 | \n",
      "# 165   change: 0.000000011 |  F(x): 0.00342694673 | \n",
      "# 166   change: 0.000000019 |  F(x): 0.00342694669 | \n",
      "# 167   change: 0.000000019 |  F(x): 0.00342694666 | \n",
      "# 168   change: 0.000000003 |  F(x): 0.00342694662 | \n",
      "# 169   change: 0.000000019 |  F(x): 0.00342694658 | \n",
      "# 170   change: 0.000000019 |  F(x): 0.00342694654 | \n",
      "# 171   change: 0.000000006 |  F(x): 0.00342694650 | \n",
      "# 172   change: 0.000000019 |  F(x): 0.00342694646 | \n",
      "# 173   change: 0.000000019 |  F(x): 0.00342694642 | \n",
      "# 174   change: 0.000000019 |  F(x): 0.00342694638 | \n",
      "# 175   change: 0.000000019 |  F(x): 0.00342694634 | \n",
      "# 176   change: 0.000000019 |  F(x): 0.00342694631 | \n",
      "# 177   change: 0.000000009 |  F(x): 0.00342694627 | \n",
      "# 178   change: 0.000000008 |  F(x): 0.00342694623 | \n",
      "# 179   change: 0.000000000 |  F(x): 0.00342694619 | \n",
      "# 180   change: 0.000000014 |  F(x): 0.00342694615 | \n",
      "# 181   change: 0.000000011 |  F(x): 0.00342694611 | \n",
      "# 182   change: 0.000000019 |  F(x): 0.00342694607 | \n",
      "# 183   change: 0.000000019 |  F(x): 0.00342694603 | \n",
      "# 184   change: 0.000000019 |  F(x): 0.00342694599 | \n",
      "# 185   change: 0.000000000 |  F(x): 0.00342694596 | \n",
      "# 186   change: 0.000000019 |  F(x): 0.00342694592 | \n",
      "# 187   change: 0.000000019 |  F(x): 0.00342694588 | \n",
      "# 188   change: 0.000000019 |  F(x): 0.00342694584 | \n",
      "# 189   change: 0.000000019 |  F(x): 0.00342694580 | \n",
      "# 190   change: 0.000000019 |  F(x): 0.00342694576 | \n",
      "# 191   change: 0.000000019 |  F(x): 0.00342694572 | \n",
      "# 192   change: 0.000000009 |  F(x): 0.00342694568 | \n",
      "# 193   change: 0.000000005 |  F(x): 0.00342694564 | \n",
      "# 194   change: 0.000000019 |  F(x): 0.00342694561 | \n",
      "# 195   change: 0.000000019 |  F(x): 0.00342694557 | \n",
      "# 196   change: 0.000000019 |  F(x): 0.00342694553 | \n",
      "# 197   change: 0.000000010 |  F(x): 0.00342694549 | \n",
      "# 198   change: 0.000000007 |  F(x): 0.00342694545 | \n",
      "# 199   change: 0.000000019 |  F(x): 0.00342694541 | \n",
      "# 200   change: 0.000000009 |  F(x): 0.00342694537 | \n",
      "The algorithm reached its maximal number of iterations (200).\n"
     ]
    }
   ],
   "source": [
    "# TOY -- test\n",
    "# gradient_curvature_corrected_loss()\n",
    "curvature_corrected_low_rank_approximation(M, e, data, 1; stepsize=1/100000);"
   ]
  },
  {
   "cell_type": "code",
   "execution_count": 23,
   "metadata": {},
   "outputs": [],
   "source": [
    "N_R_q, N_U = naive_SVD(M,q, data);\n",
    "CR_R_q, CR_U = curvature_reweighed_SVD(M,q, data);"
   ]
  },
  {
   "cell_type": "code",
   "execution_count": 24,
   "metadata": {},
   "outputs": [],
   "source": [
    "ref_distance = sqrt(sum(distance.(Ref(M), Ref(q), data).^2))\n",
    "\n",
    "N_tangent_distances_r = zeros(d)\n",
    "N_distances_r = zeros(d)\n",
    "CR_tangent_distances_r = zeros(d)\n",
    "CR_distances_r = zeros(d)\n",
    "\n",
    "for rank in 1:d\n",
    "    N_log_q_data_r = Symmetric.([sum([N_R_q[i] * N_U[k,i] for i in d-rank+1:d]) for k in 1:n])\n",
    "    CR_log_q_data_r = Symmetric.([sum([CR_R_q[i] * CR_U[k,i] for i in d-rank+1:d]) for k in 1:n])\n",
    "    # expoentiate back\n",
    "    N_data_r = exp.(Ref(M), Ref(q), N_log_q_data_r)\n",
    "    CR_data_r = exp.(Ref(M), Ref(q), CR_log_q_data_r)\n",
    "\n",
    "\n",
    "    # compute relative tangent space error\n",
    "    N_tangent_distances_r[rank] = sqrt(sum(norm.(Ref(M), Ref(q),  log_q_data - N_log_q_data_r).^2)) / ref_distance\n",
    "    CR_tangent_distances_r[rank] = sqrt(sum(norm.(Ref(M), Ref(q),  log_q_data - CR_log_q_data_r).^2)) / ref_distance\n",
    "\n",
    "\n",
    "    # compute relative manifold error\n",
    "    N_distances_r[rank] = sqrt(sum(distance.(Ref(M), data, N_data_r).^2)) / ref_distance\n",
    "    CR_distances_r[rank] = sqrt(sum(distance.(Ref(M), data, CR_data_r).^2)) / ref_distance\n",
    "end"
   ]
  },
  {
   "cell_type": "code",
   "execution_count": 25,
   "metadata": {},
   "outputs": [
    {
     "data": {
      "text/plain": [
       "\"/Users/wdiepeveen/Documents/PhD/Projects/8 - Manifold-valued tensor decomposition/src/manifold-valued-tensors/experiments/1D/P3/results/artificial1D_tangent_rank.png\""
      ]
     },
     "execution_count": 25,
     "metadata": {},
     "output_type": "execute_result"
    }
   ],
   "source": [
    "plot(1:d, [N_tangent_distances_r, CR_tangent_distances_r], label = [\"standard inner product\" \"reweighted inner product\"], ylims=(0,1), xlims=(1,d))\n",
    "savefig(\"results/artificial1D_tangent_rank.png\")"
   ]
  },
  {
   "cell_type": "code",
   "execution_count": 26,
   "metadata": {},
   "outputs": [
    {
     "data": {
      "text/plain": [
       "\"/Users/wdiepeveen/Documents/PhD/Projects/8 - Manifold-valued tensor decomposition/src/manifold-valued-tensors/experiments/1D/P3/results/artificial1D_rank.png\""
      ]
     },
     "execution_count": 26,
     "metadata": {},
     "output_type": "execute_result"
    }
   ],
   "source": [
    "plot(1:d, [N_distances_r, CR_distances_r], label = [\"standard inner product\" \"reweighted inner product\"], ylims=(0,1), xlims=(1,d))\n",
    "savefig(\"results/artificial1D_rank.png\")"
   ]
  }
 ],
 "metadata": {
  "kernelspec": {
   "display_name": "Julia 1.7.2",
   "language": "julia",
   "name": "julia-1.7"
  },
  "language_info": {
   "file_extension": ".jl",
   "mimetype": "application/julia",
   "name": "julia",
   "version": "1.7.2"
  },
  "orig_nbformat": 4,
  "vscode": {
   "interpreter": {
    "hash": "31f2aee4e71d21fbe5cf8b01ff0e069b9275f58929596ceb00d14d90e3e16cd6"
   }
  }
 },
 "nbformat": 4,
 "nbformat_minor": 2
}
