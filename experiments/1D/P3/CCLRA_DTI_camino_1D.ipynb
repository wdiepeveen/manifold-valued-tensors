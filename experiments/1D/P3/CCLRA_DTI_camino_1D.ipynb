{
 "cells": [
  {
   "cell_type": "markdown",
   "metadata": {},
   "source": [
    "# Low-rank approximation on $\\mathcal{P}(d)$ - the space of $d$-dimensional SPD matrices"
   ]
  },
  {
   "cell_type": "markdown",
   "metadata": {},
   "source": [
    "In this notebook we want to get some intuition in different approaches for computing low-rank approximations for manifold-valued signals"
   ]
  },
  {
   "cell_type": "code",
   "execution_count": 1,
   "metadata": {},
   "outputs": [],
   "source": [
    "using Manifolds\n",
    "using Manopt\n",
    "using LinearAlgebra\n",
    "using NIfTI\n",
    "using Plots\n",
    "using LaTeXStrings"
   ]
  },
  {
   "cell_type": "code",
   "execution_count": 2,
   "metadata": {},
   "outputs": [
    {
     "data": {
      "text/plain": [
       "exact_loss (generic function with 2 methods)"
      ]
     },
     "execution_count": 2,
     "metadata": {},
     "output_type": "execute_result"
    }
   ],
   "source": [
    "include(\"../../../src/decompositions/signals/naive_low_rank_approximation.jl\")\n",
    "include(\"../../../src/decompositions/signals/curvature_corrected_low_rank_approximation.jl\")\n",
    "include(\"../../../src/decompositions/signals/exact_low_rank_approximation.jl\")\n",
    "\n",
    "include(\"../../../src/functions/loss_functions/curvature_corrected_loss.jl\")\n",
    "include(\"../../../src/functions/loss_functions/exact_loss.jl\")"
   ]
  },
  {
   "attachments": {},
   "cell_type": "markdown",
   "metadata": {},
   "source": [
    "### Load data and construct manifold ###"
   ]
  },
  {
   "cell_type": "code",
   "execution_count": 3,
   "metadata": {},
   "outputs": [
    {
     "data": {
      "text/plain": [
       "(112, 112, 50, 1, 6)"
      ]
     },
     "execution_count": 3,
     "metadata": {},
     "output_type": "execute_result"
    }
   ],
   "source": [
    "# load data\n",
    "# ni = niread(\"data/nifti_dt.nii.gz\") * 1e9;\n",
    "ni = niread(\"../../../data/nifti_dt_nonlinear.nii.gz\") * 1e9;\n",
    "size(ni)"
   ]
  },
  {
   "cell_type": "code",
   "execution_count": 4,
   "metadata": {},
   "outputs": [
    {
     "name": "stdout",
     "output_type": "stream",
     "text": [
      "(2304,)"
     ]
    }
   ],
   "source": [
    " d1, d2, d3, _, d = size(ni)\n",
    "\n",
    "# construct data as points on the manifold (and add 1e-5 * I for numerical stability)\n",
    "predata = [ # data ordered as [xx, yx, yy, zx, zy, zz]\n",
    "    [\n",
    "    [ni[i,j,k,1,1] + 1e-5;; ni[i,j,k,1,2];; ni[i,j,k,1,4]]; \n",
    "    [ni[i,j,k,1,2];; ni[i,j,k,1,3] + 1e-5;; ni[i,j,k,1,5]]; \n",
    "    [ni[i,j,k,1,4];; ni[i,j,k,1,5];; ni[i,j,k,1,6] + 1e-5]\n",
    "    ] for i=1:d1, j=1:d2, k=1:d3];\n",
    "    \n",
    "# pick a 1D slice \n",
    "data = vec(predata[34:81,32:79,15]); # TODO just get all the data (that is non-zero) and put it in a 1D array!!!!\n",
    "print(size(data))\n",
    "# construct data manifold\n",
    "n = size(data)[1] \n",
    "M = SymmetricPositiveDefinite(3)\n",
    "d = manifold_dimension(M);"
   ]
  },
  {
   "cell_type": "code",
   "execution_count": 5,
   "metadata": {},
   "outputs": [],
   "source": [
    "# Export slice image\n",
    "num_export = 20\n",
    "asymptote_export_SPD(\"results/Camino1D_orig.asy\", data=data[1:min(num_export,n)], scale_axes=(2,2,2));"
   ]
  },
  {
   "attachments": {},
   "cell_type": "markdown",
   "metadata": {},
   "source": [
    "### Construct low rank approximation ###"
   ]
  },
  {
   "cell_type": "code",
   "execution_count": 6,
   "metadata": {},
   "outputs": [],
   "source": [
    "q = mean(M, data)\n",
    "log_q_data = log.(Ref(M), Ref(q), data);  # ∈ T_q P(3)^n"
   ]
  },
  {
   "cell_type": "code",
   "execution_count": 11,
   "metadata": {},
   "outputs": [
    {
     "name": "stdout",
     "output_type": "stream",
     "text": [
      "Initial  F(x): 4.22480413859 | \n",
      "# 1     change: 6.217888522 |  F(x): 1.91786435802 | \n",
      "# 2     change: 3.492781408 |  F(x): 1.14104844733 | \n",
      "# 3     change: 2.213168748 |  F(x): 0.82422564498 | \n",
      "# 4     change: 1.458206643 |  F(x): 0.68455166339 | \n",
      "# 5     change: 0.998577254 |  F(x): 0.61804268548 | \n",
      "# 6     change: 0.709030714 |  F(x): 0.58406626587 | \n",
      "# 7     change: 0.518616694 |  F(x): 0.56570495184 | \n",
      "# 8     change: 0.387680803 |  F(x): 0.55537309279 | \n",
      "# 9     change: 0.294079954 |  F(x): 0.54940111850 | \n",
      "# 10    change: 0.225170845 |  F(x): 0.54589012204 | \n",
      "# 11    change: 0.173404291 |  F(x): 0.54380434096 | \n",
      "# 12    change: 0.134005914 |  F(x): 0.54255740028 | \n",
      "# 13    change: 0.103777288 |  F(x): 0.54180910397 | \n",
      "# 14    change: 0.080469806 |  F(x): 0.54135901367 | \n",
      "# 15    change: 0.062445304 |  F(x): 0.54108791053 | \n",
      "# 16    change: 0.048481238 |  F(x): 0.54092447538 | \n",
      "# 17    change: 0.037651052 |  F(x): 0.54082589458 | \n",
      "# 18    change: 0.029245762 |  F(x): 0.54076641201 | \n",
      "# 19    change: 0.022719680 |  F(x): 0.54073051276 | \n",
      "# 20    change: 0.017651305 |  F(x): 0.54070884341 | \n",
      "The algorithm reached its maximal number of iterations (20).\n"
     ]
    },
    {
     "data": {
      "text/plain": [
       "([[24.42970402293359 -0.33964141672890874 -0.50245473645762; -0.33964141672890874 23.001784263029407 -0.27683708016370806; -0.50245473645762 -0.27683708016370806 22.358081386982935]], [0.0011084770115784015; -0.00181408779184214; … ; 0.00036078830219510305; -0.0032671954126559525;;])"
      ]
     },
     "execution_count": 11,
     "metadata": {},
     "output_type": "execute_result"
    }
   ],
   "source": [
    "curvature_corrected_low_rank_approximation(M, q, data, 1; stepsize=1/500, max_iter=20, change_tol=1e-4)"
   ]
  },
  {
   "cell_type": "code",
   "execution_count": 20,
   "metadata": {},
   "outputs": [],
   "source": [
    "# exact_low_rank_approximation(M, q, data, 1; stepsize=1/1000000000, max_iter=2); "
   ]
  },
  {
   "cell_type": "code",
   "execution_count": 10,
   "metadata": {},
   "outputs": [
    {
     "name": "stdout",
     "output_type": "stream",
     "text": [
      "#1 | computing naive low-rank approximation\n",
      "#1 | computing curvature corrected low-rank approximation\n",
      "Initial  F(x): 4.22480413859 | \n",
      "# 1     change: 3.108944261 |  F(x): 2.89145801401 | \n",
      "# 2     change: 2.390343755 |  F(x): 2.09255521438 | \n",
      "# 3     change: 1.889382028 |  F(x): 1.58915356240 | \n",
      "# 4     change: 1.519486073 |  F(x): 1.26174255757 | \n",
      "# 5     change: 1.236136249 |  F(x): 1.04416885967 | \n",
      "The algorithm reached its maximal number of iterations (5).\n",
      "#1 | computing exact low-rank approximation\n",
      "Initial  F(x): 0.53834899660 | \n",
      "# 1     change: 0.002272143 |  F(x): 0.53834927893 | \n",
      "# 2     change: 0.002271281 |  F(x): 0.53834955454 | \n",
      "# 3     change: 0.002270415 |  F(x): 0.53834982342 | \n",
      "# 4     change: 0.002269545 |  F(x): 0.53835008553 | \n",
      "# 5     change: 0.002268672 |  F(x): 0.53835034087 | \n",
      "The algorithm reached its maximal number of iterations (5).\n",
      "#2 | computing naive low-rank approximation\n",
      "#2 | computing curvature corrected low-rank approximation\n",
      "Initial  F(x): 10.86743471167 | \n",
      "# 1     change: 5.224275214 |  F(x): 7.22083059071 | \n",
      "# 2     change: 3.781336621 |  F(x): 5.24368549401 | \n",
      "# 3     change: 2.934914768 |  F(x): 4.02890005327 | \n",
      "# 4     change: 2.371265840 |  F(x): 3.22568560465 | \n",
      "# 5     change: 1.966306904 |  F(x): 2.66845435002 | \n",
      "The algorithm reached its maximal number of iterations (5).\n",
      "#2 | computing exact low-rank approximation\n",
      "Initial  F(x): 0.52020321356 | \n",
      "# 1     change: 7.069852753 |  F(x): 0.49035965742 | \n",
      "# 2     change: 0.598840135 |  F(x): 0.48568875141 | \n",
      "# 3     change: 0.472955299 |  F(x): 0.48213724844 | \n",
      "# 4     change: 0.392469445 |  F(x): 0.47930800430 | \n",
      "# 5     change: 0.335780760 |  F(x): 0.47698206923 | \n",
      "The algorithm reached its maximal number of iterations (5).\n",
      "#3 | computing naive low-rank approximation\n",
      "#3 | computing curvature corrected low-rank approximation\n",
      "Initial  F(x): 16.57210647685 | \n",
      "# 1     change: 6.831051887 |  F(x): 10.41213676422 | \n",
      "# 2     change: 4.836311519 |  F(x): 7.20365076498 | \n",
      "# 3     change: 3.677009659 |  F(x): 5.31837413003 | \n",
      "# 4     change: 2.893327958 |  F(x): 4.13726378320 | \n",
      "# 5     change: 2.334603763 |  F(x): 3.36083595316 | \n",
      "The algorithm reached its maximal number of iterations (5).\n",
      "#3 | computing exact low-rank approximation\n",
      "Initial  F(x): 0.49590464314 | \n",
      "# 1     change: 17.900700631 |  F(x): 0.43181278291 | \n",
      "# 2     change: 0.381027068 |  F(x): 0.42811117091 | \n",
      "# 3     change: 0.336119961 |  F(x): 0.42497250810 | \n",
      "# 4     change: 0.300544306 |  F(x): 0.42228758774 | \n",
      "# 5     change: 0.271684145 |  F(x): 0.41996920242 | \n",
      "The algorithm reached its maximal number of iterations (5).\n",
      "#4 | computing naive low-rank approximation\n",
      "#4 | computing curvature corrected low-rank approximation\n",
      "Initial  F(x): 12.41396581794 | \n",
      "# 1     change: 5.573470236 |  F(x): 8.35498073423 | \n",
      "# 2     change: 3.881924894 |  F(x): 6.28239764916 | \n",
      "# 3     change: 2.983187645 |  F(x): 5.02945882990 | \n",
      "# 4     change: 2.405474920 |  F(x): 4.20144331263 | \n",
      "# 5     change: 2.006740007 |  F(x): 3.61775378954 | \n",
      "The algorithm reached its maximal number of iterations (5).\n",
      "#4 | computing exact low-rank approximation\n",
      "Initial  F(x): 0.41887314140 | \n",
      "# 1     change: 16.932723635 |  F(x): 0.34761737600 | \n",
      "# 2     change: 0.728643122 |  F(x): 0.34364626834 | \n",
      "# 3     change: 0.517429059 |  F(x): 0.34080554056 | \n",
      "# 4     change: 0.405266169 |  F(x): 0.33856326514 | \n",
      "# 5     change: 0.334496875 |  F(x): 0.33669798733 | \n",
      "The algorithm reached its maximal number of iterations (5).\n",
      "#5 | computing naive low-rank approximation\n",
      "#5 | computing curvature corrected low-rank approximation\n",
      "Initial  F(x): 5.73534786837 | \n",
      "# 1     change: 4.373384077 |  F(x): 3.57380410118 | \n",
      "# 2     change: 2.454146713 |  F(x): 2.75886089169 | \n",
      "# 3     change: 1.822119253 |  F(x): 2.29703369517 | \n",
      "# 4     change: 1.431526730 |  F(x): 2.00662220913 | \n",
      "# 5     change: 1.170754186 |  F(x): 1.80925629603 | \n",
      "The algorithm reached its maximal number of iterations (5).\n",
      "#5 | computing exact low-rank approximation\n",
      "Initial  F(x): 0.29932630498 | \n",
      "# 1     change: 16.400898535 |  F(x): 0.27516354367 | \n",
      "# 2     change: 1.319975184 |  F(x): 0.25907375118 | \n",
      "# 3     change: 0.685500827 |  F(x): 0.25062730671 | \n",
      "# 4     change: 0.490252863 |  F(x): 0.24476180073 | \n",
      "# 5     change: 0.385867185 |  F(x): 0.24029232959 | \n",
      "The algorithm reached its maximal number of iterations (5).\n",
      "#6 | computing naive low-rank approximation\n",
      "#6 | computing curvature corrected low-rank approximation\n",
      "Initial  F(x): 0.00000000000 | \n",
      "The algorithm reached approximately critical point after 0 iterations; the gradient norm (3.897610111518074e-11) is less than 1.0e-8.\n",
      "#6 | computing exact low-rank approximation\n",
      "Initial  F(x): 0.00000000000 | \n",
      "# 1     change: 0.000000000 |  F(x): 0.00000000000 | \n",
      "The algorithm performed a step with a change (1.8349971529316207e-10) less than 0.0001.\n"
     ]
    }
   ],
   "source": [
    "max_iter = 5 # maybe just do 50 here to show that initially the exact solver does a bit better, but for low rank matrices, we can use our method\n",
    "\n",
    "nR_q = []\n",
    "nU = []\n",
    "ccR_q = []\n",
    "ccU = []\n",
    "eR_q = []\n",
    "eU = []\n",
    "for i in 1:d # this takes at least 2500 minutes (= 4h 10min)...\n",
    "    println(\"#$(i) | computing naive low-rank approximation\")\n",
    "    nRr_q, nUr = naive_low_rank_approximation(M, q, data, i)\n",
    "    push!(nR_q, nRr_q)\n",
    "    push!(nU, nUr)\n",
    "    println(\"#$(i) | computing curvature corrected low-rank approximation\")\n",
    "    ccRr_q, ccUr = curvature_corrected_low_rank_approximation(M, q, data, i; stepsize=1/1000, max_iter=max_iter, change_tol=1e-4); \n",
    "    push!(ccR_q, ccRr_q)\n",
    "    push!(ccU, ccUr)\n",
    "    println(\"#$(i) | computing exact low-rank approximation\")\n",
    "    eRr_q, eUr = exact_low_rank_approximation(M, q, data, i; stepsize=1/10000000000, max_iter=max_iter, change_tol=1e-4); \n",
    "    push!(eR_q, eRr_q)\n",
    "    push!(eU, eUr)\n",
    "end"
   ]
  },
  {
   "cell_type": "code",
   "execution_count": 26,
   "metadata": {},
   "outputs": [],
   "source": [
    "ref_distance = sum(distance.(Ref(M), Ref(q), data).^2)\n",
    "\n",
    "naive_tangent_distances_r = zeros(d)\n",
    "predicted_naive_distances_r= zeros(d)\n",
    "true_naive_distances_r= zeros(d)\n",
    "\n",
    "curvature_corrected_tangent_distances_r = zeros(d)\n",
    "predicted_curvature_corrected_distances_r = zeros(d)\n",
    "true_curvature_corrected_distances_r = zeros(d)\n",
    "\n",
    "exact_tangent_distances_r = zeros(d)\n",
    "exact_distances_r= zeros(d)\n",
    "\n",
    "for rank in 1:d\n",
    "    naive_log_q_data_r = Symmetric.([sum([nR_q[rank][i] * nU[rank][k,i] for i in 1:rank]) for k in 1:n])\n",
    "    curvature_corrected_log_q_data_r = Symmetric.([sum([ccR_q[rank][i] * ccU[rank][k,i] for i in 1:rank]) for k in 1:n])\n",
    "    exact_log_q_data_r = Symmetric.([sum([eR_q[rank][i] * eU[rank][k,i] for i in 1:rank]) for k in 1:n])\n",
    "    \n",
    "    # expoentiate back\n",
    "    naive_data_r = exp.(Ref(M), Ref(q), naive_log_q_data_r)\n",
    "    curvature_corrected_data_r = exp.(Ref(M), Ref(q), curvature_corrected_log_q_data_r)\n",
    "    exact_data_r = exp.(Ref(M), Ref(q), exact_log_q_data_r)\n",
    "\n",
    "    # compute relative tangent space error\n",
    "    naive_tangent_distances_r[rank] = sum(norm.(Ref(M), Ref(q),  log_q_data - naive_log_q_data_r).^2) / ref_distance\n",
    "    curvature_corrected_tangent_distances_r[rank] = sum(norm.(Ref(M), Ref(q),  log_q_data - curvature_corrected_log_q_data_r).^2) / ref_distance\n",
    "    exact_tangent_distances_r[rank] = sum(norm.(Ref(M), Ref(q),  log_q_data - exact_log_q_data_r).^2) / ref_distance\n",
    "\n",
    "    # compute relative manifold error\n",
    "    predicted_naive_distances_r[rank] = curvature_corrected_loss(M, q, data, naive_log_q_data_r)\n",
    "    true_naive_distances_r[rank] = exact_loss(M, q, data, naive_log_q_data_r)\n",
    "    predicted_curvature_corrected_distances_r[rank] = curvature_corrected_loss(M, q, data, curvature_corrected_log_q_data_r)\n",
    "    true_curvature_corrected_distances_r[rank] = exact_loss(M, q, data, curvature_corrected_log_q_data_r)\n",
    "    exact_distances_r[rank] = exact_loss(M, q, data, exact_log_q_data_r)\n",
    "end"
   ]
  },
  {
   "cell_type": "code",
   "execution_count": 27,
   "metadata": {},
   "outputs": [
    {
     "data": {
      "text/plain": [
       "\"/Users/wdiepeveen/Documents/PhD/Projects/8 - Manifold-valued tensor decomposition/src/manifold-valued-tensors/experiments/1D/P3/results/Camino1D_logerrors_by_rank.png\""
      ]
     },
     "execution_count": 27,
     "metadata": {},
     "output_type": "execute_result"
    }
   ],
   "source": [
    "# We want plots with (1) the lower bound error, (2) the actually uncorrected manifold error and (3) the corrected manifold error\n",
    "plot(1:d, [naive_tangent_distances_r, true_naive_distances_r, true_curvature_corrected_distances_r, exact_distances_r], label = [\"theoretical lower bound\" \"naive\" \"curvature corrected\" \"exact\"], ylims=(0,1), xlims=(1,d),xaxis=(\"approximation rank\"), yaxis=(L\"$\\varepsilon_{rel}$\"))\n",
    "savefig(\"results/Camino1D_errors_by_rank.png\")\n",
    "plot(1:d, [naive_tangent_distances_r .+ 1e-16, true_naive_distances_r .+ 1e-16, true_curvature_corrected_distances_r .+ 1e-16, exact_distances_r .+ 1e-16], label = [\"theoretical lower bound\" \"naive\" \"curvature corrected\" \"exact\"], ylims=(1e-16,1), xlims=(1,d), xaxis=(\"approximation rank\"), yaxis=(L\"$\\varepsilon_{rel}$\", :log), legend=:bottomleft)\n",
    "savefig(\"results/Camino1D_logerrors_by_rank.png\")"
   ]
  },
  {
   "cell_type": "code",
   "execution_count": 28,
   "metadata": {},
   "outputs": [
    {
     "data": {
      "text/plain": [
       "\"/Users/wdiepeveen/Documents/PhD/Projects/8 - Manifold-valued tensor decomposition/src/manifold-valued-tensors/experiments/1D/P3/results/Camino1D_logdiscrepancy_by_rank.png\""
      ]
     },
     "execution_count": 28,
     "metadata": {},
     "output_type": "execute_result"
    }
   ],
   "source": [
    "# It would be nice to also have a plot that tells us something about the error in predicting the manifold loss (using CCL) and the actual loss \n",
    "# (1) for the naive approach (2) for the curvature corrected approach\n",
    "plot(1:d, [predicted_naive_distances_r ./ true_naive_distances_r, predicted_curvature_corrected_distances_r ./ true_curvature_corrected_distances_r], label = [\"discrepancy in initialisation\" \"discrepancy in solutions\"], xlims=(1,d),xaxis=(\"approximation rank\"), yaxis=(L\"$\\delta_{rel}$\"))\n",
    "savefig(\"results/Camino1D_discrepancy_by_rank.png\")\n",
    "plot(1:d, [predicted_naive_distances_r ./ true_naive_distances_r, predicted_curvature_corrected_distances_r ./ true_curvature_corrected_distances_r], label = [\"discrepancy in initialisation\" \"discrepancy in solutions\"], xlims=(1,d), xaxis=(\"approximation rank\"), yaxis=(L\"$\\delta_{rel}$\", :log), legend=:bottomleft)\n",
    "savefig(\"results/Camino1D_logdiscrepancy_by_rank.png\")"
   ]
  }
 ],
 "metadata": {
  "kernelspec": {
   "display_name": "Julia 1.7.2",
   "language": "julia",
   "name": "julia-1.7"
  },
  "language_info": {
   "file_extension": ".jl",
   "mimetype": "application/julia",
   "name": "julia",
   "version": "1.7.2"
  },
  "orig_nbformat": 4,
  "vscode": {
   "interpreter": {
    "hash": "31f2aee4e71d21fbe5cf8b01ff0e069b9275f58929596ceb00d14d90e3e16cd6"
   }
  }
 },
 "nbformat": 4,
 "nbformat_minor": 2
}
