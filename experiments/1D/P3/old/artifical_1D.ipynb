{
 "cells": [
  {
   "cell_type": "markdown",
   "metadata": {},
   "source": [
    "# Low-rank approximation on $\\mathcal{P}(d)$ - the space of $d$-dimensional SPD matrices"
   ]
  },
  {
   "cell_type": "markdown",
   "metadata": {},
   "source": [
    "In this notebook we want to get some intuition in different approaches for computing low-rank approximations for manifold-valued signals"
   ]
  },
  {
   "cell_type": "code",
   "execution_count": 17,
   "metadata": {},
   "outputs": [],
   "source": [
    "using Manifolds\n",
    "using Manopt\n",
    "using LinearAlgebra\n",
    "using Random\n",
    "using Plots"
   ]
  },
  {
   "cell_type": "code",
   "execution_count": 18,
   "metadata": {},
   "outputs": [
    {
     "data": {
      "text/plain": [
       "curvature_reweighed_SVD (generic function with 1 method)"
      ]
     },
     "execution_count": 18,
     "metadata": {},
     "output_type": "execute_result"
    }
   ],
   "source": [
    "include(\"../../../src/decompositions/naive_SVD.jl\")\n",
    "include(\"../../../src/decompositions/curvature_reweighed_SVD.jl\")"
   ]
  },
  {
   "attachments": {},
   "cell_type": "markdown",
   "metadata": {},
   "source": [
    "### Load data and construct manifold ###"
   ]
  },
  {
   "cell_type": "code",
   "execution_count": 19,
   "metadata": {},
   "outputs": [
    {
     "data": {
      "text/plain": [
       "100"
      ]
     },
     "execution_count": 19,
     "metadata": {},
     "output_type": "execute_result"
    }
   ],
   "source": [
    "# load data\n",
    "M = SymmetricPositiveDefinite(3)\n",
    "d = manifold_dimension(M)\n",
    "n = 100\n"
   ]
  },
  {
   "cell_type": "code",
   "execution_count": 20,
   "metadata": {},
   "outputs": [
    {
     "data": {
      "text/plain": [
       "100-element Vector{Matrix{Float64}}:\n",
       " [0.3986987613875975 -0.004674981341706422 0.026595219096028272; -0.004674981341706429 0.9714614552799347 0.019376401778023734; 0.026595219096028216 0.019376401778023765 0.9148073014173103]\n",
       " [0.23592164327709567 0.007033351603041819 0.0014652185807598611; 0.007033351603041833 0.9196298245118651 -0.011535996092956635; 0.0014652185807598611 -0.011535996092956607 0.9893676079102491]\n",
       " [6.505451123922677 -0.08270255365377853 0.24269335144903348; -0.08270255365377852 0.994482631724813 0.029323341051963697; 0.2426933514490336 0.029323341051963752 0.9650121044518502]\n",
       " [3.2663543472007364 0.02034254595516269 -0.10322665455557445; 0.02034254595516269 1.0280576882545684 -0.011539359776212847; -0.10322665455557445 -0.011539359776212791 1.0196541929444223]\n",
       " [1.4491174736185202 0.07540603148483727 0.06946533407078842; 0.07540603148483732 0.9650222418878447 0.020452583075566855; 0.06946533407078836 0.020452583075566855 1.0013347147077842]\n",
       " [1.2990868047004291 -0.02470673488570169 0.03850770987255193; -0.02470673488570169 1.0633158838465742 0.07360295012132012; 0.03850770987255187 0.07360295012132001 0.9775094079929535]\n",
       " [0.15047396937777668 0.0026359528931923226 0.010061706216262449; 0.0026359528931923226 1.013565101360457 0.044469297269309205; 0.010061706216262463 0.044469297269309205 0.974521999972588]\n",
       " [2.474551012357359 0.05000166144155532 0.05452226527233051; 0.050001661441555434 1.0328943473030268 -0.002804574059996054; 0.05452226527233051 -0.002804574059996054 0.9722593745592203]\n",
       " [0.31935385718796183 0.014642127651890574 0.013521016355765025; 0.014642127651890588 0.8959854319347518 -0.06493730656835471; 0.013521016355765025 -0.06493730656835471 0.912436793195941]\n",
       " [1.2380897655591647 -0.0017595850808359292 0.017819024845009995; -0.0017595850808359015 1.0201152278219965 -0.02489399119510538; 0.017819024845010023 -0.02489399119510538 0.9597918248702408]\n",
       " [1.247326777622253 -0.024972557639980075 -0.05497213245925303; -0.024972557639980075 0.9189541843667198 0.011925034000610735; -0.05497213245925309 0.011925034000610749 0.9878258065553527]\n",
       " [0.32728971735677187 0.006382533856673728 -0.009971955313521713; 0.006382533856673728 0.9992729778855617 0.030116128657841912; -0.009971955313521741 0.0301161286578418 0.9968681777598748]\n",
       " [10.352675675421201 -0.39429643354747235 0.01861430888916435; -0.39429643354747235 0.9877067675066812 -0.01933179712988393; 0.01861430888916442 -0.01933179712988393 0.9704172499724004]\n",
       " ⋮\n",
       " [1.5747602823844495 0.03133227460562693 0.06215276741911993; 0.03133227460562693 1.0353894020782817 0.047465731005193246; 0.06215276741911993 0.0474657310051933 1.0064166372396688]\n",
       " [0.06075287307971827 -0.00022788019934211895 0.006178234259807137; -0.00022788019934211548 1.0498178791549524 0.02878557236116741; 0.0061782342598071215 0.028785572361167355 0.9691571058631888]\n",
       " [3.3492280605466225 -0.010012846334330446 0.06882601196629223; -0.010012846334330455 0.9673273397179825 0.0068802700847112805; 0.06882601196629226 0.0068802700847112805 1.071240875989926]\n",
       " [0.2932756080899446 0.020762953943153195 0.011231644961762495; 0.020762953943153195 1.014453522726987 -0.012836460834670854; 0.011231644961762488 -0.012836460834670937 1.0067709456654483]\n",
       " [0.19857137632924982 0.0037271578487953344 -0.009750399432973539; 0.0037271578487953066 0.9366677530208012 0.04062499092492594; -0.009750399432973539 0.04062499092492591 0.9874293743145793]\n",
       " [1.4725226090546142 -0.014922286296114529 -0.09381246898185763; -0.014922286296114584 1.0720603982921768 0.03587982919397087; -0.09381246898185758 0.035879829193970814 1.043576869388082]\n",
       " [1.4903245801435636 0.01596371326286794 -0.04282769597827346; 0.01596371326286794 1.0313385933374588 -0.0024814455828769955; -0.04282769597827352 -0.0024814455828769677 0.9458261198668302]\n",
       " [0.13157188700560116 -0.012599076101710474 -0.00524587463803422; -0.012599076101710495 1.011241604934392 0.09829958855875892; -0.005245874638034206 0.09829958855875892 1.0300467503936037]\n",
       " [1.084051361368401 0.0488891487672819 -0.09054840718519247; 0.0488891487672819 1.0795419039148126 -0.024226756760145962; -0.09054840718519253 -0.024226756760145962 1.0195701070514023]\n",
       " [2.3246577542316307 -0.13231118496105831 -0.063990364704664; -0.13231118496105843 1.0137683791358414 -0.018575523147103645; -0.06399036470466399 -0.0185755231471037 0.9301462855650872]\n",
       " [2.7350315473825257 -0.07894047704054652 0.06270261415811595; -0.07894047704054641 0.9955537828529282 -0.021401280118300225; 0.06270261415811595 -0.021401280118300225 0.947250919936559]\n",
       " [0.12793708136495766 -0.007104042959237663 -1.0486152697664064e-5; -0.007104042959237632 1.033371838821144 0.05344682259834882; -1.0486152697705697e-5 0.05344682259834882 1.0581197435616452]"
      ]
     },
     "execution_count": 20,
     "metadata": {},
     "output_type": "execute_result"
    }
   ],
   "source": [
    "e = 1. * Matrix(I, 3, 3)\n",
    "# compute basis\n",
    "Θ = get_basis(M, e, DefaultOrthonormalBasis())\n",
    "#  construct data\n",
    "τ = 2.  # variance\n",
    "σ = .05  # variance\n",
    "Xₑ = Θ.data[1]\n",
    "\n",
    "Random.seed!(31)\n",
    "predata = [exp(M, e, sqrt(τ) * randn(1)[1] * Xₑ) for i in 1:n]\n",
    "\n",
    "data = [exp(M, predata[i], random_tangent(M, predata[i], Val(:Gaussian), σ)) for i in 1:n]; # ∈ P(3)^n\n"
   ]
  },
  {
   "cell_type": "code",
   "execution_count": 21,
   "metadata": {},
   "outputs": [],
   "source": [
    "# Export slice image\n",
    "asymptote_export_SPD(\"results/artificial1D_orig.asy\", data=data);"
   ]
  },
  {
   "attachments": {},
   "cell_type": "markdown",
   "metadata": {},
   "source": [
    "### Construct low rank approximation ###"
   ]
  },
  {
   "cell_type": "code",
   "execution_count": 22,
   "metadata": {},
   "outputs": [],
   "source": [
    "q = mean(M, data)\n",
    "# q = 1. * Matrix(I, 3, 3)\n",
    "log_q_data = log.(Ref(M), Ref(q), data);  # ∈ T_q P(3)^n"
   ]
  },
  {
   "cell_type": "code",
   "execution_count": 23,
   "metadata": {},
   "outputs": [],
   "source": [
    "N_R_q, N_U = naive_SVD(M,q, data);\n",
    "CR_R_q, CR_U = curvature_reweighed_SVD(M,q, data);"
   ]
  },
  {
   "cell_type": "code",
   "execution_count": 24,
   "metadata": {},
   "outputs": [],
   "source": [
    "ref_distance = sqrt(sum(distance.(Ref(M), Ref(q), data).^2))\n",
    "\n",
    "N_tangent_distances_r = zeros(d)\n",
    "N_distances_r = zeros(d)\n",
    "CR_tangent_distances_r = zeros(d)\n",
    "CR_distances_r = zeros(d)\n",
    "\n",
    "for rank in 1:d\n",
    "    N_log_q_data_r = Symmetric.([sum([N_R_q[i] * N_U[k,i] for i in d-rank+1:d]) for k in 1:n])\n",
    "    CR_log_q_data_r = Symmetric.([sum([CR_R_q[i] * CR_U[k,i] for i in d-rank+1:d]) for k in 1:n])\n",
    "    # expoentiate back\n",
    "    N_data_r = exp.(Ref(M), Ref(q), N_log_q_data_r)\n",
    "    CR_data_r = exp.(Ref(M), Ref(q), CR_log_q_data_r)\n",
    "\n",
    "\n",
    "    # compute relative tangent space error\n",
    "    N_tangent_distances_r[rank] = sqrt(sum(norm.(Ref(M), Ref(q),  log_q_data - N_log_q_data_r).^2)) / ref_distance\n",
    "    CR_tangent_distances_r[rank] = sqrt(sum(norm.(Ref(M), Ref(q),  log_q_data - CR_log_q_data_r).^2)) / ref_distance\n",
    "\n",
    "\n",
    "    # compute relative manifold error\n",
    "    N_distances_r[rank] = sqrt(sum(distance.(Ref(M), data, N_data_r).^2)) / ref_distance\n",
    "    CR_distances_r[rank] = sqrt(sum(distance.(Ref(M), data, CR_data_r).^2)) / ref_distance\n",
    "end"
   ]
  },
  {
   "cell_type": "code",
   "execution_count": 25,
   "metadata": {},
   "outputs": [
    {
     "data": {
      "text/plain": [
       "\"/Users/wdiepeveen/Documents/PhD/Projects/8 - Manifold-valued tensor decomposition/src/manifold-valued-tensors/experiments/1D/P3/results/artificial1D_tangent_rank.png\""
      ]
     },
     "execution_count": 25,
     "metadata": {},
     "output_type": "execute_result"
    }
   ],
   "source": [
    "plot(1:d, [N_tangent_distances_r, CR_tangent_distances_r], label = [\"standard inner product\" \"reweighted inner product\"], ylims=(0,1), xlims=(1,d))\n",
    "savefig(\"results/artificial1D_tangent_rank.png\")"
   ]
  },
  {
   "cell_type": "code",
   "execution_count": 26,
   "metadata": {},
   "outputs": [
    {
     "data": {
      "text/plain": [
       "\"/Users/wdiepeveen/Documents/PhD/Projects/8 - Manifold-valued tensor decomposition/src/manifold-valued-tensors/experiments/1D/P3/results/artificial1D_rank.png\""
      ]
     },
     "execution_count": 26,
     "metadata": {},
     "output_type": "execute_result"
    }
   ],
   "source": [
    "plot(1:d, [N_distances_r, CR_distances_r], label = [\"standard inner product\" \"reweighted inner product\"], ylims=(0,1), xlims=(1,d))\n",
    "savefig(\"results/artificial1D_rank.png\")"
   ]
  }
 ],
 "metadata": {
  "kernelspec": {
   "display_name": "Julia 1.7.2",
   "language": "julia",
   "name": "julia-1.7"
  },
  "language_info": {
   "file_extension": ".jl",
   "mimetype": "application/julia",
   "name": "julia",
   "version": "1.7.2"
  },
  "orig_nbformat": 4,
  "vscode": {
   "interpreter": {
    "hash": "31f2aee4e71d21fbe5cf8b01ff0e069b9275f58929596ceb00d14d90e3e16cd6"
   }
  }
 },
 "nbformat": 4,
 "nbformat_minor": 2
}
