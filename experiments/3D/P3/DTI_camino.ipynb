{
 "cells": [
  {
   "cell_type": "markdown",
   "metadata": {},
   "source": [
    "# Low-rank approximation on $\\mathcal{P}(d)$ - the space of $d$-dimensional SPD matrices"
   ]
  },
  {
   "cell_type": "markdown",
   "metadata": {},
   "source": [
    "In this notebook we want to get some intuition in different approaches for computing low-rank approximations for manifold-valued signals"
   ]
  },
  {
   "cell_type": "code",
   "execution_count": 73,
   "metadata": {},
   "outputs": [],
   "source": [
    "using Manifolds\n",
    "using Manopt\n",
    "using LinearAlgebra\n",
    "using NIfTI\n",
    "using Plots"
   ]
  },
  {
   "cell_type": "markdown",
   "metadata": {},
   "source": [
    "### Load data ###"
   ]
  },
  {
   "cell_type": "code",
   "execution_count": 74,
   "metadata": {},
   "outputs": [],
   "source": [
    "# load data\n",
    "# ni = niread(\"data/nifti_dt.nii.gz\") * 1e9;\n",
    "ni = niread(\"data/nifti_dt_nonlinear.nii.gz\") * 1e9;"
   ]
  },
  {
   "cell_type": "code",
   "execution_count": 75,
   "metadata": {},
   "outputs": [
    {
     "data": {
      "text/plain": [
       "(112, 112, 50, 1, 6)"
      ]
     },
     "metadata": {},
     "output_type": "display_data"
    }
   ],
   "source": [
    "size(ni)"
   ]
  },
  {
   "cell_type": "code",
   "execution_count": 76,
   "metadata": {},
   "outputs": [
    {
     "data": {
      "text/plain": [
       "6-element Vector{Float64}:\n",
       "  1.456667231281017\n",
       "  0.08766011527772122\n",
       "  1.8108553545559403\n",
       " -0.10191358174038712\n",
       " -0.15621183513392367\n",
       "  1.4246920310156952"
      ]
     },
     "metadata": {},
     "output_type": "display_data"
    }
   ],
   "source": [
    "x = 49\n",
    "y = 60\n",
    "z = 25\n",
    "\n",
    "ni[x,y,z,1,:]  # gets xx, yx, yy, zx, zy, zz"
   ]
  },
  {
   "cell_type": "markdown",
   "metadata": {},
   "source": [
    "### Construct manifold ###"
   ]
  },
  {
   "cell_type": "code",
   "execution_count": 77,
   "metadata": {},
   "outputs": [
    {
     "data": {
      "text/plain": [
       "(112, 112, 50, 1, 6)"
      ]
     },
     "metadata": {},
     "output_type": "display_data"
    }
   ],
   "source": [
    "d1, d2, d3, _, d = size(ni)"
   ]
  },
  {
   "cell_type": "code",
   "execution_count": 78,
   "metadata": {},
   "outputs": [],
   "source": [
    "# construct data as points on the manifold\n",
    "predata = [\n",
    "    [\n",
    "    [ni[i,j,k,1,1] + 1e-5;; ni[i,j,k,1,2];; ni[i,j,k,1,4]]; \n",
    "    [ni[i,j,k,1,2];; ni[i,j,k,1,3] + 1e-5;; ni[i,j,k,1,5]]; \n",
    "    [ni[i,j,k,1,4];; ni[i,j,k,1,5];; ni[i,j,k,1,6] + 1e-5]\n",
    "    ] for i=1:d1, j=1:d2, k=1:d3];"
   ]
  },
  {
   "cell_type": "code",
   "execution_count": 79,
   "metadata": {},
   "outputs": [
    {
     "name": "stdout",
     "output_type": "stream",
     "text": [
      "(112, 112, 50)"
     ]
    }
   ],
   "source": [
    "print(size(predata))"
   ]
  },
  {
   "cell_type": "code",
   "execution_count": 80,
   "metadata": {},
   "outputs": [
    {
     "name": "stdout",
     "output_type": "stream",
     "text": [
      "(48, 48, 20)\n"
     ]
    },
    {
     "data": {
      "text/plain": [
       "48×48×20 Array{Nothing, 3}:\n",
       "[:, :, 1] =\n",
       " nothing  nothing  nothing  nothing  …  nothing  nothing  nothing  nothing\n",
       " nothing  nothing  nothing  nothing     nothing  nothing  nothing  nothing\n",
       " nothing  nothing  nothing  nothing     nothing  nothing  nothing  nothing\n",
       " nothing  nothing  nothing  nothing     nothing  nothing  nothing  nothing\n",
       " nothing  nothing  nothing  nothing     nothing  nothing  nothing  nothing\n",
       " nothing  nothing  nothing  nothing  …  nothing  nothing  nothing  nothing\n",
       " nothing  nothing  nothing  nothing     nothing  nothing  nothing  nothing\n",
       " nothing  nothing  nothing  nothing     nothing  nothing  nothing  nothing\n",
       " nothing  nothing  nothing  nothing     nothing  nothing  nothing  nothing\n",
       " nothing  nothing  nothing  nothing     nothing  nothing  nothing  nothing\n",
       " ⋮                                   ⋱           ⋮                 \n",
       " nothing  nothing  nothing  nothing     nothing  nothing  nothing  nothing\n",
       " nothing  nothing  nothing  nothing  …  nothing  nothing  nothing  nothing\n",
       " nothing  nothing  nothing  nothing     nothing  nothing  nothing  nothing\n",
       " nothing  nothing  nothing  nothing     nothing  nothing  nothing  nothing\n",
       " nothing  nothing  nothing  nothing     nothing  nothing  nothing  nothing\n",
       " nothing  nothing  nothing  nothing     nothing  nothing  nothing  nothing\n",
       " nothing  nothing  nothing  nothing  …  nothing  nothing  nothing  nothing\n",
       " nothing  nothing  nothing  nothing     nothing  nothing  nothing  nothing\n",
       " nothing  nothing  nothing  nothing     nothing  nothing  nothing  nothing\n",
       "\n",
       "[:, :, 2] =\n",
       " nothing  nothing  nothing  nothing  …  nothing  nothing  nothing  nothing\n",
       " nothing  nothing  nothing  nothing     nothing  nothing  nothing  nothing\n",
       " nothing  nothing  nothing  nothing     nothing  nothing  nothing  nothing\n",
       " nothing  nothing  nothing  nothing     nothing  nothing  nothing  nothing\n",
       " nothing  nothing  nothing  nothing     nothing  nothing  nothing  nothing\n",
       " nothing  nothing  nothing  nothing  …  nothing  nothing  nothing  nothing\n",
       " nothing  nothing  nothing  nothing     nothing  nothing  nothing  nothing\n",
       " nothing  nothing  nothing  nothing     nothing  nothing  nothing  nothing\n",
       " nothing  nothing  nothing  nothing     nothing  nothing  nothing  nothing\n",
       " nothing  nothing  nothing  nothing     nothing  nothing  nothing  nothing\n",
       " ⋮                                   ⋱           ⋮                 \n",
       " nothing  nothing  nothing  nothing     nothing  nothing  nothing  nothing\n",
       " nothing  nothing  nothing  nothing  …  nothing  nothing  nothing  nothing\n",
       " nothing  nothing  nothing  nothing     nothing  nothing  nothing  nothing\n",
       " nothing  nothing  nothing  nothing     nothing  nothing  nothing  nothing\n",
       " nothing  nothing  nothing  nothing     nothing  nothing  nothing  nothing\n",
       " nothing  nothing  nothing  nothing     nothing  nothing  nothing  nothing\n",
       " nothing  nothing  nothing  nothing  …  nothing  nothing  nothing  nothing\n",
       " nothing  nothing  nothing  nothing     nothing  nothing  nothing  nothing\n",
       " nothing  nothing  nothing  nothing     nothing  nothing  nothing  nothing\n",
       "\n",
       "[:, :, 3] =\n",
       " nothing  nothing  nothing  nothing  …  nothing  nothing  nothing  nothing\n",
       " nothing  nothing  nothing  nothing     nothing  nothing  nothing  nothing\n",
       " nothing  nothing  nothing  nothing     nothing  nothing  nothing  nothing\n",
       " nothing  nothing  nothing  nothing     nothing  nothing  nothing  nothing\n",
       " nothing  nothing  nothing  nothing     nothing  nothing  nothing  nothing\n",
       " nothing  nothing  nothing  nothing  …  nothing  nothing  nothing  nothing\n",
       " nothing  nothing  nothing  nothing     nothing  nothing  nothing  nothing\n",
       " nothing  nothing  nothing  nothing     nothing  nothing  nothing  nothing\n",
       " nothing  nothing  nothing  nothing     nothing  nothing  nothing  nothing\n",
       " nothing  nothing  nothing  nothing     nothing  nothing  nothing  nothing\n",
       " ⋮                                   ⋱           ⋮                 \n",
       " nothing  nothing  nothing  nothing     nothing  nothing  nothing  nothing\n",
       " nothing  nothing  nothing  nothing  …  nothing  nothing  nothing  nothing\n",
       " nothing  nothing  nothing  nothing     nothing  nothing  nothing  nothing\n",
       " nothing  nothing  nothing  nothing     nothing  nothing  nothing  nothing\n",
       " nothing  nothing  nothing  nothing     nothing  nothing  nothing  nothing\n",
       " nothing  nothing  nothing  nothing     nothing  nothing  nothing  nothing\n",
       " nothing  nothing  nothing  nothing  …  nothing  nothing  nothing  nothing\n",
       " nothing  nothing  nothing  nothing     nothing  nothing  nothing  nothing\n",
       " nothing  nothing  nothing  nothing     nothing  nothing  nothing  nothing\n",
       "\n",
       ";;; … \n",
       "\n",
       "[:, :, 18] =\n",
       " nothing  nothing  nothing  nothing  …  nothing  nothing  nothing  nothing\n",
       " nothing  nothing  nothing  nothing     nothing  nothing  nothing  nothing\n",
       " nothing  nothing  nothing  nothing     nothing  nothing  nothing  nothing\n",
       " nothing  nothing  nothing  nothing     nothing  nothing  nothing  nothing\n",
       " nothing  nothing  nothing  nothing     nothing  nothing  nothing  nothing\n",
       " nothing  nothing  nothing  nothing  …  nothing  nothing  nothing  nothing\n",
       " nothing  nothing  nothing  nothing     nothing  nothing  nothing  nothing\n",
       " nothing  nothing  nothing  nothing     nothing  nothing  nothing  nothing\n",
       " nothing  nothing  nothing  nothing     nothing  nothing  nothing  nothing\n",
       " nothing  nothing  nothing  nothing     nothing  nothing  nothing  nothing\n",
       " ⋮                                   ⋱           ⋮                 \n",
       " nothing  nothing  nothing  nothing     nothing  nothing  nothing  nothing\n",
       " nothing  nothing  nothing  nothing  …  nothing  nothing  nothing  nothing\n",
       " nothing  nothing  nothing  nothing     nothing  nothing  nothing  nothing\n",
       " nothing  nothing  nothing  nothing     nothing  nothing  nothing  nothing\n",
       " nothing  nothing  nothing  nothing     nothing  nothing  nothing  nothing\n",
       " nothing  nothing  nothing  nothing     nothing  nothing  nothing  nothing\n",
       " nothing  nothing  nothing  nothing  …  nothing  nothing  nothing  nothing\n",
       " nothing  nothing  nothing  nothing     nothing  nothing  nothing  nothing\n",
       " nothing  nothing  nothing  nothing     nothing  nothing  nothing  nothing\n",
       "\n",
       "[:, :, 19] =\n",
       " nothing  nothing  nothing  nothing  …  nothing  nothing  nothing  nothing\n",
       " nothing  nothing  nothing  nothing     nothing  nothing  nothing  nothing\n",
       " nothing  nothing  nothing  nothing     nothing  nothing  nothing  nothing\n",
       " nothing  nothing  nothing  nothing     nothing  nothing  nothing  nothing\n",
       " nothing  nothing  nothing  nothing     nothing  nothing  nothing  nothing\n",
       " nothing  nothing  nothing  nothing  …  nothing  nothing  nothing  nothing\n",
       " nothing  nothing  nothing  nothing     nothing  nothing  nothing  nothing\n",
       " nothing  nothing  nothing  nothing     nothing  nothing  nothing  nothing\n",
       " nothing  nothing  nothing  nothing     nothing  nothing  nothing  nothing\n",
       " nothing  nothing  nothing  nothing     nothing  nothing  nothing  nothing\n",
       " ⋮                                   ⋱           ⋮                 \n",
       " nothing  nothing  nothing  nothing     nothing  nothing  nothing  nothing\n",
       " nothing  nothing  nothing  nothing  …  nothing  nothing  nothing  nothing\n",
       " nothing  nothing  nothing  nothing     nothing  nothing  nothing  nothing\n",
       " nothing  nothing  nothing  nothing     nothing  nothing  nothing  nothing\n",
       " nothing  nothing  nothing  nothing     nothing  nothing  nothing  nothing\n",
       " nothing  nothing  nothing  nothing     nothing  nothing  nothing  nothing\n",
       " nothing  nothing  nothing  nothing  …  nothing  nothing  nothing  nothing\n",
       " nothing  nothing  nothing  nothing     nothing  nothing  nothing  nothing\n",
       " nothing  nothing  nothing  nothing     nothing  nothing  nothing  nothing\n",
       "\n",
       "[:, :, 20] =\n",
       " nothing  nothing  nothing  nothing  …  nothing  nothing  nothing  nothing\n",
       " nothing  nothing  nothing  nothing     nothing  nothing  nothing  nothing\n",
       " nothing  nothing  nothing  nothing     nothing  nothing  nothing  nothing\n",
       " nothing  nothing  nothing  nothing     nothing  nothing  nothing  nothing\n",
       " nothing  nothing  nothing  nothing     nothing  nothing  nothing  nothing\n",
       " nothing  nothing  nothing  nothing  …  nothing  nothing  nothing  nothing\n",
       " nothing  nothing  nothing  nothing     nothing  nothing  nothing  nothing\n",
       " nothing  nothing  nothing  nothing     nothing  nothing  nothing  nothing\n",
       " nothing  nothing  nothing  nothing     nothing  nothing  nothing  nothing\n",
       " nothing  nothing  nothing  nothing     nothing  nothing  nothing  nothing\n",
       " ⋮                                   ⋱           ⋮                 \n",
       " nothing  nothing  nothing  nothing     nothing  nothing  nothing  nothing\n",
       " nothing  nothing  nothing  nothing  …  nothing  nothing  nothing  nothing\n",
       " nothing  nothing  nothing  nothing     nothing  nothing  nothing  nothing\n",
       " nothing  nothing  nothing  nothing     nothing  nothing  nothing  nothing\n",
       " nothing  nothing  nothing  nothing     nothing  nothing  nothing  nothing\n",
       " nothing  nothing  nothing  nothing     nothing  nothing  nothing  nothing\n",
       " nothing  nothing  nothing  nothing  …  nothing  nothing  nothing  nothing\n",
       " nothing  nothing  nothing  nothing     nothing  nothing  nothing  nothing\n",
       " nothing  nothing  nothing  nothing     nothing  nothing  nothing  nothing"
      ]
     },
     "metadata": {},
     "output_type": "display_data"
    }
   ],
   "source": [
    "# pick a 2D slice \n",
    "# xlims [34,81] y: [32,79] z:[8,30]\n",
    "# data = predata[34:81, 32:79, 8:30]\n",
    "data = predata[34:81,32:79,10:29]\n",
    "D1, D2, D3 = size(data)\n",
    "\n",
    "M = SymmetricPositiveDefinite(3)\n",
    "println(size(data))\n",
    "check_point.(Ref(M), data)"
   ]
  },
  {
   "cell_type": "code",
   "execution_count": 81,
   "metadata": {},
   "outputs": [],
   "source": [
    "# Export 3D image\n",
    "asymptote_export_SPD(\"results/Camino3D_orig.asy\", data=data);"
   ]
  },
  {
   "cell_type": "code",
   "execution_count": 82,
   "metadata": {},
   "outputs": [
    {
     "data": {
      "text/plain": [
       "48×48×20 Array{Nothing, 3}:\n",
       "[:, :, 1] =\n",
       " nothing  nothing  nothing  nothing  …  nothing  nothing  nothing  nothing\n",
       " nothing  nothing  nothing  nothing     nothing  nothing  nothing  nothing\n",
       " nothing  nothing  nothing  nothing     nothing  nothing  nothing  nothing\n",
       " nothing  nothing  nothing  nothing     nothing  nothing  nothing  nothing\n",
       " nothing  nothing  nothing  nothing     nothing  nothing  nothing  nothing\n",
       " nothing  nothing  nothing  nothing  …  nothing  nothing  nothing  nothing\n",
       " nothing  nothing  nothing  nothing     nothing  nothing  nothing  nothing\n",
       " nothing  nothing  nothing  nothing     nothing  nothing  nothing  nothing\n",
       " nothing  nothing  nothing  nothing     nothing  nothing  nothing  nothing\n",
       " nothing  nothing  nothing  nothing     nothing  nothing  nothing  nothing\n",
       " ⋮                                   ⋱           ⋮                 \n",
       " nothing  nothing  nothing  nothing     nothing  nothing  nothing  nothing\n",
       " nothing  nothing  nothing  nothing  …  nothing  nothing  nothing  nothing\n",
       " nothing  nothing  nothing  nothing     nothing  nothing  nothing  nothing\n",
       " nothing  nothing  nothing  nothing     nothing  nothing  nothing  nothing\n",
       " nothing  nothing  nothing  nothing     nothing  nothing  nothing  nothing\n",
       " nothing  nothing  nothing  nothing     nothing  nothing  nothing  nothing\n",
       " nothing  nothing  nothing  nothing  …  nothing  nothing  nothing  nothing\n",
       " nothing  nothing  nothing  nothing     nothing  nothing  nothing  nothing\n",
       " nothing  nothing  nothing  nothing     nothing  nothing  nothing  nothing\n",
       "\n",
       "[:, :, 2] =\n",
       " nothing  nothing  nothing  nothing  …  nothing  nothing  nothing  nothing\n",
       " nothing  nothing  nothing  nothing     nothing  nothing  nothing  nothing\n",
       " nothing  nothing  nothing  nothing     nothing  nothing  nothing  nothing\n",
       " nothing  nothing  nothing  nothing     nothing  nothing  nothing  nothing\n",
       " nothing  nothing  nothing  nothing     nothing  nothing  nothing  nothing\n",
       " nothing  nothing  nothing  nothing  …  nothing  nothing  nothing  nothing\n",
       " nothing  nothing  nothing  nothing     nothing  nothing  nothing  nothing\n",
       " nothing  nothing  nothing  nothing     nothing  nothing  nothing  nothing\n",
       " nothing  nothing  nothing  nothing     nothing  nothing  nothing  nothing\n",
       " nothing  nothing  nothing  nothing     nothing  nothing  nothing  nothing\n",
       " ⋮                                   ⋱           ⋮                 \n",
       " nothing  nothing  nothing  nothing     nothing  nothing  nothing  nothing\n",
       " nothing  nothing  nothing  nothing  …  nothing  nothing  nothing  nothing\n",
       " nothing  nothing  nothing  nothing     nothing  nothing  nothing  nothing\n",
       " nothing  nothing  nothing  nothing     nothing  nothing  nothing  nothing\n",
       " nothing  nothing  nothing  nothing     nothing  nothing  nothing  nothing\n",
       " nothing  nothing  nothing  nothing     nothing  nothing  nothing  nothing\n",
       " nothing  nothing  nothing  nothing  …  nothing  nothing  nothing  nothing\n",
       " nothing  nothing  nothing  nothing     nothing  nothing  nothing  nothing\n",
       " nothing  nothing  nothing  nothing     nothing  nothing  nothing  nothing\n",
       "\n",
       "[:, :, 3] =\n",
       " nothing  nothing  nothing  nothing  …  nothing  nothing  nothing  nothing\n",
       " nothing  nothing  nothing  nothing     nothing  nothing  nothing  nothing\n",
       " nothing  nothing  nothing  nothing     nothing  nothing  nothing  nothing\n",
       " nothing  nothing  nothing  nothing     nothing  nothing  nothing  nothing\n",
       " nothing  nothing  nothing  nothing     nothing  nothing  nothing  nothing\n",
       " nothing  nothing  nothing  nothing  …  nothing  nothing  nothing  nothing\n",
       " nothing  nothing  nothing  nothing     nothing  nothing  nothing  nothing\n",
       " nothing  nothing  nothing  nothing     nothing  nothing  nothing  nothing\n",
       " nothing  nothing  nothing  nothing     nothing  nothing  nothing  nothing\n",
       " nothing  nothing  nothing  nothing     nothing  nothing  nothing  nothing\n",
       " ⋮                                   ⋱           ⋮                 \n",
       " nothing  nothing  nothing  nothing     nothing  nothing  nothing  nothing\n",
       " nothing  nothing  nothing  nothing  …  nothing  nothing  nothing  nothing\n",
       " nothing  nothing  nothing  nothing     nothing  nothing  nothing  nothing\n",
       " nothing  nothing  nothing  nothing     nothing  nothing  nothing  nothing\n",
       " nothing  nothing  nothing  nothing     nothing  nothing  nothing  nothing\n",
       " nothing  nothing  nothing  nothing     nothing  nothing  nothing  nothing\n",
       " nothing  nothing  nothing  nothing  …  nothing  nothing  nothing  nothing\n",
       " nothing  nothing  nothing  nothing     nothing  nothing  nothing  nothing\n",
       " nothing  nothing  nothing  nothing     nothing  nothing  nothing  nothing\n",
       "\n",
       ";;; … \n",
       "\n",
       "[:, :, 18] =\n",
       " nothing  nothing  nothing  nothing  …  nothing  nothing  nothing  nothing\n",
       " nothing  nothing  nothing  nothing     nothing  nothing  nothing  nothing\n",
       " nothing  nothing  nothing  nothing     nothing  nothing  nothing  nothing\n",
       " nothing  nothing  nothing  nothing     nothing  nothing  nothing  nothing\n",
       " nothing  nothing  nothing  nothing     nothing  nothing  nothing  nothing\n",
       " nothing  nothing  nothing  nothing  …  nothing  nothing  nothing  nothing\n",
       " nothing  nothing  nothing  nothing     nothing  nothing  nothing  nothing\n",
       " nothing  nothing  nothing  nothing     nothing  nothing  nothing  nothing\n",
       " nothing  nothing  nothing  nothing     nothing  nothing  nothing  nothing\n",
       " nothing  nothing  nothing  nothing     nothing  nothing  nothing  nothing\n",
       " ⋮                                   ⋱           ⋮                 \n",
       " nothing  nothing  nothing  nothing     nothing  nothing  nothing  nothing\n",
       " nothing  nothing  nothing  nothing  …  nothing  nothing  nothing  nothing\n",
       " nothing  nothing  nothing  nothing     nothing  nothing  nothing  nothing\n",
       " nothing  nothing  nothing  nothing     nothing  nothing  nothing  nothing\n",
       " nothing  nothing  nothing  nothing     nothing  nothing  nothing  nothing\n",
       " nothing  nothing  nothing  nothing     nothing  nothing  nothing  nothing\n",
       " nothing  nothing  nothing  nothing  …  nothing  nothing  nothing  nothing\n",
       " nothing  nothing  nothing  nothing     nothing  nothing  nothing  nothing\n",
       " nothing  nothing  nothing  nothing     nothing  nothing  nothing  nothing\n",
       "\n",
       "[:, :, 19] =\n",
       " nothing  nothing  nothing  nothing  …  nothing  nothing  nothing  nothing\n",
       " nothing  nothing  nothing  nothing     nothing  nothing  nothing  nothing\n",
       " nothing  nothing  nothing  nothing     nothing  nothing  nothing  nothing\n",
       " nothing  nothing  nothing  nothing     nothing  nothing  nothing  nothing\n",
       " nothing  nothing  nothing  nothing     nothing  nothing  nothing  nothing\n",
       " nothing  nothing  nothing  nothing  …  nothing  nothing  nothing  nothing\n",
       " nothing  nothing  nothing  nothing     nothing  nothing  nothing  nothing\n",
       " nothing  nothing  nothing  nothing     nothing  nothing  nothing  nothing\n",
       " nothing  nothing  nothing  nothing     nothing  nothing  nothing  nothing\n",
       " nothing  nothing  nothing  nothing     nothing  nothing  nothing  nothing\n",
       " ⋮                                   ⋱           ⋮                 \n",
       " nothing  nothing  nothing  nothing     nothing  nothing  nothing  nothing\n",
       " nothing  nothing  nothing  nothing  …  nothing  nothing  nothing  nothing\n",
       " nothing  nothing  nothing  nothing     nothing  nothing  nothing  nothing\n",
       " nothing  nothing  nothing  nothing     nothing  nothing  nothing  nothing\n",
       " nothing  nothing  nothing  nothing     nothing  nothing  nothing  nothing\n",
       " nothing  nothing  nothing  nothing     nothing  nothing  nothing  nothing\n",
       " nothing  nothing  nothing  nothing  …  nothing  nothing  nothing  nothing\n",
       " nothing  nothing  nothing  nothing     nothing  nothing  nothing  nothing\n",
       " nothing  nothing  nothing  nothing     nothing  nothing  nothing  nothing\n",
       "\n",
       "[:, :, 20] =\n",
       " nothing  nothing  nothing  nothing  …  nothing  nothing  nothing  nothing\n",
       " nothing  nothing  nothing  nothing     nothing  nothing  nothing  nothing\n",
       " nothing  nothing  nothing  nothing     nothing  nothing  nothing  nothing\n",
       " nothing  nothing  nothing  nothing     nothing  nothing  nothing  nothing\n",
       " nothing  nothing  nothing  nothing     nothing  nothing  nothing  nothing\n",
       " nothing  nothing  nothing  nothing  …  nothing  nothing  nothing  nothing\n",
       " nothing  nothing  nothing  nothing     nothing  nothing  nothing  nothing\n",
       " nothing  nothing  nothing  nothing     nothing  nothing  nothing  nothing\n",
       " nothing  nothing  nothing  nothing     nothing  nothing  nothing  nothing\n",
       " nothing  nothing  nothing  nothing     nothing  nothing  nothing  nothing\n",
       " ⋮                                   ⋱           ⋮                 \n",
       " nothing  nothing  nothing  nothing     nothing  nothing  nothing  nothing\n",
       " nothing  nothing  nothing  nothing  …  nothing  nothing  nothing  nothing\n",
       " nothing  nothing  nothing  nothing     nothing  nothing  nothing  nothing\n",
       " nothing  nothing  nothing  nothing     nothing  nothing  nothing  nothing\n",
       " nothing  nothing  nothing  nothing     nothing  nothing  nothing  nothing\n",
       " nothing  nothing  nothing  nothing     nothing  nothing  nothing  nothing\n",
       " nothing  nothing  nothing  nothing  …  nothing  nothing  nothing  nothing\n",
       " nothing  nothing  nothing  nothing     nothing  nothing  nothing  nothing\n",
       " nothing  nothing  nothing  nothing     nothing  nothing  nothing  nothing"
      ]
     },
     "metadata": {},
     "output_type": "display_data"
    }
   ],
   "source": [
    "q = 1. * Matrix(I, 3, 3)\n",
    "#  construct data\n",
    "log_q_data = log.(Ref(M), Ref(q), data);  # ∈ T_q P(3)^d1\n",
    "exp_log_q_data = Symmetric.(exp.(Ref(M), Ref(q), log_q_data));\n",
    "check_point.(Ref(M), exp_log_q_data)"
   ]
  },
  {
   "cell_type": "code",
   "execution_count": 83,
   "metadata": {},
   "outputs": [
    {
     "data": {
      "text/plain": [
       "3×3 Matrix{Float64}:\n",
       " -0.888703  -0.129215   0.11575\n",
       " -0.129215  -0.266903  -0.253122\n",
       "  0.11575   -0.253122   0.0852526"
      ]
     },
     "metadata": {},
     "output_type": "display_data"
    }
   ],
   "source": [
    "# check how transpose works\n",
    "log_q_data[10,10,19]"
   ]
  },
  {
   "attachments": {},
   "cell_type": "markdown",
   "metadata": {},
   "source": [
    "First do HOSVD without curvature reweighing"
   ]
  },
  {
   "cell_type": "code",
   "execution_count": 84,
   "metadata": {},
   "outputs": [],
   "source": [
    "Gramm1  = Symmetric([sum(inner.(Ref(M), Ref(q), log_q_data[k,:,:], log_q_data[l,:,:])) for k=1:D1, l=1:D1]);\n",
    "Gramm2  = Symmetric([sum(inner.(Ref(M), Ref(q), log_q_data[:,k,:], log_q_data[:,l,:])) for k=1:D2, l=1:D2]);\n",
    "Gramm3  = Symmetric([sum(inner.(Ref(M), Ref(q), log_q_data[:,:,k], log_q_data[:,:,l])) for k=1:D3, l=1:D3]);"
   ]
  },
  {
   "cell_type": "code",
   "execution_count": 85,
   "metadata": {},
   "outputs": [],
   "source": [
    "(_, U1) = eigen(Gramm1);\n",
    "(_, U2) = eigen(Gramm2);\n",
    "(_, U3) = eigen(Gramm3);"
   ]
  },
  {
   "cell_type": "code",
   "execution_count": 86,
   "metadata": {},
   "outputs": [],
   "source": [
    "rank = 10\n",
    "r1, r2, r3 = rank .* (1,1,1)\n",
    "U1r = U1[:,end-r1+1:end]\n",
    "U2r = U2[:,end-r2+1:end]\n",
    "U3r = U3[:,end-r3+1:end]\n",
    "\n",
    "\n",
    "R_q_1 = Symmetric.([sum(U1r[:,i] .* log_q_data[:,j,k]) for i=1:r1, j=1:D2, k=1:D3])\n",
    "R_q_12 = Symmetric.([sum(U2r[:,j] .* R_q_1[i,:,k]) for i=1:r1, j=1:r2, k=1:D3])\n",
    "R_q = Symmetric.([sum(U3r[:,k] .* R_q_12[i,j,:]) for i=1:r1, j=1:r2, k=1:r3]);\n"
   ]
  },
  {
   "cell_type": "code",
   "execution_count": 87,
   "metadata": {},
   "outputs": [],
   "source": [
    "log_q_data_rrr = Symmetric.([sum(U1r[i,:] .* R_q[:,j,k]) for i=1:D1, j=1:r2, k=1:r3])\n",
    "log_q_data_rr = Symmetric.([sum(U2r[j,:] .* log_q_data_rrr[i,:,k]) for i=1:D1, j=1:D2, k=1:r3])\n",
    "log_q_data_r = Symmetric.([sum(U3r[k,:] .* log_q_data_rr[i,j,:]) for i=1:D1, j=1:D2, k=1:D3]);"
   ]
  },
  {
   "cell_type": "code",
   "execution_count": 88,
   "metadata": {},
   "outputs": [
    {
     "data": {
      "text/plain": [
       "3×3 Symmetric{Float64, Matrix{Float64}}:\n",
       " -0.0606741    0.00841988  -0.00461988\n",
       "  0.00841988  -0.0318877    0.00860024\n",
       " -0.00461988   0.00860024  -0.0903881"
      ]
     },
     "metadata": {},
     "output_type": "display_data"
    }
   ],
   "source": [
    "log_q_data_r[1,1,1]"
   ]
  },
  {
   "cell_type": "code",
   "execution_count": 89,
   "metadata": {},
   "outputs": [
    {
     "data": {
      "text/plain": [
       "0.7351103411181359"
      ]
     },
     "metadata": {},
     "output_type": "display_data"
    }
   ],
   "source": [
    "# relative error\n",
    "sqrt(sum(norm.(Ref(M), Ref(q), log_q_data_r - log_q_data) .^ 2))/ sqrt(sum(norm.(Ref(M), Ref(q), log_q_data) .^ 2))"
   ]
  },
  {
   "cell_type": "code",
   "execution_count": 90,
   "metadata": {},
   "outputs": [
    {
     "name": "stdout",
     "output_type": "stream",
     "text": [
      "[0.555736167022725 -0.0753362230596745 0.05334146885649932; -0.0753362230596745 0.7993101809066048 -0.1578075884144549; 0.05334146885649932 -0.1578075884144549 1.0532014271546073]\n",
      "[0.4202438477199419 -0.08564433190416665 0.0937187827343422; -0.08564433190416665 0.7998622955077191 -0.2412395283535318; 0.0937187827343422 -0.2412395283535318 1.1268079882489954]\n"
     ]
    }
   ],
   "source": [
    "data_r = Symmetric.(exp.(Ref(M), Ref(q), Symmetric.(log_q_data_r)))\n",
    "check_point.(Ref(M), data_r)\n",
    "# manifold_error = sqrt(sum(distance.(Ref(M), data_r, data) .^2))\n",
    "println(data_r[10,10,19])\n",
    "println(data[10,10,19])"
   ]
  },
  {
   "cell_type": "markdown",
   "metadata": {},
   "source": [
    "Next, let's see what happens if we choose the reweighted metric"
   ]
  }
 ],
 "metadata": {
  "kernelspec": {
   "display_name": "Julia 1.7.2",
   "language": "julia",
   "name": "julia-1.7"
  },
  "language_info": {
   "file_extension": ".jl",
   "mimetype": "application/julia",
   "name": "julia",
   "version": "1.7.2"
  },
  "orig_nbformat": 4,
  "vscode": {
   "interpreter": {
    "hash": "31f2aee4e71d21fbe5cf8b01ff0e069b9275f58929596ceb00d14d90e3e16cd6"
   }
  }
 },
 "nbformat": 4,
 "nbformat_minor": 2
}
