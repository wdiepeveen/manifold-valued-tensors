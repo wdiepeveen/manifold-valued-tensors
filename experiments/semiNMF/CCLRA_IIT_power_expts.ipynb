{
 "cells": [
  {
   "cell_type": "markdown",
   "metadata": {},
   "source": [
    "# Low-rank approximation on $\\mathcal{P}(d)$ - the space of $d$-dimensional SPD matrices"
   ]
  },
  {
   "cell_type": "markdown",
   "metadata": {},
   "source": [
    "In this notebook we want to get some intuition in different approaches for computing low-rank approximations for manifold-valued signals"
   ]
  },
  {
   "cell_type": "code",
   "execution_count": 1,
   "metadata": {},
   "outputs": [],
   "source": [
    "using Manifolds\n",
    "using Manopt\n",
    "using LinearAlgebra\n",
    "using Random\n",
    "using Plots\n",
    "using LaTeXStrings\n",
    "using BenchmarkTools\n",
    "\n",
    "using Clustering\n",
    "using NIfTI\n",
    "\n",
    "using JLD\n",
    "using Printf"
   ]
  },
  {
   "cell_type": "code",
   "execution_count": 2,
   "metadata": {},
   "outputs": [],
   "source": [
    "using StatsBase"
   ]
  },
  {
   "cell_type": "code",
   "execution_count": 3,
   "metadata": {},
   "outputs": [
    {
     "data": {
      "text/plain": [
       "β (generic function with 1 method)"
      ]
     },
     "execution_count": 3,
     "metadata": {},
     "output_type": "execute_result"
    }
   ],
   "source": [
    "include(\"../../src/functions/jacobi_field/beta.jl\")"
   ]
  },
  {
   "cell_type": "markdown",
   "metadata": {},
   "source": [
    "### Functions"
   ]
  },
  {
   "cell_type": "code",
   "execution_count": 4,
   "metadata": {},
   "outputs": [
    {
     "data": {
      "text/plain": [
       "SNMF_euclidean (generic function with 1 method)"
      ]
     },
     "execution_count": 4,
     "metadata": {},
     "output_type": "execute_result"
    }
   ],
   "source": [
    "function SNMF_euclidean(X, k, init_const, max_iter)\n",
    "    # in this function X is d \\times n\n",
    "    # F is d \\times k, G is n \\times k\n",
    "    R = kmeans(X, k)\n",
    "    d = size(X)[1]\n",
    "    n = size(X)[2]\n",
    "    G_init = zeros(n, k)\n",
    "    for i=1:n\n",
    "        G_init[i,assignments(R)[i]] = 1\n",
    "    end\n",
    "    iter = 0\n",
    "    G = G_init .+ init_const\n",
    "    F = zeros(d, k)\n",
    "    while iter < max_iter\n",
    "        F = X * G * pinv(G' * G)\n",
    "        A = X' * F\n",
    "        B = F' * F\n",
    "        Apos = (abs.(A) + A) ./ 2\n",
    "        Aneg = (abs.(A) - A) ./ 2\n",
    "        Bpos = (abs.(B) + B) ./ 2\n",
    "        Bneg = (abs.(B) - B) ./ 2\n",
    "        G = G .* sqrt.((Apos + G * Bneg)./(Aneg + G * Bpos))\n",
    "        G[isnan.(G)].=0\n",
    "        iter += 1\n",
    "    end\n",
    "    return F, G\n",
    "end"
   ]
  },
  {
   "cell_type": "code",
   "execution_count": 5,
   "metadata": {},
   "outputs": [
    {
     "data": {
      "text/plain": [
       "naive_sNMF (generic function with 1 method)"
      ]
     },
     "execution_count": 5,
     "metadata": {},
     "output_type": "execute_result"
    }
   ],
   "source": [
    "function naive_sNMF(M::AbstractManifold, q, data, k; init_const = 0.2, max_iter=50)\n",
    "    log_q_data = log.(Ref(M), Ref(q), data);\n",
    "    X_eucl = reduce(hcat, get_coordinates.(Ref(M), Ref(q), log_q_data, Ref(DefaultOrthonormalBasis())))\n",
    "    V, U = SNMF_euclidean(X_eucl, k, init_const, max_iter);\n",
    "    return U, V'\n",
    "end"
   ]
  },
  {
   "cell_type": "code",
   "execution_count": 6,
   "metadata": {},
   "outputs": [
    {
     "data": {
      "text/plain": [
       "curvature_corrected_V_update_precomp! (generic function with 1 method)"
      ]
     },
     "execution_count": 6,
     "metadata": {},
     "output_type": "execute_result"
    }
   ],
   "source": [
    "function curvature_corrected_V_update_precomp!(tensorU, M::AbstractPowerManifold, q, X, log_q_X_tensor, U, rank, βκΘq, tensorβκΘq, tensorΨq)\n",
    "    # U comes in n[1] by r\n",
    "    # tensorU is n[1], d, r, d, D\n",
    "    n = size(X)\n",
    "    d = manifold_dimension(M.manifold)\n",
    "    D = power_dimensions(M)[1]\n",
    "    r = rank\n",
    "    \n",
    "    # construct linear system\n",
    "    for col=1:r\n",
    "        for row=1:n[1]\n",
    "            tensorU[row,:,col,:,:].=view(U,row,col)\n",
    "        end\n",
    "    end\n",
    "\n",
    "    sΨq = eachslice(tensorΨq,dims=4);\n",
    "    sβκΘq = eachslice(tensorβκΘq,dims=4);\n",
    "    pdts = reduce((x,y) -> cat(x,y,dims=4), map((x,y,z) -> inner.(Ref(M.manifold),Ref(z), x, y), sΨq, sβκΘq, q));\n",
    "\n",
    "    tensorβκB = tensorU .* repeat(reshape(pdts,(n[1],d,1,d,D)),outer=(1,1,r,1,1));\n",
    "\n",
    "    tensorβκB_exp = reshape(tensorβκB,(n[1],d,1,r,d,D));\n",
    "    tensorβκB_alt = zeros(n[1],d,D,r,d,D);\n",
    "    for k=1:D\n",
    "        tensorβκB_alt[:,:,k,:,:,k] .= @view tensorβκB_exp[:,:,1,:,:,k];\n",
    "    end\n",
    "\n",
    "    βκB = reshape(tensorβκB_alt,(n[1]*d*D,r*d*D));\n",
    "\n",
    "    A = transpose(βκB) * βκB;\n",
    "    \n",
    "    slogX = eachslice(log_q_X_tensor,dims=3);\n",
    "    sβκΘq_forlog = eachslice(βκΘq,dims=3);\n",
    "    tensorb_pre = reduce((x,y) -> cat(x,y,dims=3), map((x,y,z) -> inner.(Ref(M.manifold),Ref(z), x, y), slogX, sβκΘq_forlog, q));\n",
    "    b = reshape(tensorb_pre,(n[1] * d * D));\n",
    "    βκBb = transpose(βκB) * b;\n",
    "\n",
    "    # solve linear system\n",
    "    Vₖₗ = A\\βκBb # vector of length r * d * D\n",
    "    tensorVₖₗ = reshape(Vₖₗ, (r, d * D));\n",
    "    return tensorVₖₗ\n",
    "end"
   ]
  },
  {
   "cell_type": "code",
   "execution_count": 7,
   "metadata": {},
   "outputs": [
    {
     "data": {
      "text/plain": [
       "curvature_corrected_U_update_precomp! (generic function with 1 method)"
      ]
     },
     "execution_count": 7,
     "metadata": {},
     "output_type": "execute_result"
    }
   ],
   "source": [
    "function curvature_corrected_U_update_precomp!(tensorV, M::AbstractPowerManifold, q, X, log_q_X, log_q_X_tensor, U, V, \n",
    "        rank, βκΘq, tensorβκΘq, tensorΨq; iters = 100, debug_int = 10)\n",
    "    # V is r by (d * D)\n",
    "    n = size(X)\n",
    "    d = manifold_dimension(M.manifold)\n",
    "    D = power_dimensions(M)[1]\n",
    "    r = rank\n",
    "    # construct linear system\n",
    "\n",
    "    # construct matrix βκB\n",
    "    V_reshape = reshape(V, (r,d,D));\n",
    "    for i1=1:r\n",
    "        for i2=1:d\n",
    "            for i3=1:D\n",
    "                tensorV[:,i1,:,i2,i3].=view(V_reshape,i1,i2,i3);\n",
    "            end\n",
    "        end\n",
    "    end   \n",
    "\n",
    "    \n",
    "    sΨq = eachslice(tensorΨq,dims=4);\n",
    "    sβκΘq = eachslice(tensorβκΘq,dims=4);\n",
    "    pdts = reduce((x,y) -> cat(x,y,dims=4), map((x,y,z) -> inner.(Ref(M.manifold),Ref(z), x, y), sΨq, sβκΘq, q));\n",
    "\n",
    "    tensorβκB = tensorV .* repeat(reshape(pdts,(n[1],1,d,d,D)),outer=(1,r,1,1,1));\n",
    "\n",
    "    βκB = reshape(tensorβκB,(n[1],r,d*d*D));\n",
    "    \n",
    "    # construct numerator\n",
    "    slogX = eachslice(log_q_X_tensor,dims=3);\n",
    "    sβκΘq_forlog = eachslice(βκΘq,dims=3);\n",
    "    tensorb_pre = reduce((x,y) -> cat(x,y,dims=3), map((x,y,z) -> inner.(Ref(M.manifold),Ref(z), x, y), slogX, sβκΘq_forlog, q));\n",
    "    b = reshape(repeat(reshape(tensorb_pre,(n[1], 1, d, 1, D)), outer=(1,r,1,d,1)),(n[1],r,d*d*D));\n",
    "\n",
    "    B = dropdims(sum(βκB .* b, dims=3),dims=3);\n",
    "    \n",
    "    Bpos = (abs.(B) .+ B) ./ 2\n",
    "    Bneg = (abs.(B) .- B) ./ 2\n",
    "    # reshape to (n, 1, d, 1), expand to (n, r, d, d), reshape to (n, r, d * d) which is (j1, i1, j & i)\n",
    "    # then want (essentially) dot product of betakappaB and this along third dimension\n",
    "    # construct denominator\n",
    "    iter = 0\n",
    "    this_U = U\n",
    "    Ξ_q_coords = this_U * V\n",
    "    Ξ_q = get_vector.(Ref(M), Ref(q), [Ξ_q_coords[l,:] for l=1:n[1]], Ref(DefaultOrthonormalBasis()))\n",
    "    Cpos = similar(Bpos);\n",
    "    Cneg = similar(Bneg);\n",
    "    ccU_q = similar(this_U);\n",
    "    while iter < iters\n",
    "        iter += 1\n",
    "        Ξ_q_tensor = repeat(reshape([Ξ_q[j₁][k] for j₁=1:n[1],k=1:D], (n[1],1,D)),outer=(1,d,1));\n",
    "        sΞ_q = eachslice(Ξ_q_tensor,dims=3);\n",
    "        sβκΘq_forlog = eachslice(βκΘq,dims=3);\n",
    "        tensorc_pre = reduce((x,y) -> cat(x,y,dims=3), map((x,y,z) -> inner.(Ref(M.manifold),Ref(z), x, y), sΞ_q, sβκΘq_forlog, q));\n",
    "        C = dropdims(sum(βκB .* reshape(repeat(reshape(tensorc_pre, (n[1], 1, d, 1, D)), outer=(1, r, 1, d, 1)), (n[1], r, d*d*D)), dims=3),dims=3);\n",
    "        \n",
    "        Cpos .= (abs.(C) .+ C) ./ 2\n",
    "        Cneg .= (abs.(C) .- C) ./ 2\n",
    "        \n",
    "        ccU_q .= this_U .* sqrt.((Bpos .+ Cneg)./(Bneg .+ Cpos))\n",
    "        ccU_q[isnan.(ccU_q)].=0\n",
    "        \n",
    "        Ξ_q_coords = ccU_q * V\n",
    "        Ξ_q = get_vector.(Ref(M), Ref(q), [Ξ_q_coords[l,:] for l=1:n[1]], Ref(DefaultOrthonormalBasis()))\n",
    "        if iter % debug_int == 0\n",
    "            CC_loss = curvature_corrected_loss_fromlog(M, q, log_q_X, Ξ_q)\n",
    "            ex_loss = exact_loss(M, q, X, Ξ_q)\n",
    "            @printf(\"\\tsubiter #%-4i | CCL: %.15f | exact loss: %.15f | change (U): %.5f\\n\", iter, CC_loss, ex_loss, norm(ccU_q-this_U))\n",
    "        end\n",
    "        this_U = ccU_q\n",
    "        \n",
    "    end\n",
    "\n",
    "    return this_U\n",
    "end"
   ]
  },
  {
   "cell_type": "code",
   "execution_count": 8,
   "metadata": {},
   "outputs": [
    {
     "data": {
      "text/plain": [
       "exact_loss (generic function with 1 method)"
      ]
     },
     "execution_count": 8,
     "metadata": {},
     "output_type": "execute_result"
    }
   ],
   "source": [
    "function exact_loss(M::AbstractManifold, q, X, Ξ)\n",
    "    log_q_X = log.(Ref(M), Ref(q), X)  # ∈ T_q M^n\n",
    "    ref_distance = sum(norm.(Ref(M), Ref(q), log_q_X).^2)\n",
    "    exp_q_Ξ =   exp.(Ref(M), Ref(q), Ξ)\n",
    "    return sum(distance.(Ref(M), X, exp_q_Ξ).^2) / ref_distance\n",
    "end"
   ]
  },
  {
   "cell_type": "code",
   "execution_count": 9,
   "metadata": {},
   "outputs": [
    {
     "data": {
      "text/plain": [
       "curvature_corrected_loss (generic function with 1 method)"
      ]
     },
     "execution_count": 9,
     "metadata": {},
     "output_type": "execute_result"
    }
   ],
   "source": [
    "function curvature_corrected_loss(M::AbstractManifold, q, X, Ξ)\n",
    "    n = size(X)\n",
    "    # compute log\n",
    "    log_q_X = log.(Ref(M), Ref(q), X)  # ∈ T_q M^n\n",
    "    ref_distance = sum(norm.(Ref(M), Ref(q), log_q_X).^2)\n",
    "    if typeof(M) <: PowerManifold\n",
    "        D = power_dimensions(M)[1]\n",
    "        d = manifold_dimension(M.manifold)\n",
    "    else\n",
    "        d = manifold_dimension(M)\n",
    "    end\n",
    "    # compute directions\n",
    "    I = CartesianIndices(n)\n",
    "    loss = 0.\n",
    "    for i in I\n",
    "        if typeof(M) <: PowerManifold\n",
    "            ONBᵢ = get_basis(M, q, DiagonalizingOrthonormalBasis(log_q_X[i]))\n",
    "            for k in 1:D\n",
    "                θₖ = ONBᵢ.data.bases[k].data.vectors\n",
    "                κₖ = ONBᵢ.data.bases[k].data.eigenvalues\n",
    "                # compute loss\n",
    "                loss += sum([β(κₖ[j])^2 * inner(M.manifold, q[k], Ξ[i][k] - log_q_X[i][k], Θₖ[j])^2 for j=1:d])\n",
    "            end\n",
    "        else\n",
    "            ONBᵢ = get_basis(M, q, DiagonalizingOrthonormalBasis(log_q_X[i]))\n",
    "            Θᵢ = ONBᵢ.data.vectors\n",
    "            κᵢ = ONBᵢ.data.eigenvalues\n",
    "            loss += sum([β(κᵢ[j])^2 * inner(M, q, Ξ[i] - log_q_X[i], Θᵢ[j])^2 for j=1:d])\n",
    "        end\n",
    "    end\n",
    "    return loss/ref_distance\n",
    "end"
   ]
  },
  {
   "cell_type": "code",
   "execution_count": 10,
   "metadata": {},
   "outputs": [
    {
     "data": {
      "text/plain": [
       "curvature_corrected_loss_fromlog (generic function with 1 method)"
      ]
     },
     "execution_count": 10,
     "metadata": {},
     "output_type": "execute_result"
    }
   ],
   "source": [
    "function curvature_corrected_loss_fromlog(M::AbstractManifold, q, log_q_X, Ξ)\n",
    "    n = size(log_q_X)\n",
    "    ref_distance = sum(norm.(Ref(M), Ref(q), log_q_X).^2)\n",
    "    if typeof(M) <: PowerManifold\n",
    "        D = power_dimensions(M)[1]\n",
    "        d = manifold_dimension(M.manifold)\n",
    "    else\n",
    "        d = manifold_dimension(M)\n",
    "    end   \n",
    "    # compute directions\n",
    "    I = CartesianIndices(n)\n",
    "    loss = 0.\n",
    "    for i in I\n",
    "        if typeof(M) <: PowerManifold\n",
    "            ONBᵢ = get_basis(M, q, DiagonalizingOrthonormalBasis(log_q_X[i]))\n",
    "            for k=1:D\n",
    "                θₖ = ONBᵢ.data.bases[k].data.vectors\n",
    "                κₖ = ONBᵢ.data.bases[k].data.eigenvalues\n",
    "                # compute loss\n",
    "                loss += sum([β(κₖ[j])^2 * inner(M.manifold, q[k], Ξ[i][k] - log_q_X[i][k], θₖ[j])^2 for j=1:d])\n",
    "            end\n",
    "        else\n",
    "            ONBᵢ = get_basis(M, q, DiagonalizingOrthonormalBasis(log_q_X[i]))\n",
    "            Θᵢ = ONBᵢ.data.vectors\n",
    "            κᵢ = ONBᵢ.data.eigenvalues\n",
    "            loss += sum([β(κᵢ[j])^2 * inner(M, q, Ξ[i] - log_q_X[i], Θᵢ[j])^2 for j=1:d])\n",
    "        end\n",
    "        \n",
    "        \n",
    "    end\n",
    "    return loss/ref_distance\n",
    "end"
   ]
  },
  {
   "cell_type": "code",
   "execution_count": 11,
   "metadata": {},
   "outputs": [
    {
     "data": {
      "text/plain": [
       "curvature_corrected_sNMF_precomp (generic function with 1 method)"
      ]
     },
     "execution_count": 11,
     "metadata": {},
     "output_type": "execute_result"
    }
   ],
   "source": [
    "function curvature_corrected_sNMF_precomp(M::AbstractPowerManifold, q, X, log_q_X, rank; ENMF_const = 0.2, ENMF_iter = 50, max_iter=50, \n",
    "        debug_freq=10, init_type = \"eNMF\", max_U_iter = 100, U_debug=10)\n",
    "    n = size(X)\n",
    "    # initialize\n",
    "    if init_type == \"eNMF\"\n",
    "        U₀, V₀ = naive_low_rank_approximation(M, q, X, rank; init_const=ENMF_const, max_iter=ENMF_iter)\n",
    "    elseif init_type == \"kmeans\"\n",
    "        # log_q_X = log.(Ref(M), Ref(q), X)\n",
    "        X_eucl = reduce(hcat, get_coordinates.(Ref(M), Ref(q), log_q_X, Ref(DefaultOrthonormalBasis())))\n",
    "        R = kmeans(X_eucl, rank)\n",
    "        # d = size(X_eucl)[1]\n",
    "        this_n = size(X_eucl)[2]\n",
    "        G_init = zeros(this_n, rank)\n",
    "        for i=1:this_n\n",
    "            G_init[i,assignments(R)[i]] = 1\n",
    "        end\n",
    "        V₀ = R.centers' # k \\times d\n",
    "        replace!(x -> x == 0 ? ENMF_const : x, G_init)\n",
    "        U₀ = G_init ./ sum(G_init;dims=2)\n",
    "    elseif init_type == \"rand\"\n",
    "        G_init = rand(Float64, (n[1],rank)); # TODO make this general\n",
    "        U₀ = G_init ./ sum(G_init;dims=2)\n",
    "        d=manifold_dimension(M);\n",
    "        V₀ = randn(Float64, (rank, d)); # k \\times d\n",
    "    else\n",
    "       throw(ArgumentError(\"init_type must be eNMF, kmeans, or rand\"))\n",
    "    end\n",
    "    println(\"computed initialization\")\n",
    "    iter = 0\n",
    "    Uₖ = copy(U₀)\n",
    "    Vₖ = copy(V₀)\n",
    "    Ξ_q_coords = Uₖ * Vₖ\n",
    "    Ξ_q = get_vector.(Ref(M), Ref(q), [Ξ_q_coords[l,:] for l=1:n[1]], Ref(DefaultOrthonormalBasis()))\n",
    "    CC_loss = curvature_corrected_loss_fromlog(M, q, log_q_X, Ξ_q)\n",
    "    ex_loss = exact_loss(M, q, X, Ξ_q)\n",
    "    @printf(\"iter #0        | CCL: %.15f | exact loss: %.15f\\n\", CC_loss, ex_loss)\n",
    "    # Ξ_q = []\n",
    "    ONB = get_basis.(Ref(M), Ref(q), DiagonalizingOrthonormalBasis.(log_q_X))\n",
    "    d = manifold_dimension(M.manifold);\n",
    "    D = power_dimensions(M)[1];\n",
    "\n",
    "    βκΘq = [β(ONB[j₁].data.bases[k].data.eigenvalues[j]) .* ONB[j₁].data.bases[k].data.vectors[j] for j₁=1:n[1], j=1:d, k=1:D];\n",
    "    tensorβκΘq = repeat(reshape(βκΘq,(n[1],d,1,D)), outer=(1,1,d,1));\n",
    "\n",
    "    Ψ_mat = [get_vector(M, q, Matrix(I, d*D, d*D)[:,(k-1)*d + j], DefaultOrthonormalBasis())[k] for j=1:d, k=1:D];\n",
    "    tensorΨq = repeat(reshape(Ψ_mat, (1, 1, d,D)), outer=(n[1], d, 1,1));\n",
    "    \n",
    "    tensorU = zeros(n[1],d,rank,d,D);\n",
    "    tensorV = zeros(n[1],rank,d, d, D);\n",
    "    log_q_X_tensor = repeat(reshape([log_q_X[j₁][k] for j₁=1:n[1],k=1:D], (n[1],1,D)),outer=(1,d,1));\n",
    "    while iter < max_iter\n",
    "        iter += 1\n",
    "        Uprev = Uₖ\n",
    "        Vprev = Vₖ\n",
    "        Vₖ = curvature_corrected_V_update_precomp!(tensorU, M, q, X, log_q_X_tensor, Uₖ, rank, βκΘq, tensorβκΘq, tensorΨq)\n",
    "\n",
    "        if iter % debug_freq == 0\n",
    "            Ξ_q_coords = Uₖ * Vₖ\n",
    "            Ξ_q = get_vector.(Ref(M), Ref(q), [Ξ_q_coords[l,:] for l=1:n[1]], Ref(DefaultOrthonormalBasis()))\n",
    "            CC_loss = curvature_corrected_loss_fromlog(M, q, log_q_X, Ξ_q)\n",
    "            ex_loss = exact_loss(M, q, X, Ξ_q)\n",
    "            @printf(\"iter #%-4i (V) | CCL: %.15f | exact loss: %.15f | change (V): %.5f\\n\", iter, CC_loss, ex_loss, norm(Vₖ-Vprev))\n",
    "        end\n",
    "\n",
    "        Uprev=Uₖ\n",
    "        Uₖ = curvature_corrected_U_update_precomp!(tensorV, M, q, X, log_q_X, log_q_X_tensor, Uprev, Vₖ, rank, βκΘq, tensorβκΘq, tensorΨq;iters = max_U_iter,debug_int=U_debug)\n",
    "        if iter % debug_freq == 0\n",
    "            Ξ_q_coords = Uₖ * Vₖ\n",
    "            Ξ_q = get_vector.(Ref(M), Ref(q), [Ξ_q_coords[l,:] for l=1:n[1]], Ref(DefaultOrthonormalBasis()))\n",
    "            CC_loss = curvature_corrected_loss_fromlog(M, q, log_q_X, Ξ_q)\n",
    "            ex_loss = exact_loss(M, q, X, Ξ_q)\n",
    "            @printf(\"iter #%-4i (U) | CCL: %.15f | exact loss: %.15f | change (U): %.5f\\n\", iter, CC_loss, ex_loss, norm(Uₖ-Uprev))\n",
    "            # println(\"iter #$(iter) (U) | CCL: $(CC_loss) | exact loss: $(ex_loss)\")\n",
    "        end\n",
    "\n",
    "    end\n",
    "    if init_type == \"kmeans\"\n",
    "        U₀ = G_init;\n",
    "    end\n",
    "    return Uₖ, Vₖ, Ξ_q, U₀, V₀\n",
    "end"
   ]
  },
  {
   "cell_type": "markdown",
   "metadata": {},
   "source": [
    "### Load data and construct manifold ###"
   ]
  },
  {
   "cell_type": "code",
   "execution_count": 17,
   "metadata": {},
   "outputs": [
    {
     "data": {
      "text/plain": [
       "(182, 218, 182)"
      ]
     },
     "execution_count": 17,
     "metadata": {},
     "output_type": "execute_result"
    }
   ],
   "source": [
    "ni_xx = niread(\"../../data/IITmean_xx.nii.gz\") * 1e3;\n",
    "ni_yx = niread(\"../../data/IITmean_yx.nii.gz\") * 1e3;\n",
    "ni_yy = niread(\"../../data/IITmean_yy.nii.gz\") * 1e3;\n",
    "ni_zx = niread(\"../../data/IITmean_zx.nii.gz\") * 1e3;\n",
    "ni_zy = niread(\"../../data/IITmean_zy.nii.gz\") * 1e3;\n",
    "ni_zz = niread(\"../../data/IITmean_zz.nii.gz\") * 1e3;\n",
    "size(ni_xx)"
   ]
  },
  {
   "cell_type": "code",
   "execution_count": 18,
   "metadata": {},
   "outputs": [
    {
     "data": {
      "text/plain": [
       "(182, 218, 182)"
      ]
     },
     "execution_count": 18,
     "metadata": {},
     "output_type": "execute_result"
    }
   ],
   "source": [
    "d1, d2, d3  = size(ni_xx)"
   ]
  },
  {
   "cell_type": "code",
   "execution_count": 19,
   "metadata": {},
   "outputs": [],
   "source": [
    "predata = [ # data ordered as [xx, yx, yy, zx, zy, zz]\n",
    "    [\n",
    "    [ni_xx[i,j,k] + 1e-5;; ni_yx[i,j,k];; ni_zx[i,j,k]]; \n",
    "    [ni_yx[i,j,k];; ni_yy[i,j,k] + 1e-5;; ni_zy[i,j,k]]; \n",
    "    [ni_zx[i,j,k];; ni_zy[i,j,k];; ni_zz[i,j,k] + 1e-5]\n",
    "    ] for i=1:d1, j=1:d2, k=1:d3];"
   ]
  },
  {
   "cell_type": "code",
   "execution_count": 20,
   "metadata": {},
   "outputs": [
    {
     "data": {
      "text/plain": [
       "get_step_range (generic function with 1 method)"
      ]
     },
     "execution_count": 20,
     "metadata": {},
     "output_type": "execute_result"
    }
   ],
   "source": [
    "function get_step_range(start, stop, step)\n",
    "    n_steps = ((stop-start) + 1) / step;\n",
    "    this_range = [convert(Int64,start + (i-1) * step) for i=1:(n_steps+1)]\n",
    "    return this_range\n",
    "end"
   ]
  },
  {
   "cell_type": "code",
   "execution_count": 21,
   "metadata": {},
   "outputs": [],
   "source": [
    "# let's take 4 x 4 x 4 voxels\n",
    "x1 = 101;\n",
    "x2 = 112;\n",
    "y1 = 151;\n",
    "y2 = 162;\n",
    "z1 = 51;\n",
    "z2 = 102;\n",
    "step = 4;\n",
    "x_range = get_step_range(x1,x2,step);\n",
    "y_range = get_step_range(y1,y2,step);\n",
    "z_range = get_step_range(z1,z2,step);"
   ]
  },
  {
   "cell_type": "code",
   "execution_count": 22,
   "metadata": {},
   "outputs": [],
   "source": [
    "predata_masked = [reshape(predata[x_range[i]:x_range[i+1]-1,y_range[j]:y_range[j+1]-1,z_range[k]:z_range[k+1]-1],\n",
    "        (1,:)) for i=1:length(x_range)-1,\n",
    "        j=1:length(y_range)-1,k=1:length(z_range)-1];"
   ]
  },
  {
   "cell_type": "code",
   "execution_count": 23,
   "metadata": {},
   "outputs": [
    {
     "data": {
      "text/plain": [
       "(3, 3, 13)"
      ]
     },
     "execution_count": 23,
     "metadata": {},
     "output_type": "execute_result"
    }
   ],
   "source": [
    "size(predata_masked)"
   ]
  },
  {
   "cell_type": "code",
   "execution_count": 24,
   "metadata": {},
   "outputs": [
    {
     "data": {
      "text/plain": [
       "(117,)"
      ]
     },
     "execution_count": 24,
     "metadata": {},
     "output_type": "execute_result"
    }
   ],
   "source": [
    "data=vec(predata_masked);\n",
    "size(data)"
   ]
  },
  {
   "cell_type": "code",
   "execution_count": 25,
   "metadata": {},
   "outputs": [
    {
     "data": {
      "text/plain": [
       "(1, 64)"
      ]
     },
     "execution_count": 25,
     "metadata": {},
     "output_type": "execute_result"
    }
   ],
   "source": [
    "size(data[1])"
   ]
  },
  {
   "cell_type": "code",
   "execution_count": 26,
   "metadata": {},
   "outputs": [],
   "source": [
    "ni_xx = nothing;\n",
    "ni_yx = nothing;\n",
    "ni_yy = nothing;\n",
    "ni_zx = nothing;\n",
    "ni_zy = nothing;\n",
    "ni_zz = nothing;"
   ]
  },
  {
   "cell_type": "code",
   "execution_count": 27,
   "metadata": {},
   "outputs": [
    {
     "name": "stdout",
     "output_type": "stream",
     "text": [
      "384"
     ]
    }
   ],
   "source": [
    "# construct data manifold\n",
    "n = size(data)[1] \n",
    "M = PowerManifold(SymmetricPositiveDefinite(3), NestedPowerRepresentation(), size(data[1])[2])\n",
    "d = manifold_dimension(M);\n",
    "print(d)"
   ]
  },
  {
   "cell_type": "code",
   "execution_count": 28,
   "metadata": {},
   "outputs": [
    {
     "name": "stdout",
     "output_type": "stream",
     "text": [
      "64"
     ]
    }
   ],
   "source": [
    "D = power_dimensions(M)[1];\n",
    "print(D)"
   ]
  },
  {
   "cell_type": "code",
   "execution_count": 29,
   "metadata": {},
   "outputs": [],
   "source": [
    "predata_masked=nothing;"
   ]
  },
  {
   "cell_type": "code",
   "execution_count": 30,
   "metadata": {},
   "outputs": [],
   "source": [
    "predata=nothing;"
   ]
  },
  {
   "cell_type": "code",
   "execution_count": 31,
   "metadata": {},
   "outputs": [],
   "source": [
    "GC.gc()"
   ]
  },
  {
   "cell_type": "markdown",
   "metadata": {},
   "source": [
    "### Construct low rank approximation ###"
   ]
  },
  {
   "cell_type": "code",
   "execution_count": 32,
   "metadata": {},
   "outputs": [],
   "source": [
    "q = [Matrix(I, 3, 3) .* 1e-5 for i=1:D];"
   ]
  },
  {
   "cell_type": "code",
   "execution_count": 33,
   "metadata": {},
   "outputs": [],
   "source": [
    "log_q_data = log.(Ref(M), Ref(q), data);  # ∈ T_q P(3)^n"
   ]
  },
  {
   "cell_type": "code",
   "execution_count": 34,
   "metadata": {},
   "outputs": [],
   "source": [
    "offset = 0.1\n",
    "CC_iter = 20;\n",
    "debug_int = 1;\n",
    "U_iters = 10;\n",
    "U_debug_int = 3;"
   ]
  },
  {
   "cell_type": "code",
   "execution_count": 35,
   "metadata": {},
   "outputs": [
    {
     "name": "stdout",
     "output_type": "stream",
     "text": [
      "computing rank 20 approximation\n",
      "computed initialization\n",
      "iter #0        | CCL: 0.001284228800866 | exact loss: 0.001283499094757\n",
      "iter #1    (V) | CCL: 0.000464347653054 | exact loss: 0.000463826006140 | change (V): 79.06175\n",
      "\tsubiter #3    | CCL: 0.000434986661225 | exact loss: 0.000434471547466 | change (U): 0.00000\n",
      "\tsubiter #6    | CCL: 0.000432197686194 | exact loss: 0.000431688720581 | change (U): 0.00000\n",
      "\tsubiter #9    | CCL: 0.000429858761897 | exact loss: 0.000429355790111 | change (U): 0.00000\n",
      "iter #1    (U) | CCL: 0.000429089080726 | exact loss: 0.000428588079903 | change (U): 0.02497\n",
      "iter #2    (V) | CCL: 0.000429058296025 | exact loss: 0.000428559109645 | change (V): 0.63470\n",
      "\tsubiter #3    | CCL: 0.000426742247065 | exact loss: 0.000426248920763 | change (U): 0.00000\n",
      "\tsubiter #6    | CCL: 0.000424461337366 | exact loss: 0.000423973764071 | change (U): 0.00000\n",
      "\tsubiter #9    | CCL: 0.000422214735529 | exact loss: 0.000421732806937 | change (U): 0.00000\n",
      "iter #2    (U) | CCL: 0.000421473364337 | exact loss: 0.000420993293624 | change (U): 0.01260\n",
      "iter #3    (V) | CCL: 0.000421448861402 | exact loss: 0.000420970918571 | change (V): 0.59968\n",
      "\tsubiter #3    | CCL: 0.000419218038597 | exact loss: 0.000418745608773 | change (U): 0.00000\n",
      "\tsubiter #6    | CCL: 0.000417020846961 | exact loss: 0.000416553836162 | change (U): 0.00000\n",
      "\tsubiter #9    | CCL: 0.000414856417396 | exact loss: 0.000414394726027 | change (U): 0.00000\n",
      "iter #3    (U) | CCL: 0.000414142099481 | exact loss: 0.000413682159347 | change (U): 0.01230\n",
      "iter #4    (V) | CCL: 0.000414118050992 | exact loss: 0.000413660300342 | change (V): 0.59687\n",
      "\tsubiter #3    | CCL: 0.000411967937117 | exact loss: 0.000411515372544 | change (U): 0.00000\n",
      "\tsubiter #6    | CCL: 0.000409850147375 | exact loss: 0.000409402686775 | change (U): 0.00000\n",
      "\tsubiter #9    | CCL: 0.000407763676368 | exact loss: 0.000407321228243 | change (U): 0.00000\n",
      "iter #4    (U) | CCL: 0.000407075029077 | exact loss: 0.000406634231531 | change (U): 0.01201\n",
      "iter #5    (V) | CCL: 0.000407051267843 | exact loss: 0.000406612708930 | change (V): 0.59632\n",
      "\tsubiter #3    | CCL: 0.000404977600207 | exact loss: 0.000404543919203 | change (U): 0.00000\n",
      "\tsubiter #6    | CCL: 0.000402935100065 | exact loss: 0.000402506226008 | change (U): 0.00000\n",
      "\tsubiter #9    | CCL: 0.000400922572697 | exact loss: 0.000400498421654 | change (U): 0.00000\n",
      "iter #5    (U) | CCL: 0.000400258278674 | exact loss: 0.000399835683276 | change (U): 0.01174\n",
      "iter #6    (V) | CCL: 0.000400234662873 | exact loss: 0.000399814344794 | change (V): 0.59774\n",
      "\tsubiter #3    | CCL: 0.000398233398245 | exact loss: 0.000397817667802 | change (U): 0.00000\n",
      "\tsubiter #6    | CCL: 0.000396262280638 | exact loss: 0.000395851077290 | change (U): 0.00000\n",
      "\tsubiter #9    | CCL: 0.000394319882284 | exact loss: 0.000393913129163 | change (U): 0.00000\n",
      "iter #6    (U) | CCL: 0.000393678689894 | exact loss: 0.000393273402939 | change (U): 0.01150\n",
      "iter #7    (V) | CCL: 0.000393655098833 | exact loss: 0.000393252118727 | change (V): 0.60086\n",
      "\tsubiter #3    | CCL: 0.000391722410584 | exact loss: 0.000391323744879 | change (U): 0.00000\n",
      "\tsubiter #6    | CCL: 0.000389818971701 | exact loss: 0.000389424569576 | change (U): 0.00000\n",
      "\tsubiter #9    | CCL: 0.000387943085886 | exact loss: 0.000387552877061 | change (U): 0.00000\n",
      "iter #7    (U) | CCL: 0.000387323808460 | exact loss: 0.000386934981512 | change (U): 0.01127\n",
      "iter #8    (V) | CCL: 0.000387300139974 | exact loss: 0.000386913641385 | change (V): 0.60545\n",
      "\tsubiter #3    | CCL: 0.000385432412898 | exact loss: 0.000385049971667 | change (U): 0.00000\n",
      "\tsubiter #6    | CCL: 0.000383593147935 | exact loss: 0.000383214722281 | change (U): 0.00000\n",
      "\tsubiter #9    | CCL: 0.000381780352031 | exact loss: 0.000381405877818 | change (U): 0.00000\n",
      "iter #8    (U) | CCL: 0.000381181866419 | exact loss: 0.000380808694727 | change (U): 0.01105\n",
      "iter #9    (V) | CCL: 0.000381158034540 | exact loss: 0.000380787205682 | change (V): 0.61128\n",
      "\tsubiter #3    | CCL: 0.000379351857974 | exact loss: 0.000378984844801 | change (U): 0.00000\n",
      "\tsubiter #6    | CCL: 0.000377573455213 | exact loss: 0.000377210224329 | change (U): 0.00000\n",
      "\tsubiter #9    | CCL: 0.000375820514559 | exact loss: 0.000375461007551 | change (U): 0.00000\n",
      "iter #9    (U) | CCL: 0.000375241759180 | exact loss: 0.000374883480013 | change (U): 0.01086\n",
      "iter #10   (V) | CCL: 0.000375217692053 | exact loss: 0.000374861764025 | change (V): 0.61817\n",
      "\tsubiter #3    | CCL: 0.000373469851821 | exact loss: 0.000373117512380 | change (U): 0.00000\n",
      "\tsubiter #6    | CCL: 0.000371749185518 | exact loss: 0.000371400409019 | change (U): 0.00000\n",
      "\tsubiter #9    | CCL: 0.000370053046432 | exact loss: 0.000369707779786 | change (U): 0.00000\n",
      "iter #10   (U) | CCL: 0.000369493018962 | exact loss: 0.000369148909914 | change (U): 0.01068\n",
      "iter #11   (V) | CCL: 0.000369468656997 | exact loss: 0.000369126901979 | change (V): 0.62595\n",
      "\tsubiter #3    | CCL: 0.000367776126584 | exact loss: 0.000367437746861 | change (U): 0.00000\n",
      "\tsubiter #6    | CCL: 0.000366110249073 | exact loss: 0.000365775226143 | change (U): 0.00000\n",
      "\tsubiter #9    | CCL: 0.000364468031112 | exact loss: 0.000364136316835 | change (U): 0.00000\n",
      "iter #11   (U) | CCL: 0.000363925785943 | exact loss: 0.000363595163219 | change (U): 0.01051\n",
      "iter #12   (V) | CCL: 0.000363901080177 | exact loss: 0.000363572809629 | change (V): 0.63449\n",
      "\tsubiter #3    | CCL: 0.000362261011467 | exact loss: 0.000361935915988 | change (U): 0.00000\n",
      "\tsubiter #6    | CCL: 0.000360647144780 | exact loss: 0.000360325212426 | change (U): 0.00000\n",
      "\tsubiter #9    | CCL: 0.000359056132569 | exact loss: 0.000358737319798 | change (U): 0.00000\n",
      "iter #12   (U) | CCL: 0.000358530778130 | exact loss: 0.000358212994838 | change (U): 0.01036\n",
      "iter #13   (V) | CCL: 0.000358505688778 | exact loss: 0.000358190251653 | change (V): 0.64367\n",
      "\tsubiter #3    | CCL: 0.000356915402611 | exact loss: 0.000356602952685 | change (U): 0.00000\n",
      "\tsubiter #6    | CCL: 0.000355350929867 | exact loss: 0.000355041461193 | change (U): 0.00000\n",
      "\tsubiter #9    | CCL: 0.000353808564727 | exact loss: 0.000353502038028 | change (U): 0.00000\n",
      "iter #13   (U) | CCL: 0.000353299260734 | exact loss: 0.000352993705196 | change (U): 0.01021\n",
      "iter #14   (V) | CCL: 0.000353273755927 | exact loss: 0.000352970536914 | change (V): 0.65339\n",
      "\tsubiter #3    | CCL: 0.000351730732671 | exact loss: 0.000351430324662 | change (U): 0.00000\n",
      "\tsubiter #6    | CCL: 0.000350213189434 | exact loss: 0.000349915591943 | change (U): 0.00000\n",
      "\tsubiter #9    | CCL: 0.000348717060978 | exact loss: 0.000348422238679 | change (U): 0.00000\n",
      "iter #14   (U) | CCL: 0.000348223015695 | exact loss: 0.000347929109785 | change (U): 0.01008\n",
      "iter #15   (V) | CCL: 0.000348197070360 | exact loss: 0.000347905488168 | change (V): 0.66357\n",
      "\tsubiter #3    | CCL: 0.000346698940656 | exact loss: 0.000346410004292 | change (U): 0.00000\n",
      "\tsubiter #6    | CCL: 0.000345226006400 | exact loss: 0.000344939720331 | change (U): 0.00000\n",
      "\tsubiter #9    | CCL: 0.000343773844265 | exact loss: 0.000343490176820 | change (U): 0.00000\n",
      "iter #15   (U) | CCL: 0.000343294311794 | exact loss: 0.000343011509312 | change (U): 0.00996\n",
      "iter #16   (V) | CCL: 0.000343267906688 | exact loss: 0.000342987412368 | change (V): 0.67415\n",
      "\tsubiter #3    | CCL: 0.000341812442475 | exact loss: 0.000341534439202 | change (U): 0.00000\n",
      "\tsubiter #6    | CCL: 0.000340381932285 | exact loss: 0.000340106428991 | change (U): 0.00000\n",
      "\tsubiter #9    | CCL: 0.000338971598080 | exact loss: 0.000338698566474 | change (U): 0.00000\n",
      "iter #16   (U) | CCL: 0.000338505875737 | exact loss: 0.000338233660823 | change (U): 0.00985\n",
      "iter #17   (V) | CCL: 0.000338478996603 | exact loss: 0.000338209071918 | change (V): 0.68506\n",
      "\tsubiter #3    | CCL: 0.000337064102517 | exact loss: 0.000336796523891 | change (U): 0.00000\n",
      "\tsubiter #6    | CCL: 0.000335673959084 | exact loss: 0.000335408739457 | change (U): 0.00000\n",
      "\tsubiter #9    | CCL: 0.000334303438655 | exact loss: 0.000334040552853 | change (U): 0.00000\n",
      "iter #17   (U) | CCL: 0.000333850864443 | exact loss: 0.000333588750034 | change (U): 0.00975\n",
      "iter #18   (V) | CCL: 0.000333823501283 | exact loss: 0.000333563657127 | change (V): 0.69627\n",
      "\tsubiter #3    | CCL: 0.000332447206473 | exact loss: 0.000332189572609 | change (U): 0.00000\n",
      "\tsubiter #6    | CCL: 0.000331095492477 | exact loss: 0.000330840085415 | change (U): 0.00000\n",
      "\tsubiter #9    | CCL: 0.000329762888527 | exact loss: 0.000329509685964 | change (U): 0.00000\n",
      "iter #18   (U) | CCL: 0.000329322838731 | exact loss: 0.000329070365061 | change (U): 0.00965\n",
      "iter #19   (V) | CCL: 0.000329294985182 | exact loss: 0.000329044760049 | change (V): 0.70774\n",
      "\tsubiter #3    | CCL: 0.000327955435605 | exact loss: 0.000327707293665 | change (U): 0.00000\n",
      "\tsubiter #6    | CCL: 0.000326640326489 | exact loss: 0.000326394287416 | change (U): 0.00000\n",
      "\tsubiter #9    | CCL: 0.000325343851607 | exact loss: 0.000325099895735 | change (U): 0.00000\n",
      "iter #19   (U) | CCL: 0.000324915738521 | exact loss: 0.000324672471670 | change (U): 0.00957\n",
      "iter #20   (V) | CCL: 0.000324887391329 | exact loss: 0.000324646349826 | change (V): 0.71944\n",
      "\tsubiter #3    | CCL: 0.000323582842524 | exact loss: 0.000323343765259 | change (U): 0.00000\n",
      "\tsubiter #6    | CCL: 0.000322302619727 | exact loss: 0.000322065529150 | change (U): 0.00000\n",
      "\tsubiter #9    | CCL: 0.000321040589840 | exact loss: 0.000320805468706 | change (U): 0.00000\n",
      "iter #20   (U) | CCL: 0.000320623859633 | exact loss: 0.000320389390119 | change (U): 0.00948\n"
     ]
    }
   ],
   "source": [
    "ranks=[20]\n",
    "ccL = []\n",
    "nU_q = []\n",
    "nV_q = []\n",
    "ccU_q = []\n",
    "ccV_q = []\n",
    "for k=ranks\n",
    "    println(\"computing rank $(k) approximation\")\n",
    "    Uₖ, Vₖ, Ξ_q, U₀, V₀ = curvature_corrected_sNMF_precomp(M, q, data, log_q_data, k; \n",
    "        max_iter = CC_iter, debug_freq = debug_int, init_type=\"kmeans\",\n",
    "        ENMF_const = offset, \n",
    "        max_U_iter=U_iters, U_debug=U_debug_int);\n",
    "    push!(nU_q, U₀)\n",
    "    push!(nV_q, V₀)\n",
    "    push!(ccU_q,Uₖ)\n",
    "    push!(ccV_q,Vₖ)\n",
    "    loss_cc = exact_loss(M, q, data, Ξ_q);\n",
    "    push!(ccL, loss_cc)\n",
    "end"
   ]
  },
  {
   "cell_type": "markdown",
   "metadata": {},
   "source": [
    "### Figures (example)"
   ]
  },
  {
   "cell_type": "code",
   "execution_count": 36,
   "metadata": {},
   "outputs": [
    {
     "data": {
      "text/plain": [
       "\"IIT_figs\""
      ]
     },
     "execution_count": 36,
     "metadata": {},
     "output_type": "execute_result"
    }
   ],
   "source": [
    "foldername=\"IIT_figs\""
   ]
  },
  {
   "cell_type": "code",
   "execution_count": 37,
   "metadata": {},
   "outputs": [],
   "source": [
    "n=size(data);\n",
    "for r=1:length(ranks)\n",
    "    k=ranks[r]\n",
    "    ccU = ccU_q[r]\n",
    "    ccV = ccV_q[r]\n",
    "    # current setup of semi-NMF code has V as a real-valued matrix\n",
    "    ccV_TM = get_vector.(Ref(M), Ref(q), [ccV[l,:] for l=1:k], Ref(DefaultOrthonormalBasis()))\n",
    "    ccU_max = maximum(ccU; dims=1)\n",
    "    overall_factor_list_cc = exp.(Ref(M), Ref(q), [ccU_max[i] * ccV_TM[i] for i=1:k]) \n",
    "    # factors\n",
    "    \n",
    "    for j=1:k\n",
    "        factor_cc_unscaled = overall_factor_list_cc[j];\n",
    "        eigmaxes = opnorm.(factor_cc_unscaled, 2);\n",
    "        if maximum(eigmaxes) < 1\n",
    "            factor_cc = factor_cc_unscaled / maximum(eigmaxes);\n",
    "        else\n",
    "            factor_cc = factor_cc_unscaled\n",
    "        end\n",
    "        factor_2D_cc = reshape(factor_cc, (4, 4, 4));\n",
    "        fig_filename_cc = @sprintf(\"%s/k%d/cc_factor%d.asy\", foldername, k, j);\n",
    "        asymptote_export_SPD(fig_filename_cc, data=factor_2D_cc, scale_axes=(1.5,1.5,1.5), camera_position=(-2., 6., 14.)); \n",
    "        render_asymptote(fig_filename_cc)     \n",
    "    end\n",
    "end"
   ]
  },
  {
   "cell_type": "code",
   "execution_count": null,
   "metadata": {},
   "outputs": [],
   "source": []
  }
 ],
 "metadata": {
  "kernelspec": {
   "display_name": "Julia 1.7.2",
   "language": "julia",
   "name": "julia-1.7"
  },
  "language_info": {
   "file_extension": ".jl",
   "mimetype": "application/julia",
   "name": "julia",
   "version": "1.8.5"
  },
  "vscode": {
   "interpreter": {
    "hash": "31f2aee4e71d21fbe5cf8b01ff0e069b9275f58929596ceb00d14d90e3e16cd6"
   }
  }
 },
 "nbformat": 4,
 "nbformat_minor": 4
}
