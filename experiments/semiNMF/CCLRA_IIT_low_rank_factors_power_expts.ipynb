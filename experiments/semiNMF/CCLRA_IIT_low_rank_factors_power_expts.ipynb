{
 "cells": [
  {
   "cell_type": "markdown",
   "metadata": {},
   "source": [
    "# Low-rank approximation on $\\mathcal{P}(d)$ - the space of $d$-dimensional SPD matrices"
   ]
  },
  {
   "cell_type": "markdown",
   "metadata": {},
   "source": [
    "In this notebook we want to get some intuition in different approaches for computing low-rank approximations for manifold-valued signals"
   ]
  },
  {
   "cell_type": "code",
   "execution_count": 1,
   "metadata": {},
   "outputs": [],
   "source": [
    "using Manifolds\n",
    "using Manopt\n",
    "using LinearAlgebra\n",
    "using Random\n",
    "using Plots\n",
    "using LaTeXStrings\n",
    "using BenchmarkTools\n",
    "\n",
    "using Clustering\n",
    "using NIfTI\n",
    "\n",
    "using JLD\n",
    "using Printf"
   ]
  },
  {
   "cell_type": "code",
   "execution_count": 2,
   "metadata": {},
   "outputs": [],
   "source": [
    "using StatsBase"
   ]
  },
  {
   "cell_type": "code",
   "execution_count": 3,
   "metadata": {},
   "outputs": [
    {
     "data": {
      "text/plain": [
       "curvature_corrected_low_rank_approximation (generic function with 1 method)"
      ]
     },
     "execution_count": 3,
     "metadata": {},
     "output_type": "execute_result"
    }
   ],
   "source": [
    "include(\"../../src/functions/jacobi_field/beta.jl\")\n",
    "include(\"../../src/decompositions/signals/curvature_corrected_low_rank_approximation.jl\")"
   ]
  },
  {
   "cell_type": "markdown",
   "metadata": {},
   "source": [
    "### Functions"
   ]
  },
  {
   "cell_type": "code",
   "execution_count": 4,
   "metadata": {},
   "outputs": [
    {
     "data": {
      "text/plain": [
       "exact_loss (generic function with 1 method)"
      ]
     },
     "execution_count": 4,
     "metadata": {},
     "output_type": "execute_result"
    }
   ],
   "source": [
    "function exact_loss(M::AbstractManifold, q, X, Ξ)\n",
    "    log_q_X = log.(Ref(M), Ref(q), X)  # ∈ T_q M^n\n",
    "    ref_distance = sum(norm.(Ref(M), Ref(q), log_q_X).^2)\n",
    "    exp_q_Ξ =   exp.(Ref(M), Ref(q), Ξ)\n",
    "    return sum(distance.(Ref(M), X, exp_q_Ξ).^2) / ref_distance\n",
    "end"
   ]
  },
  {
   "cell_type": "code",
   "execution_count": 5,
   "metadata": {},
   "outputs": [
    {
     "data": {
      "text/plain": [
       "curvature_corrected_loss (generic function with 1 method)"
      ]
     },
     "execution_count": 5,
     "metadata": {},
     "output_type": "execute_result"
    }
   ],
   "source": [
    "function curvature_corrected_loss(M::AbstractManifold, q, X, Ξ)\n",
    "    n = size(X)\n",
    "    # compute log\n",
    "    log_q_X = log.(Ref(M), Ref(q), X)  # ∈ T_q M^n\n",
    "    ref_distance = sum(norm.(Ref(M), Ref(q), log_q_X).^2)\n",
    "    if typeof(M) <: PowerManifold\n",
    "        D = power_dimensions(M)[1]\n",
    "        d = manifold_dimension(M.manifold)\n",
    "    else\n",
    "        d = manifold_dimension(M)\n",
    "    end\n",
    "    # compute directions\n",
    "    I = CartesianIndices(n)\n",
    "    loss = 0.\n",
    "    for i in I\n",
    "        if typeof(M) <: PowerManifold\n",
    "            ONBᵢ = get_basis(M, q, DiagonalizingOrthonormalBasis(log_q_X[i]))\n",
    "            for k in 1:D\n",
    "                θₖ = ONBᵢ.data.bases[k].data.vectors\n",
    "                κₖ = ONBᵢ.data.bases[k].data.eigenvalues\n",
    "                # compute loss\n",
    "                loss += sum([β(κₖ[j])^2 * inner(M.manifold, q[k], Ξ[i][k] - log_q_X[i][k], Θₖ[j])^2 for j=1:d])\n",
    "            end\n",
    "        else\n",
    "            ONBᵢ = get_basis(M, q, DiagonalizingOrthonormalBasis(log_q_X[i]))\n",
    "            Θᵢ = ONBᵢ.data.vectors\n",
    "            κᵢ = ONBᵢ.data.eigenvalues\n",
    "            loss += sum([β(κᵢ[j])^2 * inner(M, q, Ξ[i] - log_q_X[i], Θᵢ[j])^2 for j=1:d])\n",
    "        end\n",
    "    end\n",
    "    return loss/ref_distance\n",
    "end"
   ]
  },
  {
   "cell_type": "code",
   "execution_count": 6,
   "metadata": {},
   "outputs": [
    {
     "data": {
      "text/plain": [
       "curvature_corrected_loss_fromlog (generic function with 1 method)"
      ]
     },
     "execution_count": 6,
     "metadata": {},
     "output_type": "execute_result"
    }
   ],
   "source": [
    "function curvature_corrected_loss_fromlog(M::AbstractManifold, q, log_q_X, Ξ)\n",
    "    n = size(log_q_X)\n",
    "    ref_distance = sum(norm.(Ref(M), Ref(q), log_q_X).^2)\n",
    "    if typeof(M) <: PowerManifold\n",
    "        D = power_dimensions(M)[1]\n",
    "        d = manifold_dimension(M.manifold)\n",
    "    else\n",
    "        d = manifold_dimension(M)\n",
    "    end   \n",
    "    # compute directions\n",
    "    I = CartesianIndices(n)\n",
    "    loss = 0.\n",
    "    for i in I\n",
    "        if typeof(M) <: PowerManifold\n",
    "            ONBᵢ = get_basis(M, q, DiagonalizingOrthonormalBasis(log_q_X[i]))\n",
    "            for k=1:D\n",
    "                θₖ = ONBᵢ.data.bases[k].data.vectors\n",
    "                κₖ = ONBᵢ.data.bases[k].data.eigenvalues\n",
    "                # compute loss\n",
    "                loss += sum([β(κₖ[j])^2 * inner(M.manifold, q[k], Ξ[i][k] - log_q_X[i][k], θₖ[j])^2 for j=1:d])\n",
    "            end\n",
    "        else\n",
    "            ONBᵢ = get_basis(M, q, DiagonalizingOrthonormalBasis(log_q_X[i]))\n",
    "            Θᵢ = ONBᵢ.data.vectors\n",
    "            κᵢ = ONBᵢ.data.eigenvalues\n",
    "            loss += sum([β(κᵢ[j])^2 * inner(M, q, Ξ[i] - log_q_X[i], Θᵢ[j])^2 for j=1:d])\n",
    "        end\n",
    "        \n",
    "        \n",
    "    end\n",
    "    return loss/ref_distance\n",
    "end"
   ]
  },
  {
   "cell_type": "markdown",
   "metadata": {},
   "source": [
    "### Load data and construct manifold ###"
   ]
  },
  {
   "cell_type": "code",
   "execution_count": 7,
   "metadata": {},
   "outputs": [
    {
     "data": {
      "text/plain": [
       "(182, 218, 182)"
      ]
     },
     "execution_count": 7,
     "metadata": {},
     "output_type": "execute_result"
    }
   ],
   "source": [
    "ni_xx = niread(\"../../data/IITmean_xx.nii.gz\") * 1e3;\n",
    "ni_yx = niread(\"../../data/IITmean_yx.nii.gz\") * 1e3;\n",
    "ni_yy = niread(\"../../data/IITmean_yy.nii.gz\") * 1e3;\n",
    "ni_zx = niread(\"../../data/IITmean_zx.nii.gz\") * 1e3;\n",
    "ni_zy = niread(\"../../data/IITmean_zy.nii.gz\") * 1e3;\n",
    "ni_zz = niread(\"../../data/IITmean_zz.nii.gz\") * 1e3;\n",
    "size(ni_xx)"
   ]
  },
  {
   "cell_type": "code",
   "execution_count": 8,
   "metadata": {},
   "outputs": [
    {
     "data": {
      "text/plain": [
       "(182, 218, 182)"
      ]
     },
     "execution_count": 8,
     "metadata": {},
     "output_type": "execute_result"
    }
   ],
   "source": [
    "d1, d2, d3  = size(ni_xx)"
   ]
  },
  {
   "cell_type": "code",
   "execution_count": 9,
   "metadata": {},
   "outputs": [],
   "source": [
    "predata = [ # data ordered as [xx, yx, yy, zx, zy, zz]\n",
    "    [\n",
    "    [ni_xx[i,j,k] + 1e-5;; ni_yx[i,j,k];; ni_zx[i,j,k]]; \n",
    "    [ni_yx[i,j,k];; ni_yy[i,j,k] + 1e-5;; ni_zy[i,j,k]]; \n",
    "    [ni_zx[i,j,k];; ni_zy[i,j,k];; ni_zz[i,j,k] + 1e-5]\n",
    "    ] for i=1:d1, j=1:d2, k=1:d3];"
   ]
  },
  {
   "cell_type": "code",
   "execution_count": 10,
   "metadata": {},
   "outputs": [
    {
     "data": {
      "text/plain": [
       "get_step_range (generic function with 1 method)"
      ]
     },
     "execution_count": 10,
     "metadata": {},
     "output_type": "execute_result"
    }
   ],
   "source": [
    "function get_step_range(start, stop, step)\n",
    "    n_steps = ((stop-start) + 1) / step;\n",
    "    this_range = [convert(Int64,start + (i-1) * step) for i=1:(n_steps+1)]\n",
    "    return this_range\n",
    "end"
   ]
  },
  {
   "cell_type": "code",
   "execution_count": 11,
   "metadata": {},
   "outputs": [],
   "source": [
    "# let's take 4 x 4 x 4 voxels\n",
    "x1 = 101;\n",
    "x2 = 112;\n",
    "y1 = 151;\n",
    "y2 = 162;\n",
    "z1 = 51;\n",
    "z2 = 102;\n",
    "step = 4;\n",
    "x_range = get_step_range(x1,x2,step);\n",
    "y_range = get_step_range(y1,y2,step);\n",
    "z_range = get_step_range(z1,z2,step);"
   ]
  },
  {
   "cell_type": "code",
   "execution_count": 12,
   "metadata": {},
   "outputs": [],
   "source": [
    "predata_masked = [reshape(predata[x_range[i]:x_range[i+1]-1,y_range[j]:y_range[j+1]-1,z_range[k]:z_range[k+1]-1],\n",
    "        (1,:)) for i=1:length(x_range)-1,\n",
    "        j=1:length(y_range)-1,k=1:length(z_range)-1];"
   ]
  },
  {
   "cell_type": "code",
   "execution_count": 13,
   "metadata": {},
   "outputs": [
    {
     "data": {
      "text/plain": [
       "(3, 3, 13)"
      ]
     },
     "execution_count": 13,
     "metadata": {},
     "output_type": "execute_result"
    }
   ],
   "source": [
    "size(predata_masked)"
   ]
  },
  {
   "cell_type": "code",
   "execution_count": 14,
   "metadata": {},
   "outputs": [
    {
     "data": {
      "text/plain": [
       "(117,)"
      ]
     },
     "execution_count": 14,
     "metadata": {},
     "output_type": "execute_result"
    }
   ],
   "source": [
    "data=vec(predata_masked);\n",
    "size(data)"
   ]
  },
  {
   "cell_type": "code",
   "execution_count": 15,
   "metadata": {},
   "outputs": [
    {
     "data": {
      "text/plain": [
       "(1, 64)"
      ]
     },
     "execution_count": 15,
     "metadata": {},
     "output_type": "execute_result"
    }
   ],
   "source": [
    "size(data[1])"
   ]
  },
  {
   "cell_type": "code",
   "execution_count": 16,
   "metadata": {},
   "outputs": [],
   "source": [
    "ni_xx = nothing;\n",
    "ni_yx = nothing;\n",
    "ni_yy = nothing;\n",
    "ni_zx = nothing;\n",
    "ni_zy = nothing;\n",
    "ni_zz = nothing;"
   ]
  },
  {
   "cell_type": "code",
   "execution_count": 17,
   "metadata": {},
   "outputs": [
    {
     "name": "stdout",
     "output_type": "stream",
     "text": [
      "384"
     ]
    }
   ],
   "source": [
    "# construct data manifold\n",
    "n = size(data)[1] \n",
    "M = PowerManifold(SymmetricPositiveDefinite(3), NestedPowerRepresentation(), size(data[1])[2])\n",
    "d = manifold_dimension(M);\n",
    "print(d)"
   ]
  },
  {
   "cell_type": "code",
   "execution_count": 18,
   "metadata": {},
   "outputs": [
    {
     "name": "stdout",
     "output_type": "stream",
     "text": [
      "64"
     ]
    }
   ],
   "source": [
    "D = power_dimensions(M)[1];\n",
    "print(D)"
   ]
  },
  {
   "cell_type": "code",
   "execution_count": 19,
   "metadata": {},
   "outputs": [],
   "source": [
    "predata_masked=nothing;"
   ]
  },
  {
   "cell_type": "code",
   "execution_count": 20,
   "metadata": {},
   "outputs": [],
   "source": [
    "predata=nothing;"
   ]
  },
  {
   "cell_type": "code",
   "execution_count": 21,
   "metadata": {},
   "outputs": [],
   "source": [
    "GC.gc()"
   ]
  },
  {
   "cell_type": "markdown",
   "metadata": {},
   "source": [
    "### Construct low rank approximation ###"
   ]
  },
  {
   "cell_type": "code",
   "execution_count": 22,
   "metadata": {},
   "outputs": [],
   "source": [
    "q = mean(M, data);"
   ]
  },
  {
   "cell_type": "code",
   "execution_count": 23,
   "metadata": {},
   "outputs": [],
   "source": [
    "log_q_data = log.(Ref(M), Ref(q), data);  # ∈ T_q P(3)^n"
   ]
  },
  {
   "cell_type": "code",
   "execution_count": 24,
   "metadata": {},
   "outputs": [
    {
     "name": "stdout",
     "output_type": "stream",
     "text": [
      "computing rank 20 approximation\n",
      "curvature corrected loss = 0.01814373470609508 and exact loss = 0.018142407125046965\n"
     ]
    }
   ],
   "source": [
    "ranks=[20]  # 20\n",
    "ccL = []\n",
    "eL = []\n",
    "ccR_q = []\n",
    "ccU = []\n",
    "for rank=ranks\n",
    "    println(\"computing rank $(rank) approximation\")\n",
    "    ccRr_q, ccUr = curvature_corrected_low_rank_approximation(M, q, data, rank); \n",
    "    Ξ_q = [sum([Symmetric.(ccRr_q[i]) * ccUr[k,i] for i in 1:rank]) for k in 1:n]\n",
    "    push!(ccR_q, ccRr_q)\n",
    "    push!(ccU, ccUr)\n",
    "    loss_cc = curvature_corrected_loss_fromlog(M, q, log_q_data, Ξ_q);\n",
    "    loss_exact = exact_loss(M, q, data, Ξ_q);\n",
    "    println(\"curvature corrected loss = $(loss_cc) and exact loss = $(loss_exact)\")\n",
    "    push!(ccL, loss_cc)\n",
    "    push!(eL, loss_exact)\n",
    "end"
   ]
  },
  {
   "cell_type": "markdown",
   "metadata": {},
   "source": [
    "### Figures (example)"
   ]
  },
  {
   "cell_type": "code",
   "execution_count": 25,
   "metadata": {},
   "outputs": [
    {
     "data": {
      "text/plain": [
       "\"IIT_figs_CCSVD\""
      ]
     },
     "execution_count": 25,
     "metadata": {},
     "output_type": "execute_result"
    }
   ],
   "source": [
    "foldername=\"IIT_figs_CCSVD\""
   ]
  },
  {
   "cell_type": "code",
   "execution_count": 26,
   "metadata": {},
   "outputs": [],
   "source": [
    "n=size(data);\n",
    "for r=1:length(ranks)\n",
    "    rank=ranks[r]\n",
    "    ccR = ccR_q[r]\n",
    "    overall_factor_list_cc = exp.(Ref(M), Ref(q), [ccR[k] for k=1:rank]) \n",
    "    # factors\n",
    "    \n",
    "    for k=1:rank\n",
    "        factor_cc_unscaled = overall_factor_list_cc[k];\n",
    "        eigmaxes = opnorm.(factor_cc_unscaled, 2);\n",
    "        if maximum(eigmaxes) < 1\n",
    "            factor_cc = factor_cc_unscaled / maximum(eigmaxes);\n",
    "        else\n",
    "            factor_cc = factor_cc_unscaled\n",
    "        end\n",
    "        factor_2D_cc = reshape(factor_cc, (4, 4, 4));\n",
    "        fig_filename_cc = @sprintf(\"%s/k%d/cc_factor%d.asy\", foldername, rank, k);\n",
    "        asymptote_export_SPD(fig_filename_cc, data=factor_2D_cc, scale_axes=(1.5,1.5,1.5), camera_position=(-2., 6., 14.)); \n",
    "        render_asymptote(fig_filename_cc)     \n",
    "    end\n",
    "end"
   ]
  }
 ],
 "metadata": {
  "kernelspec": {
   "display_name": "Julia 1.7.2",
   "language": "julia",
   "name": "julia-1.7"
  },
  "language_info": {
   "file_extension": ".jl",
   "mimetype": "application/julia",
   "name": "julia",
   "version": "1.7.2"
  },
  "vscode": {
   "interpreter": {
    "hash": "31f2aee4e71d21fbe5cf8b01ff0e069b9275f58929596ceb00d14d90e3e16cd6"
   }
  }
 },
 "nbformat": 4,
 "nbformat_minor": 4
}
